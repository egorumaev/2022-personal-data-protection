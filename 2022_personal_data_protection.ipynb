{
  "cells": [
    {
      "cell_type": "markdown",
      "metadata": {
        "id": "jUo--UwLTi-Q"
      },
      "source": [
        "# **<font color='firebrick'>ПРОЕКТ «Защита персональных данных клиентов страховой компании „Хоть потоп‟»</font>**\n",
        "\n",
        "**Выполнил**: Юмаев Егор"
      ]
    },
    {
      "cell_type": "markdown",
      "metadata": {
        "id": "VmhAKjHhUPrt"
      },
      "source": [
        "## <font color='green'>**Введение. Описание проекта, его цель и задачи**</font>\n",
        "\n",
        "---"
      ]
    },
    {
      "cell_type": "markdown",
      "metadata": {
        "id": "EZFnqtBsG-Tw"
      },
      "source": [
        "Личные (персональные) данные являются мишенью для злоумышленников, которые стремятся любым способом заполучить их для использования в собственных корыстных целях. Чаще всего под угрозу попадают данные банковских карт, логины и пароли, информация со смартфонов (заметки, данные о местоположении, просматриваемая на экране информация), документы (паспорта, PDF-файлы с билетами, документы, представляющие коммерческую тайну, и прочая конфиденциальная информация). Среди украденных данных частных лиц 36% составляют учетные данные, по 19% приходится на персональные данные и данные платежных карт, 12% – на личную переписку, 14% составляет другая информация (данные 2020 г.).\n",
        "\n",
        " * Соколова, А. В. Обзор методов и средств защиты персональных данных / А. В. Соколова, Д. Д. Гришкевич, И. М. Губенко. – DOI: 10.52605/16059921_2022_03_90 // Информационное общество. – 2022. – № 3. – С. 90–97. – URL: https://elibrary.ru/item.asp?id=48736917\n",
        "\n",
        "По данным разработчика средств для информационной безопасности «СерчИнформ» в первом полугодии 2020 г. персональные данные в том или ином виде утекали из 91% российских компаний. В начале 2022 года стало известно о крупных утечках персональных данных пользователей популярных сервисов доставки еды и медицинской лаборатории, что вызвало широкий общественный резонанс.\n",
        "\n",
        "В настоящее время за утечку персональных данных пользователей предусмотрена административная ответственность: часть 1 статьи 13.11 КоАП РФ предполагает наложение административного штрафа на граждан в размере от двух тысяч до шести тысяч рублей; на должностных лиц - от десяти тысяч до двадцати тысяч рублей; на юридических лиц - от шестидесяти тысяч до ста тысяч рублей. Повторная утечка персональных данных пользователей влечет наложение административного штрафа на граждан в размере от четырех тысяч до двенадцати тысяч рублей; на должностных лиц - от двадцати тысяч до пятидесяти тысяч рублей; на индивидуальных предпринимателей - от пятидесяти тысяч до ста тысяч рублей; на юридических лиц – от ста тысяч до трехсот тысяч рублей.\n",
        "\n",
        " * Оленин, А. В. Проблема правового регулирования в области защиты персональных данных в современных условиях и пути ее решения / А. В. Оленин // Человек. Социум. Общество. – 2022. – № 10. – С. 95–100. – URL: https://elibrary.ru/item.asp?id=49346578\n",
        "\n",
        "Если сравнивать штрафные санкции за доказанную утечку персональных данных в Российской Федерации и Европейском Союзе, то отечественная карательная практика в процессе перенимания иностранной юридической практики была адаптирована под российские реалии. Достаточно вспомнить о штрафах за утечку персональных данных, которые заплатили испанский авиаперевозчик Iberia (40 тыс. евро, 2017 г.), British Airways (204,6 млн. евро, 2018 г.).\n",
        "\n",
        " * Овчинникова, Е. А. Сравнительный анализ законодательства в области защиты персональных данных в Российской Федерации и Евросоюзе / Е. А. Овчинникова. –  DOI: 10.33764/2618-981X-2022-8-2-113-117 // Интерэкспо Гео-Сибирь. –2022. – Т. 8, № 2. – С. 113–117. – URL: https://elibrary.ru/item.asp?id=49418948\n",
        "\n",
        "Небольшие штрафы для российских компаний, конечно, помогают им избежать банкротства. Обратной стороной является то, что в настоящее время, несмотря на значительные усилия российского законодателя, процессы, связанные с собиранием, хранением и обработкой персональных данных, не обеспечивают надлежащий уровень их конфиденциальности и правовой защиты. В большинстве случаев данные хранятся и анализируются с целью улучшения качества предоставляемых услуг, и защищены недостаточно.\n",
        "\n",
        " * Семенов, Е. Ю. Совершенствование правовых и организационных аспектов защиты персональных данных в Российской Федерации / Е. Ю. Семенов. – DOI: 10.24412/2073-3313-2022-1-94-96 // Закон и порядок. – 2022. – № 1. – С. 94–96. – URL: https://elibrary.ru/item.asp?id=47700658\n",
        "\n",
        "Вызывает большой вопрос разрешение нефинансовым организациям, в частности, российским сервисам такси и каршеринга, согласно постановлению Правительства РФ № 1815а от 23.10.2021, которое вступило в силу с 1 марта 2022 года, собирать и обрабатывать биометрические данные, в том числе для идентификации и аутентификации водителей легкого такси, и идентификации и аутентификации водителей транспортных средств, предоставляемых в краткосрочную аренду. Надо обратить внимание, что речь идет о новых сферах применения биометрии.\n",
        "\n",
        " * Куксин, И. Н. Защита персональных данных: от празднования \"дня\" до реальности / И. Н. Куксин. – DOI: 10.47905/MATGIP.2022.125.1.012 // Теория государства и права. – 2022. – № 1 (26). – С. 142–155. – URL: https://elibrary.ru/item.asp?id=48247259\n",
        "\n",
        "На рассмотрении Государственной Думы РФ находится законопроект о биометрии, который, впрочем, не предполагает обязательного сбора биометрии.\n",
        "\n",
        " * Законопроект о биометрии не предусматривает ее обязательного сбора // ТАСС. – URL: https://tass.ru/obschestvo/16580229 (дата обращения: 16.12.2022)\n",
        "\n",
        "Сказанное выше обосновывает актуальность совершенствования аппаратно-программных и организационных средств защиты ресурсов информационной системы персональных данных от несанкционированного доступа. Это тем более важно в условиях взятого Минцифры России курса на усиление ответственности предприятий и организаций за ненадлежащее обеспечение информационной безопасности.\n",
        "\n",
        " * Газизов, А. Р. Аппаратно-программные и организационные средства защиты ресурсов информационной системы персональных данных от несанкционированного доступа путем SQL-инъекций / А. Р. Газизов. – DOI: 10.18137/RNU.V9187.22.03.P.169 // Вестник Российского нового университета. Серия: сложные системы: модели, анализ и управление. – 2022. – № 3. – С. 169–178. – URL: https://elibrary.ru/item.asp?id=49586586"
      ]
    },
    {
      "cell_type": "markdown",
      "metadata": {
        "id": "NCAp39BOVE1L"
      },
      "source": [
        "**Цель исследования**: для защиты персональных данных клиентов страховой компании «Хоть потоп» разработать метод преобразования данных, гарантирующий одновременно невозможность восстановления персональной информации и высокое качество моделей машинного обучения, использующих обезличенные персональные данные.\n",
        "\n",
        "Для достижения цели выполнены **задачи**:\n",
        "\n",
        " * загружены и изучены данные\n",
        "\n",
        " * исследовано изменение качества линейной регрессии при умножении датасета с признаками на обратимую матрицу\n",
        "\n",
        " * предложен алгоритм преобразования данных для достижения поставленной цели\n",
        "\n",
        " * применен алгоритм преобразования данных с использованием матричных операций\n",
        "\n",
        "Подбор наилучшей модели для достижения поставленной согласно техзадания цели **не требуется**."
      ]
    },
    {
      "cell_type": "markdown",
      "metadata": {
        "id": "UpTiPXk3VMLH"
      },
      "source": [
        "## <font color='green'>**1 Загрузка и изучение данных**</font>\n",
        "\n",
        "---"
      ]
    },
    {
      "cell_type": "markdown",
      "metadata": {
        "id": "aeeK3BqnVZJu"
      },
      "source": [
        "### **1.1. Импорт необходимых библиотек, структур данных и функций. Загрузка данных**\n",
        "\n",
        "---"
      ]
    },
    {
      "cell_type": "code",
      "execution_count": null,
      "metadata": {
        "id": "z9XLCLm77w8r",
        "colab": {
          "base_uri": "https://localhost:8080/"
        },
        "outputId": "b4566681-673b-4330-bd8c-0b68134794a6"
      },
      "outputs": [
        {
          "output_type": "stream",
          "name": "stdout",
          "text": [
            "\u001b[?25l     \u001b[90m━━━━━━━━━━━━━━━━━━━━━━━━━━━━━━━━━━━━━━━━\u001b[0m \u001b[32m0.0/679.5 kB\u001b[0m \u001b[31m?\u001b[0m eta \u001b[36m-:--:--\u001b[0m\r\u001b[2K     \u001b[91m━━━━━━━━━\u001b[0m\u001b[91m╸\u001b[0m\u001b[90m━━━━━━━━━━━━━━━━━━━━━━━━━━━━━\u001b[0m \u001b[32m174.1/679.5 kB\u001b[0m \u001b[31m5.1 MB/s\u001b[0m eta \u001b[36m0:00:01\u001b[0m\r\u001b[2K     \u001b[91m━━━━━━━━━━━━━━━━━━━━━━━━━━━━━━━━━━━\u001b[0m\u001b[90m╺\u001b[0m\u001b[90m━━━\u001b[0m \u001b[32m614.4/679.5 kB\u001b[0m \u001b[31m8.8 MB/s\u001b[0m eta \u001b[36m0:00:01\u001b[0m\r\u001b[2K     \u001b[90m━━━━━━━━━━━━━━━━━━━━━━━━━━━━━━━━━━━━━━━\u001b[0m \u001b[32m679.5/679.5 kB\u001b[0m \u001b[31m7.9 MB/s\u001b[0m eta \u001b[36m0:00:00\u001b[0m\n",
            "\u001b[?25h"
          ]
        }
      ],
      "source": [
        "# устанавливаем библиотеку phik,\n",
        "# функции из которой понадобятся для изучения\n",
        "# мультиколлинеарности признаков\n",
        "!pip install -q phik"
      ]
    },
    {
      "cell_type": "code",
      "execution_count": null,
      "metadata": {
        "id": "18YAj4-UTtRa"
      },
      "outputs": [],
      "source": [
        "# импортируем необходимые библиотеки, структуры данных и функции\n",
        "\n",
        "# основные библиотеки\n",
        "import pandas as pd\n",
        "import numpy as np\n",
        "import seaborn as sns\n",
        "import matplotlib.pyplot as plt\n",
        "from matplotlib import rcParams, rcParamsDefault\n",
        "\n",
        "# машинное обучение, метрики машинного обучения, мультиколлинеарность\n",
        "# from sklearn.linear_model import LinearRegression\n",
        "from sklearn.model_selection import train_test_split\n",
        "from sklearn.metrics import r2_score\n",
        "from sklearn.metrics import mean_squared_error\n",
        "from phik.report import correlation_report, plot_correlation_matrix\n",
        "\n",
        "# убираем 'красные' предупреждения\n",
        "import warnings\n",
        "warnings.filterwarnings(\"ignore\")"
      ]
    },
    {
      "cell_type": "code",
      "execution_count": null,
      "metadata": {
        "id": "WZRtrNWzDcsU"
      },
      "outputs": [],
      "source": [
        "# настраиваем параметры отображения рисунков\n",
        "rcParams['figure.figsize'] = 12,12\n",
        "%config InlineBackend.figure_format = 'svg'\n",
        "%matplotlib inline\n",
        "factor = 10\n",
        "default_dpi = rcParamsDefault['figure.dpi']\n",
        "rcParams['figure.dpi'] = default_dpi*factor"
      ]
    },
    {
      "cell_type": "code",
      "execution_count": null,
      "metadata": {
        "id": "tLRkptKJXm0x"
      },
      "outputs": [],
      "source": [
        "# для того, чтобы обеспечить \"читаемость\" всех столбцов,\n",
        "# применим функцию pd.set_option()\n",
        "pd.set_option('display.max_rows', None)\n",
        "pd.set_option('display.max_columns', None)"
      ]
    },
    {
      "cell_type": "code",
      "execution_count": null,
      "metadata": {
        "colab": {
          "base_uri": "https://localhost:8080/"
        },
        "id": "ToPczOBDWXDH",
        "outputId": "287b0952-6d99-4857-d962-1b5735019240"
      },
      "outputs": [
        {
          "output_type": "stream",
          "name": "stdout",
          "text": [
            "Datasets load from Web\n"
          ]
        }
      ],
      "source": [
        "# подгружаем файлы с данными\n",
        "try:\n",
        "    data = pd.read_csv('/datasets/insurance.csv')\n",
        "    print('Datasets load from Practicum cloud')\n",
        "except:\n",
        "    data = pd.read_csv('https://code.s3.yandex.net/datasets/insurance.csv')\n",
        "    print('Datasets load from Web')"
      ]
    },
    {
      "cell_type": "markdown",
      "metadata": {
        "id": "NDj5BwIMXDjL"
      },
      "source": [
        "Для проверки того, загружены ли данные, выведем первые пять строк датасета data"
      ]
    },
    {
      "cell_type": "code",
      "execution_count": null,
      "metadata": {
        "colab": {
          "base_uri": "https://localhost:8080/",
          "height": 206
        },
        "id": "bknhvloEWXGo",
        "outputId": "c4179339-dc6e-4dcf-dd11-32dbf8d1648b"
      },
      "outputs": [
        {
          "output_type": "execute_result",
          "data": {
            "text/plain": [
              "   Пол  Возраст  Зарплата  Члены семьи  Страховые выплаты\n",
              "0    1     41.0   49600.0            1                  0\n",
              "1    0     46.0   38000.0            1                  1\n",
              "2    0     29.0   21000.0            0                  0\n",
              "3    0     21.0   41700.0            2                  0\n",
              "4    1     28.0   26100.0            0                  0"
            ],
            "text/html": [
              "\n",
              "  <div id=\"df-0b393b42-1a85-47ba-915b-724858bbfa2a\" class=\"colab-df-container\">\n",
              "    <div>\n",
              "<style scoped>\n",
              "    .dataframe tbody tr th:only-of-type {\n",
              "        vertical-align: middle;\n",
              "    }\n",
              "\n",
              "    .dataframe tbody tr th {\n",
              "        vertical-align: top;\n",
              "    }\n",
              "\n",
              "    .dataframe thead th {\n",
              "        text-align: right;\n",
              "    }\n",
              "</style>\n",
              "<table border=\"1\" class=\"dataframe\">\n",
              "  <thead>\n",
              "    <tr style=\"text-align: right;\">\n",
              "      <th></th>\n",
              "      <th>Пол</th>\n",
              "      <th>Возраст</th>\n",
              "      <th>Зарплата</th>\n",
              "      <th>Члены семьи</th>\n",
              "      <th>Страховые выплаты</th>\n",
              "    </tr>\n",
              "  </thead>\n",
              "  <tbody>\n",
              "    <tr>\n",
              "      <th>0</th>\n",
              "      <td>1</td>\n",
              "      <td>41.0</td>\n",
              "      <td>49600.0</td>\n",
              "      <td>1</td>\n",
              "      <td>0</td>\n",
              "    </tr>\n",
              "    <tr>\n",
              "      <th>1</th>\n",
              "      <td>0</td>\n",
              "      <td>46.0</td>\n",
              "      <td>38000.0</td>\n",
              "      <td>1</td>\n",
              "      <td>1</td>\n",
              "    </tr>\n",
              "    <tr>\n",
              "      <th>2</th>\n",
              "      <td>0</td>\n",
              "      <td>29.0</td>\n",
              "      <td>21000.0</td>\n",
              "      <td>0</td>\n",
              "      <td>0</td>\n",
              "    </tr>\n",
              "    <tr>\n",
              "      <th>3</th>\n",
              "      <td>0</td>\n",
              "      <td>21.0</td>\n",
              "      <td>41700.0</td>\n",
              "      <td>2</td>\n",
              "      <td>0</td>\n",
              "    </tr>\n",
              "    <tr>\n",
              "      <th>4</th>\n",
              "      <td>1</td>\n",
              "      <td>28.0</td>\n",
              "      <td>26100.0</td>\n",
              "      <td>0</td>\n",
              "      <td>0</td>\n",
              "    </tr>\n",
              "  </tbody>\n",
              "</table>\n",
              "</div>\n",
              "    <div class=\"colab-df-buttons\">\n",
              "\n",
              "  <div class=\"colab-df-container\">\n",
              "    <button class=\"colab-df-convert\" onclick=\"convertToInteractive('df-0b393b42-1a85-47ba-915b-724858bbfa2a')\"\n",
              "            title=\"Convert this dataframe to an interactive table.\"\n",
              "            style=\"display:none;\">\n",
              "\n",
              "  <svg xmlns=\"http://www.w3.org/2000/svg\" height=\"24px\" viewBox=\"0 -960 960 960\">\n",
              "    <path d=\"M120-120v-720h720v720H120Zm60-500h600v-160H180v160Zm220 220h160v-160H400v160Zm0 220h160v-160H400v160ZM180-400h160v-160H180v160Zm440 0h160v-160H620v160ZM180-180h160v-160H180v160Zm440 0h160v-160H620v160Z\"/>\n",
              "  </svg>\n",
              "    </button>\n",
              "\n",
              "  <style>\n",
              "    .colab-df-container {\n",
              "      display:flex;\n",
              "      gap: 12px;\n",
              "    }\n",
              "\n",
              "    .colab-df-convert {\n",
              "      background-color: #E8F0FE;\n",
              "      border: none;\n",
              "      border-radius: 50%;\n",
              "      cursor: pointer;\n",
              "      display: none;\n",
              "      fill: #1967D2;\n",
              "      height: 32px;\n",
              "      padding: 0 0 0 0;\n",
              "      width: 32px;\n",
              "    }\n",
              "\n",
              "    .colab-df-convert:hover {\n",
              "      background-color: #E2EBFA;\n",
              "      box-shadow: 0px 1px 2px rgba(60, 64, 67, 0.3), 0px 1px 3px 1px rgba(60, 64, 67, 0.15);\n",
              "      fill: #174EA6;\n",
              "    }\n",
              "\n",
              "    .colab-df-buttons div {\n",
              "      margin-bottom: 4px;\n",
              "    }\n",
              "\n",
              "    [theme=dark] .colab-df-convert {\n",
              "      background-color: #3B4455;\n",
              "      fill: #D2E3FC;\n",
              "    }\n",
              "\n",
              "    [theme=dark] .colab-df-convert:hover {\n",
              "      background-color: #434B5C;\n",
              "      box-shadow: 0px 1px 3px 1px rgba(0, 0, 0, 0.15);\n",
              "      filter: drop-shadow(0px 1px 2px rgba(0, 0, 0, 0.3));\n",
              "      fill: #FFFFFF;\n",
              "    }\n",
              "  </style>\n",
              "\n",
              "    <script>\n",
              "      const buttonEl =\n",
              "        document.querySelector('#df-0b393b42-1a85-47ba-915b-724858bbfa2a button.colab-df-convert');\n",
              "      buttonEl.style.display =\n",
              "        google.colab.kernel.accessAllowed ? 'block' : 'none';\n",
              "\n",
              "      async function convertToInteractive(key) {\n",
              "        const element = document.querySelector('#df-0b393b42-1a85-47ba-915b-724858bbfa2a');\n",
              "        const dataTable =\n",
              "          await google.colab.kernel.invokeFunction('convertToInteractive',\n",
              "                                                    [key], {});\n",
              "        if (!dataTable) return;\n",
              "\n",
              "        const docLinkHtml = 'Like what you see? Visit the ' +\n",
              "          '<a target=\"_blank\" href=https://colab.research.google.com/notebooks/data_table.ipynb>data table notebook</a>'\n",
              "          + ' to learn more about interactive tables.';\n",
              "        element.innerHTML = '';\n",
              "        dataTable['output_type'] = 'display_data';\n",
              "        await google.colab.output.renderOutput(dataTable, element);\n",
              "        const docLink = document.createElement('div');\n",
              "        docLink.innerHTML = docLinkHtml;\n",
              "        element.appendChild(docLink);\n",
              "      }\n",
              "    </script>\n",
              "  </div>\n",
              "\n",
              "\n",
              "<div id=\"df-e0a115d7-dcb4-4928-a9fc-3cba7039c482\">\n",
              "  <button class=\"colab-df-quickchart\" onclick=\"quickchart('df-e0a115d7-dcb4-4928-a9fc-3cba7039c482')\"\n",
              "            title=\"Suggest charts.\"\n",
              "            style=\"display:none;\">\n",
              "\n",
              "<svg xmlns=\"http://www.w3.org/2000/svg\" height=\"24px\"viewBox=\"0 0 24 24\"\n",
              "     width=\"24px\">\n",
              "    <g>\n",
              "        <path d=\"M19 3H5c-1.1 0-2 .9-2 2v14c0 1.1.9 2 2 2h14c1.1 0 2-.9 2-2V5c0-1.1-.9-2-2-2zM9 17H7v-7h2v7zm4 0h-2V7h2v10zm4 0h-2v-4h2v4z\"/>\n",
              "    </g>\n",
              "</svg>\n",
              "  </button>\n",
              "\n",
              "<style>\n",
              "  .colab-df-quickchart {\n",
              "      --bg-color: #E8F0FE;\n",
              "      --fill-color: #1967D2;\n",
              "      --hover-bg-color: #E2EBFA;\n",
              "      --hover-fill-color: #174EA6;\n",
              "      --disabled-fill-color: #AAA;\n",
              "      --disabled-bg-color: #DDD;\n",
              "  }\n",
              "\n",
              "  [theme=dark] .colab-df-quickchart {\n",
              "      --bg-color: #3B4455;\n",
              "      --fill-color: #D2E3FC;\n",
              "      --hover-bg-color: #434B5C;\n",
              "      --hover-fill-color: #FFFFFF;\n",
              "      --disabled-bg-color: #3B4455;\n",
              "      --disabled-fill-color: #666;\n",
              "  }\n",
              "\n",
              "  .colab-df-quickchart {\n",
              "    background-color: var(--bg-color);\n",
              "    border: none;\n",
              "    border-radius: 50%;\n",
              "    cursor: pointer;\n",
              "    display: none;\n",
              "    fill: var(--fill-color);\n",
              "    height: 32px;\n",
              "    padding: 0;\n",
              "    width: 32px;\n",
              "  }\n",
              "\n",
              "  .colab-df-quickchart:hover {\n",
              "    background-color: var(--hover-bg-color);\n",
              "    box-shadow: 0 1px 2px rgba(60, 64, 67, 0.3), 0 1px 3px 1px rgba(60, 64, 67, 0.15);\n",
              "    fill: var(--button-hover-fill-color);\n",
              "  }\n",
              "\n",
              "  .colab-df-quickchart-complete:disabled,\n",
              "  .colab-df-quickchart-complete:disabled:hover {\n",
              "    background-color: var(--disabled-bg-color);\n",
              "    fill: var(--disabled-fill-color);\n",
              "    box-shadow: none;\n",
              "  }\n",
              "\n",
              "  .colab-df-spinner {\n",
              "    border: 2px solid var(--fill-color);\n",
              "    border-color: transparent;\n",
              "    border-bottom-color: var(--fill-color);\n",
              "    animation:\n",
              "      spin 1s steps(1) infinite;\n",
              "  }\n",
              "\n",
              "  @keyframes spin {\n",
              "    0% {\n",
              "      border-color: transparent;\n",
              "      border-bottom-color: var(--fill-color);\n",
              "      border-left-color: var(--fill-color);\n",
              "    }\n",
              "    20% {\n",
              "      border-color: transparent;\n",
              "      border-left-color: var(--fill-color);\n",
              "      border-top-color: var(--fill-color);\n",
              "    }\n",
              "    30% {\n",
              "      border-color: transparent;\n",
              "      border-left-color: var(--fill-color);\n",
              "      border-top-color: var(--fill-color);\n",
              "      border-right-color: var(--fill-color);\n",
              "    }\n",
              "    40% {\n",
              "      border-color: transparent;\n",
              "      border-right-color: var(--fill-color);\n",
              "      border-top-color: var(--fill-color);\n",
              "    }\n",
              "    60% {\n",
              "      border-color: transparent;\n",
              "      border-right-color: var(--fill-color);\n",
              "    }\n",
              "    80% {\n",
              "      border-color: transparent;\n",
              "      border-right-color: var(--fill-color);\n",
              "      border-bottom-color: var(--fill-color);\n",
              "    }\n",
              "    90% {\n",
              "      border-color: transparent;\n",
              "      border-bottom-color: var(--fill-color);\n",
              "    }\n",
              "  }\n",
              "</style>\n",
              "\n",
              "  <script>\n",
              "    async function quickchart(key) {\n",
              "      const quickchartButtonEl =\n",
              "        document.querySelector('#' + key + ' button');\n",
              "      quickchartButtonEl.disabled = true;  // To prevent multiple clicks.\n",
              "      quickchartButtonEl.classList.add('colab-df-spinner');\n",
              "      try {\n",
              "        const charts = await google.colab.kernel.invokeFunction(\n",
              "            'suggestCharts', [key], {});\n",
              "      } catch (error) {\n",
              "        console.error('Error during call to suggestCharts:', error);\n",
              "      }\n",
              "      quickchartButtonEl.classList.remove('colab-df-spinner');\n",
              "      quickchartButtonEl.classList.add('colab-df-quickchart-complete');\n",
              "    }\n",
              "    (() => {\n",
              "      let quickchartButtonEl =\n",
              "        document.querySelector('#df-e0a115d7-dcb4-4928-a9fc-3cba7039c482 button');\n",
              "      quickchartButtonEl.style.display =\n",
              "        google.colab.kernel.accessAllowed ? 'block' : 'none';\n",
              "    })();\n",
              "  </script>\n",
              "</div>\n",
              "    </div>\n",
              "  </div>\n"
            ]
          },
          "metadata": {},
          "execution_count": 6
        }
      ],
      "source": [
        "data.head()"
      ]
    },
    {
      "cell_type": "markdown",
      "metadata": {
        "id": "Muz5xQ-wXgPV"
      },
      "source": [
        "### **Выводы по 1.1. Импорт необходимых библиотек, структур данных и функций. Загрузка данных**\n",
        "\n",
        "---"
      ]
    },
    {
      "cell_type": "markdown",
      "metadata": {
        "id": "43lfBfZSXwvz"
      },
      "source": [
        "**(1)** необходимые библиотеки, структуры данных и функции импортированы\n",
        "\n",
        "**(2)** данные загружены и готовы для исследовательского анализа"
      ]
    },
    {
      "cell_type": "markdown",
      "metadata": {
        "id": "zq1P8XupYv36"
      },
      "source": [
        "### **1.2 Исследовательский анализ данных**\n",
        "\n",
        "---"
      ]
    },
    {
      "cell_type": "code",
      "execution_count": null,
      "metadata": {
        "colab": {
          "base_uri": "https://localhost:8080/"
        },
        "id": "KouRY_hUWXKQ",
        "outputId": "49bfe428-445d-43ee-975a-6345174b85b0"
      },
      "outputs": [
        {
          "output_type": "execute_result",
          "data": {
            "text/plain": [
              "((5000, 5), 25000)"
            ]
          },
          "metadata": {},
          "execution_count": 7
        }
      ],
      "source": [
        "# проверим размер датасета\n",
        "data.shape, data.size"
      ]
    },
    {
      "cell_type": "code",
      "execution_count": null,
      "metadata": {
        "colab": {
          "base_uri": "https://localhost:8080/"
        },
        "id": "v089nin-Xqw1",
        "outputId": "16174486-ba31-45bc-b9f2-22b23893dd35"
      },
      "outputs": [
        {
          "output_type": "execute_result",
          "data": {
            "text/plain": [
              "Index(['Пол', 'Возраст', 'Зарплата', 'Члены семьи', 'Страховые выплаты'], dtype='object')"
            ]
          },
          "metadata": {},
          "execution_count": 8
        }
      ],
      "source": [
        "# проверим названия колонок датасета\n",
        "data.columns"
      ]
    },
    {
      "cell_type": "markdown",
      "metadata": {
        "id": "UaWrFfdN8DAR"
      },
      "source": [
        "Грубых ошибок в названиях нет. Общепринятому стилю 'snake_case' заголовки столбцов не соответствуют, однако, задачи, для которых потребуется приведение заголовков столбцов к стилю 'snake_case' в проекте не просматриваются, поэтому менять названия столбцов не будем."
      ]
    },
    {
      "cell_type": "code",
      "execution_count": null,
      "metadata": {
        "colab": {
          "base_uri": "https://localhost:8080/"
        },
        "id": "2BEiL7brA8rt",
        "outputId": "5b35827f-2ef6-45eb-9abc-da0c589a9795"
      },
      "outputs": [
        {
          "output_type": "execute_result",
          "data": {
            "text/plain": [
              "Пол                    int64\n",
              "Возраст              float64\n",
              "Зарплата             float64\n",
              "Члены семьи            int64\n",
              "Страховые выплаты      int64\n",
              "dtype: object"
            ]
          },
          "metadata": {},
          "execution_count": 9
        }
      ],
      "source": [
        "# проверим тип данных в столбцах датасета\n",
        "data.dtypes"
      ]
    },
    {
      "cell_type": "markdown",
      "metadata": {
        "id": "xR-0R6xfBTn4"
      },
      "source": [
        "Изменять тип данных в столбцах не требуется."
      ]
    },
    {
      "cell_type": "code",
      "execution_count": null,
      "metadata": {
        "colab": {
          "base_uri": "https://localhost:8080/",
          "height": 206
        },
        "id": "r7oOhEwW7xJe",
        "outputId": "c0b097c1-b288-4583-d461-dd86b736b18f"
      },
      "outputs": [
        {
          "output_type": "execute_result",
          "data": {
            "text/plain": [
              "                    count        mean          std     min      25%      50%  \\\n",
              "Пол                5000.0      0.4990     0.500049     0.0      0.0      0.0   \n",
              "Возраст            5000.0     30.9528     8.440807    18.0     24.0     30.0   \n",
              "Зарплата           5000.0  39916.3600  9900.083569  5300.0  33300.0  40200.0   \n",
              "Члены семьи        5000.0      1.1942     1.091387     0.0      0.0      1.0   \n",
              "Страховые выплаты  5000.0      0.1480     0.463183     0.0      0.0      0.0   \n",
              "\n",
              "                       75%      max  \n",
              "Пол                    1.0      1.0  \n",
              "Возраст               37.0     65.0  \n",
              "Зарплата           46600.0  79000.0  \n",
              "Члены семьи            2.0      6.0  \n",
              "Страховые выплаты      0.0      5.0  "
            ],
            "text/html": [
              "\n",
              "  <div id=\"df-6ebf6301-b210-4066-94d2-d12957d1640f\" class=\"colab-df-container\">\n",
              "    <div>\n",
              "<style scoped>\n",
              "    .dataframe tbody tr th:only-of-type {\n",
              "        vertical-align: middle;\n",
              "    }\n",
              "\n",
              "    .dataframe tbody tr th {\n",
              "        vertical-align: top;\n",
              "    }\n",
              "\n",
              "    .dataframe thead th {\n",
              "        text-align: right;\n",
              "    }\n",
              "</style>\n",
              "<table border=\"1\" class=\"dataframe\">\n",
              "  <thead>\n",
              "    <tr style=\"text-align: right;\">\n",
              "      <th></th>\n",
              "      <th>count</th>\n",
              "      <th>mean</th>\n",
              "      <th>std</th>\n",
              "      <th>min</th>\n",
              "      <th>25%</th>\n",
              "      <th>50%</th>\n",
              "      <th>75%</th>\n",
              "      <th>max</th>\n",
              "    </tr>\n",
              "  </thead>\n",
              "  <tbody>\n",
              "    <tr>\n",
              "      <th>Пол</th>\n",
              "      <td>5000.0</td>\n",
              "      <td>0.4990</td>\n",
              "      <td>0.500049</td>\n",
              "      <td>0.0</td>\n",
              "      <td>0.0</td>\n",
              "      <td>0.0</td>\n",
              "      <td>1.0</td>\n",
              "      <td>1.0</td>\n",
              "    </tr>\n",
              "    <tr>\n",
              "      <th>Возраст</th>\n",
              "      <td>5000.0</td>\n",
              "      <td>30.9528</td>\n",
              "      <td>8.440807</td>\n",
              "      <td>18.0</td>\n",
              "      <td>24.0</td>\n",
              "      <td>30.0</td>\n",
              "      <td>37.0</td>\n",
              "      <td>65.0</td>\n",
              "    </tr>\n",
              "    <tr>\n",
              "      <th>Зарплата</th>\n",
              "      <td>5000.0</td>\n",
              "      <td>39916.3600</td>\n",
              "      <td>9900.083569</td>\n",
              "      <td>5300.0</td>\n",
              "      <td>33300.0</td>\n",
              "      <td>40200.0</td>\n",
              "      <td>46600.0</td>\n",
              "      <td>79000.0</td>\n",
              "    </tr>\n",
              "    <tr>\n",
              "      <th>Члены семьи</th>\n",
              "      <td>5000.0</td>\n",
              "      <td>1.1942</td>\n",
              "      <td>1.091387</td>\n",
              "      <td>0.0</td>\n",
              "      <td>0.0</td>\n",
              "      <td>1.0</td>\n",
              "      <td>2.0</td>\n",
              "      <td>6.0</td>\n",
              "    </tr>\n",
              "    <tr>\n",
              "      <th>Страховые выплаты</th>\n",
              "      <td>5000.0</td>\n",
              "      <td>0.1480</td>\n",
              "      <td>0.463183</td>\n",
              "      <td>0.0</td>\n",
              "      <td>0.0</td>\n",
              "      <td>0.0</td>\n",
              "      <td>0.0</td>\n",
              "      <td>5.0</td>\n",
              "    </tr>\n",
              "  </tbody>\n",
              "</table>\n",
              "</div>\n",
              "    <div class=\"colab-df-buttons\">\n",
              "\n",
              "  <div class=\"colab-df-container\">\n",
              "    <button class=\"colab-df-convert\" onclick=\"convertToInteractive('df-6ebf6301-b210-4066-94d2-d12957d1640f')\"\n",
              "            title=\"Convert this dataframe to an interactive table.\"\n",
              "            style=\"display:none;\">\n",
              "\n",
              "  <svg xmlns=\"http://www.w3.org/2000/svg\" height=\"24px\" viewBox=\"0 -960 960 960\">\n",
              "    <path d=\"M120-120v-720h720v720H120Zm60-500h600v-160H180v160Zm220 220h160v-160H400v160Zm0 220h160v-160H400v160ZM180-400h160v-160H180v160Zm440 0h160v-160H620v160ZM180-180h160v-160H180v160Zm440 0h160v-160H620v160Z\"/>\n",
              "  </svg>\n",
              "    </button>\n",
              "\n",
              "  <style>\n",
              "    .colab-df-container {\n",
              "      display:flex;\n",
              "      gap: 12px;\n",
              "    }\n",
              "\n",
              "    .colab-df-convert {\n",
              "      background-color: #E8F0FE;\n",
              "      border: none;\n",
              "      border-radius: 50%;\n",
              "      cursor: pointer;\n",
              "      display: none;\n",
              "      fill: #1967D2;\n",
              "      height: 32px;\n",
              "      padding: 0 0 0 0;\n",
              "      width: 32px;\n",
              "    }\n",
              "\n",
              "    .colab-df-convert:hover {\n",
              "      background-color: #E2EBFA;\n",
              "      box-shadow: 0px 1px 2px rgba(60, 64, 67, 0.3), 0px 1px 3px 1px rgba(60, 64, 67, 0.15);\n",
              "      fill: #174EA6;\n",
              "    }\n",
              "\n",
              "    .colab-df-buttons div {\n",
              "      margin-bottom: 4px;\n",
              "    }\n",
              "\n",
              "    [theme=dark] .colab-df-convert {\n",
              "      background-color: #3B4455;\n",
              "      fill: #D2E3FC;\n",
              "    }\n",
              "\n",
              "    [theme=dark] .colab-df-convert:hover {\n",
              "      background-color: #434B5C;\n",
              "      box-shadow: 0px 1px 3px 1px rgba(0, 0, 0, 0.15);\n",
              "      filter: drop-shadow(0px 1px 2px rgba(0, 0, 0, 0.3));\n",
              "      fill: #FFFFFF;\n",
              "    }\n",
              "  </style>\n",
              "\n",
              "    <script>\n",
              "      const buttonEl =\n",
              "        document.querySelector('#df-6ebf6301-b210-4066-94d2-d12957d1640f button.colab-df-convert');\n",
              "      buttonEl.style.display =\n",
              "        google.colab.kernel.accessAllowed ? 'block' : 'none';\n",
              "\n",
              "      async function convertToInteractive(key) {\n",
              "        const element = document.querySelector('#df-6ebf6301-b210-4066-94d2-d12957d1640f');\n",
              "        const dataTable =\n",
              "          await google.colab.kernel.invokeFunction('convertToInteractive',\n",
              "                                                    [key], {});\n",
              "        if (!dataTable) return;\n",
              "\n",
              "        const docLinkHtml = 'Like what you see? Visit the ' +\n",
              "          '<a target=\"_blank\" href=https://colab.research.google.com/notebooks/data_table.ipynb>data table notebook</a>'\n",
              "          + ' to learn more about interactive tables.';\n",
              "        element.innerHTML = '';\n",
              "        dataTable['output_type'] = 'display_data';\n",
              "        await google.colab.output.renderOutput(dataTable, element);\n",
              "        const docLink = document.createElement('div');\n",
              "        docLink.innerHTML = docLinkHtml;\n",
              "        element.appendChild(docLink);\n",
              "      }\n",
              "    </script>\n",
              "  </div>\n",
              "\n",
              "\n",
              "<div id=\"df-3329aa84-aada-4df1-add8-1b8d4eb54d3d\">\n",
              "  <button class=\"colab-df-quickchart\" onclick=\"quickchart('df-3329aa84-aada-4df1-add8-1b8d4eb54d3d')\"\n",
              "            title=\"Suggest charts.\"\n",
              "            style=\"display:none;\">\n",
              "\n",
              "<svg xmlns=\"http://www.w3.org/2000/svg\" height=\"24px\"viewBox=\"0 0 24 24\"\n",
              "     width=\"24px\">\n",
              "    <g>\n",
              "        <path d=\"M19 3H5c-1.1 0-2 .9-2 2v14c0 1.1.9 2 2 2h14c1.1 0 2-.9 2-2V5c0-1.1-.9-2-2-2zM9 17H7v-7h2v7zm4 0h-2V7h2v10zm4 0h-2v-4h2v4z\"/>\n",
              "    </g>\n",
              "</svg>\n",
              "  </button>\n",
              "\n",
              "<style>\n",
              "  .colab-df-quickchart {\n",
              "      --bg-color: #E8F0FE;\n",
              "      --fill-color: #1967D2;\n",
              "      --hover-bg-color: #E2EBFA;\n",
              "      --hover-fill-color: #174EA6;\n",
              "      --disabled-fill-color: #AAA;\n",
              "      --disabled-bg-color: #DDD;\n",
              "  }\n",
              "\n",
              "  [theme=dark] .colab-df-quickchart {\n",
              "      --bg-color: #3B4455;\n",
              "      --fill-color: #D2E3FC;\n",
              "      --hover-bg-color: #434B5C;\n",
              "      --hover-fill-color: #FFFFFF;\n",
              "      --disabled-bg-color: #3B4455;\n",
              "      --disabled-fill-color: #666;\n",
              "  }\n",
              "\n",
              "  .colab-df-quickchart {\n",
              "    background-color: var(--bg-color);\n",
              "    border: none;\n",
              "    border-radius: 50%;\n",
              "    cursor: pointer;\n",
              "    display: none;\n",
              "    fill: var(--fill-color);\n",
              "    height: 32px;\n",
              "    padding: 0;\n",
              "    width: 32px;\n",
              "  }\n",
              "\n",
              "  .colab-df-quickchart:hover {\n",
              "    background-color: var(--hover-bg-color);\n",
              "    box-shadow: 0 1px 2px rgba(60, 64, 67, 0.3), 0 1px 3px 1px rgba(60, 64, 67, 0.15);\n",
              "    fill: var(--button-hover-fill-color);\n",
              "  }\n",
              "\n",
              "  .colab-df-quickchart-complete:disabled,\n",
              "  .colab-df-quickchart-complete:disabled:hover {\n",
              "    background-color: var(--disabled-bg-color);\n",
              "    fill: var(--disabled-fill-color);\n",
              "    box-shadow: none;\n",
              "  }\n",
              "\n",
              "  .colab-df-spinner {\n",
              "    border: 2px solid var(--fill-color);\n",
              "    border-color: transparent;\n",
              "    border-bottom-color: var(--fill-color);\n",
              "    animation:\n",
              "      spin 1s steps(1) infinite;\n",
              "  }\n",
              "\n",
              "  @keyframes spin {\n",
              "    0% {\n",
              "      border-color: transparent;\n",
              "      border-bottom-color: var(--fill-color);\n",
              "      border-left-color: var(--fill-color);\n",
              "    }\n",
              "    20% {\n",
              "      border-color: transparent;\n",
              "      border-left-color: var(--fill-color);\n",
              "      border-top-color: var(--fill-color);\n",
              "    }\n",
              "    30% {\n",
              "      border-color: transparent;\n",
              "      border-left-color: var(--fill-color);\n",
              "      border-top-color: var(--fill-color);\n",
              "      border-right-color: var(--fill-color);\n",
              "    }\n",
              "    40% {\n",
              "      border-color: transparent;\n",
              "      border-right-color: var(--fill-color);\n",
              "      border-top-color: var(--fill-color);\n",
              "    }\n",
              "    60% {\n",
              "      border-color: transparent;\n",
              "      border-right-color: var(--fill-color);\n",
              "    }\n",
              "    80% {\n",
              "      border-color: transparent;\n",
              "      border-right-color: var(--fill-color);\n",
              "      border-bottom-color: var(--fill-color);\n",
              "    }\n",
              "    90% {\n",
              "      border-color: transparent;\n",
              "      border-bottom-color: var(--fill-color);\n",
              "    }\n",
              "  }\n",
              "</style>\n",
              "\n",
              "  <script>\n",
              "    async function quickchart(key) {\n",
              "      const quickchartButtonEl =\n",
              "        document.querySelector('#' + key + ' button');\n",
              "      quickchartButtonEl.disabled = true;  // To prevent multiple clicks.\n",
              "      quickchartButtonEl.classList.add('colab-df-spinner');\n",
              "      try {\n",
              "        const charts = await google.colab.kernel.invokeFunction(\n",
              "            'suggestCharts', [key], {});\n",
              "      } catch (error) {\n",
              "        console.error('Error during call to suggestCharts:', error);\n",
              "      }\n",
              "      quickchartButtonEl.classList.remove('colab-df-spinner');\n",
              "      quickchartButtonEl.classList.add('colab-df-quickchart-complete');\n",
              "    }\n",
              "    (() => {\n",
              "      let quickchartButtonEl =\n",
              "        document.querySelector('#df-3329aa84-aada-4df1-add8-1b8d4eb54d3d button');\n",
              "      quickchartButtonEl.style.display =\n",
              "        google.colab.kernel.accessAllowed ? 'block' : 'none';\n",
              "    })();\n",
              "  </script>\n",
              "</div>\n",
              "    </div>\n",
              "  </div>\n"
            ]
          },
          "metadata": {},
          "execution_count": 10
        }
      ],
      "source": [
        "# изучим общие статистические даныне о датасете\n",
        "data.describe().T"
      ]
    },
    {
      "cell_type": "markdown",
      "metadata": {
        "id": "GjszNlkF9Siv"
      },
      "source": [
        "Общая статистика не позволяет выявить какие-либо проблемы в данных.\n",
        "\n",
        "Признак 'Пол' должен содержать всего два значения (0 и 1).\n",
        "\n",
        "Признак 'Члены семьи' включает информацию о количестве членов семьи от 0 до 6. Следовательно, признак содержит информацию о членах семьи застрахованного, не включая самого застрахованного лица.\n",
        "\n",
        "Признак 'Возраст' дает информацию о возрасте застрахованного (возраст в диапазоне от 18 до 65 лет).\n",
        "\n",
        "Признак 'Зарплата' - непрерывный, включает значения от 5300 до 79000 руб.\n",
        "\n",
        "Целевой признак 'Страховые выплаты' включает значения от 0 до 5, следовательно, речь идет об отсутствии страховой выплаты (0) или количестве страховых выплат застрахованному (от 1 до 5)."
      ]
    },
    {
      "cell_type": "code",
      "execution_count": null,
      "metadata": {
        "colab": {
          "base_uri": "https://localhost:8080/"
        },
        "id": "q18TcDDl7xMu",
        "outputId": "ad2d2f73-865d-4871-b1b3-ac19d06b1abb"
      },
      "outputs": [
        {
          "output_type": "execute_result",
          "data": {
            "text/plain": [
              "Пол                  0.0\n",
              "Возраст              0.0\n",
              "Зарплата             0.0\n",
              "Члены семьи          0.0\n",
              "Страховые выплаты    0.0\n",
              "dtype: float64"
            ]
          },
          "metadata": {},
          "execution_count": 11
        }
      ],
      "source": [
        "# определяем долю в % пропусков в столбцах датасета\n",
        "data.isnull().sum() / data.shape[0] * 100"
      ]
    },
    {
      "cell_type": "markdown",
      "metadata": {
        "id": "v5rwt7tM_ZvB"
      },
      "source": [
        "Пропущенных значений в датасете нет, заполнять пропуски не требуется"
      ]
    },
    {
      "cell_type": "code",
      "execution_count": null,
      "metadata": {
        "colab": {
          "base_uri": "https://localhost:8080/"
        },
        "id": "f4amoiKO7xP7",
        "outputId": "51167716-db43-4322-8313-ec5ebf207667"
      },
      "outputs": [
        {
          "output_type": "execute_result",
          "data": {
            "text/plain": [
              "153"
            ]
          },
          "metadata": {},
          "execution_count": 12
        }
      ],
      "source": [
        "# проверим количество явных дубликатов\n",
        "data.duplicated().sum()"
      ]
    },
    {
      "cell_type": "code",
      "execution_count": null,
      "metadata": {
        "colab": {
          "base_uri": "https://localhost:8080/"
        },
        "id": "qlsUk2A3_gX1",
        "outputId": "648e73fa-82c4-4aaf-b99f-9df6b261a0ba"
      },
      "outputs": [
        {
          "output_type": "execute_result",
          "data": {
            "text/plain": [
              "0"
            ]
          },
          "metadata": {},
          "execution_count": 13
        }
      ],
      "source": [
        "# удаляем из датасета явные дубликаты\n",
        "data = data.drop_duplicates()\n",
        "\n",
        "# проверяем наличие явных дубликатов после их удаления\n",
        "data.duplicated().sum()"
      ]
    },
    {
      "cell_type": "markdown",
      "metadata": {
        "id": "RrxdngKdAiW4"
      },
      "source": [
        "Явные дубликаты из датасета удалены. Проверим размер датасета после удаления дубликатов"
      ]
    },
    {
      "cell_type": "code",
      "execution_count": null,
      "metadata": {
        "colab": {
          "base_uri": "https://localhost:8080/"
        },
        "id": "jQ2eGevj_gao",
        "outputId": "b1f3cf59-03ab-4b14-85c3-accfab8c07e9"
      },
      "outputs": [
        {
          "output_type": "execute_result",
          "data": {
            "text/plain": [
              "((4847, 5), 24235)"
            ]
          },
          "metadata": {},
          "execution_count": 14
        }
      ],
      "source": [
        "# проверяем размер датасета после удаления дубликатов\n",
        "data.shape, data.size"
      ]
    },
    {
      "cell_type": "code",
      "execution_count": null,
      "metadata": {
        "colab": {
          "base_uri": "https://localhost:8080/"
        },
        "id": "ynZhg5nl_geA",
        "outputId": "bc8bbf22-3f69-48a0-a041-3a097a3e788e"
      },
      "outputs": [
        {
          "output_type": "execute_result",
          "data": {
            "text/plain": [
              "Пол                    2\n",
              "Возраст               46\n",
              "Зарплата             524\n",
              "Члены семьи            7\n",
              "Страховые выплаты      6\n",
              "dtype: int64"
            ]
          },
          "metadata": {},
          "execution_count": 15
        }
      ],
      "source": [
        "# проверим количество уникальных значений в столбцах датасета\n",
        "data.nunique()"
      ]
    },
    {
      "cell_type": "markdown",
      "metadata": {
        "id": "BDpQPHoMCQwS"
      },
      "source": [
        "Для завершения исследовательского анализа данных визуализируем распределение значений признаков, одновременно проверив сбалансированность целевого признака."
      ]
    },
    {
      "cell_type": "code",
      "execution_count": null,
      "metadata": {
        "id": "mt4isPcXCJwU"
      },
      "outputs": [],
      "source": [
        "# создадим функцию для вывода серии рисунков, отражающую\n",
        "# распределение признаков с помощью sns.boxplot\n",
        "def features_distribution_boxplot(data, list, color):\n",
        "    for i in list:\n",
        "        plt.figure(figsize = (10,1))\n",
        "        h = sns.boxplot(x = data[i],\n",
        "            data = data,\n",
        "            linewidth=2.5,\n",
        "            width=0.5)\n",
        "        plt.title(i, fontsize = 12)\n",
        "        h.tick_params(axis='x', labelrotation=0, labelsize=12)\n",
        "        h.set_facecolor(color)\n",
        "    plt.show()"
      ]
    },
    {
      "cell_type": "code",
      "execution_count": null,
      "metadata": {
        "id": "lzwRyO9wCJs6"
      },
      "outputs": [],
      "source": [
        "# создадим список с названиями признаков\n",
        "name_for_figure_1 = ['Возраст', 'Зарплата']"
      ]
    },
    {
      "cell_type": "code",
      "execution_count": null,
      "metadata": {
        "colab": {
          "base_uri": "https://localhost:8080/",
          "height": 339
        },
        "id": "SUSYOHdICJ0D",
        "outputId": "89136a3f-b61e-47c6-9296-a0e9c8fca420"
      },
      "outputs": [
        {
          "output_type": "display_data",
          "data": {
            "text/plain": [
              "<Figure size 10000x1000 with 1 Axes>"
            ],
            "image/svg+xml": "<?xml version=\"1.0\" encoding=\"utf-8\" standalone=\"no\"?>\n<!DOCTYPE svg PUBLIC \"-//W3C//DTD SVG 1.1//EN\"\n  \"http://www.w3.org/Graphics/SVG/1.1/DTD/svg11.dtd\">\n<svg xmlns:xlink=\"http://www.w3.org/1999/xlink\" width=\"575.9pt\" height=\"117.25pt\" viewBox=\"0 0 575.9 117.25\" xmlns=\"http://www.w3.org/2000/svg\" version=\"1.1\">\n <metadata>\n  <rdf:RDF xmlns:dc=\"http://purl.org/dc/elements/1.1/\" xmlns:cc=\"http://creativecommons.org/ns#\" xmlns:rdf=\"http://www.w3.org/1999/02/22-rdf-syntax-ns#\">\n   <cc:Work>\n    <dc:type rdf:resource=\"http://purl.org/dc/dcmitype/StillImage\"/>\n    <dc:date>2023-09-21T08:12:30.689171</dc:date>\n    <dc:format>image/svg+xml</dc:format>\n    <dc:creator>\n     <cc:Agent>\n      <dc:title>Matplotlib v3.7.1, https://matplotlib.org/</dc:title>\n     </cc:Agent>\n    </dc:creator>\n   </cc:Work>\n  </rdf:RDF>\n </metadata>\n <defs>\n  <style type=\"text/css\">*{stroke-linejoin: round; stroke-linecap: butt}</style>\n </defs>\n <g id=\"figure_1\">\n  <g id=\"patch_1\">\n   <path d=\"M 0 117.25 \nL 575.9 117.25 \nL 575.9 0 \nL 0 0 \nz\n\" style=\"fill: #ffffff\"/>\n  </g>\n  <g id=\"axes_1\">\n   <g id=\"patch_2\">\n    <path d=\"M 10.7 77.758125 \nL 568.7 77.758125 \nL 568.7 22.318125 \nL 10.7 22.318125 \nz\n\" style=\"fill: #f5f5f5\"/>\n   </g>\n   <g id=\"patch_3\">\n    <path d=\"M 100.821857 36.178125 \nL 100.821857 63.898125 \nL 241.131335 63.898125 \nL 241.131335 36.178125 \nL 100.821857 36.178125 \nz\n\" clip-path=\"url(#pd4e2eb73a3)\" style=\"fill: #3274a1; stroke: #3f3f3f; stroke-width: 2.5; stroke-linejoin: miter\"/>\n   </g>\n   <g id=\"matplotlib.axis_1\">\n    <g id=\"xtick_1\">\n     <g id=\"line2d_1\">\n      <defs>\n       <path id=\"m3d45942532\" d=\"M 0 0 \nL 0 3.5 \n\" style=\"stroke: #000000; stroke-width: 0.8\"/>\n      </defs>\n      <g>\n       <use xlink:href=\"#m3d45942532\" x=\"57.64971\" y=\"77.758125\" style=\"stroke: #000000; stroke-width: 0.8\"/>\n      </g>\n     </g>\n     <g id=\"text_1\">\n      <!-- 20 -->\n      <g transform=\"translate(50.01471 93.87625) scale(0.12 -0.12)\">\n       <defs>\n        <path id=\"DejaVuSans-32\" d=\"M 1228 531 \nL 3431 531 \nL 3431 0 \nL 469 0 \nL 469 531 \nQ 828 903 1448 1529 \nQ 2069 2156 2228 2338 \nQ 2531 2678 2651 2914 \nQ 2772 3150 2772 3378 \nQ 2772 3750 2511 3984 \nQ 2250 4219 1831 4219 \nQ 1534 4219 1204 4116 \nQ 875 4013 500 3803 \nL 500 4441 \nQ 881 4594 1212 4672 \nQ 1544 4750 1819 4750 \nQ 2544 4750 2975 4387 \nQ 3406 4025 3406 3419 \nQ 3406 3131 3298 2873 \nQ 3191 2616 2906 2266 \nQ 2828 2175 2409 1742 \nQ 1991 1309 1228 531 \nz\n\" transform=\"scale(0.015625)\"/>\n        <path id=\"DejaVuSans-30\" d=\"M 2034 4250 \nQ 1547 4250 1301 3770 \nQ 1056 3291 1056 2328 \nQ 1056 1369 1301 889 \nQ 1547 409 2034 409 \nQ 2525 409 2770 889 \nQ 3016 1369 3016 2328 \nQ 3016 3291 2770 3770 \nQ 2525 4250 2034 4250 \nz\nM 2034 4750 \nQ 2819 4750 3233 4129 \nQ 3647 3509 3647 2328 \nQ 3647 1150 3233 529 \nQ 2819 -91 2034 -91 \nQ 1250 -91 836 529 \nQ 422 1150 422 2328 \nQ 422 3509 836 4129 \nQ 1250 4750 2034 4750 \nz\n\" transform=\"scale(0.015625)\"/>\n       </defs>\n       <use xlink:href=\"#DejaVuSans-32\"/>\n       <use xlink:href=\"#DejaVuSans-30\" x=\"63.623047\"/>\n      </g>\n     </g>\n    </g>\n    <g id=\"xtick_2\">\n     <g id=\"line2d_2\">\n      <g>\n       <use xlink:href=\"#m3d45942532\" x=\"165.580077\" y=\"77.758125\" style=\"stroke: #000000; stroke-width: 0.8\"/>\n      </g>\n     </g>\n     <g id=\"text_2\">\n      <!-- 30 -->\n      <g transform=\"translate(157.945077 93.87625) scale(0.12 -0.12)\">\n       <defs>\n        <path id=\"DejaVuSans-33\" d=\"M 2597 2516 \nQ 3050 2419 3304 2112 \nQ 3559 1806 3559 1356 \nQ 3559 666 3084 287 \nQ 2609 -91 1734 -91 \nQ 1441 -91 1130 -33 \nQ 819 25 488 141 \nL 488 750 \nQ 750 597 1062 519 \nQ 1375 441 1716 441 \nQ 2309 441 2620 675 \nQ 2931 909 2931 1356 \nQ 2931 1769 2642 2001 \nQ 2353 2234 1838 2234 \nL 1294 2234 \nL 1294 2753 \nL 1863 2753 \nQ 2328 2753 2575 2939 \nQ 2822 3125 2822 3475 \nQ 2822 3834 2567 4026 \nQ 2313 4219 1838 4219 \nQ 1578 4219 1281 4162 \nQ 984 4106 628 3988 \nL 628 4550 \nQ 988 4650 1302 4700 \nQ 1616 4750 1894 4750 \nQ 2613 4750 3031 4423 \nQ 3450 4097 3450 3541 \nQ 3450 3153 3228 2886 \nQ 3006 2619 2597 2516 \nz\n\" transform=\"scale(0.015625)\"/>\n       </defs>\n       <use xlink:href=\"#DejaVuSans-33\"/>\n       <use xlink:href=\"#DejaVuSans-30\" x=\"63.623047\"/>\n      </g>\n     </g>\n    </g>\n    <g id=\"xtick_3\">\n     <g id=\"line2d_3\">\n      <g>\n       <use xlink:href=\"#m3d45942532\" x=\"273.510445\" y=\"77.758125\" style=\"stroke: #000000; stroke-width: 0.8\"/>\n      </g>\n     </g>\n     <g id=\"text_3\">\n      <!-- 40 -->\n      <g transform=\"translate(265.875445 93.87625) scale(0.12 -0.12)\">\n       <defs>\n        <path id=\"DejaVuSans-34\" d=\"M 2419 4116 \nL 825 1625 \nL 2419 1625 \nL 2419 4116 \nz\nM 2253 4666 \nL 3047 4666 \nL 3047 1625 \nL 3713 1625 \nL 3713 1100 \nL 3047 1100 \nL 3047 0 \nL 2419 0 \nL 2419 1100 \nL 313 1100 \nL 313 1709 \nL 2253 4666 \nz\n\" transform=\"scale(0.015625)\"/>\n       </defs>\n       <use xlink:href=\"#DejaVuSans-34\"/>\n       <use xlink:href=\"#DejaVuSans-30\" x=\"63.623047\"/>\n      </g>\n     </g>\n    </g>\n    <g id=\"xtick_4\">\n     <g id=\"line2d_4\">\n      <g>\n       <use xlink:href=\"#m3d45942532\" x=\"381.440812\" y=\"77.758125\" style=\"stroke: #000000; stroke-width: 0.8\"/>\n      </g>\n     </g>\n     <g id=\"text_4\">\n      <!-- 50 -->\n      <g transform=\"translate(373.805812 93.87625) scale(0.12 -0.12)\">\n       <defs>\n        <path id=\"DejaVuSans-35\" d=\"M 691 4666 \nL 3169 4666 \nL 3169 4134 \nL 1269 4134 \nL 1269 2991 \nQ 1406 3038 1543 3061 \nQ 1681 3084 1819 3084 \nQ 2600 3084 3056 2656 \nQ 3513 2228 3513 1497 \nQ 3513 744 3044 326 \nQ 2575 -91 1722 -91 \nQ 1428 -91 1123 -41 \nQ 819 9 494 109 \nL 494 744 \nQ 775 591 1075 516 \nQ 1375 441 1709 441 \nQ 2250 441 2565 725 \nQ 2881 1009 2881 1497 \nQ 2881 1984 2565 2268 \nQ 2250 2553 1709 2553 \nQ 1456 2553 1204 2497 \nQ 953 2441 691 2322 \nL 691 4666 \nz\n\" transform=\"scale(0.015625)\"/>\n       </defs>\n       <use xlink:href=\"#DejaVuSans-35\"/>\n       <use xlink:href=\"#DejaVuSans-30\" x=\"63.623047\"/>\n      </g>\n     </g>\n    </g>\n    <g id=\"xtick_5\">\n     <g id=\"line2d_5\">\n      <g>\n       <use xlink:href=\"#m3d45942532\" x=\"489.37118\" y=\"77.758125\" style=\"stroke: #000000; stroke-width: 0.8\"/>\n      </g>\n     </g>\n     <g id=\"text_5\">\n      <!-- 60 -->\n      <g transform=\"translate(481.73618 93.87625) scale(0.12 -0.12)\">\n       <defs>\n        <path id=\"DejaVuSans-36\" d=\"M 2113 2584 \nQ 1688 2584 1439 2293 \nQ 1191 2003 1191 1497 \nQ 1191 994 1439 701 \nQ 1688 409 2113 409 \nQ 2538 409 2786 701 \nQ 3034 994 3034 1497 \nQ 3034 2003 2786 2293 \nQ 2538 2584 2113 2584 \nz\nM 3366 4563 \nL 3366 3988 \nQ 3128 4100 2886 4159 \nQ 2644 4219 2406 4219 \nQ 1781 4219 1451 3797 \nQ 1122 3375 1075 2522 \nQ 1259 2794 1537 2939 \nQ 1816 3084 2150 3084 \nQ 2853 3084 3261 2657 \nQ 3669 2231 3669 1497 \nQ 3669 778 3244 343 \nQ 2819 -91 2113 -91 \nQ 1303 -91 875 529 \nQ 447 1150 447 2328 \nQ 447 3434 972 4092 \nQ 1497 4750 2381 4750 \nQ 2619 4750 2861 4703 \nQ 3103 4656 3366 4563 \nz\n\" transform=\"scale(0.015625)\"/>\n       </defs>\n       <use xlink:href=\"#DejaVuSans-36\"/>\n       <use xlink:href=\"#DejaVuSans-30\" x=\"63.623047\"/>\n      </g>\n     </g>\n    </g>\n    <g id=\"text_6\">\n     <!-- Возраст -->\n     <g transform=\"translate(268.651563 107.970313) scale(0.1 -0.1)\">\n      <defs>\n       <path id=\"DejaVuSans-412\" d=\"M 1259 2228 \nL 1259 519 \nL 2272 519 \nQ 2781 519 3026 730 \nQ 3272 941 3272 1375 \nQ 3272 1813 3026 2020 \nQ 2781 2228 2272 2228 \nL 1259 2228 \nz\nM 1259 4147 \nL 1259 2741 \nL 2194 2741 \nQ 2656 2741 2882 2914 \nQ 3109 3088 3109 3444 \nQ 3109 3797 2882 3972 \nQ 2656 4147 2194 4147 \nL 1259 4147 \nz\nM 628 4666 \nL 2241 4666 \nQ 2963 4666 3353 4366 \nQ 3744 4066 3744 3513 \nQ 3744 3084 3544 2831 \nQ 3344 2578 2956 2516 \nQ 3422 2416 3680 2098 \nQ 3938 1781 3938 1306 \nQ 3938 681 3513 340 \nQ 3088 0 2303 0 \nL 628 0 \nL 628 4666 \nz\n\" transform=\"scale(0.015625)\"/>\n       <path id=\"DejaVuSans-43e\" d=\"M 1959 3097 \nQ 1497 3097 1228 2736 \nQ 959 2375 959 1747 \nQ 959 1119 1226 758 \nQ 1494 397 1959 397 \nQ 2419 397 2687 759 \nQ 2956 1122 2956 1747 \nQ 2956 2369 2687 2733 \nQ 2419 3097 1959 3097 \nz\nM 1959 3584 \nQ 2709 3584 3137 3096 \nQ 3566 2609 3566 1747 \nQ 3566 888 3137 398 \nQ 2709 -91 1959 -91 \nQ 1206 -91 779 398 \nQ 353 888 353 1747 \nQ 353 2609 779 3096 \nQ 1206 3584 1959 3584 \nz\n\" transform=\"scale(0.015625)\"/>\n       <path id=\"DejaVuSans-437\" d=\"M 2206 1888 \nQ 2594 1813 2809 1584 \nQ 3025 1356 3025 1019 \nQ 3025 478 2622 193 \nQ 2219 -91 1475 -91 \nQ 1225 -91 961 -47 \nQ 697 -3 416 84 \nL 416 619 \nQ 638 503 903 445 \nQ 1169 388 1459 388 \nQ 1931 388 2195 563 \nQ 2459 738 2459 1019 \nQ 2459 1294 2225 1461 \nQ 1991 1628 1563 1628 \nL 1100 1628 \nL 1100 2103 \nL 1584 2103 \nQ 1947 2103 2158 2242 \nQ 2369 2381 2369 2600 \nQ 2369 2800 2151 2944 \nQ 1934 3088 1563 3088 \nQ 1341 3088 1089 3047 \nQ 838 3006 534 2916 \nL 534 3438 \nQ 841 3513 1106 3550 \nQ 1372 3588 1609 3588 \nQ 2222 3588 2576 3342 \nQ 2931 3097 2931 2656 \nQ 2931 2366 2743 2164 \nQ 2556 1963 2206 1888 \nz\n\" transform=\"scale(0.015625)\"/>\n       <path id=\"DejaVuSans-440\" d=\"M 1159 525 \nL 1159 -1331 \nL 581 -1331 \nL 581 3500 \nL 1159 3500 \nL 1159 2969 \nQ 1341 3281 1617 3432 \nQ 1894 3584 2278 3584 \nQ 2916 3584 3314 3078 \nQ 3713 2572 3713 1747 \nQ 3713 922 3314 415 \nQ 2916 -91 2278 -91 \nQ 1894 -91 1617 61 \nQ 1341 213 1159 525 \nz\nM 3116 1747 \nQ 3116 2381 2855 2742 \nQ 2594 3103 2138 3103 \nQ 1681 3103 1420 2742 \nQ 1159 2381 1159 1747 \nQ 1159 1113 1420 752 \nQ 1681 391 2138 391 \nQ 2594 391 2855 752 \nQ 3116 1113 3116 1747 \nz\n\" transform=\"scale(0.015625)\"/>\n       <path id=\"DejaVuSans-430\" d=\"M 2194 1759 \nQ 1497 1759 1228 1600 \nQ 959 1441 959 1056 \nQ 959 750 1161 570 \nQ 1363 391 1709 391 \nQ 2188 391 2477 730 \nQ 2766 1069 2766 1631 \nL 2766 1759 \nL 2194 1759 \nz\nM 3341 1997 \nL 3341 0 \nL 2766 0 \nL 2766 531 \nQ 2569 213 2275 61 \nQ 1981 -91 1556 -91 \nQ 1019 -91 701 211 \nQ 384 513 384 1019 \nQ 384 1609 779 1909 \nQ 1175 2209 1959 2209 \nL 2766 2209 \nL 2766 2266 \nQ 2766 2663 2505 2880 \nQ 2244 3097 1772 3097 \nQ 1472 3097 1187 3025 \nQ 903 2953 641 2809 \nL 641 3341 \nQ 956 3463 1253 3523 \nQ 1550 3584 1831 3584 \nQ 2591 3584 2966 3190 \nQ 3341 2797 3341 1997 \nz\n\" transform=\"scale(0.015625)\"/>\n       <path id=\"DejaVuSans-441\" d=\"M 3122 3366 \nL 3122 2828 \nQ 2878 2963 2633 3030 \nQ 2388 3097 2138 3097 \nQ 1578 3097 1268 2742 \nQ 959 2388 959 1747 \nQ 959 1106 1268 751 \nQ 1578 397 2138 397 \nQ 2388 397 2633 464 \nQ 2878 531 3122 666 \nL 3122 134 \nQ 2881 22 2623 -34 \nQ 2366 -91 2075 -91 \nQ 1284 -91 818 406 \nQ 353 903 353 1747 \nQ 353 2603 823 3093 \nQ 1294 3584 2113 3584 \nQ 2378 3584 2631 3529 \nQ 2884 3475 3122 3366 \nz\n\" transform=\"scale(0.015625)\"/>\n       <path id=\"DejaVuSans-442\" d=\"M 188 3500 \nL 3541 3500 \nL 3541 3041 \nL 2147 3041 \nL 2147 0 \nL 1581 0 \nL 1581 3041 \nL 188 3041 \nL 188 3500 \nz\n\" transform=\"scale(0.015625)\"/>\n      </defs>\n      <use xlink:href=\"#DejaVuSans-412\"/>\n      <use xlink:href=\"#DejaVuSans-43e\" x=\"68.603516\"/>\n      <use xlink:href=\"#DejaVuSans-437\" x=\"129.785156\"/>\n      <use xlink:href=\"#DejaVuSans-440\" x=\"182.958984\"/>\n      <use xlink:href=\"#DejaVuSans-430\" x=\"246.435547\"/>\n      <use xlink:href=\"#DejaVuSans-441\" x=\"307.714844\"/>\n      <use xlink:href=\"#DejaVuSans-442\" x=\"362.695312\"/>\n     </g>\n    </g>\n   </g>\n   <g id=\"matplotlib.axis_2\">\n    <g id=\"ytick_1\">\n     <g id=\"line2d_6\">\n      <defs>\n       <path id=\"m1b46b9a860\" d=\"M 0 0 \nL -3.5 0 \n\" style=\"stroke: #000000; stroke-width: 0.8\"/>\n      </defs>\n      <g>\n       <use xlink:href=\"#m1b46b9a860\" x=\"10.7\" y=\"50.038125\" style=\"stroke: #000000; stroke-width: 0.8\"/>\n      </g>\n     </g>\n    </g>\n   </g>\n   <g id=\"line2d_7\">\n    <path d=\"M 100.821857 50.038125 \nL 36.063636 50.038125 \n\" clip-path=\"url(#pd4e2eb73a3)\" style=\"fill: none; stroke: #3f3f3f; stroke-width: 2.5; stroke-linecap: square\"/>\n   </g>\n   <g id=\"line2d_8\">\n    <path d=\"M 241.131335 50.038125 \nL 446.199033 50.038125 \n\" clip-path=\"url(#pd4e2eb73a3)\" style=\"fill: none; stroke: #3f3f3f; stroke-width: 2.5; stroke-linecap: square\"/>\n   </g>\n   <g id=\"line2d_9\">\n    <path d=\"M 36.063636 43.108125 \nL 36.063636 56.968125 \n\" clip-path=\"url(#pd4e2eb73a3)\" style=\"fill: none; stroke: #3f3f3f; stroke-width: 2.5; stroke-linecap: square\"/>\n   </g>\n   <g id=\"line2d_10\">\n    <path d=\"M 446.199033 43.108125 \nL 446.199033 56.968125 \n\" clip-path=\"url(#pd4e2eb73a3)\" style=\"fill: none; stroke: #3f3f3f; stroke-width: 2.5; stroke-linecap: square\"/>\n   </g>\n   <g id=\"line2d_11\">\n    <defs>\n     <path id=\"me9e3c03940\" d=\"M -0 3.535534 \nL 2.12132 0 \nL -0 -3.535534 \nL -2.12132 -0 \nz\n\" style=\"stroke: #3f3f3f; stroke-linejoin: miter\"/>\n    </defs>\n    <g clip-path=\"url(#pd4e2eb73a3)\">\n     <use xlink:href=\"#me9e3c03940\" x=\"543.336364\" y=\"50.038125\" style=\"fill: #3f3f3f; stroke: #3f3f3f; stroke-linejoin: miter\"/>\n     <use xlink:href=\"#me9e3c03940\" x=\"456.99207\" y=\"50.038125\" style=\"fill: #3f3f3f; stroke: #3f3f3f; stroke-linejoin: miter\"/>\n     <use xlink:href=\"#me9e3c03940\" x=\"467.785106\" y=\"50.038125\" style=\"fill: #3f3f3f; stroke: #3f3f3f; stroke-linejoin: miter\"/>\n     <use xlink:href=\"#me9e3c03940\" x=\"467.785106\" y=\"50.038125\" style=\"fill: #3f3f3f; stroke: #3f3f3f; stroke-linejoin: miter\"/>\n     <use xlink:href=\"#me9e3c03940\" x=\"478.578143\" y=\"50.038125\" style=\"fill: #3f3f3f; stroke: #3f3f3f; stroke-linejoin: miter\"/>\n     <use xlink:href=\"#me9e3c03940\" x=\"489.37118\" y=\"50.038125\" style=\"fill: #3f3f3f; stroke: #3f3f3f; stroke-linejoin: miter\"/>\n     <use xlink:href=\"#me9e3c03940\" x=\"456.99207\" y=\"50.038125\" style=\"fill: #3f3f3f; stroke: #3f3f3f; stroke-linejoin: miter\"/>\n     <use xlink:href=\"#me9e3c03940\" x=\"489.37118\" y=\"50.038125\" style=\"fill: #3f3f3f; stroke: #3f3f3f; stroke-linejoin: miter\"/>\n     <use xlink:href=\"#me9e3c03940\" x=\"478.578143\" y=\"50.038125\" style=\"fill: #3f3f3f; stroke: #3f3f3f; stroke-linejoin: miter\"/>\n     <use xlink:href=\"#me9e3c03940\" x=\"478.578143\" y=\"50.038125\" style=\"fill: #3f3f3f; stroke: #3f3f3f; stroke-linejoin: miter\"/>\n     <use xlink:href=\"#me9e3c03940\" x=\"500.164217\" y=\"50.038125\" style=\"fill: #3f3f3f; stroke: #3f3f3f; stroke-linejoin: miter\"/>\n     <use xlink:href=\"#me9e3c03940\" x=\"510.957253\" y=\"50.038125\" style=\"fill: #3f3f3f; stroke: #3f3f3f; stroke-linejoin: miter\"/>\n    </g>\n   </g>\n   <g id=\"line2d_12\">\n    <path d=\"M 165.580077 36.178125 \nL 165.580077 63.898125 \n\" clip-path=\"url(#pd4e2eb73a3)\" style=\"fill: none; stroke: #3f3f3f; stroke-width: 2.5; stroke-linecap: square\"/>\n   </g>\n   <g id=\"patch_4\">\n    <path d=\"M 10.7 77.758125 \nL 10.7 22.318125 \n\" style=\"fill: none; stroke: #000000; stroke-width: 0.8; stroke-linejoin: miter; stroke-linecap: square\"/>\n   </g>\n   <g id=\"patch_5\">\n    <path d=\"M 568.7 77.758125 \nL 568.7 22.318125 \n\" style=\"fill: none; stroke: #000000; stroke-width: 0.8; stroke-linejoin: miter; stroke-linecap: square\"/>\n   </g>\n   <g id=\"patch_6\">\n    <path d=\"M 10.7 77.758125 \nL 568.7 77.758125 \n\" style=\"fill: none; stroke: #000000; stroke-width: 0.8; stroke-linejoin: miter; stroke-linecap: square\"/>\n   </g>\n   <g id=\"patch_7\">\n    <path d=\"M 10.7 22.318125 \nL 568.7 22.318125 \n\" style=\"fill: none; stroke: #000000; stroke-width: 0.8; stroke-linejoin: miter; stroke-linecap: square\"/>\n   </g>\n   <g id=\"text_7\">\n    <!-- Возраст -->\n    <g transform=\"translate(264.441875 16.318125) scale(0.12 -0.12)\">\n     <use xlink:href=\"#DejaVuSans-412\"/>\n     <use xlink:href=\"#DejaVuSans-43e\" x=\"68.603516\"/>\n     <use xlink:href=\"#DejaVuSans-437\" x=\"129.785156\"/>\n     <use xlink:href=\"#DejaVuSans-440\" x=\"182.958984\"/>\n     <use xlink:href=\"#DejaVuSans-430\" x=\"246.435547\"/>\n     <use xlink:href=\"#DejaVuSans-441\" x=\"307.714844\"/>\n     <use xlink:href=\"#DejaVuSans-442\" x=\"362.695312\"/>\n    </g>\n   </g>\n  </g>\n </g>\n <defs>\n  <clipPath id=\"pd4e2eb73a3\">\n   <rect x=\"10.7\" y=\"22.318125\" width=\"558\" height=\"55.44\"/>\n  </clipPath>\n </defs>\n</svg>\n"
          },
          "metadata": {}
        },
        {
          "output_type": "display_data",
          "data": {
            "text/plain": [
              "<Figure size 10000x1000 with 1 Axes>"
            ],
            "image/svg+xml": "<?xml version=\"1.0\" encoding=\"utf-8\" standalone=\"no\"?>\n<!DOCTYPE svg PUBLIC \"-//W3C//DTD SVG 1.1//EN\"\n  \"http://www.w3.org/Graphics/SVG/1.1/DTD/svg11.dtd\">\n<svg xmlns:xlink=\"http://www.w3.org/1999/xlink\" width=\"576.506804pt\" height=\"117.25pt\" viewBox=\"0 0 576.506804 117.25\" xmlns=\"http://www.w3.org/2000/svg\" version=\"1.1\">\n <metadata>\n  <rdf:RDF xmlns:dc=\"http://purl.org/dc/elements/1.1/\" xmlns:cc=\"http://creativecommons.org/ns#\" xmlns:rdf=\"http://www.w3.org/1999/02/22-rdf-syntax-ns#\">\n   <cc:Work>\n    <dc:type rdf:resource=\"http://purl.org/dc/dcmitype/StillImage\"/>\n    <dc:date>2023-09-21T08:12:30.828243</dc:date>\n    <dc:format>image/svg+xml</dc:format>\n    <dc:creator>\n     <cc:Agent>\n      <dc:title>Matplotlib v3.7.1, https://matplotlib.org/</dc:title>\n     </cc:Agent>\n    </dc:creator>\n   </cc:Work>\n  </rdf:RDF>\n </metadata>\n <defs>\n  <style type=\"text/css\">*{stroke-linejoin: round; stroke-linecap: butt}</style>\n </defs>\n <g id=\"figure_1\">\n  <g id=\"patch_1\">\n   <path d=\"M 0 117.25 \nL 576.506804 117.25 \nL 576.506804 0 \nL 0 0 \nz\n\" style=\"fill: #ffffff\"/>\n  </g>\n  <g id=\"axes_1\">\n   <g id=\"patch_2\">\n    <path d=\"M 10.7 77.758125 \nL 568.7 77.758125 \nL 568.7 22.318125 \nL 10.7 22.318125 \nz\n\" style=\"fill: #f5f5f5\"/>\n   </g>\n   <g id=\"patch_3\">\n    <path d=\"M 228.097681 36.178125 \nL 228.097681 63.898125 \nL 320.329086 63.898125 \nL 320.329086 36.178125 \nL 228.097681 36.178125 \nz\n\" clip-path=\"url(#pccb8664cb1)\" style=\"fill: #3274a1; stroke: #3f3f3f; stroke-width: 2.5; stroke-linejoin: miter\"/>\n   </g>\n   <g id=\"matplotlib.axis_1\">\n    <g id=\"xtick_1\">\n     <g id=\"line2d_1\">\n      <defs>\n       <path id=\"m5258ee2059\" d=\"M 0 0 \nL 0 3.5 \n\" style=\"stroke: #000000; stroke-width: 0.8\"/>\n      </defs>\n      <g>\n       <use xlink:href=\"#m5258ee2059\" x=\"68.413458\" y=\"77.758125\" style=\"stroke: #000000; stroke-width: 0.8\"/>\n      </g>\n     </g>\n     <g id=\"text_1\">\n      <!-- 10000 -->\n      <g transform=\"translate(49.325958 93.87625) scale(0.12 -0.12)\">\n       <defs>\n        <path id=\"DejaVuSans-31\" d=\"M 794 531 \nL 1825 531 \nL 1825 4091 \nL 703 3866 \nL 703 4441 \nL 1819 4666 \nL 2450 4666 \nL 2450 531 \nL 3481 531 \nL 3481 0 \nL 794 0 \nL 794 531 \nz\n\" transform=\"scale(0.015625)\"/>\n        <path id=\"DejaVuSans-30\" d=\"M 2034 4250 \nQ 1547 4250 1301 3770 \nQ 1056 3291 1056 2328 \nQ 1056 1369 1301 889 \nQ 1547 409 2034 409 \nQ 2525 409 2770 889 \nQ 3016 1369 3016 2328 \nQ 3016 3291 2770 3770 \nQ 2525 4250 2034 4250 \nz\nM 2034 4750 \nQ 2819 4750 3233 4129 \nQ 3647 3509 3647 2328 \nQ 3647 1150 3233 529 \nQ 2819 -91 2034 -91 \nQ 1250 -91 836 529 \nQ 422 1150 422 2328 \nQ 422 3509 836 4129 \nQ 1250 4750 2034 4750 \nz\n\" transform=\"scale(0.015625)\"/>\n       </defs>\n       <use xlink:href=\"#DejaVuSans-31\"/>\n       <use xlink:href=\"#DejaVuSans-30\" x=\"63.623047\"/>\n       <use xlink:href=\"#DejaVuSans-30\" x=\"127.246094\"/>\n       <use xlink:href=\"#DejaVuSans-30\" x=\"190.869141\"/>\n       <use xlink:href=\"#DejaVuSans-30\" x=\"254.492188\"/>\n      </g>\n     </g>\n    </g>\n    <g id=\"xtick_2\">\n     <g id=\"line2d_2\">\n      <g>\n       <use xlink:href=\"#m5258ee2059\" x=\"137.242864\" y=\"77.758125\" style=\"stroke: #000000; stroke-width: 0.8\"/>\n      </g>\n     </g>\n     <g id=\"text_2\">\n      <!-- 20000 -->\n      <g transform=\"translate(118.155364 93.87625) scale(0.12 -0.12)\">\n       <defs>\n        <path id=\"DejaVuSans-32\" d=\"M 1228 531 \nL 3431 531 \nL 3431 0 \nL 469 0 \nL 469 531 \nQ 828 903 1448 1529 \nQ 2069 2156 2228 2338 \nQ 2531 2678 2651 2914 \nQ 2772 3150 2772 3378 \nQ 2772 3750 2511 3984 \nQ 2250 4219 1831 4219 \nQ 1534 4219 1204 4116 \nQ 875 4013 500 3803 \nL 500 4441 \nQ 881 4594 1212 4672 \nQ 1544 4750 1819 4750 \nQ 2544 4750 2975 4387 \nQ 3406 4025 3406 3419 \nQ 3406 3131 3298 2873 \nQ 3191 2616 2906 2266 \nQ 2828 2175 2409 1742 \nQ 1991 1309 1228 531 \nz\n\" transform=\"scale(0.015625)\"/>\n       </defs>\n       <use xlink:href=\"#DejaVuSans-32\"/>\n       <use xlink:href=\"#DejaVuSans-30\" x=\"63.623047\"/>\n       <use xlink:href=\"#DejaVuSans-30\" x=\"127.246094\"/>\n       <use xlink:href=\"#DejaVuSans-30\" x=\"190.869141\"/>\n       <use xlink:href=\"#DejaVuSans-30\" x=\"254.492188\"/>\n      </g>\n     </g>\n    </g>\n    <g id=\"xtick_3\">\n     <g id=\"line2d_3\">\n      <g>\n       <use xlink:href=\"#m5258ee2059\" x=\"206.072271\" y=\"77.758125\" style=\"stroke: #000000; stroke-width: 0.8\"/>\n      </g>\n     </g>\n     <g id=\"text_3\">\n      <!-- 30000 -->\n      <g transform=\"translate(186.984771 93.87625) scale(0.12 -0.12)\">\n       <defs>\n        <path id=\"DejaVuSans-33\" d=\"M 2597 2516 \nQ 3050 2419 3304 2112 \nQ 3559 1806 3559 1356 \nQ 3559 666 3084 287 \nQ 2609 -91 1734 -91 \nQ 1441 -91 1130 -33 \nQ 819 25 488 141 \nL 488 750 \nQ 750 597 1062 519 \nQ 1375 441 1716 441 \nQ 2309 441 2620 675 \nQ 2931 909 2931 1356 \nQ 2931 1769 2642 2001 \nQ 2353 2234 1838 2234 \nL 1294 2234 \nL 1294 2753 \nL 1863 2753 \nQ 2328 2753 2575 2939 \nQ 2822 3125 2822 3475 \nQ 2822 3834 2567 4026 \nQ 2313 4219 1838 4219 \nQ 1578 4219 1281 4162 \nQ 984 4106 628 3988 \nL 628 4550 \nQ 988 4650 1302 4700 \nQ 1616 4750 1894 4750 \nQ 2613 4750 3031 4423 \nQ 3450 4097 3450 3541 \nQ 3450 3153 3228 2886 \nQ 3006 2619 2597 2516 \nz\n\" transform=\"scale(0.015625)\"/>\n       </defs>\n       <use xlink:href=\"#DejaVuSans-33\"/>\n       <use xlink:href=\"#DejaVuSans-30\" x=\"63.623047\"/>\n       <use xlink:href=\"#DejaVuSans-30\" x=\"127.246094\"/>\n       <use xlink:href=\"#DejaVuSans-30\" x=\"190.869141\"/>\n       <use xlink:href=\"#DejaVuSans-30\" x=\"254.492188\"/>\n      </g>\n     </g>\n    </g>\n    <g id=\"xtick_4\">\n     <g id=\"line2d_4\">\n      <g>\n       <use xlink:href=\"#m5258ee2059\" x=\"274.901678\" y=\"77.758125\" style=\"stroke: #000000; stroke-width: 0.8\"/>\n      </g>\n     </g>\n     <g id=\"text_4\">\n      <!-- 40000 -->\n      <g transform=\"translate(255.814178 93.87625) scale(0.12 -0.12)\">\n       <defs>\n        <path id=\"DejaVuSans-34\" d=\"M 2419 4116 \nL 825 1625 \nL 2419 1625 \nL 2419 4116 \nz\nM 2253 4666 \nL 3047 4666 \nL 3047 1625 \nL 3713 1625 \nL 3713 1100 \nL 3047 1100 \nL 3047 0 \nL 2419 0 \nL 2419 1100 \nL 313 1100 \nL 313 1709 \nL 2253 4666 \nz\n\" transform=\"scale(0.015625)\"/>\n       </defs>\n       <use xlink:href=\"#DejaVuSans-34\"/>\n       <use xlink:href=\"#DejaVuSans-30\" x=\"63.623047\"/>\n       <use xlink:href=\"#DejaVuSans-30\" x=\"127.246094\"/>\n       <use xlink:href=\"#DejaVuSans-30\" x=\"190.869141\"/>\n       <use xlink:href=\"#DejaVuSans-30\" x=\"254.492188\"/>\n      </g>\n     </g>\n    </g>\n    <g id=\"xtick_5\">\n     <g id=\"line2d_5\">\n      <g>\n       <use xlink:href=\"#m5258ee2059\" x=\"343.731084\" y=\"77.758125\" style=\"stroke: #000000; stroke-width: 0.8\"/>\n      </g>\n     </g>\n     <g id=\"text_5\">\n      <!-- 50000 -->\n      <g transform=\"translate(324.643584 93.87625) scale(0.12 -0.12)\">\n       <defs>\n        <path id=\"DejaVuSans-35\" d=\"M 691 4666 \nL 3169 4666 \nL 3169 4134 \nL 1269 4134 \nL 1269 2991 \nQ 1406 3038 1543 3061 \nQ 1681 3084 1819 3084 \nQ 2600 3084 3056 2656 \nQ 3513 2228 3513 1497 \nQ 3513 744 3044 326 \nQ 2575 -91 1722 -91 \nQ 1428 -91 1123 -41 \nQ 819 9 494 109 \nL 494 744 \nQ 775 591 1075 516 \nQ 1375 441 1709 441 \nQ 2250 441 2565 725 \nQ 2881 1009 2881 1497 \nQ 2881 1984 2565 2268 \nQ 2250 2553 1709 2553 \nQ 1456 2553 1204 2497 \nQ 953 2441 691 2322 \nL 691 4666 \nz\n\" transform=\"scale(0.015625)\"/>\n       </defs>\n       <use xlink:href=\"#DejaVuSans-35\"/>\n       <use xlink:href=\"#DejaVuSans-30\" x=\"63.623047\"/>\n       <use xlink:href=\"#DejaVuSans-30\" x=\"127.246094\"/>\n       <use xlink:href=\"#DejaVuSans-30\" x=\"190.869141\"/>\n       <use xlink:href=\"#DejaVuSans-30\" x=\"254.492188\"/>\n      </g>\n     </g>\n    </g>\n    <g id=\"xtick_6\">\n     <g id=\"line2d_6\">\n      <g>\n       <use xlink:href=\"#m5258ee2059\" x=\"412.560491\" y=\"77.758125\" style=\"stroke: #000000; stroke-width: 0.8\"/>\n      </g>\n     </g>\n     <g id=\"text_6\">\n      <!-- 60000 -->\n      <g transform=\"translate(393.472991 93.87625) scale(0.12 -0.12)\">\n       <defs>\n        <path id=\"DejaVuSans-36\" d=\"M 2113 2584 \nQ 1688 2584 1439 2293 \nQ 1191 2003 1191 1497 \nQ 1191 994 1439 701 \nQ 1688 409 2113 409 \nQ 2538 409 2786 701 \nQ 3034 994 3034 1497 \nQ 3034 2003 2786 2293 \nQ 2538 2584 2113 2584 \nz\nM 3366 4563 \nL 3366 3988 \nQ 3128 4100 2886 4159 \nQ 2644 4219 2406 4219 \nQ 1781 4219 1451 3797 \nQ 1122 3375 1075 2522 \nQ 1259 2794 1537 2939 \nQ 1816 3084 2150 3084 \nQ 2853 3084 3261 2657 \nQ 3669 2231 3669 1497 \nQ 3669 778 3244 343 \nQ 2819 -91 2113 -91 \nQ 1303 -91 875 529 \nQ 447 1150 447 2328 \nQ 447 3434 972 4092 \nQ 1497 4750 2381 4750 \nQ 2619 4750 2861 4703 \nQ 3103 4656 3366 4563 \nz\n\" transform=\"scale(0.015625)\"/>\n       </defs>\n       <use xlink:href=\"#DejaVuSans-36\"/>\n       <use xlink:href=\"#DejaVuSans-30\" x=\"63.623047\"/>\n       <use xlink:href=\"#DejaVuSans-30\" x=\"127.246094\"/>\n       <use xlink:href=\"#DejaVuSans-30\" x=\"190.869141\"/>\n       <use xlink:href=\"#DejaVuSans-30\" x=\"254.492188\"/>\n      </g>\n     </g>\n    </g>\n    <g id=\"xtick_7\">\n     <g id=\"line2d_7\">\n      <g>\n       <use xlink:href=\"#m5258ee2059\" x=\"481.389898\" y=\"77.758125\" style=\"stroke: #000000; stroke-width: 0.8\"/>\n      </g>\n     </g>\n     <g id=\"text_7\">\n      <!-- 70000 -->\n      <g transform=\"translate(462.302398 93.87625) scale(0.12 -0.12)\">\n       <defs>\n        <path id=\"DejaVuSans-37\" d=\"M 525 4666 \nL 3525 4666 \nL 3525 4397 \nL 1831 0 \nL 1172 0 \nL 2766 4134 \nL 525 4134 \nL 525 4666 \nz\n\" transform=\"scale(0.015625)\"/>\n       </defs>\n       <use xlink:href=\"#DejaVuSans-37\"/>\n       <use xlink:href=\"#DejaVuSans-30\" x=\"63.623047\"/>\n       <use xlink:href=\"#DejaVuSans-30\" x=\"127.246094\"/>\n       <use xlink:href=\"#DejaVuSans-30\" x=\"190.869141\"/>\n       <use xlink:href=\"#DejaVuSans-30\" x=\"254.492188\"/>\n      </g>\n     </g>\n    </g>\n    <g id=\"xtick_8\">\n     <g id=\"line2d_8\">\n      <g>\n       <use xlink:href=\"#m5258ee2059\" x=\"550.219304\" y=\"77.758125\" style=\"stroke: #000000; stroke-width: 0.8\"/>\n      </g>\n     </g>\n     <g id=\"text_8\">\n      <!-- 80000 -->\n      <g transform=\"translate(531.131804 93.87625) scale(0.12 -0.12)\">\n       <defs>\n        <path id=\"DejaVuSans-38\" d=\"M 2034 2216 \nQ 1584 2216 1326 1975 \nQ 1069 1734 1069 1313 \nQ 1069 891 1326 650 \nQ 1584 409 2034 409 \nQ 2484 409 2743 651 \nQ 3003 894 3003 1313 \nQ 3003 1734 2745 1975 \nQ 2488 2216 2034 2216 \nz\nM 1403 2484 \nQ 997 2584 770 2862 \nQ 544 3141 544 3541 \nQ 544 4100 942 4425 \nQ 1341 4750 2034 4750 \nQ 2731 4750 3128 4425 \nQ 3525 4100 3525 3541 \nQ 3525 3141 3298 2862 \nQ 3072 2584 2669 2484 \nQ 3125 2378 3379 2068 \nQ 3634 1759 3634 1313 \nQ 3634 634 3220 271 \nQ 2806 -91 2034 -91 \nQ 1263 -91 848 271 \nQ 434 634 434 1313 \nQ 434 1759 690 2068 \nQ 947 2378 1403 2484 \nz\nM 1172 3481 \nQ 1172 3119 1398 2916 \nQ 1625 2713 2034 2713 \nQ 2441 2713 2670 2916 \nQ 2900 3119 2900 3481 \nQ 2900 3844 2670 4047 \nQ 2441 4250 2034 4250 \nQ 1625 4250 1398 4047 \nQ 1172 3844 1172 3481 \nz\n\" transform=\"scale(0.015625)\"/>\n       </defs>\n       <use xlink:href=\"#DejaVuSans-38\"/>\n       <use xlink:href=\"#DejaVuSans-30\" x=\"63.623047\"/>\n       <use xlink:href=\"#DejaVuSans-30\" x=\"127.246094\"/>\n       <use xlink:href=\"#DejaVuSans-30\" x=\"190.869141\"/>\n       <use xlink:href=\"#DejaVuSans-30\" x=\"254.492188\"/>\n      </g>\n     </g>\n    </g>\n    <g id=\"text_9\">\n     <!-- Зарплата -->\n     <g transform=\"translate(264.750781 107.970313) scale(0.1 -0.1)\">\n      <defs>\n       <path id=\"DejaVuSans-417\" d=\"M 1828 4750 \nQ 2597 4750 3084 4423 \nQ 3572 4097 3572 3541 \nQ 3572 3153 3350 2886 \nQ 3128 2619 2719 2516 \nQ 3172 2419 3426 2112 \nQ 3681 1806 3681 1356 \nQ 3681 638 3126 273 \nQ 2572 -91 1828 -91 \nQ 1447 -91 1003 12 \nQ 559 116 422 203 \nL 422 853 \nQ 900 575 1164 508 \nQ 1428 441 1816 441 \nQ 2403 441 2728 666 \nQ 3053 891 3053 1356 \nQ 3053 1769 2764 2001 \nQ 2475 2234 1866 2234 \nL 1228 2234 \nL 1228 2753 \nL 1891 2753 \nQ 2450 2753 2697 2939 \nQ 2944 3125 2944 3475 \nQ 2944 3834 2689 4026 \nQ 2434 4219 1816 4219 \nQ 1397 4219 1253 4181 \nQ 1109 4144 469 3903 \nL 469 4519 \nQ 822 4644 1190 4697 \nQ 1559 4750 1828 4750 \nz\n\" transform=\"scale(0.015625)\"/>\n       <path id=\"DejaVuSans-430\" d=\"M 2194 1759 \nQ 1497 1759 1228 1600 \nQ 959 1441 959 1056 \nQ 959 750 1161 570 \nQ 1363 391 1709 391 \nQ 2188 391 2477 730 \nQ 2766 1069 2766 1631 \nL 2766 1759 \nL 2194 1759 \nz\nM 3341 1997 \nL 3341 0 \nL 2766 0 \nL 2766 531 \nQ 2569 213 2275 61 \nQ 1981 -91 1556 -91 \nQ 1019 -91 701 211 \nQ 384 513 384 1019 \nQ 384 1609 779 1909 \nQ 1175 2209 1959 2209 \nL 2766 2209 \nL 2766 2266 \nQ 2766 2663 2505 2880 \nQ 2244 3097 1772 3097 \nQ 1472 3097 1187 3025 \nQ 903 2953 641 2809 \nL 641 3341 \nQ 956 3463 1253 3523 \nQ 1550 3584 1831 3584 \nQ 2591 3584 2966 3190 \nQ 3341 2797 3341 1997 \nz\n\" transform=\"scale(0.015625)\"/>\n       <path id=\"DejaVuSans-440\" d=\"M 1159 525 \nL 1159 -1331 \nL 581 -1331 \nL 581 3500 \nL 1159 3500 \nL 1159 2969 \nQ 1341 3281 1617 3432 \nQ 1894 3584 2278 3584 \nQ 2916 3584 3314 3078 \nQ 3713 2572 3713 1747 \nQ 3713 922 3314 415 \nQ 2916 -91 2278 -91 \nQ 1894 -91 1617 61 \nQ 1341 213 1159 525 \nz\nM 3116 1747 \nQ 3116 2381 2855 2742 \nQ 2594 3103 2138 3103 \nQ 1681 3103 1420 2742 \nQ 1159 2381 1159 1747 \nQ 1159 1113 1420 752 \nQ 1681 391 2138 391 \nQ 2594 391 2855 752 \nQ 3116 1113 3116 1747 \nz\n\" transform=\"scale(0.015625)\"/>\n       <path id=\"DejaVuSans-43f\" d=\"M 3603 3500 \nL 3603 0 \nL 3025 0 \nL 3025 3041 \nL 1159 3041 \nL 1159 0 \nL 581 0 \nL 581 3500 \nL 3603 3500 \nz\n\" transform=\"scale(0.015625)\"/>\n       <path id=\"DejaVuSans-43b\" d=\"M 238 0 \nL 238 478 \nQ 806 566 981 959 \nQ 1194 1513 1194 2928 \nL 1194 3500 \nL 3559 3500 \nL 3559 0 \nL 2984 0 \nL 2984 3041 \nL 1769 3041 \nL 1769 2694 \nQ 1769 1344 1494 738 \nQ 1200 91 238 0 \nz\n\" transform=\"scale(0.015625)\"/>\n       <path id=\"DejaVuSans-442\" d=\"M 188 3500 \nL 3541 3500 \nL 3541 3041 \nL 2147 3041 \nL 2147 0 \nL 1581 0 \nL 1581 3041 \nL 188 3041 \nL 188 3500 \nz\n\" transform=\"scale(0.015625)\"/>\n      </defs>\n      <use xlink:href=\"#DejaVuSans-417\"/>\n      <use xlink:href=\"#DejaVuSans-430\" x=\"64.111328\"/>\n      <use xlink:href=\"#DejaVuSans-440\" x=\"125.390625\"/>\n      <use xlink:href=\"#DejaVuSans-43f\" x=\"188.867188\"/>\n      <use xlink:href=\"#DejaVuSans-43b\" x=\"254.248047\"/>\n      <use xlink:href=\"#DejaVuSans-430\" x=\"318.164062\"/>\n      <use xlink:href=\"#DejaVuSans-442\" x=\"379.443359\"/>\n      <use xlink:href=\"#DejaVuSans-430\" x=\"437.695312\"/>\n     </g>\n    </g>\n   </g>\n   <g id=\"matplotlib.axis_2\">\n    <g id=\"ytick_1\">\n     <g id=\"line2d_9\">\n      <defs>\n       <path id=\"m2ac0170eb3\" d=\"M 0 0 \nL -3.5 0 \n\" style=\"stroke: #000000; stroke-width: 0.8\"/>\n      </defs>\n      <g>\n       <use xlink:href=\"#m2ac0170eb3\" x=\"10.7\" y=\"50.038125\" style=\"stroke: #000000; stroke-width: 0.8\"/>\n      </g>\n     </g>\n    </g>\n   </g>\n   <g id=\"line2d_10\">\n    <path d=\"M 228.097681 50.038125 \nL 90.438868 50.038125 \n\" clip-path=\"url(#pccb8664cb1)\" style=\"fill: none; stroke: #3f3f3f; stroke-width: 2.5; stroke-linecap: square\"/>\n   </g>\n   <g id=\"line2d_11\">\n    <path d=\"M 320.329086 50.038125 \nL 455.923017 50.038125 \n\" clip-path=\"url(#pccb8664cb1)\" style=\"fill: none; stroke: #3f3f3f; stroke-width: 2.5; stroke-linecap: square\"/>\n   </g>\n   <g id=\"line2d_12\">\n    <path d=\"M 90.438868 43.108125 \nL 90.438868 56.968125 \n\" clip-path=\"url(#pccb8664cb1)\" style=\"fill: none; stroke: #3f3f3f; stroke-width: 2.5; stroke-linecap: square\"/>\n   </g>\n   <g id=\"line2d_13\">\n    <path d=\"M 455.923017 43.108125 \nL 455.923017 56.968125 \n\" clip-path=\"url(#pccb8664cb1)\" style=\"fill: none; stroke: #3f3f3f; stroke-width: 2.5; stroke-linecap: square\"/>\n   </g>\n   <g id=\"line2d_14\">\n    <defs>\n     <path id=\"m6b2aa9a897\" d=\"M -0 3.535534 \nL 2.12132 0 \nL -0 -3.535534 \nL -2.12132 -0 \nz\n\" style=\"stroke: #3f3f3f; stroke-linejoin: miter\"/>\n    </defs>\n    <g clip-path=\"url(#pccb8664cb1)\">\n     <use xlink:href=\"#m6b2aa9a897\" x=\"60.842223\" y=\"50.038125\" style=\"fill: #3f3f3f; stroke: #3f3f3f; stroke-linejoin: miter\"/>\n     <use xlink:href=\"#m6b2aa9a897\" x=\"67.036869\" y=\"50.038125\" style=\"fill: #3f3f3f; stroke: #3f3f3f; stroke-linejoin: miter\"/>\n     <use xlink:href=\"#m6b2aa9a897\" x=\"36.063636\" y=\"50.038125\" style=\"fill: #3f3f3f; stroke: #3f3f3f; stroke-linejoin: miter\"/>\n     <use xlink:href=\"#m6b2aa9a897\" x=\"77.36128\" y=\"50.038125\" style=\"fill: #3f3f3f; stroke: #3f3f3f; stroke-linejoin: miter\"/>\n     <use xlink:href=\"#m6b2aa9a897\" x=\"88.373985\" y=\"50.038125\" style=\"fill: #3f3f3f; stroke: #3f3f3f; stroke-linejoin: miter\"/>\n     <use xlink:href=\"#m6b2aa9a897\" x=\"89.06228\" y=\"50.038125\" style=\"fill: #3f3f3f; stroke: #3f3f3f; stroke-linejoin: miter\"/>\n     <use xlink:href=\"#m6b2aa9a897\" x=\"68.413458\" y=\"50.038125\" style=\"fill: #3f3f3f; stroke: #3f3f3f; stroke-linejoin: miter\"/>\n     <use xlink:href=\"#m6b2aa9a897\" x=\"77.36128\" y=\"50.038125\" style=\"fill: #3f3f3f; stroke: #3f3f3f; stroke-linejoin: miter\"/>\n     <use xlink:href=\"#m6b2aa9a897\" x=\"75.296398\" y=\"50.038125\" style=\"fill: #3f3f3f; stroke: #3f3f3f; stroke-linejoin: miter\"/>\n     <use xlink:href=\"#m6b2aa9a897\" x=\"76.672986\" y=\"50.038125\" style=\"fill: #3f3f3f; stroke: #3f3f3f; stroke-linejoin: miter\"/>\n     <use xlink:href=\"#m6b2aa9a897\" x=\"76.672986\" y=\"50.038125\" style=\"fill: #3f3f3f; stroke: #3f3f3f; stroke-linejoin: miter\"/>\n     <use xlink:href=\"#m6b2aa9a897\" x=\"83.555927\" y=\"50.038125\" style=\"fill: #3f3f3f; stroke: #3f3f3f; stroke-linejoin: miter\"/>\n     <use xlink:href=\"#m6b2aa9a897\" x=\"40.881695\" y=\"50.038125\" style=\"fill: #3f3f3f; stroke: #3f3f3f; stroke-linejoin: miter\"/>\n     <use xlink:href=\"#m6b2aa9a897\" x=\"73.91981\" y=\"50.038125\" style=\"fill: #3f3f3f; stroke: #3f3f3f; stroke-linejoin: miter\"/>\n     <use xlink:href=\"#m6b2aa9a897\" x=\"72.543222\" y=\"50.038125\" style=\"fill: #3f3f3f; stroke: #3f3f3f; stroke-linejoin: miter\"/>\n     <use xlink:href=\"#m6b2aa9a897\" x=\"75.296398\" y=\"50.038125\" style=\"fill: #3f3f3f; stroke: #3f3f3f; stroke-linejoin: miter\"/>\n     <use xlink:href=\"#m6b2aa9a897\" x=\"50.517812\" y=\"50.038125\" style=\"fill: #3f3f3f; stroke: #3f3f3f; stroke-linejoin: miter\"/>\n     <use xlink:href=\"#m6b2aa9a897\" x=\"475.883545\" y=\"50.038125\" style=\"fill: #3f3f3f; stroke: #3f3f3f; stroke-linejoin: miter\"/>\n     <use xlink:href=\"#m6b2aa9a897\" x=\"465.559134\" y=\"50.038125\" style=\"fill: #3f3f3f; stroke: #3f3f3f; stroke-linejoin: miter\"/>\n     <use xlink:href=\"#m6b2aa9a897\" x=\"485.519662\" y=\"50.038125\" style=\"fill: #3f3f3f; stroke: #3f3f3f; stroke-linejoin: miter\"/>\n     <use xlink:href=\"#m6b2aa9a897\" x=\"467.624016\" y=\"50.038125\" style=\"fill: #3f3f3f; stroke: #3f3f3f; stroke-linejoin: miter\"/>\n     <use xlink:href=\"#m6b2aa9a897\" x=\"491.026015\" y=\"50.038125\" style=\"fill: #3f3f3f; stroke: #3f3f3f; stroke-linejoin: miter\"/>\n     <use xlink:href=\"#m6b2aa9a897\" x=\"470.377193\" y=\"50.038125\" style=\"fill: #3f3f3f; stroke: #3f3f3f; stroke-linejoin: miter\"/>\n     <use xlink:href=\"#m6b2aa9a897\" x=\"471.065487\" y=\"50.038125\" style=\"fill: #3f3f3f; stroke: #3f3f3f; stroke-linejoin: miter\"/>\n     <use xlink:href=\"#m6b2aa9a897\" x=\"462.117664\" y=\"50.038125\" style=\"fill: #3f3f3f; stroke: #3f3f3f; stroke-linejoin: miter\"/>\n     <use xlink:href=\"#m6b2aa9a897\" x=\"543.336364\" y=\"50.038125\" style=\"fill: #3f3f3f; stroke: #3f3f3f; stroke-linejoin: miter\"/>\n     <use xlink:href=\"#m6b2aa9a897\" x=\"492.402603\" y=\"50.038125\" style=\"fill: #3f3f3f; stroke: #3f3f3f; stroke-linejoin: miter\"/>\n     <use xlink:href=\"#m6b2aa9a897\" x=\"484.831368\" y=\"50.038125\" style=\"fill: #3f3f3f; stroke: #3f3f3f; stroke-linejoin: miter\"/>\n     <use xlink:href=\"#m6b2aa9a897\" x=\"461.42937\" y=\"50.038125\" style=\"fill: #3f3f3f; stroke: #3f3f3f; stroke-linejoin: miter\"/>\n     <use xlink:href=\"#m6b2aa9a897\" x=\"481.389898\" y=\"50.038125\" style=\"fill: #3f3f3f; stroke: #3f3f3f; stroke-linejoin: miter\"/>\n     <use xlink:href=\"#m6b2aa9a897\" x=\"473.818663\" y=\"50.038125\" style=\"fill: #3f3f3f; stroke: #3f3f3f; stroke-linejoin: miter\"/>\n     <use xlink:href=\"#m6b2aa9a897\" x=\"514.428013\" y=\"50.038125\" style=\"fill: #3f3f3f; stroke: #3f3f3f; stroke-linejoin: miter\"/>\n     <use xlink:href=\"#m6b2aa9a897\" x=\"477.260133\" y=\"50.038125\" style=\"fill: #3f3f3f; stroke: #3f3f3f; stroke-linejoin: miter\"/>\n     <use xlink:href=\"#m6b2aa9a897\" x=\"517.181189\" y=\"50.038125\" style=\"fill: #3f3f3f; stroke: #3f3f3f; stroke-linejoin: miter\"/>\n    </g>\n   </g>\n   <g id=\"line2d_15\">\n    <path d=\"M 276.278266 36.178125 \nL 276.278266 63.898125 \n\" clip-path=\"url(#pccb8664cb1)\" style=\"fill: none; stroke: #3f3f3f; stroke-width: 2.5; stroke-linecap: square\"/>\n   </g>\n   <g id=\"patch_4\">\n    <path d=\"M 10.7 77.758125 \nL 10.7 22.318125 \n\" style=\"fill: none; stroke: #000000; stroke-width: 0.8; stroke-linejoin: miter; stroke-linecap: square\"/>\n   </g>\n   <g id=\"patch_5\">\n    <path d=\"M 568.7 77.758125 \nL 568.7 22.318125 \n\" style=\"fill: none; stroke: #000000; stroke-width: 0.8; stroke-linejoin: miter; stroke-linecap: square\"/>\n   </g>\n   <g id=\"patch_6\">\n    <path d=\"M 10.7 77.758125 \nL 568.7 77.758125 \n\" style=\"fill: none; stroke: #000000; stroke-width: 0.8; stroke-linejoin: miter; stroke-linecap: square\"/>\n   </g>\n   <g id=\"patch_7\">\n    <path d=\"M 10.7 22.318125 \nL 568.7 22.318125 \n\" style=\"fill: none; stroke: #000000; stroke-width: 0.8; stroke-linejoin: miter; stroke-linecap: square\"/>\n   </g>\n   <g id=\"text_10\">\n    <!-- Зарплата -->\n    <g transform=\"translate(259.760938 16.318125) scale(0.12 -0.12)\">\n     <use xlink:href=\"#DejaVuSans-417\"/>\n     <use xlink:href=\"#DejaVuSans-430\" x=\"64.111328\"/>\n     <use xlink:href=\"#DejaVuSans-440\" x=\"125.390625\"/>\n     <use xlink:href=\"#DejaVuSans-43f\" x=\"188.867188\"/>\n     <use xlink:href=\"#DejaVuSans-43b\" x=\"254.248047\"/>\n     <use xlink:href=\"#DejaVuSans-430\" x=\"318.164062\"/>\n     <use xlink:href=\"#DejaVuSans-442\" x=\"379.443359\"/>\n     <use xlink:href=\"#DejaVuSans-430\" x=\"437.695312\"/>\n    </g>\n   </g>\n  </g>\n </g>\n <defs>\n  <clipPath id=\"pccb8664cb1\">\n   <rect x=\"10.7\" y=\"22.318125\" width=\"558\" height=\"55.44\"/>\n  </clipPath>\n </defs>\n</svg>\n"
          },
          "metadata": {}
        }
      ],
      "source": [
        "# выведем серию рисунков, отражающих распределение признаков\n",
        "# 'Возраст' и 'Зарплата'\n",
        "features_distribution_boxplot(data, name_for_figure_1, 'whitesmoke')"
      ]
    },
    {
      "cell_type": "markdown",
      "metadata": {
        "id": "UdRsZ_nMH4KY"
      },
      "source": [
        "Медианный возраст застрахованного – 30 лет. Медианная зарплата застрахованных лиц – 40 тыс. рублей. Количество выбросов у показателя ‘Зарплата’ больше, чем у показателя ‘Возраст’. Но если сопоставить данные, изображенные на рисунках, с общей статистической сводкой, полученной с помощью .describe(), можно сделать вывод, что удалять выбросы не требуется, т.к. выбросов с чрезмерными (экстремальными) значениями в признаках нет."
      ]
    },
    {
      "cell_type": "code",
      "execution_count": null,
      "metadata": {
        "id": "pNf7seZDJanF"
      },
      "outputs": [],
      "source": [
        "# создадим функцию для вывода серии гистограмм, отражающих\n",
        "# распределение признаков\n",
        "def features_distribution_hist(data, list, color):\n",
        "    for i in list:\n",
        "        plt.figure(figsize = (7,3))\n",
        "        h = data[i].plot(\n",
        "            kind = 'hist', bins = 30, label = i,\n",
        "            legend = False, grid = True, color = color\n",
        "        )\n",
        "        plt.title(i, fontsize = 12)\n",
        "    plt.show()"
      ]
    },
    {
      "cell_type": "code",
      "execution_count": null,
      "metadata": {
        "id": "PaebEFHIJaqc"
      },
      "outputs": [],
      "source": [
        "# создадим список с названиями признаков\n",
        "name_for_figure_2 = ['Пол', 'Члены семьи', 'Страховые выплаты']"
      ]
    },
    {
      "cell_type": "code",
      "execution_count": null,
      "metadata": {
        "colab": {
          "base_uri": "https://localhost:8080/",
          "height": 881
        },
        "id": "-8yDx_VkJatg",
        "outputId": "659bc513-2d55-4fef-9bde-672d96d614c0"
      },
      "outputs": [
        {
          "output_type": "display_data",
          "data": {
            "text/plain": [
              "<Figure size 7000x3000 with 1 Axes>"
            ],
            "image/svg+xml": "<?xml version=\"1.0\" encoding=\"utf-8\" standalone=\"no\"?>\n<!DOCTYPE svg PUBLIC \"-//W3C//DTD SVG 1.1//EN\"\n  \"http://www.w3.org/Graphics/SVG/1.1/DTD/svg11.dtd\">\n<svg xmlns:xlink=\"http://www.w3.org/1999/xlink\" width=\"451.128125pt\" height=\"212.51625pt\" viewBox=\"0 0 451.128125 212.51625\" xmlns=\"http://www.w3.org/2000/svg\" version=\"1.1\">\n <metadata>\n  <rdf:RDF xmlns:dc=\"http://purl.org/dc/elements/1.1/\" xmlns:cc=\"http://creativecommons.org/ns#\" xmlns:rdf=\"http://www.w3.org/1999/02/22-rdf-syntax-ns#\">\n   <cc:Work>\n    <dc:type rdf:resource=\"http://purl.org/dc/dcmitype/StillImage\"/>\n    <dc:date>2023-09-21T08:12:31.334671</dc:date>\n    <dc:format>image/svg+xml</dc:format>\n    <dc:creator>\n     <cc:Agent>\n      <dc:title>Matplotlib v3.7.1, https://matplotlib.org/</dc:title>\n     </cc:Agent>\n    </dc:creator>\n   </cc:Work>\n  </rdf:RDF>\n </metadata>\n <defs>\n  <style type=\"text/css\">*{stroke-linejoin: round; stroke-linecap: butt}</style>\n </defs>\n <g id=\"figure_1\">\n  <g id=\"patch_1\">\n   <path d=\"M 0 212.51625 \nL 451.128125 212.51625 \nL 451.128125 0 \nL 0 0 \nz\n\" style=\"fill: #ffffff\"/>\n  </g>\n  <g id=\"axes_1\">\n   <g id=\"patch_2\">\n    <path d=\"M 53.328125 188.638125 \nL 443.928125 188.638125 \nL 443.928125 22.318125 \nL 53.328125 22.318125 \nz\n\" style=\"fill: #ffffff\"/>\n   </g>\n   <g id=\"patch_3\">\n    <path d=\"M 71.08267 188.638125 \nL 82.919034 188.638125 \nL 82.919034 30.238125 \nL 71.08267 30.238125 \nz\n\" clip-path=\"url(#p8cf775dd8e)\" style=\"fill: #ff4500\"/>\n   </g>\n   <g id=\"patch_4\">\n    <path d=\"M 82.919034 188.638125 \nL 94.755398 188.638125 \nL 94.755398 188.638125 \nL 82.919034 188.638125 \nz\n\" clip-path=\"url(#p8cf775dd8e)\" style=\"fill: #ff4500\"/>\n   </g>\n   <g id=\"patch_5\">\n    <path d=\"M 94.755398 188.638125 \nL 106.591761 188.638125 \nL 106.591761 188.638125 \nL 94.755398 188.638125 \nz\n\" clip-path=\"url(#p8cf775dd8e)\" style=\"fill: #ff4500\"/>\n   </g>\n   <g id=\"patch_6\">\n    <path d=\"M 106.591761 188.638125 \nL 118.428125 188.638125 \nL 118.428125 188.638125 \nL 106.591761 188.638125 \nz\n\" clip-path=\"url(#p8cf775dd8e)\" style=\"fill: #ff4500\"/>\n   </g>\n   <g id=\"patch_7\">\n    <path d=\"M 118.428125 188.638125 \nL 130.264489 188.638125 \nL 130.264489 188.638125 \nL 118.428125 188.638125 \nz\n\" clip-path=\"url(#p8cf775dd8e)\" style=\"fill: #ff4500\"/>\n   </g>\n   <g id=\"patch_8\">\n    <path d=\"M 130.264489 188.638125 \nL 142.100852 188.638125 \nL 142.100852 188.638125 \nL 130.264489 188.638125 \nz\n\" clip-path=\"url(#p8cf775dd8e)\" style=\"fill: #ff4500\"/>\n   </g>\n   <g id=\"patch_9\">\n    <path d=\"M 142.100852 188.638125 \nL 153.937216 188.638125 \nL 153.937216 188.638125 \nL 142.100852 188.638125 \nz\n\" clip-path=\"url(#p8cf775dd8e)\" style=\"fill: #ff4500\"/>\n   </g>\n   <g id=\"patch_10\">\n    <path d=\"M 153.937216 188.638125 \nL 165.77358 188.638125 \nL 165.77358 188.638125 \nL 153.937216 188.638125 \nz\n\" clip-path=\"url(#p8cf775dd8e)\" style=\"fill: #ff4500\"/>\n   </g>\n   <g id=\"patch_11\">\n    <path d=\"M 165.77358 188.638125 \nL 177.609943 188.638125 \nL 177.609943 188.638125 \nL 165.77358 188.638125 \nz\n\" clip-path=\"url(#p8cf775dd8e)\" style=\"fill: #ff4500\"/>\n   </g>\n   <g id=\"patch_12\">\n    <path d=\"M 177.609943 188.638125 \nL 189.446307 188.638125 \nL 189.446307 188.638125 \nL 177.609943 188.638125 \nz\n\" clip-path=\"url(#p8cf775dd8e)\" style=\"fill: #ff4500\"/>\n   </g>\n   <g id=\"patch_13\">\n    <path d=\"M 189.446307 188.638125 \nL 201.28267 188.638125 \nL 201.28267 188.638125 \nL 189.446307 188.638125 \nz\n\" clip-path=\"url(#p8cf775dd8e)\" style=\"fill: #ff4500\"/>\n   </g>\n   <g id=\"patch_14\">\n    <path d=\"M 201.28267 188.638125 \nL 213.119034 188.638125 \nL 213.119034 188.638125 \nL 201.28267 188.638125 \nz\n\" clip-path=\"url(#p8cf775dd8e)\" style=\"fill: #ff4500\"/>\n   </g>\n   <g id=\"patch_15\">\n    <path d=\"M 213.119034 188.638125 \nL 224.955398 188.638125 \nL 224.955398 188.638125 \nL 213.119034 188.638125 \nz\n\" clip-path=\"url(#p8cf775dd8e)\" style=\"fill: #ff4500\"/>\n   </g>\n   <g id=\"patch_16\">\n    <path d=\"M 224.955398 188.638125 \nL 236.791761 188.638125 \nL 236.791761 188.638125 \nL 224.955398 188.638125 \nz\n\" clip-path=\"url(#p8cf775dd8e)\" style=\"fill: #ff4500\"/>\n   </g>\n   <g id=\"patch_17\">\n    <path d=\"M 236.791761 188.638125 \nL 248.628125 188.638125 \nL 248.628125 188.638125 \nL 236.791761 188.638125 \nz\n\" clip-path=\"url(#p8cf775dd8e)\" style=\"fill: #ff4500\"/>\n   </g>\n   <g id=\"patch_18\">\n    <path d=\"M 248.628125 188.638125 \nL 260.464489 188.638125 \nL 260.464489 188.638125 \nL 248.628125 188.638125 \nz\n\" clip-path=\"url(#p8cf775dd8e)\" style=\"fill: #ff4500\"/>\n   </g>\n   <g id=\"patch_19\">\n    <path d=\"M 260.464489 188.638125 \nL 272.300852 188.638125 \nL 272.300852 188.638125 \nL 260.464489 188.638125 \nz\n\" clip-path=\"url(#p8cf775dd8e)\" style=\"fill: #ff4500\"/>\n   </g>\n   <g id=\"patch_20\">\n    <path d=\"M 272.300852 188.638125 \nL 284.137216 188.638125 \nL 284.137216 188.638125 \nL 272.300852 188.638125 \nz\n\" clip-path=\"url(#p8cf775dd8e)\" style=\"fill: #ff4500\"/>\n   </g>\n   <g id=\"patch_21\">\n    <path d=\"M 284.137216 188.638125 \nL 295.97358 188.638125 \nL 295.97358 188.638125 \nL 284.137216 188.638125 \nz\n\" clip-path=\"url(#p8cf775dd8e)\" style=\"fill: #ff4500\"/>\n   </g>\n   <g id=\"patch_22\">\n    <path d=\"M 295.97358 188.638125 \nL 307.809943 188.638125 \nL 307.809943 188.638125 \nL 295.97358 188.638125 \nz\n\" clip-path=\"url(#p8cf775dd8e)\" style=\"fill: #ff4500\"/>\n   </g>\n   <g id=\"patch_23\">\n    <path d=\"M 307.809943 188.638125 \nL 319.646307 188.638125 \nL 319.646307 188.638125 \nL 307.809943 188.638125 \nz\n\" clip-path=\"url(#p8cf775dd8e)\" style=\"fill: #ff4500\"/>\n   </g>\n   <g id=\"patch_24\">\n    <path d=\"M 319.646307 188.638125 \nL 331.48267 188.638125 \nL 331.48267 188.638125 \nL 319.646307 188.638125 \nz\n\" clip-path=\"url(#p8cf775dd8e)\" style=\"fill: #ff4500\"/>\n   </g>\n   <g id=\"patch_25\">\n    <path d=\"M 331.48267 188.638125 \nL 343.319034 188.638125 \nL 343.319034 188.638125 \nL 331.48267 188.638125 \nz\n\" clip-path=\"url(#p8cf775dd8e)\" style=\"fill: #ff4500\"/>\n   </g>\n   <g id=\"patch_26\">\n    <path d=\"M 343.319034 188.638125 \nL 355.155398 188.638125 \nL 355.155398 188.638125 \nL 343.319034 188.638125 \nz\n\" clip-path=\"url(#p8cf775dd8e)\" style=\"fill: #ff4500\"/>\n   </g>\n   <g id=\"patch_27\">\n    <path d=\"M 355.155398 188.638125 \nL 366.991761 188.638125 \nL 366.991761 188.638125 \nL 355.155398 188.638125 \nz\n\" clip-path=\"url(#p8cf775dd8e)\" style=\"fill: #ff4500\"/>\n   </g>\n   <g id=\"patch_28\">\n    <path d=\"M 366.991761 188.638125 \nL 378.828125 188.638125 \nL 378.828125 188.638125 \nL 366.991761 188.638125 \nz\n\" clip-path=\"url(#p8cf775dd8e)\" style=\"fill: #ff4500\"/>\n   </g>\n   <g id=\"patch_29\">\n    <path d=\"M 378.828125 188.638125 \nL 390.664489 188.638125 \nL 390.664489 188.638125 \nL 378.828125 188.638125 \nz\n\" clip-path=\"url(#p8cf775dd8e)\" style=\"fill: #ff4500\"/>\n   </g>\n   <g id=\"patch_30\">\n    <path d=\"M 390.664489 188.638125 \nL 402.500852 188.638125 \nL 402.500852 188.638125 \nL 390.664489 188.638125 \nz\n\" clip-path=\"url(#p8cf775dd8e)\" style=\"fill: #ff4500\"/>\n   </g>\n   <g id=\"patch_31\">\n    <path d=\"M 402.500852 188.638125 \nL 414.337216 188.638125 \nL 414.337216 188.638125 \nL 402.500852 188.638125 \nz\n\" clip-path=\"url(#p8cf775dd8e)\" style=\"fill: #ff4500\"/>\n   </g>\n   <g id=\"patch_32\">\n    <path d=\"M 414.337216 188.638125 \nL 426.17358 188.638125 \nL 426.17358 31.215501 \nL 414.337216 31.215501 \nz\n\" clip-path=\"url(#p8cf775dd8e)\" style=\"fill: #ff4500\"/>\n   </g>\n   <g id=\"matplotlib.axis_1\">\n    <g id=\"xtick_1\">\n     <g id=\"line2d_1\">\n      <path d=\"M 71.08267 188.638125 \nL 71.08267 22.318125 \n\" clip-path=\"url(#p8cf775dd8e)\" style=\"fill: none; stroke: #b0b0b0; stroke-width: 0.8; stroke-linecap: square\"/>\n     </g>\n     <g id=\"line2d_2\">\n      <defs>\n       <path id=\"madc062f8f8\" d=\"M 0 0 \nL 0 3.5 \n\" style=\"stroke: #000000; stroke-width: 0.8\"/>\n      </defs>\n      <g>\n       <use xlink:href=\"#madc062f8f8\" x=\"71.08267\" y=\"188.638125\" style=\"stroke: #000000; stroke-width: 0.8\"/>\n      </g>\n     </g>\n     <g id=\"text_1\">\n      <!-- 0.0 -->\n      <g transform=\"translate(63.131108 203.236563) scale(0.1 -0.1)\">\n       <defs>\n        <path id=\"DejaVuSans-30\" d=\"M 2034 4250 \nQ 1547 4250 1301 3770 \nQ 1056 3291 1056 2328 \nQ 1056 1369 1301 889 \nQ 1547 409 2034 409 \nQ 2525 409 2770 889 \nQ 3016 1369 3016 2328 \nQ 3016 3291 2770 3770 \nQ 2525 4250 2034 4250 \nz\nM 2034 4750 \nQ 2819 4750 3233 4129 \nQ 3647 3509 3647 2328 \nQ 3647 1150 3233 529 \nQ 2819 -91 2034 -91 \nQ 1250 -91 836 529 \nQ 422 1150 422 2328 \nQ 422 3509 836 4129 \nQ 1250 4750 2034 4750 \nz\n\" transform=\"scale(0.015625)\"/>\n        <path id=\"DejaVuSans-2e\" d=\"M 684 794 \nL 1344 794 \nL 1344 0 \nL 684 0 \nL 684 794 \nz\n\" transform=\"scale(0.015625)\"/>\n       </defs>\n       <use xlink:href=\"#DejaVuSans-30\"/>\n       <use xlink:href=\"#DejaVuSans-2e\" x=\"63.623047\"/>\n       <use xlink:href=\"#DejaVuSans-30\" x=\"95.410156\"/>\n      </g>\n     </g>\n    </g>\n    <g id=\"xtick_2\">\n     <g id=\"line2d_3\">\n      <path d=\"M 142.100852 188.638125 \nL 142.100852 22.318125 \n\" clip-path=\"url(#p8cf775dd8e)\" style=\"fill: none; stroke: #b0b0b0; stroke-width: 0.8; stroke-linecap: square\"/>\n     </g>\n     <g id=\"line2d_4\">\n      <g>\n       <use xlink:href=\"#madc062f8f8\" x=\"142.100852\" y=\"188.638125\" style=\"stroke: #000000; stroke-width: 0.8\"/>\n      </g>\n     </g>\n     <g id=\"text_2\">\n      <!-- 0.2 -->\n      <g transform=\"translate(134.14929 203.236563) scale(0.1 -0.1)\">\n       <defs>\n        <path id=\"DejaVuSans-32\" d=\"M 1228 531 \nL 3431 531 \nL 3431 0 \nL 469 0 \nL 469 531 \nQ 828 903 1448 1529 \nQ 2069 2156 2228 2338 \nQ 2531 2678 2651 2914 \nQ 2772 3150 2772 3378 \nQ 2772 3750 2511 3984 \nQ 2250 4219 1831 4219 \nQ 1534 4219 1204 4116 \nQ 875 4013 500 3803 \nL 500 4441 \nQ 881 4594 1212 4672 \nQ 1544 4750 1819 4750 \nQ 2544 4750 2975 4387 \nQ 3406 4025 3406 3419 \nQ 3406 3131 3298 2873 \nQ 3191 2616 2906 2266 \nQ 2828 2175 2409 1742 \nQ 1991 1309 1228 531 \nz\n\" transform=\"scale(0.015625)\"/>\n       </defs>\n       <use xlink:href=\"#DejaVuSans-30\"/>\n       <use xlink:href=\"#DejaVuSans-2e\" x=\"63.623047\"/>\n       <use xlink:href=\"#DejaVuSans-32\" x=\"95.410156\"/>\n      </g>\n     </g>\n    </g>\n    <g id=\"xtick_3\">\n     <g id=\"line2d_5\">\n      <path d=\"M 213.119034 188.638125 \nL 213.119034 22.318125 \n\" clip-path=\"url(#p8cf775dd8e)\" style=\"fill: none; stroke: #b0b0b0; stroke-width: 0.8; stroke-linecap: square\"/>\n     </g>\n     <g id=\"line2d_6\">\n      <g>\n       <use xlink:href=\"#madc062f8f8\" x=\"213.119034\" y=\"188.638125\" style=\"stroke: #000000; stroke-width: 0.8\"/>\n      </g>\n     </g>\n     <g id=\"text_3\">\n      <!-- 0.4 -->\n      <g transform=\"translate(205.167472 203.236563) scale(0.1 -0.1)\">\n       <defs>\n        <path id=\"DejaVuSans-34\" d=\"M 2419 4116 \nL 825 1625 \nL 2419 1625 \nL 2419 4116 \nz\nM 2253 4666 \nL 3047 4666 \nL 3047 1625 \nL 3713 1625 \nL 3713 1100 \nL 3047 1100 \nL 3047 0 \nL 2419 0 \nL 2419 1100 \nL 313 1100 \nL 313 1709 \nL 2253 4666 \nz\n\" transform=\"scale(0.015625)\"/>\n       </defs>\n       <use xlink:href=\"#DejaVuSans-30\"/>\n       <use xlink:href=\"#DejaVuSans-2e\" x=\"63.623047\"/>\n       <use xlink:href=\"#DejaVuSans-34\" x=\"95.410156\"/>\n      </g>\n     </g>\n    </g>\n    <g id=\"xtick_4\">\n     <g id=\"line2d_7\">\n      <path d=\"M 284.137216 188.638125 \nL 284.137216 22.318125 \n\" clip-path=\"url(#p8cf775dd8e)\" style=\"fill: none; stroke: #b0b0b0; stroke-width: 0.8; stroke-linecap: square\"/>\n     </g>\n     <g id=\"line2d_8\">\n      <g>\n       <use xlink:href=\"#madc062f8f8\" x=\"284.137216\" y=\"188.638125\" style=\"stroke: #000000; stroke-width: 0.8\"/>\n      </g>\n     </g>\n     <g id=\"text_4\">\n      <!-- 0.6 -->\n      <g transform=\"translate(276.185653 203.236563) scale(0.1 -0.1)\">\n       <defs>\n        <path id=\"DejaVuSans-36\" d=\"M 2113 2584 \nQ 1688 2584 1439 2293 \nQ 1191 2003 1191 1497 \nQ 1191 994 1439 701 \nQ 1688 409 2113 409 \nQ 2538 409 2786 701 \nQ 3034 994 3034 1497 \nQ 3034 2003 2786 2293 \nQ 2538 2584 2113 2584 \nz\nM 3366 4563 \nL 3366 3988 \nQ 3128 4100 2886 4159 \nQ 2644 4219 2406 4219 \nQ 1781 4219 1451 3797 \nQ 1122 3375 1075 2522 \nQ 1259 2794 1537 2939 \nQ 1816 3084 2150 3084 \nQ 2853 3084 3261 2657 \nQ 3669 2231 3669 1497 \nQ 3669 778 3244 343 \nQ 2819 -91 2113 -91 \nQ 1303 -91 875 529 \nQ 447 1150 447 2328 \nQ 447 3434 972 4092 \nQ 1497 4750 2381 4750 \nQ 2619 4750 2861 4703 \nQ 3103 4656 3366 4563 \nz\n\" transform=\"scale(0.015625)\"/>\n       </defs>\n       <use xlink:href=\"#DejaVuSans-30\"/>\n       <use xlink:href=\"#DejaVuSans-2e\" x=\"63.623047\"/>\n       <use xlink:href=\"#DejaVuSans-36\" x=\"95.410156\"/>\n      </g>\n     </g>\n    </g>\n    <g id=\"xtick_5\">\n     <g id=\"line2d_9\">\n      <path d=\"M 355.155398 188.638125 \nL 355.155398 22.318125 \n\" clip-path=\"url(#p8cf775dd8e)\" style=\"fill: none; stroke: #b0b0b0; stroke-width: 0.8; stroke-linecap: square\"/>\n     </g>\n     <g id=\"line2d_10\">\n      <g>\n       <use xlink:href=\"#madc062f8f8\" x=\"355.155398\" y=\"188.638125\" style=\"stroke: #000000; stroke-width: 0.8\"/>\n      </g>\n     </g>\n     <g id=\"text_5\">\n      <!-- 0.8 -->\n      <g transform=\"translate(347.203835 203.236563) scale(0.1 -0.1)\">\n       <defs>\n        <path id=\"DejaVuSans-38\" d=\"M 2034 2216 \nQ 1584 2216 1326 1975 \nQ 1069 1734 1069 1313 \nQ 1069 891 1326 650 \nQ 1584 409 2034 409 \nQ 2484 409 2743 651 \nQ 3003 894 3003 1313 \nQ 3003 1734 2745 1975 \nQ 2488 2216 2034 2216 \nz\nM 1403 2484 \nQ 997 2584 770 2862 \nQ 544 3141 544 3541 \nQ 544 4100 942 4425 \nQ 1341 4750 2034 4750 \nQ 2731 4750 3128 4425 \nQ 3525 4100 3525 3541 \nQ 3525 3141 3298 2862 \nQ 3072 2584 2669 2484 \nQ 3125 2378 3379 2068 \nQ 3634 1759 3634 1313 \nQ 3634 634 3220 271 \nQ 2806 -91 2034 -91 \nQ 1263 -91 848 271 \nQ 434 634 434 1313 \nQ 434 1759 690 2068 \nQ 947 2378 1403 2484 \nz\nM 1172 3481 \nQ 1172 3119 1398 2916 \nQ 1625 2713 2034 2713 \nQ 2441 2713 2670 2916 \nQ 2900 3119 2900 3481 \nQ 2900 3844 2670 4047 \nQ 2441 4250 2034 4250 \nQ 1625 4250 1398 4047 \nQ 1172 3844 1172 3481 \nz\n\" transform=\"scale(0.015625)\"/>\n       </defs>\n       <use xlink:href=\"#DejaVuSans-30\"/>\n       <use xlink:href=\"#DejaVuSans-2e\" x=\"63.623047\"/>\n       <use xlink:href=\"#DejaVuSans-38\" x=\"95.410156\"/>\n      </g>\n     </g>\n    </g>\n    <g id=\"xtick_6\">\n     <g id=\"line2d_11\">\n      <path d=\"M 426.17358 188.638125 \nL 426.17358 22.318125 \n\" clip-path=\"url(#p8cf775dd8e)\" style=\"fill: none; stroke: #b0b0b0; stroke-width: 0.8; stroke-linecap: square\"/>\n     </g>\n     <g id=\"line2d_12\">\n      <g>\n       <use xlink:href=\"#madc062f8f8\" x=\"426.17358\" y=\"188.638125\" style=\"stroke: #000000; stroke-width: 0.8\"/>\n      </g>\n     </g>\n     <g id=\"text_6\">\n      <!-- 1.0 -->\n      <g transform=\"translate(418.222017 203.236563) scale(0.1 -0.1)\">\n       <defs>\n        <path id=\"DejaVuSans-31\" d=\"M 794 531 \nL 1825 531 \nL 1825 4091 \nL 703 3866 \nL 703 4441 \nL 1819 4666 \nL 2450 4666 \nL 2450 531 \nL 3481 531 \nL 3481 0 \nL 794 0 \nL 794 531 \nz\n\" transform=\"scale(0.015625)\"/>\n       </defs>\n       <use xlink:href=\"#DejaVuSans-31\"/>\n       <use xlink:href=\"#DejaVuSans-2e\" x=\"63.623047\"/>\n       <use xlink:href=\"#DejaVuSans-30\" x=\"95.410156\"/>\n      </g>\n     </g>\n    </g>\n   </g>\n   <g id=\"matplotlib.axis_2\">\n    <g id=\"ytick_1\">\n     <g id=\"line2d_13\">\n      <path d=\"M 53.328125 188.638125 \nL 443.928125 188.638125 \n\" clip-path=\"url(#p8cf775dd8e)\" style=\"fill: none; stroke: #b0b0b0; stroke-width: 0.8; stroke-linecap: square\"/>\n     </g>\n     <g id=\"line2d_14\">\n      <defs>\n       <path id=\"m524b879765\" d=\"M 0 0 \nL -3.5 0 \n\" style=\"stroke: #000000; stroke-width: 0.8\"/>\n      </defs>\n      <g>\n       <use xlink:href=\"#m524b879765\" x=\"53.328125\" y=\"188.638125\" style=\"stroke: #000000; stroke-width: 0.8\"/>\n      </g>\n     </g>\n     <g id=\"text_7\">\n      <!-- 0 -->\n      <g transform=\"translate(39.965625 192.437344) scale(0.1 -0.1)\">\n       <use xlink:href=\"#DejaVuSans-30\"/>\n      </g>\n     </g>\n    </g>\n    <g id=\"ytick_2\">\n     <g id=\"line2d_15\">\n      <path d=\"M 53.328125 156.058939 \nL 443.928125 156.058939 \n\" clip-path=\"url(#p8cf775dd8e)\" style=\"fill: none; stroke: #b0b0b0; stroke-width: 0.8; stroke-linecap: square\"/>\n     </g>\n     <g id=\"line2d_16\">\n      <g>\n       <use xlink:href=\"#m524b879765\" x=\"53.328125\" y=\"156.058939\" style=\"stroke: #000000; stroke-width: 0.8\"/>\n      </g>\n     </g>\n     <g id=\"text_8\">\n      <!-- 500 -->\n      <g transform=\"translate(27.240625 159.858158) scale(0.1 -0.1)\">\n       <defs>\n        <path id=\"DejaVuSans-35\" d=\"M 691 4666 \nL 3169 4666 \nL 3169 4134 \nL 1269 4134 \nL 1269 2991 \nQ 1406 3038 1543 3061 \nQ 1681 3084 1819 3084 \nQ 2600 3084 3056 2656 \nQ 3513 2228 3513 1497 \nQ 3513 744 3044 326 \nQ 2575 -91 1722 -91 \nQ 1428 -91 1123 -41 \nQ 819 9 494 109 \nL 494 744 \nQ 775 591 1075 516 \nQ 1375 441 1709 441 \nQ 2250 441 2565 725 \nQ 2881 1009 2881 1497 \nQ 2881 1984 2565 2268 \nQ 2250 2553 1709 2553 \nQ 1456 2553 1204 2497 \nQ 953 2441 691 2322 \nL 691 4666 \nz\n\" transform=\"scale(0.015625)\"/>\n       </defs>\n       <use xlink:href=\"#DejaVuSans-35\"/>\n       <use xlink:href=\"#DejaVuSans-30\" x=\"63.623047\"/>\n       <use xlink:href=\"#DejaVuSans-30\" x=\"127.246094\"/>\n      </g>\n     </g>\n    </g>\n    <g id=\"ytick_3\">\n     <g id=\"line2d_17\">\n      <path d=\"M 53.328125 123.479754 \nL 443.928125 123.479754 \n\" clip-path=\"url(#p8cf775dd8e)\" style=\"fill: none; stroke: #b0b0b0; stroke-width: 0.8; stroke-linecap: square\"/>\n     </g>\n     <g id=\"line2d_18\">\n      <g>\n       <use xlink:href=\"#m524b879765\" x=\"53.328125\" y=\"123.479754\" style=\"stroke: #000000; stroke-width: 0.8\"/>\n      </g>\n     </g>\n     <g id=\"text_9\">\n      <!-- 1000 -->\n      <g transform=\"translate(20.878125 127.278973) scale(0.1 -0.1)\">\n       <use xlink:href=\"#DejaVuSans-31\"/>\n       <use xlink:href=\"#DejaVuSans-30\" x=\"63.623047\"/>\n       <use xlink:href=\"#DejaVuSans-30\" x=\"127.246094\"/>\n       <use xlink:href=\"#DejaVuSans-30\" x=\"190.869141\"/>\n      </g>\n     </g>\n    </g>\n    <g id=\"ytick_4\">\n     <g id=\"line2d_19\">\n      <path d=\"M 53.328125 90.900568 \nL 443.928125 90.900568 \n\" clip-path=\"url(#p8cf775dd8e)\" style=\"fill: none; stroke: #b0b0b0; stroke-width: 0.8; stroke-linecap: square\"/>\n     </g>\n     <g id=\"line2d_20\">\n      <g>\n       <use xlink:href=\"#m524b879765\" x=\"53.328125\" y=\"90.900568\" style=\"stroke: #000000; stroke-width: 0.8\"/>\n      </g>\n     </g>\n     <g id=\"text_10\">\n      <!-- 1500 -->\n      <g transform=\"translate(20.878125 94.699787) scale(0.1 -0.1)\">\n       <use xlink:href=\"#DejaVuSans-31\"/>\n       <use xlink:href=\"#DejaVuSans-35\" x=\"63.623047\"/>\n       <use xlink:href=\"#DejaVuSans-30\" x=\"127.246094\"/>\n       <use xlink:href=\"#DejaVuSans-30\" x=\"190.869141\"/>\n      </g>\n     </g>\n    </g>\n    <g id=\"ytick_5\">\n     <g id=\"line2d_21\">\n      <path d=\"M 53.328125 58.321383 \nL 443.928125 58.321383 \n\" clip-path=\"url(#p8cf775dd8e)\" style=\"fill: none; stroke: #b0b0b0; stroke-width: 0.8; stroke-linecap: square\"/>\n     </g>\n     <g id=\"line2d_22\">\n      <g>\n       <use xlink:href=\"#m524b879765\" x=\"53.328125\" y=\"58.321383\" style=\"stroke: #000000; stroke-width: 0.8\"/>\n      </g>\n     </g>\n     <g id=\"text_11\">\n      <!-- 2000 -->\n      <g transform=\"translate(20.878125 62.120602) scale(0.1 -0.1)\">\n       <use xlink:href=\"#DejaVuSans-32\"/>\n       <use xlink:href=\"#DejaVuSans-30\" x=\"63.623047\"/>\n       <use xlink:href=\"#DejaVuSans-30\" x=\"127.246094\"/>\n       <use xlink:href=\"#DejaVuSans-30\" x=\"190.869141\"/>\n      </g>\n     </g>\n    </g>\n    <g id=\"ytick_6\">\n     <g id=\"line2d_23\">\n      <path d=\"M 53.328125 25.742197 \nL 443.928125 25.742197 \n\" clip-path=\"url(#p8cf775dd8e)\" style=\"fill: none; stroke: #b0b0b0; stroke-width: 0.8; stroke-linecap: square\"/>\n     </g>\n     <g id=\"line2d_24\">\n      <g>\n       <use xlink:href=\"#m524b879765\" x=\"53.328125\" y=\"25.742197\" style=\"stroke: #000000; stroke-width: 0.8\"/>\n      </g>\n     </g>\n     <g id=\"text_12\">\n      <!-- 2500 -->\n      <g transform=\"translate(20.878125 29.541416) scale(0.1 -0.1)\">\n       <use xlink:href=\"#DejaVuSans-32\"/>\n       <use xlink:href=\"#DejaVuSans-35\" x=\"63.623047\"/>\n       <use xlink:href=\"#DejaVuSans-30\" x=\"127.246094\"/>\n       <use xlink:href=\"#DejaVuSans-30\" x=\"190.869141\"/>\n      </g>\n     </g>\n    </g>\n    <g id=\"text_13\">\n     <!-- Frequency -->\n     <g transform=\"translate(14.798438 131.307813) rotate(-90) scale(0.1 -0.1)\">\n      <defs>\n       <path id=\"DejaVuSans-46\" d=\"M 628 4666 \nL 3309 4666 \nL 3309 4134 \nL 1259 4134 \nL 1259 2759 \nL 3109 2759 \nL 3109 2228 \nL 1259 2228 \nL 1259 0 \nL 628 0 \nL 628 4666 \nz\n\" transform=\"scale(0.015625)\"/>\n       <path id=\"DejaVuSans-72\" d=\"M 2631 2963 \nQ 2534 3019 2420 3045 \nQ 2306 3072 2169 3072 \nQ 1681 3072 1420 2755 \nQ 1159 2438 1159 1844 \nL 1159 0 \nL 581 0 \nL 581 3500 \nL 1159 3500 \nL 1159 2956 \nQ 1341 3275 1631 3429 \nQ 1922 3584 2338 3584 \nQ 2397 3584 2469 3576 \nQ 2541 3569 2628 3553 \nL 2631 2963 \nz\n\" transform=\"scale(0.015625)\"/>\n       <path id=\"DejaVuSans-65\" d=\"M 3597 1894 \nL 3597 1613 \nL 953 1613 \nQ 991 1019 1311 708 \nQ 1631 397 2203 397 \nQ 2534 397 2845 478 \nQ 3156 559 3463 722 \nL 3463 178 \nQ 3153 47 2828 -22 \nQ 2503 -91 2169 -91 \nQ 1331 -91 842 396 \nQ 353 884 353 1716 \nQ 353 2575 817 3079 \nQ 1281 3584 2069 3584 \nQ 2775 3584 3186 3129 \nQ 3597 2675 3597 1894 \nz\nM 3022 2063 \nQ 3016 2534 2758 2815 \nQ 2500 3097 2075 3097 \nQ 1594 3097 1305 2825 \nQ 1016 2553 972 2059 \nL 3022 2063 \nz\n\" transform=\"scale(0.015625)\"/>\n       <path id=\"DejaVuSans-71\" d=\"M 947 1747 \nQ 947 1113 1208 752 \nQ 1469 391 1925 391 \nQ 2381 391 2643 752 \nQ 2906 1113 2906 1747 \nQ 2906 2381 2643 2742 \nQ 2381 3103 1925 3103 \nQ 1469 3103 1208 2742 \nQ 947 2381 947 1747 \nz\nM 2906 525 \nQ 2725 213 2448 61 \nQ 2172 -91 1784 -91 \nQ 1150 -91 751 415 \nQ 353 922 353 1747 \nQ 353 2572 751 3078 \nQ 1150 3584 1784 3584 \nQ 2172 3584 2448 3432 \nQ 2725 3281 2906 2969 \nL 2906 3500 \nL 3481 3500 \nL 3481 -1331 \nL 2906 -1331 \nL 2906 525 \nz\n\" transform=\"scale(0.015625)\"/>\n       <path id=\"DejaVuSans-75\" d=\"M 544 1381 \nL 544 3500 \nL 1119 3500 \nL 1119 1403 \nQ 1119 906 1312 657 \nQ 1506 409 1894 409 \nQ 2359 409 2629 706 \nQ 2900 1003 2900 1516 \nL 2900 3500 \nL 3475 3500 \nL 3475 0 \nL 2900 0 \nL 2900 538 \nQ 2691 219 2414 64 \nQ 2138 -91 1772 -91 \nQ 1169 -91 856 284 \nQ 544 659 544 1381 \nz\nM 1991 3584 \nL 1991 3584 \nz\n\" transform=\"scale(0.015625)\"/>\n       <path id=\"DejaVuSans-6e\" d=\"M 3513 2113 \nL 3513 0 \nL 2938 0 \nL 2938 2094 \nQ 2938 2591 2744 2837 \nQ 2550 3084 2163 3084 \nQ 1697 3084 1428 2787 \nQ 1159 2491 1159 1978 \nL 1159 0 \nL 581 0 \nL 581 3500 \nL 1159 3500 \nL 1159 2956 \nQ 1366 3272 1645 3428 \nQ 1925 3584 2291 3584 \nQ 2894 3584 3203 3211 \nQ 3513 2838 3513 2113 \nz\n\" transform=\"scale(0.015625)\"/>\n       <path id=\"DejaVuSans-63\" d=\"M 3122 3366 \nL 3122 2828 \nQ 2878 2963 2633 3030 \nQ 2388 3097 2138 3097 \nQ 1578 3097 1268 2742 \nQ 959 2388 959 1747 \nQ 959 1106 1268 751 \nQ 1578 397 2138 397 \nQ 2388 397 2633 464 \nQ 2878 531 3122 666 \nL 3122 134 \nQ 2881 22 2623 -34 \nQ 2366 -91 2075 -91 \nQ 1284 -91 818 406 \nQ 353 903 353 1747 \nQ 353 2603 823 3093 \nQ 1294 3584 2113 3584 \nQ 2378 3584 2631 3529 \nQ 2884 3475 3122 3366 \nz\n\" transform=\"scale(0.015625)\"/>\n       <path id=\"DejaVuSans-79\" d=\"M 2059 -325 \nQ 1816 -950 1584 -1140 \nQ 1353 -1331 966 -1331 \nL 506 -1331 \nL 506 -850 \nL 844 -850 \nQ 1081 -850 1212 -737 \nQ 1344 -625 1503 -206 \nL 1606 56 \nL 191 3500 \nL 800 3500 \nL 1894 763 \nL 2988 3500 \nL 3597 3500 \nL 2059 -325 \nz\n\" transform=\"scale(0.015625)\"/>\n      </defs>\n      <use xlink:href=\"#DejaVuSans-46\"/>\n      <use xlink:href=\"#DejaVuSans-72\" x=\"50.269531\"/>\n      <use xlink:href=\"#DejaVuSans-65\" x=\"89.132812\"/>\n      <use xlink:href=\"#DejaVuSans-71\" x=\"150.65625\"/>\n      <use xlink:href=\"#DejaVuSans-75\" x=\"214.132812\"/>\n      <use xlink:href=\"#DejaVuSans-65\" x=\"277.511719\"/>\n      <use xlink:href=\"#DejaVuSans-6e\" x=\"339.035156\"/>\n      <use xlink:href=\"#DejaVuSans-63\" x=\"402.414062\"/>\n      <use xlink:href=\"#DejaVuSans-79\" x=\"457.394531\"/>\n     </g>\n    </g>\n   </g>\n   <g id=\"patch_33\">\n    <path d=\"M 53.328125 188.638125 \nL 53.328125 22.318125 \n\" style=\"fill: none; stroke: #000000; stroke-width: 0.8; stroke-linejoin: miter; stroke-linecap: square\"/>\n   </g>\n   <g id=\"patch_34\">\n    <path d=\"M 443.928125 188.638125 \nL 443.928125 22.318125 \n\" style=\"fill: none; stroke: #000000; stroke-width: 0.8; stroke-linejoin: miter; stroke-linecap: square\"/>\n   </g>\n   <g id=\"patch_35\">\n    <path d=\"M 53.328125 188.638125 \nL 443.928125 188.638125 \n\" style=\"fill: none; stroke: #000000; stroke-width: 0.8; stroke-linejoin: miter; stroke-linecap: square\"/>\n   </g>\n   <g id=\"patch_36\">\n    <path d=\"M 53.328125 22.318125 \nL 443.928125 22.318125 \n\" style=\"fill: none; stroke: #000000; stroke-width: 0.8; stroke-linejoin: miter; stroke-linecap: square\"/>\n   </g>\n   <g id=\"text_14\">\n    <!-- Пол -->\n    <g transform=\"translate(236.609375 16.318125) scale(0.12 -0.12)\">\n     <defs>\n      <path id=\"DejaVuSans-41f\" d=\"M 4184 4666 \nL 4184 0 \nL 3553 0 \nL 3553 4134 \nL 1259 4134 \nL 1259 0 \nL 628 0 \nL 628 4666 \nL 4184 4666 \nz\n\" transform=\"scale(0.015625)\"/>\n      <path id=\"DejaVuSans-43e\" d=\"M 1959 3097 \nQ 1497 3097 1228 2736 \nQ 959 2375 959 1747 \nQ 959 1119 1226 758 \nQ 1494 397 1959 397 \nQ 2419 397 2687 759 \nQ 2956 1122 2956 1747 \nQ 2956 2369 2687 2733 \nQ 2419 3097 1959 3097 \nz\nM 1959 3584 \nQ 2709 3584 3137 3096 \nQ 3566 2609 3566 1747 \nQ 3566 888 3137 398 \nQ 2709 -91 1959 -91 \nQ 1206 -91 779 398 \nQ 353 888 353 1747 \nQ 353 2609 779 3096 \nQ 1206 3584 1959 3584 \nz\n\" transform=\"scale(0.015625)\"/>\n      <path id=\"DejaVuSans-43b\" d=\"M 238 0 \nL 238 478 \nQ 806 566 981 959 \nQ 1194 1513 1194 2928 \nL 1194 3500 \nL 3559 3500 \nL 3559 0 \nL 2984 0 \nL 2984 3041 \nL 1769 3041 \nL 1769 2694 \nQ 1769 1344 1494 738 \nQ 1200 91 238 0 \nz\n\" transform=\"scale(0.015625)\"/>\n     </defs>\n     <use xlink:href=\"#DejaVuSans-41f\"/>\n     <use xlink:href=\"#DejaVuSans-43e\" x=\"75.195312\"/>\n     <use xlink:href=\"#DejaVuSans-43b\" x=\"136.376953\"/>\n    </g>\n   </g>\n  </g>\n </g>\n <defs>\n  <clipPath id=\"p8cf775dd8e\">\n   <rect x=\"53.328125\" y=\"22.318125\" width=\"390.6\" height=\"166.32\"/>\n  </clipPath>\n </defs>\n</svg>\n"
          },
          "metadata": {}
        },
        {
          "output_type": "display_data",
          "data": {
            "text/plain": [
              "<Figure size 7000x3000 with 1 Axes>"
            ],
            "image/svg+xml": "<?xml version=\"1.0\" encoding=\"utf-8\" standalone=\"no\"?>\n<!DOCTYPE svg PUBLIC \"-//W3C//DTD SVG 1.1//EN\"\n  \"http://www.w3.org/Graphics/SVG/1.1/DTD/svg11.dtd\">\n<svg xmlns:xlink=\"http://www.w3.org/1999/xlink\" width=\"451.128125pt\" height=\"212.51625pt\" viewBox=\"0 0 451.128125 212.51625\" xmlns=\"http://www.w3.org/2000/svg\" version=\"1.1\">\n <metadata>\n  <rdf:RDF xmlns:dc=\"http://purl.org/dc/elements/1.1/\" xmlns:cc=\"http://creativecommons.org/ns#\" xmlns:rdf=\"http://www.w3.org/1999/02/22-rdf-syntax-ns#\">\n   <cc:Work>\n    <dc:type rdf:resource=\"http://purl.org/dc/dcmitype/StillImage\"/>\n    <dc:date>2023-09-21T08:12:31.589125</dc:date>\n    <dc:format>image/svg+xml</dc:format>\n    <dc:creator>\n     <cc:Agent>\n      <dc:title>Matplotlib v3.7.1, https://matplotlib.org/</dc:title>\n     </cc:Agent>\n    </dc:creator>\n   </cc:Work>\n  </rdf:RDF>\n </metadata>\n <defs>\n  <style type=\"text/css\">*{stroke-linejoin: round; stroke-linecap: butt}</style>\n </defs>\n <g id=\"figure_1\">\n  <g id=\"patch_1\">\n   <path d=\"M 0 212.51625 \nL 451.128125 212.51625 \nL 451.128125 0 \nL 0 0 \nz\n\" style=\"fill: #ffffff\"/>\n  </g>\n  <g id=\"axes_1\">\n   <g id=\"patch_2\">\n    <path d=\"M 53.328125 188.638125 \nL 443.928125 188.638125 \nL 443.928125 22.318125 \nL 53.328125 22.318125 \nz\n\" style=\"fill: #ffffff\"/>\n   </g>\n   <g id=\"patch_3\">\n    <path d=\"M 71.08267 188.638125 \nL 82.919034 188.638125 \nL 82.919034 56.245448 \nL 71.08267 56.245448 \nz\n\" clip-path=\"url(#p6484cb8e22)\" style=\"fill: #ff4500\"/>\n   </g>\n   <g id=\"patch_4\">\n    <path d=\"M 82.919034 188.638125 \nL 94.755398 188.638125 \nL 94.755398 188.638125 \nL 82.919034 188.638125 \nz\n\" clip-path=\"url(#p6484cb8e22)\" style=\"fill: #ff4500\"/>\n   </g>\n   <g id=\"patch_5\">\n    <path d=\"M 94.755398 188.638125 \nL 106.591761 188.638125 \nL 106.591761 188.638125 \nL 94.755398 188.638125 \nz\n\" clip-path=\"url(#p6484cb8e22)\" style=\"fill: #ff4500\"/>\n   </g>\n   <g id=\"patch_6\">\n    <path d=\"M 106.591761 188.638125 \nL 118.428125 188.638125 \nL 118.428125 188.638125 \nL 106.591761 188.638125 \nz\n\" clip-path=\"url(#p6484cb8e22)\" style=\"fill: #ff4500\"/>\n   </g>\n   <g id=\"patch_7\">\n    <path d=\"M 118.428125 188.638125 \nL 130.264489 188.638125 \nL 130.264489 188.638125 \nL 118.428125 188.638125 \nz\n\" clip-path=\"url(#p6484cb8e22)\" style=\"fill: #ff4500\"/>\n   </g>\n   <g id=\"patch_8\">\n    <path d=\"M 130.264489 188.638125 \nL 142.100852 188.638125 \nL 142.100852 30.238125 \nL 130.264489 30.238125 \nz\n\" clip-path=\"url(#p6484cb8e22)\" style=\"fill: #ff4500\"/>\n   </g>\n   <g id=\"patch_9\">\n    <path d=\"M 142.100852 188.638125 \nL 153.937216 188.638125 \nL 153.937216 188.638125 \nL 142.100852 188.638125 \nz\n\" clip-path=\"url(#p6484cb8e22)\" style=\"fill: #ff4500\"/>\n   </g>\n   <g id=\"patch_10\">\n    <path d=\"M 153.937216 188.638125 \nL 165.77358 188.638125 \nL 165.77358 188.638125 \nL 153.937216 188.638125 \nz\n\" clip-path=\"url(#p6484cb8e22)\" style=\"fill: #ff4500\"/>\n   </g>\n   <g id=\"patch_11\">\n    <path d=\"M 165.77358 188.638125 \nL 177.609943 188.638125 \nL 177.609943 188.638125 \nL 165.77358 188.638125 \nz\n\" clip-path=\"url(#p6484cb8e22)\" style=\"fill: #ff4500\"/>\n   </g>\n   <g id=\"patch_12\">\n    <path d=\"M 177.609943 188.638125 \nL 189.446307 188.638125 \nL 189.446307 188.638125 \nL 177.609943 188.638125 \nz\n\" clip-path=\"url(#p6484cb8e22)\" style=\"fill: #ff4500\"/>\n   </g>\n   <g id=\"patch_13\">\n    <path d=\"M 189.446307 188.638125 \nL 201.28267 188.638125 \nL 201.28267 94.576798 \nL 189.446307 94.576798 \nz\n\" clip-path=\"url(#p6484cb8e22)\" style=\"fill: #ff4500\"/>\n   </g>\n   <g id=\"patch_14\">\n    <path d=\"M 201.28267 188.638125 \nL 213.119034 188.638125 \nL 213.119034 188.638125 \nL 201.28267 188.638125 \nz\n\" clip-path=\"url(#p6484cb8e22)\" style=\"fill: #ff4500\"/>\n   </g>\n   <g id=\"patch_15\">\n    <path d=\"M 213.119034 188.638125 \nL 224.955398 188.638125 \nL 224.955398 188.638125 \nL 213.119034 188.638125 \nz\n\" clip-path=\"url(#p6484cb8e22)\" style=\"fill: #ff4500\"/>\n   </g>\n   <g id=\"patch_16\">\n    <path d=\"M 224.955398 188.638125 \nL 236.791761 188.638125 \nL 236.791761 188.638125 \nL 224.955398 188.638125 \nz\n\" clip-path=\"url(#p6484cb8e22)\" style=\"fill: #ff4500\"/>\n   </g>\n   <g id=\"patch_17\">\n    <path d=\"M 236.791761 188.638125 \nL 248.628125 188.638125 \nL 248.628125 188.638125 \nL 236.791761 188.638125 \nz\n\" clip-path=\"url(#p6484cb8e22)\" style=\"fill: #ff4500\"/>\n   </g>\n   <g id=\"patch_18\">\n    <path d=\"M 248.628125 188.638125 \nL 260.464489 188.638125 \nL 260.464489 149.038125 \nL 248.628125 149.038125 \nz\n\" clip-path=\"url(#p6484cb8e22)\" style=\"fill: #ff4500\"/>\n   </g>\n   <g id=\"patch_19\">\n    <path d=\"M 260.464489 188.638125 \nL 272.300852 188.638125 \nL 272.300852 188.638125 \nL 260.464489 188.638125 \nz\n\" clip-path=\"url(#p6484cb8e22)\" style=\"fill: #ff4500\"/>\n   </g>\n   <g id=\"patch_20\">\n    <path d=\"M 272.300852 188.638125 \nL 284.137216 188.638125 \nL 284.137216 188.638125 \nL 272.300852 188.638125 \nz\n\" clip-path=\"url(#p6484cb8e22)\" style=\"fill: #ff4500\"/>\n   </g>\n   <g id=\"patch_21\">\n    <path d=\"M 284.137216 188.638125 \nL 295.97358 188.638125 \nL 295.97358 188.638125 \nL 284.137216 188.638125 \nz\n\" clip-path=\"url(#p6484cb8e22)\" style=\"fill: #ff4500\"/>\n   </g>\n   <g id=\"patch_22\">\n    <path d=\"M 295.97358 188.638125 \nL 307.809943 188.638125 \nL 307.809943 188.638125 \nL 295.97358 188.638125 \nz\n\" clip-path=\"url(#p6484cb8e22)\" style=\"fill: #ff4500\"/>\n   </g>\n   <g id=\"patch_23\">\n    <path d=\"M 307.809943 188.638125 \nL 319.646307 188.638125 \nL 319.646307 177.401512 \nL 307.809943 177.401512 \nz\n\" clip-path=\"url(#p6484cb8e22)\" style=\"fill: #ff4500\"/>\n   </g>\n   <g id=\"patch_24\">\n    <path d=\"M 319.646307 188.638125 \nL 331.48267 188.638125 \nL 331.48267 188.638125 \nL 319.646307 188.638125 \nz\n\" clip-path=\"url(#p6484cb8e22)\" style=\"fill: #ff4500\"/>\n   </g>\n   <g id=\"patch_25\">\n    <path d=\"M 331.48267 188.638125 \nL 343.319034 188.638125 \nL 343.319034 188.638125 \nL 331.48267 188.638125 \nz\n\" clip-path=\"url(#p6484cb8e22)\" style=\"fill: #ff4500\"/>\n   </g>\n   <g id=\"patch_26\">\n    <path d=\"M 343.319034 188.638125 \nL 355.155398 188.638125 \nL 355.155398 188.638125 \nL 343.319034 188.638125 \nz\n\" clip-path=\"url(#p6484cb8e22)\" style=\"fill: #ff4500\"/>\n   </g>\n   <g id=\"patch_27\">\n    <path d=\"M 355.155398 188.638125 \nL 366.991761 188.638125 \nL 366.991761 188.638125 \nL 355.155398 188.638125 \nz\n\" clip-path=\"url(#p6484cb8e22)\" style=\"fill: #ff4500\"/>\n   </g>\n   <g id=\"patch_28\">\n    <path d=\"M 366.991761 188.638125 \nL 378.828125 188.638125 \nL 378.828125 185.738354 \nL 366.991761 185.738354 \nz\n\" clip-path=\"url(#p6484cb8e22)\" style=\"fill: #ff4500\"/>\n   </g>\n   <g id=\"patch_29\">\n    <path d=\"M 378.828125 188.638125 \nL 390.664489 188.638125 \nL 390.664489 188.638125 \nL 378.828125 188.638125 \nz\n\" clip-path=\"url(#p6484cb8e22)\" style=\"fill: #ff4500\"/>\n   </g>\n   <g id=\"patch_30\">\n    <path d=\"M 390.664489 188.638125 \nL 402.500852 188.638125 \nL 402.500852 188.638125 \nL 390.664489 188.638125 \nz\n\" clip-path=\"url(#p6484cb8e22)\" style=\"fill: #ff4500\"/>\n   </g>\n   <g id=\"patch_31\">\n    <path d=\"M 402.500852 188.638125 \nL 414.337216 188.638125 \nL 414.337216 188.638125 \nL 402.500852 188.638125 \nz\n\" clip-path=\"url(#p6484cb8e22)\" style=\"fill: #ff4500\"/>\n   </g>\n   <g id=\"patch_32\">\n    <path d=\"M 414.337216 188.638125 \nL 426.17358 188.638125 \nL 426.17358 188.0038 \nL 414.337216 188.0038 \nz\n\" clip-path=\"url(#p6484cb8e22)\" style=\"fill: #ff4500\"/>\n   </g>\n   <g id=\"matplotlib.axis_1\">\n    <g id=\"xtick_1\">\n     <g id=\"line2d_1\">\n      <path d=\"M 71.08267 188.638125 \nL 71.08267 22.318125 \n\" clip-path=\"url(#p6484cb8e22)\" style=\"fill: none; stroke: #b0b0b0; stroke-width: 0.8; stroke-linecap: square\"/>\n     </g>\n     <g id=\"line2d_2\">\n      <defs>\n       <path id=\"m6f9c33b58c\" d=\"M 0 0 \nL 0 3.5 \n\" style=\"stroke: #000000; stroke-width: 0.8\"/>\n      </defs>\n      <g>\n       <use xlink:href=\"#m6f9c33b58c\" x=\"71.08267\" y=\"188.638125\" style=\"stroke: #000000; stroke-width: 0.8\"/>\n      </g>\n     </g>\n     <g id=\"text_1\">\n      <!-- 0 -->\n      <g transform=\"translate(67.90142 203.236563) scale(0.1 -0.1)\">\n       <defs>\n        <path id=\"DejaVuSans-30\" d=\"M 2034 4250 \nQ 1547 4250 1301 3770 \nQ 1056 3291 1056 2328 \nQ 1056 1369 1301 889 \nQ 1547 409 2034 409 \nQ 2525 409 2770 889 \nQ 3016 1369 3016 2328 \nQ 3016 3291 2770 3770 \nQ 2525 4250 2034 4250 \nz\nM 2034 4750 \nQ 2819 4750 3233 4129 \nQ 3647 3509 3647 2328 \nQ 3647 1150 3233 529 \nQ 2819 -91 2034 -91 \nQ 1250 -91 836 529 \nQ 422 1150 422 2328 \nQ 422 3509 836 4129 \nQ 1250 4750 2034 4750 \nz\n\" transform=\"scale(0.015625)\"/>\n       </defs>\n       <use xlink:href=\"#DejaVuSans-30\"/>\n      </g>\n     </g>\n    </g>\n    <g id=\"xtick_2\">\n     <g id=\"line2d_3\">\n      <path d=\"M 130.264489 188.638125 \nL 130.264489 22.318125 \n\" clip-path=\"url(#p6484cb8e22)\" style=\"fill: none; stroke: #b0b0b0; stroke-width: 0.8; stroke-linecap: square\"/>\n     </g>\n     <g id=\"line2d_4\">\n      <g>\n       <use xlink:href=\"#m6f9c33b58c\" x=\"130.264489\" y=\"188.638125\" style=\"stroke: #000000; stroke-width: 0.8\"/>\n      </g>\n     </g>\n     <g id=\"text_2\">\n      <!-- 1 -->\n      <g transform=\"translate(127.083239 203.236563) scale(0.1 -0.1)\">\n       <defs>\n        <path id=\"DejaVuSans-31\" d=\"M 794 531 \nL 1825 531 \nL 1825 4091 \nL 703 3866 \nL 703 4441 \nL 1819 4666 \nL 2450 4666 \nL 2450 531 \nL 3481 531 \nL 3481 0 \nL 794 0 \nL 794 531 \nz\n\" transform=\"scale(0.015625)\"/>\n       </defs>\n       <use xlink:href=\"#DejaVuSans-31\"/>\n      </g>\n     </g>\n    </g>\n    <g id=\"xtick_3\">\n     <g id=\"line2d_5\">\n      <path d=\"M 189.446307 188.638125 \nL 189.446307 22.318125 \n\" clip-path=\"url(#p6484cb8e22)\" style=\"fill: none; stroke: #b0b0b0; stroke-width: 0.8; stroke-linecap: square\"/>\n     </g>\n     <g id=\"line2d_6\">\n      <g>\n       <use xlink:href=\"#m6f9c33b58c\" x=\"189.446307\" y=\"188.638125\" style=\"stroke: #000000; stroke-width: 0.8\"/>\n      </g>\n     </g>\n     <g id=\"text_3\">\n      <!-- 2 -->\n      <g transform=\"translate(186.265057 203.236563) scale(0.1 -0.1)\">\n       <defs>\n        <path id=\"DejaVuSans-32\" d=\"M 1228 531 \nL 3431 531 \nL 3431 0 \nL 469 0 \nL 469 531 \nQ 828 903 1448 1529 \nQ 2069 2156 2228 2338 \nQ 2531 2678 2651 2914 \nQ 2772 3150 2772 3378 \nQ 2772 3750 2511 3984 \nQ 2250 4219 1831 4219 \nQ 1534 4219 1204 4116 \nQ 875 4013 500 3803 \nL 500 4441 \nQ 881 4594 1212 4672 \nQ 1544 4750 1819 4750 \nQ 2544 4750 2975 4387 \nQ 3406 4025 3406 3419 \nQ 3406 3131 3298 2873 \nQ 3191 2616 2906 2266 \nQ 2828 2175 2409 1742 \nQ 1991 1309 1228 531 \nz\n\" transform=\"scale(0.015625)\"/>\n       </defs>\n       <use xlink:href=\"#DejaVuSans-32\"/>\n      </g>\n     </g>\n    </g>\n    <g id=\"xtick_4\">\n     <g id=\"line2d_7\">\n      <path d=\"M 248.628125 188.638125 \nL 248.628125 22.318125 \n\" clip-path=\"url(#p6484cb8e22)\" style=\"fill: none; stroke: #b0b0b0; stroke-width: 0.8; stroke-linecap: square\"/>\n     </g>\n     <g id=\"line2d_8\">\n      <g>\n       <use xlink:href=\"#m6f9c33b58c\" x=\"248.628125\" y=\"188.638125\" style=\"stroke: #000000; stroke-width: 0.8\"/>\n      </g>\n     </g>\n     <g id=\"text_4\">\n      <!-- 3 -->\n      <g transform=\"translate(245.446875 203.236563) scale(0.1 -0.1)\">\n       <defs>\n        <path id=\"DejaVuSans-33\" d=\"M 2597 2516 \nQ 3050 2419 3304 2112 \nQ 3559 1806 3559 1356 \nQ 3559 666 3084 287 \nQ 2609 -91 1734 -91 \nQ 1441 -91 1130 -33 \nQ 819 25 488 141 \nL 488 750 \nQ 750 597 1062 519 \nQ 1375 441 1716 441 \nQ 2309 441 2620 675 \nQ 2931 909 2931 1356 \nQ 2931 1769 2642 2001 \nQ 2353 2234 1838 2234 \nL 1294 2234 \nL 1294 2753 \nL 1863 2753 \nQ 2328 2753 2575 2939 \nQ 2822 3125 2822 3475 \nQ 2822 3834 2567 4026 \nQ 2313 4219 1838 4219 \nQ 1578 4219 1281 4162 \nQ 984 4106 628 3988 \nL 628 4550 \nQ 988 4650 1302 4700 \nQ 1616 4750 1894 4750 \nQ 2613 4750 3031 4423 \nQ 3450 4097 3450 3541 \nQ 3450 3153 3228 2886 \nQ 3006 2619 2597 2516 \nz\n\" transform=\"scale(0.015625)\"/>\n       </defs>\n       <use xlink:href=\"#DejaVuSans-33\"/>\n      </g>\n     </g>\n    </g>\n    <g id=\"xtick_5\">\n     <g id=\"line2d_9\">\n      <path d=\"M 307.809943 188.638125 \nL 307.809943 22.318125 \n\" clip-path=\"url(#p6484cb8e22)\" style=\"fill: none; stroke: #b0b0b0; stroke-width: 0.8; stroke-linecap: square\"/>\n     </g>\n     <g id=\"line2d_10\">\n      <g>\n       <use xlink:href=\"#m6f9c33b58c\" x=\"307.809943\" y=\"188.638125\" style=\"stroke: #000000; stroke-width: 0.8\"/>\n      </g>\n     </g>\n     <g id=\"text_5\">\n      <!-- 4 -->\n      <g transform=\"translate(304.628693 203.236563) scale(0.1 -0.1)\">\n       <defs>\n        <path id=\"DejaVuSans-34\" d=\"M 2419 4116 \nL 825 1625 \nL 2419 1625 \nL 2419 4116 \nz\nM 2253 4666 \nL 3047 4666 \nL 3047 1625 \nL 3713 1625 \nL 3713 1100 \nL 3047 1100 \nL 3047 0 \nL 2419 0 \nL 2419 1100 \nL 313 1100 \nL 313 1709 \nL 2253 4666 \nz\n\" transform=\"scale(0.015625)\"/>\n       </defs>\n       <use xlink:href=\"#DejaVuSans-34\"/>\n      </g>\n     </g>\n    </g>\n    <g id=\"xtick_6\">\n     <g id=\"line2d_11\">\n      <path d=\"M 366.991761 188.638125 \nL 366.991761 22.318125 \n\" clip-path=\"url(#p6484cb8e22)\" style=\"fill: none; stroke: #b0b0b0; stroke-width: 0.8; stroke-linecap: square\"/>\n     </g>\n     <g id=\"line2d_12\">\n      <g>\n       <use xlink:href=\"#m6f9c33b58c\" x=\"366.991761\" y=\"188.638125\" style=\"stroke: #000000; stroke-width: 0.8\"/>\n      </g>\n     </g>\n     <g id=\"text_6\">\n      <!-- 5 -->\n      <g transform=\"translate(363.810511 203.236563) scale(0.1 -0.1)\">\n       <defs>\n        <path id=\"DejaVuSans-35\" d=\"M 691 4666 \nL 3169 4666 \nL 3169 4134 \nL 1269 4134 \nL 1269 2991 \nQ 1406 3038 1543 3061 \nQ 1681 3084 1819 3084 \nQ 2600 3084 3056 2656 \nQ 3513 2228 3513 1497 \nQ 3513 744 3044 326 \nQ 2575 -91 1722 -91 \nQ 1428 -91 1123 -41 \nQ 819 9 494 109 \nL 494 744 \nQ 775 591 1075 516 \nQ 1375 441 1709 441 \nQ 2250 441 2565 725 \nQ 2881 1009 2881 1497 \nQ 2881 1984 2565 2268 \nQ 2250 2553 1709 2553 \nQ 1456 2553 1204 2497 \nQ 953 2441 691 2322 \nL 691 4666 \nz\n\" transform=\"scale(0.015625)\"/>\n       </defs>\n       <use xlink:href=\"#DejaVuSans-35\"/>\n      </g>\n     </g>\n    </g>\n    <g id=\"xtick_7\">\n     <g id=\"line2d_13\">\n      <path d=\"M 426.17358 188.638125 \nL 426.17358 22.318125 \n\" clip-path=\"url(#p6484cb8e22)\" style=\"fill: none; stroke: #b0b0b0; stroke-width: 0.8; stroke-linecap: square\"/>\n     </g>\n     <g id=\"line2d_14\">\n      <g>\n       <use xlink:href=\"#m6f9c33b58c\" x=\"426.17358\" y=\"188.638125\" style=\"stroke: #000000; stroke-width: 0.8\"/>\n      </g>\n     </g>\n     <g id=\"text_7\">\n      <!-- 6 -->\n      <g transform=\"translate(422.99233 203.236563) scale(0.1 -0.1)\">\n       <defs>\n        <path id=\"DejaVuSans-36\" d=\"M 2113 2584 \nQ 1688 2584 1439 2293 \nQ 1191 2003 1191 1497 \nQ 1191 994 1439 701 \nQ 1688 409 2113 409 \nQ 2538 409 2786 701 \nQ 3034 994 3034 1497 \nQ 3034 2003 2786 2293 \nQ 2538 2584 2113 2584 \nz\nM 3366 4563 \nL 3366 3988 \nQ 3128 4100 2886 4159 \nQ 2644 4219 2406 4219 \nQ 1781 4219 1451 3797 \nQ 1122 3375 1075 2522 \nQ 1259 2794 1537 2939 \nQ 1816 3084 2150 3084 \nQ 2853 3084 3261 2657 \nQ 3669 2231 3669 1497 \nQ 3669 778 3244 343 \nQ 2819 -91 2113 -91 \nQ 1303 -91 875 529 \nQ 447 1150 447 2328 \nQ 447 3434 972 4092 \nQ 1497 4750 2381 4750 \nQ 2619 4750 2861 4703 \nQ 3103 4656 3366 4563 \nz\n\" transform=\"scale(0.015625)\"/>\n       </defs>\n       <use xlink:href=\"#DejaVuSans-36\"/>\n      </g>\n     </g>\n    </g>\n   </g>\n   <g id=\"matplotlib.axis_2\">\n    <g id=\"ytick_1\">\n     <g id=\"line2d_15\">\n      <path d=\"M 53.328125 188.638125 \nL 443.928125 188.638125 \n\" clip-path=\"url(#p6484cb8e22)\" style=\"fill: none; stroke: #b0b0b0; stroke-width: 0.8; stroke-linecap: square\"/>\n     </g>\n     <g id=\"line2d_16\">\n      <defs>\n       <path id=\"mb75ebf09bc\" d=\"M 0 0 \nL -3.5 0 \n\" style=\"stroke: #000000; stroke-width: 0.8\"/>\n      </defs>\n      <g>\n       <use xlink:href=\"#mb75ebf09bc\" x=\"53.328125\" y=\"188.638125\" style=\"stroke: #000000; stroke-width: 0.8\"/>\n      </g>\n     </g>\n     <g id=\"text_8\">\n      <!-- 0 -->\n      <g transform=\"translate(39.965625 192.437344) scale(0.1 -0.1)\">\n       <use xlink:href=\"#DejaVuSans-30\"/>\n      </g>\n     </g>\n    </g>\n    <g id=\"ytick_2\">\n     <g id=\"line2d_17\">\n      <path d=\"M 53.328125 165.983663 \nL 443.928125 165.983663 \n\" clip-path=\"url(#p6484cb8e22)\" style=\"fill: none; stroke: #b0b0b0; stroke-width: 0.8; stroke-linecap: square\"/>\n     </g>\n     <g id=\"line2d_18\">\n      <g>\n       <use xlink:href=\"#mb75ebf09bc\" x=\"53.328125\" y=\"165.983663\" style=\"stroke: #000000; stroke-width: 0.8\"/>\n      </g>\n     </g>\n     <g id=\"text_9\">\n      <!-- 250 -->\n      <g transform=\"translate(27.240625 169.782882) scale(0.1 -0.1)\">\n       <use xlink:href=\"#DejaVuSans-32\"/>\n       <use xlink:href=\"#DejaVuSans-35\" x=\"63.623047\"/>\n       <use xlink:href=\"#DejaVuSans-30\" x=\"127.246094\"/>\n      </g>\n     </g>\n    </g>\n    <g id=\"ytick_3\">\n     <g id=\"line2d_19\">\n      <path d=\"M 53.328125 143.329201 \nL 443.928125 143.329201 \n\" clip-path=\"url(#p6484cb8e22)\" style=\"fill: none; stroke: #b0b0b0; stroke-width: 0.8; stroke-linecap: square\"/>\n     </g>\n     <g id=\"line2d_20\">\n      <g>\n       <use xlink:href=\"#mb75ebf09bc\" x=\"53.328125\" y=\"143.329201\" style=\"stroke: #000000; stroke-width: 0.8\"/>\n      </g>\n     </g>\n     <g id=\"text_10\">\n      <!-- 500 -->\n      <g transform=\"translate(27.240625 147.128419) scale(0.1 -0.1)\">\n       <use xlink:href=\"#DejaVuSans-35\"/>\n       <use xlink:href=\"#DejaVuSans-30\" x=\"63.623047\"/>\n       <use xlink:href=\"#DejaVuSans-30\" x=\"127.246094\"/>\n      </g>\n     </g>\n    </g>\n    <g id=\"ytick_4\">\n     <g id=\"line2d_21\">\n      <path d=\"M 53.328125 120.674738 \nL 443.928125 120.674738 \n\" clip-path=\"url(#p6484cb8e22)\" style=\"fill: none; stroke: #b0b0b0; stroke-width: 0.8; stroke-linecap: square\"/>\n     </g>\n     <g id=\"line2d_22\">\n      <g>\n       <use xlink:href=\"#mb75ebf09bc\" x=\"53.328125\" y=\"120.674738\" style=\"stroke: #000000; stroke-width: 0.8\"/>\n      </g>\n     </g>\n     <g id=\"text_11\">\n      <!-- 750 -->\n      <g transform=\"translate(27.240625 124.473957) scale(0.1 -0.1)\">\n       <defs>\n        <path id=\"DejaVuSans-37\" d=\"M 525 4666 \nL 3525 4666 \nL 3525 4397 \nL 1831 0 \nL 1172 0 \nL 2766 4134 \nL 525 4134 \nL 525 4666 \nz\n\" transform=\"scale(0.015625)\"/>\n       </defs>\n       <use xlink:href=\"#DejaVuSans-37\"/>\n       <use xlink:href=\"#DejaVuSans-35\" x=\"63.623047\"/>\n       <use xlink:href=\"#DejaVuSans-30\" x=\"127.246094\"/>\n      </g>\n     </g>\n    </g>\n    <g id=\"ytick_5\">\n     <g id=\"line2d_23\">\n      <path d=\"M 53.328125 98.020276 \nL 443.928125 98.020276 \n\" clip-path=\"url(#p6484cb8e22)\" style=\"fill: none; stroke: #b0b0b0; stroke-width: 0.8; stroke-linecap: square\"/>\n     </g>\n     <g id=\"line2d_24\">\n      <g>\n       <use xlink:href=\"#mb75ebf09bc\" x=\"53.328125\" y=\"98.020276\" style=\"stroke: #000000; stroke-width: 0.8\"/>\n      </g>\n     </g>\n     <g id=\"text_12\">\n      <!-- 1000 -->\n      <g transform=\"translate(20.878125 101.819495) scale(0.1 -0.1)\">\n       <use xlink:href=\"#DejaVuSans-31\"/>\n       <use xlink:href=\"#DejaVuSans-30\" x=\"63.623047\"/>\n       <use xlink:href=\"#DejaVuSans-30\" x=\"127.246094\"/>\n       <use xlink:href=\"#DejaVuSans-30\" x=\"190.869141\"/>\n      </g>\n     </g>\n    </g>\n    <g id=\"ytick_6\">\n     <g id=\"line2d_25\">\n      <path d=\"M 53.328125 75.365814 \nL 443.928125 75.365814 \n\" clip-path=\"url(#p6484cb8e22)\" style=\"fill: none; stroke: #b0b0b0; stroke-width: 0.8; stroke-linecap: square\"/>\n     </g>\n     <g id=\"line2d_26\">\n      <g>\n       <use xlink:href=\"#mb75ebf09bc\" x=\"53.328125\" y=\"75.365814\" style=\"stroke: #000000; stroke-width: 0.8\"/>\n      </g>\n     </g>\n     <g id=\"text_13\">\n      <!-- 1250 -->\n      <g transform=\"translate(20.878125 79.165033) scale(0.1 -0.1)\">\n       <use xlink:href=\"#DejaVuSans-31\"/>\n       <use xlink:href=\"#DejaVuSans-32\" x=\"63.623047\"/>\n       <use xlink:href=\"#DejaVuSans-35\" x=\"127.246094\"/>\n       <use xlink:href=\"#DejaVuSans-30\" x=\"190.869141\"/>\n      </g>\n     </g>\n    </g>\n    <g id=\"ytick_7\">\n     <g id=\"line2d_27\">\n      <path d=\"M 53.328125 52.711352 \nL 443.928125 52.711352 \n\" clip-path=\"url(#p6484cb8e22)\" style=\"fill: none; stroke: #b0b0b0; stroke-width: 0.8; stroke-linecap: square\"/>\n     </g>\n     <g id=\"line2d_28\">\n      <g>\n       <use xlink:href=\"#mb75ebf09bc\" x=\"53.328125\" y=\"52.711352\" style=\"stroke: #000000; stroke-width: 0.8\"/>\n      </g>\n     </g>\n     <g id=\"text_14\">\n      <!-- 1500 -->\n      <g transform=\"translate(20.878125 56.51057) scale(0.1 -0.1)\">\n       <use xlink:href=\"#DejaVuSans-31\"/>\n       <use xlink:href=\"#DejaVuSans-35\" x=\"63.623047\"/>\n       <use xlink:href=\"#DejaVuSans-30\" x=\"127.246094\"/>\n       <use xlink:href=\"#DejaVuSans-30\" x=\"190.869141\"/>\n      </g>\n     </g>\n    </g>\n    <g id=\"ytick_8\">\n     <g id=\"line2d_29\">\n      <path d=\"M 53.328125 30.056889 \nL 443.928125 30.056889 \n\" clip-path=\"url(#p6484cb8e22)\" style=\"fill: none; stroke: #b0b0b0; stroke-width: 0.8; stroke-linecap: square\"/>\n     </g>\n     <g id=\"line2d_30\">\n      <g>\n       <use xlink:href=\"#mb75ebf09bc\" x=\"53.328125\" y=\"30.056889\" style=\"stroke: #000000; stroke-width: 0.8\"/>\n      </g>\n     </g>\n     <g id=\"text_15\">\n      <!-- 1750 -->\n      <g transform=\"translate(20.878125 33.856108) scale(0.1 -0.1)\">\n       <use xlink:href=\"#DejaVuSans-31\"/>\n       <use xlink:href=\"#DejaVuSans-37\" x=\"63.623047\"/>\n       <use xlink:href=\"#DejaVuSans-35\" x=\"127.246094\"/>\n       <use xlink:href=\"#DejaVuSans-30\" x=\"190.869141\"/>\n      </g>\n     </g>\n    </g>\n    <g id=\"text_16\">\n     <!-- Frequency -->\n     <g transform=\"translate(14.798438 131.307813) rotate(-90) scale(0.1 -0.1)\">\n      <defs>\n       <path id=\"DejaVuSans-46\" d=\"M 628 4666 \nL 3309 4666 \nL 3309 4134 \nL 1259 4134 \nL 1259 2759 \nL 3109 2759 \nL 3109 2228 \nL 1259 2228 \nL 1259 0 \nL 628 0 \nL 628 4666 \nz\n\" transform=\"scale(0.015625)\"/>\n       <path id=\"DejaVuSans-72\" d=\"M 2631 2963 \nQ 2534 3019 2420 3045 \nQ 2306 3072 2169 3072 \nQ 1681 3072 1420 2755 \nQ 1159 2438 1159 1844 \nL 1159 0 \nL 581 0 \nL 581 3500 \nL 1159 3500 \nL 1159 2956 \nQ 1341 3275 1631 3429 \nQ 1922 3584 2338 3584 \nQ 2397 3584 2469 3576 \nQ 2541 3569 2628 3553 \nL 2631 2963 \nz\n\" transform=\"scale(0.015625)\"/>\n       <path id=\"DejaVuSans-65\" d=\"M 3597 1894 \nL 3597 1613 \nL 953 1613 \nQ 991 1019 1311 708 \nQ 1631 397 2203 397 \nQ 2534 397 2845 478 \nQ 3156 559 3463 722 \nL 3463 178 \nQ 3153 47 2828 -22 \nQ 2503 -91 2169 -91 \nQ 1331 -91 842 396 \nQ 353 884 353 1716 \nQ 353 2575 817 3079 \nQ 1281 3584 2069 3584 \nQ 2775 3584 3186 3129 \nQ 3597 2675 3597 1894 \nz\nM 3022 2063 \nQ 3016 2534 2758 2815 \nQ 2500 3097 2075 3097 \nQ 1594 3097 1305 2825 \nQ 1016 2553 972 2059 \nL 3022 2063 \nz\n\" transform=\"scale(0.015625)\"/>\n       <path id=\"DejaVuSans-71\" d=\"M 947 1747 \nQ 947 1113 1208 752 \nQ 1469 391 1925 391 \nQ 2381 391 2643 752 \nQ 2906 1113 2906 1747 \nQ 2906 2381 2643 2742 \nQ 2381 3103 1925 3103 \nQ 1469 3103 1208 2742 \nQ 947 2381 947 1747 \nz\nM 2906 525 \nQ 2725 213 2448 61 \nQ 2172 -91 1784 -91 \nQ 1150 -91 751 415 \nQ 353 922 353 1747 \nQ 353 2572 751 3078 \nQ 1150 3584 1784 3584 \nQ 2172 3584 2448 3432 \nQ 2725 3281 2906 2969 \nL 2906 3500 \nL 3481 3500 \nL 3481 -1331 \nL 2906 -1331 \nL 2906 525 \nz\n\" transform=\"scale(0.015625)\"/>\n       <path id=\"DejaVuSans-75\" d=\"M 544 1381 \nL 544 3500 \nL 1119 3500 \nL 1119 1403 \nQ 1119 906 1312 657 \nQ 1506 409 1894 409 \nQ 2359 409 2629 706 \nQ 2900 1003 2900 1516 \nL 2900 3500 \nL 3475 3500 \nL 3475 0 \nL 2900 0 \nL 2900 538 \nQ 2691 219 2414 64 \nQ 2138 -91 1772 -91 \nQ 1169 -91 856 284 \nQ 544 659 544 1381 \nz\nM 1991 3584 \nL 1991 3584 \nz\n\" transform=\"scale(0.015625)\"/>\n       <path id=\"DejaVuSans-6e\" d=\"M 3513 2113 \nL 3513 0 \nL 2938 0 \nL 2938 2094 \nQ 2938 2591 2744 2837 \nQ 2550 3084 2163 3084 \nQ 1697 3084 1428 2787 \nQ 1159 2491 1159 1978 \nL 1159 0 \nL 581 0 \nL 581 3500 \nL 1159 3500 \nL 1159 2956 \nQ 1366 3272 1645 3428 \nQ 1925 3584 2291 3584 \nQ 2894 3584 3203 3211 \nQ 3513 2838 3513 2113 \nz\n\" transform=\"scale(0.015625)\"/>\n       <path id=\"DejaVuSans-63\" d=\"M 3122 3366 \nL 3122 2828 \nQ 2878 2963 2633 3030 \nQ 2388 3097 2138 3097 \nQ 1578 3097 1268 2742 \nQ 959 2388 959 1747 \nQ 959 1106 1268 751 \nQ 1578 397 2138 397 \nQ 2388 397 2633 464 \nQ 2878 531 3122 666 \nL 3122 134 \nQ 2881 22 2623 -34 \nQ 2366 -91 2075 -91 \nQ 1284 -91 818 406 \nQ 353 903 353 1747 \nQ 353 2603 823 3093 \nQ 1294 3584 2113 3584 \nQ 2378 3584 2631 3529 \nQ 2884 3475 3122 3366 \nz\n\" transform=\"scale(0.015625)\"/>\n       <path id=\"DejaVuSans-79\" d=\"M 2059 -325 \nQ 1816 -950 1584 -1140 \nQ 1353 -1331 966 -1331 \nL 506 -1331 \nL 506 -850 \nL 844 -850 \nQ 1081 -850 1212 -737 \nQ 1344 -625 1503 -206 \nL 1606 56 \nL 191 3500 \nL 800 3500 \nL 1894 763 \nL 2988 3500 \nL 3597 3500 \nL 2059 -325 \nz\n\" transform=\"scale(0.015625)\"/>\n      </defs>\n      <use xlink:href=\"#DejaVuSans-46\"/>\n      <use xlink:href=\"#DejaVuSans-72\" x=\"50.269531\"/>\n      <use xlink:href=\"#DejaVuSans-65\" x=\"89.132812\"/>\n      <use xlink:href=\"#DejaVuSans-71\" x=\"150.65625\"/>\n      <use xlink:href=\"#DejaVuSans-75\" x=\"214.132812\"/>\n      <use xlink:href=\"#DejaVuSans-65\" x=\"277.511719\"/>\n      <use xlink:href=\"#DejaVuSans-6e\" x=\"339.035156\"/>\n      <use xlink:href=\"#DejaVuSans-63\" x=\"402.414062\"/>\n      <use xlink:href=\"#DejaVuSans-79\" x=\"457.394531\"/>\n     </g>\n    </g>\n   </g>\n   <g id=\"patch_33\">\n    <path d=\"M 53.328125 188.638125 \nL 53.328125 22.318125 \n\" style=\"fill: none; stroke: #000000; stroke-width: 0.8; stroke-linejoin: miter; stroke-linecap: square\"/>\n   </g>\n   <g id=\"patch_34\">\n    <path d=\"M 443.928125 188.638125 \nL 443.928125 22.318125 \n\" style=\"fill: none; stroke: #000000; stroke-width: 0.8; stroke-linejoin: miter; stroke-linecap: square\"/>\n   </g>\n   <g id=\"patch_35\">\n    <path d=\"M 53.328125 188.638125 \nL 443.928125 188.638125 \n\" style=\"fill: none; stroke: #000000; stroke-width: 0.8; stroke-linejoin: miter; stroke-linecap: square\"/>\n   </g>\n   <g id=\"patch_36\">\n    <path d=\"M 53.328125 22.318125 \nL 443.928125 22.318125 \n\" style=\"fill: none; stroke: #000000; stroke-width: 0.8; stroke-linejoin: miter; stroke-linecap: square\"/>\n   </g>\n   <g id=\"text_17\">\n    <!-- Члены семьи -->\n    <g transform=\"translate(207.468125 16.318125) scale(0.12 -0.12)\">\n     <defs>\n      <path id=\"DejaVuSans-427\" d=\"M 3125 0 \nL 3125 1913 \nL 1822 1913 \nQ 1241 1913 894 2277 \nQ 547 2641 547 3384 \nL 547 4666 \nL 1175 4666 \nL 1175 3434 \nQ 1175 2938 1369 2691 \nQ 1563 2444 1950 2444 \nL 3125 2444 \nL 3125 4666 \nL 3759 4666 \nL 3759 0 \nL 3125 0 \nz\n\" transform=\"scale(0.015625)\"/>\n      <path id=\"DejaVuSans-43b\" d=\"M 238 0 \nL 238 478 \nQ 806 566 981 959 \nQ 1194 1513 1194 2928 \nL 1194 3500 \nL 3559 3500 \nL 3559 0 \nL 2984 0 \nL 2984 3041 \nL 1769 3041 \nL 1769 2694 \nQ 1769 1344 1494 738 \nQ 1200 91 238 0 \nz\n\" transform=\"scale(0.015625)\"/>\n      <path id=\"DejaVuSans-435\" d=\"M 3597 1894 \nL 3597 1613 \nL 953 1613 \nQ 991 1019 1311 708 \nQ 1631 397 2203 397 \nQ 2534 397 2845 478 \nQ 3156 559 3463 722 \nL 3463 178 \nQ 3153 47 2828 -22 \nQ 2503 -91 2169 -91 \nQ 1331 -91 842 396 \nQ 353 884 353 1716 \nQ 353 2575 817 3079 \nQ 1281 3584 2069 3584 \nQ 2775 3584 3186 3129 \nQ 3597 2675 3597 1894 \nz\nM 3022 2063 \nQ 3016 2534 2758 2815 \nQ 2500 3097 2075 3097 \nQ 1594 3097 1305 2825 \nQ 1016 2553 972 2059 \nL 3022 2063 \nz\n\" transform=\"scale(0.015625)\"/>\n      <path id=\"DejaVuSans-43d\" d=\"M 581 3500 \nL 1159 3500 \nL 1159 2072 \nL 3025 2072 \nL 3025 3500 \nL 3603 3500 \nL 3603 0 \nL 3025 0 \nL 3025 1613 \nL 1159 1613 \nL 1159 0 \nL 581 0 \nL 581 3500 \nz\n\" transform=\"scale(0.015625)\"/>\n      <path id=\"DejaVuSans-44b\" d=\"M 3907 3500 \nL 4482 3500 \nL 4482 0 \nL 3907 0 \nL 3907 3500 \nz\nM 4195 3584 \nL 4195 3584 \nz\nM 2781 1038 \nQ 2781 1319 2576 1466 \nQ 2372 1613 1978 1613 \nL 1159 1613 \nL 1159 459 \nL 1978 459 \nQ 2372 459 2576 607 \nQ 2781 756 2781 1038 \nz\nM 581 3500 \nL 1159 3500 \nL 1159 2072 \nL 2003 2072 \nQ 2672 2072 3033 1817 \nQ 3394 1563 3394 1038 \nQ 3394 513 3033 256 \nQ 2672 0 2003 0 \nL 581 0 \nL 581 3500 \nz\n\" transform=\"scale(0.015625)\"/>\n      <path id=\"DejaVuSans-20\" transform=\"scale(0.015625)\"/>\n      <path id=\"DejaVuSans-441\" d=\"M 3122 3366 \nL 3122 2828 \nQ 2878 2963 2633 3030 \nQ 2388 3097 2138 3097 \nQ 1578 3097 1268 2742 \nQ 959 2388 959 1747 \nQ 959 1106 1268 751 \nQ 1578 397 2138 397 \nQ 2388 397 2633 464 \nQ 2878 531 3122 666 \nL 3122 134 \nQ 2881 22 2623 -34 \nQ 2366 -91 2075 -91 \nQ 1284 -91 818 406 \nQ 353 903 353 1747 \nQ 353 2603 823 3093 \nQ 1294 3584 2113 3584 \nQ 2378 3584 2631 3529 \nQ 2884 3475 3122 3366 \nz\n\" transform=\"scale(0.015625)\"/>\n      <path id=\"DejaVuSans-43c\" d=\"M 581 3500 \nL 1422 3500 \nL 2416 1156 \nL 3413 3500 \nL 4247 3500 \nL 4247 0 \nL 3669 0 \nL 3669 2950 \nL 2703 672 \nL 2128 672 \nL 1159 2950 \nL 1159 0 \nL 581 0 \nL 581 3500 \nz\n\" transform=\"scale(0.015625)\"/>\n      <path id=\"DejaVuSans-44c\" d=\"M 2781 1038 \nQ 2781 1319 2576 1466 \nQ 2372 1613 1978 1613 \nL 1159 1613 \nL 1159 459 \nL 1978 459 \nQ 2372 459 2576 607 \nQ 2781 756 2781 1038 \nz\nM 581 3500 \nL 1159 3500 \nL 1159 2072 \nL 2003 2072 \nQ 2672 2072 3033 1817 \nQ 3394 1563 3394 1038 \nQ 3394 513 3033 256 \nQ 2672 0 2003 0 \nL 581 0 \nL 581 3500 \nz\n\" transform=\"scale(0.015625)\"/>\n      <path id=\"DejaVuSans-438\" d=\"M 3578 3500 \nL 3578 0 \nL 3006 0 \nL 3006 2809 \nL 1319 0 \nL 581 0 \nL 581 3500 \nL 1153 3500 \nL 1153 697 \nL 2838 3500 \nL 3578 3500 \nz\n\" transform=\"scale(0.015625)\"/>\n     </defs>\n     <use xlink:href=\"#DejaVuSans-427\"/>\n     <use xlink:href=\"#DejaVuSans-43b\" x=\"68.554688\"/>\n     <use xlink:href=\"#DejaVuSans-435\" x=\"132.470703\"/>\n     <use xlink:href=\"#DejaVuSans-43d\" x=\"193.994141\"/>\n     <use xlink:href=\"#DejaVuSans-44b\" x=\"259.375\"/>\n     <use xlink:href=\"#DejaVuSans-20\" x=\"338.330078\"/>\n     <use xlink:href=\"#DejaVuSans-441\" x=\"370.117188\"/>\n     <use xlink:href=\"#DejaVuSans-435\" x=\"425.097656\"/>\n     <use xlink:href=\"#DejaVuSans-43c\" x=\"486.621094\"/>\n     <use xlink:href=\"#DejaVuSans-44c\" x=\"562.060547\"/>\n     <use xlink:href=\"#DejaVuSans-438\" x=\"620.996094\"/>\n    </g>\n   </g>\n  </g>\n </g>\n <defs>\n  <clipPath id=\"p6484cb8e22\">\n   <rect x=\"53.328125\" y=\"22.318125\" width=\"390.6\" height=\"166.32\"/>\n  </clipPath>\n </defs>\n</svg>\n"
          },
          "metadata": {}
        },
        {
          "output_type": "display_data",
          "data": {
            "text/plain": [
              "<Figure size 7000x3000 with 1 Axes>"
            ],
            "image/svg+xml": "<?xml version=\"1.0\" encoding=\"utf-8\" standalone=\"no\"?>\n<!DOCTYPE svg PUBLIC \"-//W3C//DTD SVG 1.1//EN\"\n  \"http://www.w3.org/Graphics/SVG/1.1/DTD/svg11.dtd\">\n<svg xmlns:xlink=\"http://www.w3.org/1999/xlink\" width=\"451.128125pt\" height=\"212.51625pt\" viewBox=\"0 0 451.128125 212.51625\" xmlns=\"http://www.w3.org/2000/svg\" version=\"1.1\">\n <metadata>\n  <rdf:RDF xmlns:dc=\"http://purl.org/dc/elements/1.1/\" xmlns:cc=\"http://creativecommons.org/ns#\" xmlns:rdf=\"http://www.w3.org/1999/02/22-rdf-syntax-ns#\">\n   <cc:Work>\n    <dc:type rdf:resource=\"http://purl.org/dc/dcmitype/StillImage\"/>\n    <dc:date>2023-09-21T08:12:31.828403</dc:date>\n    <dc:format>image/svg+xml</dc:format>\n    <dc:creator>\n     <cc:Agent>\n      <dc:title>Matplotlib v3.7.1, https://matplotlib.org/</dc:title>\n     </cc:Agent>\n    </dc:creator>\n   </cc:Work>\n  </rdf:RDF>\n </metadata>\n <defs>\n  <style type=\"text/css\">*{stroke-linejoin: round; stroke-linecap: butt}</style>\n </defs>\n <g id=\"figure_1\">\n  <g id=\"patch_1\">\n   <path d=\"M 0 212.51625 \nL 451.128125 212.51625 \nL 451.128125 0 \nL 0 0 \nz\n\" style=\"fill: #ffffff\"/>\n  </g>\n  <g id=\"axes_1\">\n   <g id=\"patch_2\">\n    <path d=\"M 53.328125 188.638125 \nL 443.928125 188.638125 \nL 443.928125 22.318125 \nL 53.328125 22.318125 \nz\n\" style=\"fill: #ffffff\"/>\n   </g>\n   <g id=\"patch_3\">\n    <path d=\"M 71.08267 188.638125 \nL 82.919034 188.638125 \nL 82.919034 30.238125 \nL 71.08267 30.238125 \nz\n\" clip-path=\"url(#p676a3233d3)\" style=\"fill: #ff4500\"/>\n   </g>\n   <g id=\"patch_4\">\n    <path d=\"M 82.919034 188.638125 \nL 94.755398 188.638125 \nL 94.755398 188.638125 \nL 82.919034 188.638125 \nz\n\" clip-path=\"url(#p676a3233d3)\" style=\"fill: #ff4500\"/>\n   </g>\n   <g id=\"patch_5\">\n    <path d=\"M 94.755398 188.638125 \nL 106.591761 188.638125 \nL 106.591761 188.638125 \nL 94.755398 188.638125 \nz\n\" clip-path=\"url(#p676a3233d3)\" style=\"fill: #ff4500\"/>\n   </g>\n   <g id=\"patch_6\">\n    <path d=\"M 106.591761 188.638125 \nL 118.428125 188.638125 \nL 118.428125 188.638125 \nL 106.591761 188.638125 \nz\n\" clip-path=\"url(#p676a3233d3)\" style=\"fill: #ff4500\"/>\n   </g>\n   <g id=\"patch_7\">\n    <path d=\"M 118.428125 188.638125 \nL 130.264489 188.638125 \nL 130.264489 188.638125 \nL 118.428125 188.638125 \nz\n\" clip-path=\"url(#p676a3233d3)\" style=\"fill: #ff4500\"/>\n   </g>\n   <g id=\"patch_8\">\n    <path d=\"M 130.264489 188.638125 \nL 142.100852 188.638125 \nL 142.100852 188.638125 \nL 130.264489 188.638125 \nz\n\" clip-path=\"url(#p676a3233d3)\" style=\"fill: #ff4500\"/>\n   </g>\n   <g id=\"patch_9\">\n    <path d=\"M 142.100852 188.638125 \nL 153.937216 188.638125 \nL 153.937216 172.997789 \nL 142.100852 172.997789 \nz\n\" clip-path=\"url(#p676a3233d3)\" style=\"fill: #ff4500\"/>\n   </g>\n   <g id=\"patch_10\">\n    <path d=\"M 153.937216 188.638125 \nL 165.77358 188.638125 \nL 165.77358 188.638125 \nL 153.937216 188.638125 \nz\n\" clip-path=\"url(#p676a3233d3)\" style=\"fill: #ff4500\"/>\n   </g>\n   <g id=\"patch_11\">\n    <path d=\"M 165.77358 188.638125 \nL 177.609943 188.638125 \nL 177.609943 188.638125 \nL 165.77358 188.638125 \nz\n\" clip-path=\"url(#p676a3233d3)\" style=\"fill: #ff4500\"/>\n   </g>\n   <g id=\"patch_12\">\n    <path d=\"M 177.609943 188.638125 \nL 189.446307 188.638125 \nL 189.446307 188.638125 \nL 177.609943 188.638125 \nz\n\" clip-path=\"url(#p676a3233d3)\" style=\"fill: #ff4500\"/>\n   </g>\n   <g id=\"patch_13\">\n    <path d=\"M 189.446307 188.638125 \nL 201.28267 188.638125 \nL 201.28267 188.638125 \nL 189.446307 188.638125 \nz\n\" clip-path=\"url(#p676a3233d3)\" style=\"fill: #ff4500\"/>\n   </g>\n   <g id=\"patch_14\">\n    <path d=\"M 201.28267 188.638125 \nL 213.119034 188.638125 \nL 213.119034 188.638125 \nL 201.28267 188.638125 \nz\n\" clip-path=\"url(#p676a3233d3)\" style=\"fill: #ff4500\"/>\n   </g>\n   <g id=\"patch_15\">\n    <path d=\"M 213.119034 188.638125 \nL 224.955398 188.638125 \nL 224.955398 184.422999 \nL 213.119034 184.422999 \nz\n\" clip-path=\"url(#p676a3233d3)\" style=\"fill: #ff4500\"/>\n   </g>\n   <g id=\"patch_16\">\n    <path d=\"M 224.955398 188.638125 \nL 236.791761 188.638125 \nL 236.791761 188.638125 \nL 224.955398 188.638125 \nz\n\" clip-path=\"url(#p676a3233d3)\" style=\"fill: #ff4500\"/>\n   </g>\n   <g id=\"patch_17\">\n    <path d=\"M 236.791761 188.638125 \nL 248.628125 188.638125 \nL 248.628125 188.638125 \nL 236.791761 188.638125 \nz\n\" clip-path=\"url(#p676a3233d3)\" style=\"fill: #ff4500\"/>\n   </g>\n   <g id=\"patch_18\">\n    <path d=\"M 248.628125 188.638125 \nL 260.464489 188.638125 \nL 260.464489 188.638125 \nL 248.628125 188.638125 \nz\n\" clip-path=\"url(#p676a3233d3)\" style=\"fill: #ff4500\"/>\n   </g>\n   <g id=\"patch_19\">\n    <path d=\"M 260.464489 188.638125 \nL 272.300852 188.638125 \nL 272.300852 188.638125 \nL 260.464489 188.638125 \nz\n\" clip-path=\"url(#p676a3233d3)\" style=\"fill: #ff4500\"/>\n   </g>\n   <g id=\"patch_20\">\n    <path d=\"M 272.300852 188.638125 \nL 284.137216 188.638125 \nL 284.137216 188.638125 \nL 272.300852 188.638125 \nz\n\" clip-path=\"url(#p676a3233d3)\" style=\"fill: #ff4500\"/>\n   </g>\n   <g id=\"patch_21\">\n    <path d=\"M 284.137216 188.638125 \nL 295.97358 188.638125 \nL 295.97358 187.972579 \nL 284.137216 187.972579 \nz\n\" clip-path=\"url(#p676a3233d3)\" style=\"fill: #ff4500\"/>\n   </g>\n   <g id=\"patch_22\">\n    <path d=\"M 295.97358 188.638125 \nL 307.809943 188.638125 \nL 307.809943 188.638125 \nL 295.97358 188.638125 \nz\n\" clip-path=\"url(#p676a3233d3)\" style=\"fill: #ff4500\"/>\n   </g>\n   <g id=\"patch_23\">\n    <path d=\"M 307.809943 188.638125 \nL 319.646307 188.638125 \nL 319.646307 188.638125 \nL 307.809943 188.638125 \nz\n\" clip-path=\"url(#p676a3233d3)\" style=\"fill: #ff4500\"/>\n   </g>\n   <g id=\"patch_24\">\n    <path d=\"M 319.646307 188.638125 \nL 331.48267 188.638125 \nL 331.48267 188.638125 \nL 319.646307 188.638125 \nz\n\" clip-path=\"url(#p676a3233d3)\" style=\"fill: #ff4500\"/>\n   </g>\n   <g id=\"patch_25\">\n    <path d=\"M 331.48267 188.638125 \nL 343.319034 188.638125 \nL 343.319034 188.638125 \nL 331.48267 188.638125 \nz\n\" clip-path=\"url(#p676a3233d3)\" style=\"fill: #ff4500\"/>\n   </g>\n   <g id=\"patch_26\">\n    <path d=\"M 343.319034 188.638125 \nL 355.155398 188.638125 \nL 355.155398 188.638125 \nL 343.319034 188.638125 \nz\n\" clip-path=\"url(#p676a3233d3)\" style=\"fill: #ff4500\"/>\n   </g>\n   <g id=\"patch_27\">\n    <path d=\"M 355.155398 188.638125 \nL 366.991761 188.638125 \nL 366.991761 188.379301 \nL 355.155398 188.379301 \nz\n\" clip-path=\"url(#p676a3233d3)\" style=\"fill: #ff4500\"/>\n   </g>\n   <g id=\"patch_28\">\n    <path d=\"M 366.991761 188.638125 \nL 378.828125 188.638125 \nL 378.828125 188.638125 \nL 366.991761 188.638125 \nz\n\" clip-path=\"url(#p676a3233d3)\" style=\"fill: #ff4500\"/>\n   </g>\n   <g id=\"patch_29\">\n    <path d=\"M 378.828125 188.638125 \nL 390.664489 188.638125 \nL 390.664489 188.638125 \nL 378.828125 188.638125 \nz\n\" clip-path=\"url(#p676a3233d3)\" style=\"fill: #ff4500\"/>\n   </g>\n   <g id=\"patch_30\">\n    <path d=\"M 390.664489 188.638125 \nL 402.500852 188.638125 \nL 402.500852 188.638125 \nL 390.664489 188.638125 \nz\n\" clip-path=\"url(#p676a3233d3)\" style=\"fill: #ff4500\"/>\n   </g>\n   <g id=\"patch_31\">\n    <path d=\"M 402.500852 188.638125 \nL 414.337216 188.638125 \nL 414.337216 188.638125 \nL 402.500852 188.638125 \nz\n\" clip-path=\"url(#p676a3233d3)\" style=\"fill: #ff4500\"/>\n   </g>\n   <g id=\"patch_32\">\n    <path d=\"M 414.337216 188.638125 \nL 426.17358 188.638125 \nL 426.17358 188.60115 \nL 414.337216 188.60115 \nz\n\" clip-path=\"url(#p676a3233d3)\" style=\"fill: #ff4500\"/>\n   </g>\n   <g id=\"matplotlib.axis_1\">\n    <g id=\"xtick_1\">\n     <g id=\"line2d_1\">\n      <path d=\"M 71.08267 188.638125 \nL 71.08267 22.318125 \n\" clip-path=\"url(#p676a3233d3)\" style=\"fill: none; stroke: #b0b0b0; stroke-width: 0.8; stroke-linecap: square\"/>\n     </g>\n     <g id=\"line2d_2\">\n      <defs>\n       <path id=\"m7d005c238c\" d=\"M 0 0 \nL 0 3.5 \n\" style=\"stroke: #000000; stroke-width: 0.8\"/>\n      </defs>\n      <g>\n       <use xlink:href=\"#m7d005c238c\" x=\"71.08267\" y=\"188.638125\" style=\"stroke: #000000; stroke-width: 0.8\"/>\n      </g>\n     </g>\n     <g id=\"text_1\">\n      <!-- 0 -->\n      <g transform=\"translate(67.90142 203.236563) scale(0.1 -0.1)\">\n       <defs>\n        <path id=\"DejaVuSans-30\" d=\"M 2034 4250 \nQ 1547 4250 1301 3770 \nQ 1056 3291 1056 2328 \nQ 1056 1369 1301 889 \nQ 1547 409 2034 409 \nQ 2525 409 2770 889 \nQ 3016 1369 3016 2328 \nQ 3016 3291 2770 3770 \nQ 2525 4250 2034 4250 \nz\nM 2034 4750 \nQ 2819 4750 3233 4129 \nQ 3647 3509 3647 2328 \nQ 3647 1150 3233 529 \nQ 2819 -91 2034 -91 \nQ 1250 -91 836 529 \nQ 422 1150 422 2328 \nQ 422 3509 836 4129 \nQ 1250 4750 2034 4750 \nz\n\" transform=\"scale(0.015625)\"/>\n       </defs>\n       <use xlink:href=\"#DejaVuSans-30\"/>\n      </g>\n     </g>\n    </g>\n    <g id=\"xtick_2\">\n     <g id=\"line2d_3\">\n      <path d=\"M 142.100852 188.638125 \nL 142.100852 22.318125 \n\" clip-path=\"url(#p676a3233d3)\" style=\"fill: none; stroke: #b0b0b0; stroke-width: 0.8; stroke-linecap: square\"/>\n     </g>\n     <g id=\"line2d_4\">\n      <g>\n       <use xlink:href=\"#m7d005c238c\" x=\"142.100852\" y=\"188.638125\" style=\"stroke: #000000; stroke-width: 0.8\"/>\n      </g>\n     </g>\n     <g id=\"text_2\">\n      <!-- 1 -->\n      <g transform=\"translate(138.919602 203.236563) scale(0.1 -0.1)\">\n       <defs>\n        <path id=\"DejaVuSans-31\" d=\"M 794 531 \nL 1825 531 \nL 1825 4091 \nL 703 3866 \nL 703 4441 \nL 1819 4666 \nL 2450 4666 \nL 2450 531 \nL 3481 531 \nL 3481 0 \nL 794 0 \nL 794 531 \nz\n\" transform=\"scale(0.015625)\"/>\n       </defs>\n       <use xlink:href=\"#DejaVuSans-31\"/>\n      </g>\n     </g>\n    </g>\n    <g id=\"xtick_3\">\n     <g id=\"line2d_5\">\n      <path d=\"M 213.119034 188.638125 \nL 213.119034 22.318125 \n\" clip-path=\"url(#p676a3233d3)\" style=\"fill: none; stroke: #b0b0b0; stroke-width: 0.8; stroke-linecap: square\"/>\n     </g>\n     <g id=\"line2d_6\">\n      <g>\n       <use xlink:href=\"#m7d005c238c\" x=\"213.119034\" y=\"188.638125\" style=\"stroke: #000000; stroke-width: 0.8\"/>\n      </g>\n     </g>\n     <g id=\"text_3\">\n      <!-- 2 -->\n      <g transform=\"translate(209.937784 203.236563) scale(0.1 -0.1)\">\n       <defs>\n        <path id=\"DejaVuSans-32\" d=\"M 1228 531 \nL 3431 531 \nL 3431 0 \nL 469 0 \nL 469 531 \nQ 828 903 1448 1529 \nQ 2069 2156 2228 2338 \nQ 2531 2678 2651 2914 \nQ 2772 3150 2772 3378 \nQ 2772 3750 2511 3984 \nQ 2250 4219 1831 4219 \nQ 1534 4219 1204 4116 \nQ 875 4013 500 3803 \nL 500 4441 \nQ 881 4594 1212 4672 \nQ 1544 4750 1819 4750 \nQ 2544 4750 2975 4387 \nQ 3406 4025 3406 3419 \nQ 3406 3131 3298 2873 \nQ 3191 2616 2906 2266 \nQ 2828 2175 2409 1742 \nQ 1991 1309 1228 531 \nz\n\" transform=\"scale(0.015625)\"/>\n       </defs>\n       <use xlink:href=\"#DejaVuSans-32\"/>\n      </g>\n     </g>\n    </g>\n    <g id=\"xtick_4\">\n     <g id=\"line2d_7\">\n      <path d=\"M 284.137216 188.638125 \nL 284.137216 22.318125 \n\" clip-path=\"url(#p676a3233d3)\" style=\"fill: none; stroke: #b0b0b0; stroke-width: 0.8; stroke-linecap: square\"/>\n     </g>\n     <g id=\"line2d_8\">\n      <g>\n       <use xlink:href=\"#m7d005c238c\" x=\"284.137216\" y=\"188.638125\" style=\"stroke: #000000; stroke-width: 0.8\"/>\n      </g>\n     </g>\n     <g id=\"text_4\">\n      <!-- 3 -->\n      <g transform=\"translate(280.955966 203.236563) scale(0.1 -0.1)\">\n       <defs>\n        <path id=\"DejaVuSans-33\" d=\"M 2597 2516 \nQ 3050 2419 3304 2112 \nQ 3559 1806 3559 1356 \nQ 3559 666 3084 287 \nQ 2609 -91 1734 -91 \nQ 1441 -91 1130 -33 \nQ 819 25 488 141 \nL 488 750 \nQ 750 597 1062 519 \nQ 1375 441 1716 441 \nQ 2309 441 2620 675 \nQ 2931 909 2931 1356 \nQ 2931 1769 2642 2001 \nQ 2353 2234 1838 2234 \nL 1294 2234 \nL 1294 2753 \nL 1863 2753 \nQ 2328 2753 2575 2939 \nQ 2822 3125 2822 3475 \nQ 2822 3834 2567 4026 \nQ 2313 4219 1838 4219 \nQ 1578 4219 1281 4162 \nQ 984 4106 628 3988 \nL 628 4550 \nQ 988 4650 1302 4700 \nQ 1616 4750 1894 4750 \nQ 2613 4750 3031 4423 \nQ 3450 4097 3450 3541 \nQ 3450 3153 3228 2886 \nQ 3006 2619 2597 2516 \nz\n\" transform=\"scale(0.015625)\"/>\n       </defs>\n       <use xlink:href=\"#DejaVuSans-33\"/>\n      </g>\n     </g>\n    </g>\n    <g id=\"xtick_5\">\n     <g id=\"line2d_9\">\n      <path d=\"M 355.155398 188.638125 \nL 355.155398 22.318125 \n\" clip-path=\"url(#p676a3233d3)\" style=\"fill: none; stroke: #b0b0b0; stroke-width: 0.8; stroke-linecap: square\"/>\n     </g>\n     <g id=\"line2d_10\">\n      <g>\n       <use xlink:href=\"#m7d005c238c\" x=\"355.155398\" y=\"188.638125\" style=\"stroke: #000000; stroke-width: 0.8\"/>\n      </g>\n     </g>\n     <g id=\"text_5\">\n      <!-- 4 -->\n      <g transform=\"translate(351.974148 203.236563) scale(0.1 -0.1)\">\n       <defs>\n        <path id=\"DejaVuSans-34\" d=\"M 2419 4116 \nL 825 1625 \nL 2419 1625 \nL 2419 4116 \nz\nM 2253 4666 \nL 3047 4666 \nL 3047 1625 \nL 3713 1625 \nL 3713 1100 \nL 3047 1100 \nL 3047 0 \nL 2419 0 \nL 2419 1100 \nL 313 1100 \nL 313 1709 \nL 2253 4666 \nz\n\" transform=\"scale(0.015625)\"/>\n       </defs>\n       <use xlink:href=\"#DejaVuSans-34\"/>\n      </g>\n     </g>\n    </g>\n    <g id=\"xtick_6\">\n     <g id=\"line2d_11\">\n      <path d=\"M 426.17358 188.638125 \nL 426.17358 22.318125 \n\" clip-path=\"url(#p676a3233d3)\" style=\"fill: none; stroke: #b0b0b0; stroke-width: 0.8; stroke-linecap: square\"/>\n     </g>\n     <g id=\"line2d_12\">\n      <g>\n       <use xlink:href=\"#m7d005c238c\" x=\"426.17358\" y=\"188.638125\" style=\"stroke: #000000; stroke-width: 0.8\"/>\n      </g>\n     </g>\n     <g id=\"text_6\">\n      <!-- 5 -->\n      <g transform=\"translate(422.99233 203.236563) scale(0.1 -0.1)\">\n       <defs>\n        <path id=\"DejaVuSans-35\" d=\"M 691 4666 \nL 3169 4666 \nL 3169 4134 \nL 1269 4134 \nL 1269 2991 \nQ 1406 3038 1543 3061 \nQ 1681 3084 1819 3084 \nQ 2600 3084 3056 2656 \nQ 3513 2228 3513 1497 \nQ 3513 744 3044 326 \nQ 2575 -91 1722 -91 \nQ 1428 -91 1123 -41 \nQ 819 9 494 109 \nL 494 744 \nQ 775 591 1075 516 \nQ 1375 441 1709 441 \nQ 2250 441 2565 725 \nQ 2881 1009 2881 1497 \nQ 2881 1984 2565 2268 \nQ 2250 2553 1709 2553 \nQ 1456 2553 1204 2497 \nQ 953 2441 691 2322 \nL 691 4666 \nz\n\" transform=\"scale(0.015625)\"/>\n       </defs>\n       <use xlink:href=\"#DejaVuSans-35\"/>\n      </g>\n     </g>\n    </g>\n   </g>\n   <g id=\"matplotlib.axis_2\">\n    <g id=\"ytick_1\">\n     <g id=\"line2d_13\">\n      <path d=\"M 53.328125 188.638125 \nL 443.928125 188.638125 \n\" clip-path=\"url(#p676a3233d3)\" style=\"fill: none; stroke: #b0b0b0; stroke-width: 0.8; stroke-linecap: square\"/>\n     </g>\n     <g id=\"line2d_14\">\n      <defs>\n       <path id=\"m6d3fc8203f\" d=\"M 0 0 \nL -3.5 0 \n\" style=\"stroke: #000000; stroke-width: 0.8\"/>\n      </defs>\n      <g>\n       <use xlink:href=\"#m6d3fc8203f\" x=\"53.328125\" y=\"188.638125\" style=\"stroke: #000000; stroke-width: 0.8\"/>\n      </g>\n     </g>\n     <g id=\"text_7\">\n      <!-- 0 -->\n      <g transform=\"translate(39.965625 192.437344) scale(0.1 -0.1)\">\n       <use xlink:href=\"#DejaVuSans-30\"/>\n      </g>\n     </g>\n    </g>\n    <g id=\"ytick_2\">\n     <g id=\"line2d_15\">\n      <path d=\"M 53.328125 151.663335 \nL 443.928125 151.663335 \n\" clip-path=\"url(#p676a3233d3)\" style=\"fill: none; stroke: #b0b0b0; stroke-width: 0.8; stroke-linecap: square\"/>\n     </g>\n     <g id=\"line2d_16\">\n      <g>\n       <use xlink:href=\"#m6d3fc8203f\" x=\"53.328125\" y=\"151.663335\" style=\"stroke: #000000; stroke-width: 0.8\"/>\n      </g>\n     </g>\n     <g id=\"text_8\">\n      <!-- 1000 -->\n      <g transform=\"translate(20.878125 155.462554) scale(0.1 -0.1)\">\n       <use xlink:href=\"#DejaVuSans-31\"/>\n       <use xlink:href=\"#DejaVuSans-30\" x=\"63.623047\"/>\n       <use xlink:href=\"#DejaVuSans-30\" x=\"127.246094\"/>\n       <use xlink:href=\"#DejaVuSans-30\" x=\"190.869141\"/>\n      </g>\n     </g>\n    </g>\n    <g id=\"ytick_3\">\n     <g id=\"line2d_17\">\n      <path d=\"M 53.328125 114.688545 \nL 443.928125 114.688545 \n\" clip-path=\"url(#p676a3233d3)\" style=\"fill: none; stroke: #b0b0b0; stroke-width: 0.8; stroke-linecap: square\"/>\n     </g>\n     <g id=\"line2d_18\">\n      <g>\n       <use xlink:href=\"#m6d3fc8203f\" x=\"53.328125\" y=\"114.688545\" style=\"stroke: #000000; stroke-width: 0.8\"/>\n      </g>\n     </g>\n     <g id=\"text_9\">\n      <!-- 2000 -->\n      <g transform=\"translate(20.878125 118.487764) scale(0.1 -0.1)\">\n       <use xlink:href=\"#DejaVuSans-32\"/>\n       <use xlink:href=\"#DejaVuSans-30\" x=\"63.623047\"/>\n       <use xlink:href=\"#DejaVuSans-30\" x=\"127.246094\"/>\n       <use xlink:href=\"#DejaVuSans-30\" x=\"190.869141\"/>\n      </g>\n     </g>\n    </g>\n    <g id=\"ytick_4\">\n     <g id=\"line2d_19\">\n      <path d=\"M 53.328125 77.713755 \nL 443.928125 77.713755 \n\" clip-path=\"url(#p676a3233d3)\" style=\"fill: none; stroke: #b0b0b0; stroke-width: 0.8; stroke-linecap: square\"/>\n     </g>\n     <g id=\"line2d_20\">\n      <g>\n       <use xlink:href=\"#m6d3fc8203f\" x=\"53.328125\" y=\"77.713755\" style=\"stroke: #000000; stroke-width: 0.8\"/>\n      </g>\n     </g>\n     <g id=\"text_10\">\n      <!-- 3000 -->\n      <g transform=\"translate(20.878125 81.512974) scale(0.1 -0.1)\">\n       <use xlink:href=\"#DejaVuSans-33\"/>\n       <use xlink:href=\"#DejaVuSans-30\" x=\"63.623047\"/>\n       <use xlink:href=\"#DejaVuSans-30\" x=\"127.246094\"/>\n       <use xlink:href=\"#DejaVuSans-30\" x=\"190.869141\"/>\n      </g>\n     </g>\n    </g>\n    <g id=\"ytick_5\">\n     <g id=\"line2d_21\">\n      <path d=\"M 53.328125 40.738965 \nL 443.928125 40.738965 \n\" clip-path=\"url(#p676a3233d3)\" style=\"fill: none; stroke: #b0b0b0; stroke-width: 0.8; stroke-linecap: square\"/>\n     </g>\n     <g id=\"line2d_22\">\n      <g>\n       <use xlink:href=\"#m6d3fc8203f\" x=\"53.328125\" y=\"40.738965\" style=\"stroke: #000000; stroke-width: 0.8\"/>\n      </g>\n     </g>\n     <g id=\"text_11\">\n      <!-- 4000 -->\n      <g transform=\"translate(20.878125 44.538184) scale(0.1 -0.1)\">\n       <use xlink:href=\"#DejaVuSans-34\"/>\n       <use xlink:href=\"#DejaVuSans-30\" x=\"63.623047\"/>\n       <use xlink:href=\"#DejaVuSans-30\" x=\"127.246094\"/>\n       <use xlink:href=\"#DejaVuSans-30\" x=\"190.869141\"/>\n      </g>\n     </g>\n    </g>\n    <g id=\"text_12\">\n     <!-- Frequency -->\n     <g transform=\"translate(14.798438 131.307813) rotate(-90) scale(0.1 -0.1)\">\n      <defs>\n       <path id=\"DejaVuSans-46\" d=\"M 628 4666 \nL 3309 4666 \nL 3309 4134 \nL 1259 4134 \nL 1259 2759 \nL 3109 2759 \nL 3109 2228 \nL 1259 2228 \nL 1259 0 \nL 628 0 \nL 628 4666 \nz\n\" transform=\"scale(0.015625)\"/>\n       <path id=\"DejaVuSans-72\" d=\"M 2631 2963 \nQ 2534 3019 2420 3045 \nQ 2306 3072 2169 3072 \nQ 1681 3072 1420 2755 \nQ 1159 2438 1159 1844 \nL 1159 0 \nL 581 0 \nL 581 3500 \nL 1159 3500 \nL 1159 2956 \nQ 1341 3275 1631 3429 \nQ 1922 3584 2338 3584 \nQ 2397 3584 2469 3576 \nQ 2541 3569 2628 3553 \nL 2631 2963 \nz\n\" transform=\"scale(0.015625)\"/>\n       <path id=\"DejaVuSans-65\" d=\"M 3597 1894 \nL 3597 1613 \nL 953 1613 \nQ 991 1019 1311 708 \nQ 1631 397 2203 397 \nQ 2534 397 2845 478 \nQ 3156 559 3463 722 \nL 3463 178 \nQ 3153 47 2828 -22 \nQ 2503 -91 2169 -91 \nQ 1331 -91 842 396 \nQ 353 884 353 1716 \nQ 353 2575 817 3079 \nQ 1281 3584 2069 3584 \nQ 2775 3584 3186 3129 \nQ 3597 2675 3597 1894 \nz\nM 3022 2063 \nQ 3016 2534 2758 2815 \nQ 2500 3097 2075 3097 \nQ 1594 3097 1305 2825 \nQ 1016 2553 972 2059 \nL 3022 2063 \nz\n\" transform=\"scale(0.015625)\"/>\n       <path id=\"DejaVuSans-71\" d=\"M 947 1747 \nQ 947 1113 1208 752 \nQ 1469 391 1925 391 \nQ 2381 391 2643 752 \nQ 2906 1113 2906 1747 \nQ 2906 2381 2643 2742 \nQ 2381 3103 1925 3103 \nQ 1469 3103 1208 2742 \nQ 947 2381 947 1747 \nz\nM 2906 525 \nQ 2725 213 2448 61 \nQ 2172 -91 1784 -91 \nQ 1150 -91 751 415 \nQ 353 922 353 1747 \nQ 353 2572 751 3078 \nQ 1150 3584 1784 3584 \nQ 2172 3584 2448 3432 \nQ 2725 3281 2906 2969 \nL 2906 3500 \nL 3481 3500 \nL 3481 -1331 \nL 2906 -1331 \nL 2906 525 \nz\n\" transform=\"scale(0.015625)\"/>\n       <path id=\"DejaVuSans-75\" d=\"M 544 1381 \nL 544 3500 \nL 1119 3500 \nL 1119 1403 \nQ 1119 906 1312 657 \nQ 1506 409 1894 409 \nQ 2359 409 2629 706 \nQ 2900 1003 2900 1516 \nL 2900 3500 \nL 3475 3500 \nL 3475 0 \nL 2900 0 \nL 2900 538 \nQ 2691 219 2414 64 \nQ 2138 -91 1772 -91 \nQ 1169 -91 856 284 \nQ 544 659 544 1381 \nz\nM 1991 3584 \nL 1991 3584 \nz\n\" transform=\"scale(0.015625)\"/>\n       <path id=\"DejaVuSans-6e\" d=\"M 3513 2113 \nL 3513 0 \nL 2938 0 \nL 2938 2094 \nQ 2938 2591 2744 2837 \nQ 2550 3084 2163 3084 \nQ 1697 3084 1428 2787 \nQ 1159 2491 1159 1978 \nL 1159 0 \nL 581 0 \nL 581 3500 \nL 1159 3500 \nL 1159 2956 \nQ 1366 3272 1645 3428 \nQ 1925 3584 2291 3584 \nQ 2894 3584 3203 3211 \nQ 3513 2838 3513 2113 \nz\n\" transform=\"scale(0.015625)\"/>\n       <path id=\"DejaVuSans-63\" d=\"M 3122 3366 \nL 3122 2828 \nQ 2878 2963 2633 3030 \nQ 2388 3097 2138 3097 \nQ 1578 3097 1268 2742 \nQ 959 2388 959 1747 \nQ 959 1106 1268 751 \nQ 1578 397 2138 397 \nQ 2388 397 2633 464 \nQ 2878 531 3122 666 \nL 3122 134 \nQ 2881 22 2623 -34 \nQ 2366 -91 2075 -91 \nQ 1284 -91 818 406 \nQ 353 903 353 1747 \nQ 353 2603 823 3093 \nQ 1294 3584 2113 3584 \nQ 2378 3584 2631 3529 \nQ 2884 3475 3122 3366 \nz\n\" transform=\"scale(0.015625)\"/>\n       <path id=\"DejaVuSans-79\" d=\"M 2059 -325 \nQ 1816 -950 1584 -1140 \nQ 1353 -1331 966 -1331 \nL 506 -1331 \nL 506 -850 \nL 844 -850 \nQ 1081 -850 1212 -737 \nQ 1344 -625 1503 -206 \nL 1606 56 \nL 191 3500 \nL 800 3500 \nL 1894 763 \nL 2988 3500 \nL 3597 3500 \nL 2059 -325 \nz\n\" transform=\"scale(0.015625)\"/>\n      </defs>\n      <use xlink:href=\"#DejaVuSans-46\"/>\n      <use xlink:href=\"#DejaVuSans-72\" x=\"50.269531\"/>\n      <use xlink:href=\"#DejaVuSans-65\" x=\"89.132812\"/>\n      <use xlink:href=\"#DejaVuSans-71\" x=\"150.65625\"/>\n      <use xlink:href=\"#DejaVuSans-75\" x=\"214.132812\"/>\n      <use xlink:href=\"#DejaVuSans-65\" x=\"277.511719\"/>\n      <use xlink:href=\"#DejaVuSans-6e\" x=\"339.035156\"/>\n      <use xlink:href=\"#DejaVuSans-63\" x=\"402.414062\"/>\n      <use xlink:href=\"#DejaVuSans-79\" x=\"457.394531\"/>\n     </g>\n    </g>\n   </g>\n   <g id=\"patch_33\">\n    <path d=\"M 53.328125 188.638125 \nL 53.328125 22.318125 \n\" style=\"fill: none; stroke: #000000; stroke-width: 0.8; stroke-linejoin: miter; stroke-linecap: square\"/>\n   </g>\n   <g id=\"patch_34\">\n    <path d=\"M 443.928125 188.638125 \nL 443.928125 22.318125 \n\" style=\"fill: none; stroke: #000000; stroke-width: 0.8; stroke-linejoin: miter; stroke-linecap: square\"/>\n   </g>\n   <g id=\"patch_35\">\n    <path d=\"M 53.328125 188.638125 \nL 443.928125 188.638125 \n\" style=\"fill: none; stroke: #000000; stroke-width: 0.8; stroke-linejoin: miter; stroke-linecap: square\"/>\n   </g>\n   <g id=\"patch_36\">\n    <path d=\"M 53.328125 22.318125 \nL 443.928125 22.318125 \n\" style=\"fill: none; stroke: #000000; stroke-width: 0.8; stroke-linejoin: miter; stroke-linecap: square\"/>\n   </g>\n   <g id=\"text_13\">\n    <!-- Страховые выплаты -->\n    <g transform=\"translate(184.4225 16.318125) scale(0.12 -0.12)\">\n     <defs>\n      <path id=\"DejaVuSans-421\" d=\"M 4122 4306 \nL 4122 3641 \nQ 3803 3938 3442 4084 \nQ 3081 4231 2675 4231 \nQ 1875 4231 1450 3742 \nQ 1025 3253 1025 2328 \nQ 1025 1406 1450 917 \nQ 1875 428 2675 428 \nQ 3081 428 3442 575 \nQ 3803 722 4122 1019 \nL 4122 359 \nQ 3791 134 3420 21 \nQ 3050 -91 2638 -91 \nQ 1578 -91 968 557 \nQ 359 1206 359 2328 \nQ 359 3453 968 4101 \nQ 1578 4750 2638 4750 \nQ 3056 4750 3426 4639 \nQ 3797 4528 4122 4306 \nz\n\" transform=\"scale(0.015625)\"/>\n      <path id=\"DejaVuSans-442\" d=\"M 188 3500 \nL 3541 3500 \nL 3541 3041 \nL 2147 3041 \nL 2147 0 \nL 1581 0 \nL 1581 3041 \nL 188 3041 \nL 188 3500 \nz\n\" transform=\"scale(0.015625)\"/>\n      <path id=\"DejaVuSans-440\" d=\"M 1159 525 \nL 1159 -1331 \nL 581 -1331 \nL 581 3500 \nL 1159 3500 \nL 1159 2969 \nQ 1341 3281 1617 3432 \nQ 1894 3584 2278 3584 \nQ 2916 3584 3314 3078 \nQ 3713 2572 3713 1747 \nQ 3713 922 3314 415 \nQ 2916 -91 2278 -91 \nQ 1894 -91 1617 61 \nQ 1341 213 1159 525 \nz\nM 3116 1747 \nQ 3116 2381 2855 2742 \nQ 2594 3103 2138 3103 \nQ 1681 3103 1420 2742 \nQ 1159 2381 1159 1747 \nQ 1159 1113 1420 752 \nQ 1681 391 2138 391 \nQ 2594 391 2855 752 \nQ 3116 1113 3116 1747 \nz\n\" transform=\"scale(0.015625)\"/>\n      <path id=\"DejaVuSans-430\" d=\"M 2194 1759 \nQ 1497 1759 1228 1600 \nQ 959 1441 959 1056 \nQ 959 750 1161 570 \nQ 1363 391 1709 391 \nQ 2188 391 2477 730 \nQ 2766 1069 2766 1631 \nL 2766 1759 \nL 2194 1759 \nz\nM 3341 1997 \nL 3341 0 \nL 2766 0 \nL 2766 531 \nQ 2569 213 2275 61 \nQ 1981 -91 1556 -91 \nQ 1019 -91 701 211 \nQ 384 513 384 1019 \nQ 384 1609 779 1909 \nQ 1175 2209 1959 2209 \nL 2766 2209 \nL 2766 2266 \nQ 2766 2663 2505 2880 \nQ 2244 3097 1772 3097 \nQ 1472 3097 1187 3025 \nQ 903 2953 641 2809 \nL 641 3341 \nQ 956 3463 1253 3523 \nQ 1550 3584 1831 3584 \nQ 2591 3584 2966 3190 \nQ 3341 2797 3341 1997 \nz\n\" transform=\"scale(0.015625)\"/>\n      <path id=\"DejaVuSans-445\" d=\"M 3513 3500 \nL 2247 1797 \nL 3578 0 \nL 2900 0 \nL 1881 1375 \nL 863 0 \nL 184 0 \nL 1544 1831 \nL 300 3500 \nL 978 3500 \nL 1906 2253 \nL 2834 3500 \nL 3513 3500 \nz\n\" transform=\"scale(0.015625)\"/>\n      <path id=\"DejaVuSans-43e\" d=\"M 1959 3097 \nQ 1497 3097 1228 2736 \nQ 959 2375 959 1747 \nQ 959 1119 1226 758 \nQ 1494 397 1959 397 \nQ 2419 397 2687 759 \nQ 2956 1122 2956 1747 \nQ 2956 2369 2687 2733 \nQ 2419 3097 1959 3097 \nz\nM 1959 3584 \nQ 2709 3584 3137 3096 \nQ 3566 2609 3566 1747 \nQ 3566 888 3137 398 \nQ 2709 -91 1959 -91 \nQ 1206 -91 779 398 \nQ 353 888 353 1747 \nQ 353 2609 779 3096 \nQ 1206 3584 1959 3584 \nz\n\" transform=\"scale(0.015625)\"/>\n      <path id=\"DejaVuSans-432\" d=\"M 1156 1613 \nL 1156 459 \nL 1975 459 \nQ 2369 459 2575 607 \nQ 2781 756 2781 1038 \nQ 2781 1319 2575 1466 \nQ 2369 1613 1975 1613 \nL 1156 1613 \nz\nM 1156 3041 \nL 1156 2072 \nL 1913 2072 \nQ 2238 2072 2444 2201 \nQ 2650 2331 2650 2563 \nQ 2650 2794 2444 2917 \nQ 2238 3041 1913 3041 \nL 1156 3041 \nz\nM 581 3500 \nL 1950 3500 \nQ 2566 3500 2897 3275 \nQ 3228 3050 3228 2634 \nQ 3228 2313 3059 2123 \nQ 2891 1934 2559 1888 \nQ 2956 1813 3175 1575 \nQ 3394 1338 3394 981 \nQ 3394 513 3033 256 \nQ 2672 0 2003 0 \nL 581 0 \nL 581 3500 \nz\n\" transform=\"scale(0.015625)\"/>\n      <path id=\"DejaVuSans-44b\" d=\"M 3907 3500 \nL 4482 3500 \nL 4482 0 \nL 3907 0 \nL 3907 3500 \nz\nM 4195 3584 \nL 4195 3584 \nz\nM 2781 1038 \nQ 2781 1319 2576 1466 \nQ 2372 1613 1978 1613 \nL 1159 1613 \nL 1159 459 \nL 1978 459 \nQ 2372 459 2576 607 \nQ 2781 756 2781 1038 \nz\nM 581 3500 \nL 1159 3500 \nL 1159 2072 \nL 2003 2072 \nQ 2672 2072 3033 1817 \nQ 3394 1563 3394 1038 \nQ 3394 513 3033 256 \nQ 2672 0 2003 0 \nL 581 0 \nL 581 3500 \nz\n\" transform=\"scale(0.015625)\"/>\n      <path id=\"DejaVuSans-435\" d=\"M 3597 1894 \nL 3597 1613 \nL 953 1613 \nQ 991 1019 1311 708 \nQ 1631 397 2203 397 \nQ 2534 397 2845 478 \nQ 3156 559 3463 722 \nL 3463 178 \nQ 3153 47 2828 -22 \nQ 2503 -91 2169 -91 \nQ 1331 -91 842 396 \nQ 353 884 353 1716 \nQ 353 2575 817 3079 \nQ 1281 3584 2069 3584 \nQ 2775 3584 3186 3129 \nQ 3597 2675 3597 1894 \nz\nM 3022 2063 \nQ 3016 2534 2758 2815 \nQ 2500 3097 2075 3097 \nQ 1594 3097 1305 2825 \nQ 1016 2553 972 2059 \nL 3022 2063 \nz\n\" transform=\"scale(0.015625)\"/>\n      <path id=\"DejaVuSans-20\" transform=\"scale(0.015625)\"/>\n      <path id=\"DejaVuSans-43f\" d=\"M 3603 3500 \nL 3603 0 \nL 3025 0 \nL 3025 3041 \nL 1159 3041 \nL 1159 0 \nL 581 0 \nL 581 3500 \nL 3603 3500 \nz\n\" transform=\"scale(0.015625)\"/>\n      <path id=\"DejaVuSans-43b\" d=\"M 238 0 \nL 238 478 \nQ 806 566 981 959 \nQ 1194 1513 1194 2928 \nL 1194 3500 \nL 3559 3500 \nL 3559 0 \nL 2984 0 \nL 2984 3041 \nL 1769 3041 \nL 1769 2694 \nQ 1769 1344 1494 738 \nQ 1200 91 238 0 \nz\n\" transform=\"scale(0.015625)\"/>\n     </defs>\n     <use xlink:href=\"#DejaVuSans-421\"/>\n     <use xlink:href=\"#DejaVuSans-442\" x=\"69.824219\"/>\n     <use xlink:href=\"#DejaVuSans-440\" x=\"128.076172\"/>\n     <use xlink:href=\"#DejaVuSans-430\" x=\"191.552734\"/>\n     <use xlink:href=\"#DejaVuSans-445\" x=\"252.832031\"/>\n     <use xlink:href=\"#DejaVuSans-43e\" x=\"312.011719\"/>\n     <use xlink:href=\"#DejaVuSans-432\" x=\"373.193359\"/>\n     <use xlink:href=\"#DejaVuSans-44b\" x=\"432.128906\"/>\n     <use xlink:href=\"#DejaVuSans-435\" x=\"511.083984\"/>\n     <use xlink:href=\"#DejaVuSans-20\" x=\"572.607422\"/>\n     <use xlink:href=\"#DejaVuSans-432\" x=\"604.394531\"/>\n     <use xlink:href=\"#DejaVuSans-44b\" x=\"663.330078\"/>\n     <use xlink:href=\"#DejaVuSans-43f\" x=\"742.285156\"/>\n     <use xlink:href=\"#DejaVuSans-43b\" x=\"807.666016\"/>\n     <use xlink:href=\"#DejaVuSans-430\" x=\"871.582031\"/>\n     <use xlink:href=\"#DejaVuSans-442\" x=\"932.861328\"/>\n     <use xlink:href=\"#DejaVuSans-44b\" x=\"991.113281\"/>\n    </g>\n   </g>\n  </g>\n </g>\n <defs>\n  <clipPath id=\"p676a3233d3\">\n   <rect x=\"53.328125\" y=\"22.318125\" width=\"390.6\" height=\"166.32\"/>\n  </clipPath>\n </defs>\n</svg>\n"
          },
          "metadata": {}
        }
      ],
      "source": [
        "features_distribution_hist(data, name_for_figure_2, 'orangered')"
      ]
    },
    {
      "cell_type": "code",
      "execution_count": null,
      "metadata": {
        "colab": {
          "base_uri": "https://localhost:8080/"
        },
        "id": "LlaAHK1DSzvm",
        "outputId": "dc3cc0cd-1b2c-4d2f-951d-9be9bebd2280"
      },
      "outputs": [
        {
          "output_type": "execute_result",
          "data": {
            "text/plain": [
              "0    88.384568\n",
              "1     8.727048\n",
              "2     2.351970\n",
              "3     0.371364\n",
              "4     0.144419\n",
              "5     0.020631\n",
              "Name: Страховые выплаты, dtype: float64"
            ]
          },
          "metadata": {},
          "execution_count": 22
        }
      ],
      "source": [
        "# определим долю значений по каждой позиции признака 'Страховые выплаты'\n",
        "data['Страховые выплаты'].value_counts(normalize = True, ascending = False)*100"
      ]
    },
    {
      "cell_type": "markdown",
      "metadata": {
        "id": "P6igflETOw79"
      },
      "source": [
        "Значения **признака 'Пол'** сбалансированы.\n",
        "\n",
        "Количество членов семьи заемщика (**признак ‘Члены семьи’**) как правило невелико: договоры о страховании заключают клиенты, проживающие отдельно или в семье от двух до трех человек. Объяснить это можно тем, что договоры страхования в основном заключают люди более молодого возврата, имеющие уровень дохода выше среднего. Они самостоятельны, поэтому либо имеют возможность жить отдельно, либо у них молодая семья с одним ребенком или пока еще без детей.\n",
        "\n",
        "Целевой признак **'Страховые выплаты'** сильно не сбалансирован. Если бы достижение цели исследовательского проекта предполагало поиск наилучшей модели, перед машинным обучением потребовалось бы устранить дисбаланс классов. Как вариант помимо балансировки классов можно было бы рассмотреть вопрос удаления наблюдений, по которым было 4 и 5 выплат по страховым случаям. Однако, согласно техзадания выбирать наилучшую модель не требуется, точность предсказаний не важна, поэтому балансировка классов проводиться не будет."
      ]
    },
    {
      "cell_type": "markdown",
      "metadata": {
        "id": "odmLfU8o6OUO"
      },
      "source": [
        "Проверим признаки датасета data на мультиколиенрность."
      ]
    },
    {
      "cell_type": "code",
      "execution_count": null,
      "metadata": {
        "colab": {
          "base_uri": "https://localhost:8080/",
          "height": 622
        },
        "id": "JRWOf-TJ6hlw",
        "outputId": "ad8b339f-479e-4948-b444-73365ef19e7d"
      },
      "outputs": [
        {
          "output_type": "stream",
          "name": "stdout",
          "text": [
            "CPU times: user 410 ms, sys: 241 ms, total: 652 ms\n",
            "Wall time: 2.66 s\n"
          ]
        },
        {
          "output_type": "display_data",
          "data": {
            "text/plain": [
              "<Figure size 9000x6000 with 2 Axes>"
            ],
            "image/svg+xml": "<?xml version=\"1.0\" encoding=\"utf-8\" standalone=\"no\"?>\n<!DOCTYPE svg PUBLIC \"-//W3C//DTD SVG 1.1//EN\"\n  \"http://www.w3.org/Graphics/SVG/1.1/DTD/svg11.dtd\">\n<svg xmlns:xlink=\"http://www.w3.org/1999/xlink\" width=\"603.069987pt\" height=\"424.598923pt\" viewBox=\"0 0 603.069987 424.598923\" xmlns=\"http://www.w3.org/2000/svg\" version=\"1.1\">\n <metadata>\n  <rdf:RDF xmlns:dc=\"http://purl.org/dc/elements/1.1/\" xmlns:cc=\"http://creativecommons.org/ns#\" xmlns:rdf=\"http://www.w3.org/1999/02/22-rdf-syntax-ns#\">\n   <cc:Work>\n    <dc:type rdf:resource=\"http://purl.org/dc/dcmitype/StillImage\"/>\n    <dc:date>2023-09-21T08:12:36.678727</dc:date>\n    <dc:format>image/svg+xml</dc:format>\n    <dc:creator>\n     <cc:Agent>\n      <dc:title>Matplotlib v3.7.1, https://matplotlib.org/</dc:title>\n     </cc:Agent>\n    </dc:creator>\n   </cc:Work>\n  </rdf:RDF>\n </metadata>\n <defs>\n  <style type=\"text/css\">*{stroke-linejoin: round; stroke-linecap: butt}</style>\n </defs>\n <g id=\"figure_1\">\n  <g id=\"patch_1\">\n   <path d=\"M 0 424.598923 \nL 603.069987 424.598923 \nL 603.069987 0 \nL 0 0 \nz\n\" style=\"fill: #ffffff\"/>\n  </g>\n  <g id=\"axes_1\">\n   <g id=\"patch_2\">\n    <path d=\"M 121.209375 348.512733 \nL 531.114175 348.512733 \nL 531.114175 23.84 \nL 121.209375 23.84 \nz\n\" style=\"fill: #ffffff\"/>\n   </g>\n   <g id=\"QuadMesh_1\">\n    <path d=\"M 121.209375 348.512733 \nL 203.190335 348.512733 \nL 203.190335 283.578186 \nL 121.209375 283.578186 \nL 121.209375 348.512733 \n\" clip-path=\"url(#pc6c3179e66)\" style=\"fill: #fffdd9; stroke: #ffffff\"/>\n    <path d=\"M 203.190335 348.512733 \nL 285.171295 348.512733 \nL 285.171295 283.578186 \nL 203.190335 283.578186 \nL 203.190335 348.512733 \n\" clip-path=\"url(#pc6c3179e66)\" style=\"fill: #ffffe5; stroke: #ffffff\"/>\n    <path d=\"M 285.171295 348.512733 \nL 367.152255 348.512733 \nL 367.152255 283.578186 \nL 285.171295 283.578186 \nL 285.171295 348.512733 \n\" clip-path=\"url(#pc6c3179e66)\" style=\"fill: #ffffe5; stroke: #ffffff\"/>\n    <path d=\"M 367.152255 348.512733 \nL 449.133215 348.512733 \nL 449.133215 283.578186 \nL 367.152255 283.578186 \nL 367.152255 348.512733 \n\" clip-path=\"url(#pc6c3179e66)\" style=\"fill: #ffffe5; stroke: #ffffff\"/>\n    <path d=\"M 449.133215 348.512733 \nL 531.114175 348.512733 \nL 531.114175 283.578186 \nL 449.133215 283.578186 \nL 449.133215 348.512733 \n\" clip-path=\"url(#pc6c3179e66)\" style=\"fill: #662506; stroke: #ffffff\"/>\n    <path d=\"M 121.209375 283.578186 \nL 203.190335 283.578186 \nL 203.190335 218.64364 \nL 121.209375 218.64364 \nL 121.209375 283.578186 \n\" clip-path=\"url(#pc6c3179e66)\" style=\"fill: #943304; stroke: #ffffff\"/>\n    <path d=\"M 203.190335 283.578186 \nL 285.171295 283.578186 \nL 285.171295 218.64364 \nL 203.190335 218.64364 \nL 203.190335 283.578186 \n\" clip-path=\"url(#pc6c3179e66)\" style=\"fill: #ffffe5; stroke: #ffffff\"/>\n    <path d=\"M 285.171295 283.578186 \nL 367.152255 283.578186 \nL 367.152255 218.64364 \nL 285.171295 218.64364 \nL 285.171295 283.578186 \n\" clip-path=\"url(#pc6c3179e66)\" style=\"fill: #fffbd0; stroke: #ffffff\"/>\n    <path d=\"M 367.152255 283.578186 \nL 449.133215 283.578186 \nL 449.133215 218.64364 \nL 367.152255 218.64364 \nL 367.152255 283.578186 \n\" clip-path=\"url(#pc6c3179e66)\" style=\"fill: #662506; stroke: #ffffff\"/>\n    <path d=\"M 449.133215 283.578186 \nL 531.114175 283.578186 \nL 531.114175 218.64364 \nL 449.133215 218.64364 \nL 449.133215 283.578186 \n\" clip-path=\"url(#pc6c3179e66)\" style=\"fill: #ffffe5; stroke: #ffffff\"/>\n    <path d=\"M 121.209375 218.64364 \nL 203.190335 218.64364 \nL 203.190335 153.709093 \nL 121.209375 153.709093 \nL 121.209375 218.64364 \n\" clip-path=\"url(#pc6c3179e66)\" style=\"fill: #ffffe5; stroke: #ffffff\"/>\n    <path d=\"M 203.190335 218.64364 \nL 285.171295 218.64364 \nL 285.171295 153.709093 \nL 203.190335 153.709093 \nL 203.190335 218.64364 \n\" clip-path=\"url(#pc6c3179e66)\" style=\"fill: #ffffe5; stroke: #ffffff\"/>\n    <path d=\"M 285.171295 218.64364 \nL 367.152255 218.64364 \nL 367.152255 153.709093 \nL 285.171295 153.709093 \nL 285.171295 218.64364 \n\" clip-path=\"url(#pc6c3179e66)\" style=\"fill: #662506; stroke: #ffffff\"/>\n    <path d=\"M 367.152255 218.64364 \nL 449.133215 218.64364 \nL 449.133215 153.709093 \nL 367.152255 153.709093 \nL 367.152255 218.64364 \n\" clip-path=\"url(#pc6c3179e66)\" style=\"fill: #fffbd0; stroke: #ffffff\"/>\n    <path d=\"M 449.133215 218.64364 \nL 531.114175 218.64364 \nL 531.114175 153.709093 \nL 449.133215 153.709093 \nL 449.133215 218.64364 \n\" clip-path=\"url(#pc6c3179e66)\" style=\"fill: #ffffe5; stroke: #ffffff\"/>\n    <path d=\"M 121.209375 153.709093 \nL 203.190335 153.709093 \nL 203.190335 88.774547 \nL 121.209375 88.774547 \nL 121.209375 153.709093 \n\" clip-path=\"url(#pc6c3179e66)\" style=\"fill: #ffffe5; stroke: #ffffff\"/>\n    <path d=\"M 203.190335 153.709093 \nL 285.171295 153.709093 \nL 285.171295 88.774547 \nL 203.190335 88.774547 \nL 203.190335 153.709093 \n\" clip-path=\"url(#pc6c3179e66)\" style=\"fill: #662506; stroke: #ffffff\"/>\n    <path d=\"M 285.171295 153.709093 \nL 367.152255 153.709093 \nL 367.152255 88.774547 \nL 285.171295 88.774547 \nL 285.171295 153.709093 \n\" clip-path=\"url(#pc6c3179e66)\" style=\"fill: #ffffe5; stroke: #ffffff\"/>\n    <path d=\"M 367.152255 153.709093 \nL 449.133215 153.709093 \nL 449.133215 88.774547 \nL 367.152255 88.774547 \nL 367.152255 153.709093 \n\" clip-path=\"url(#pc6c3179e66)\" style=\"fill: #ffffe5; stroke: #ffffff\"/>\n    <path d=\"M 449.133215 153.709093 \nL 531.114175 153.709093 \nL 531.114175 88.774547 \nL 449.133215 88.774547 \nL 449.133215 153.709093 \n\" clip-path=\"url(#pc6c3179e66)\" style=\"fill: #ffffe5; stroke: #ffffff\"/>\n    <path d=\"M 121.209375 88.774547 \nL 203.190335 88.774547 \nL 203.190335 23.84 \nL 121.209375 23.84 \nL 121.209375 88.774547 \n\" clip-path=\"url(#pc6c3179e66)\" style=\"fill: #662506; stroke: #ffffff\"/>\n    <path d=\"M 203.190335 88.774547 \nL 285.171295 88.774547 \nL 285.171295 23.84 \nL 203.190335 23.84 \nL 203.190335 88.774547 \n\" clip-path=\"url(#pc6c3179e66)\" style=\"fill: #ffffe5; stroke: #ffffff\"/>\n    <path d=\"M 285.171295 88.774547 \nL 367.152255 88.774547 \nL 367.152255 23.84 \nL 285.171295 23.84 \nL 285.171295 88.774547 \n\" clip-path=\"url(#pc6c3179e66)\" style=\"fill: #ffffe5; stroke: #ffffff\"/>\n    <path d=\"M 367.152255 88.774547 \nL 449.133215 88.774547 \nL 449.133215 23.84 \nL 367.152255 23.84 \nL 367.152255 88.774547 \n\" clip-path=\"url(#pc6c3179e66)\" style=\"fill: #943304; stroke: #ffffff\"/>\n    <path d=\"M 449.133215 88.774547 \nL 531.114175 88.774547 \nL 531.114175 23.84 \nL 449.133215 23.84 \nL 449.133215 88.774547 \n\" clip-path=\"url(#pc6c3179e66)\" style=\"fill: #fffdd9; stroke: #ffffff\"/>\n   </g>\n   <g id=\"matplotlib.axis_1\">\n    <g id=\"xtick_1\">\n     <g id=\"line2d_1\">\n      <defs>\n       <path id=\"m0a4c34d79f\" d=\"M 0 0 \nL 0 3.5 \n\" style=\"stroke: #000000; stroke-width: 0.8\"/>\n      </defs>\n      <g>\n       <use xlink:href=\"#m0a4c34d79f\" x=\"162.199855\" y=\"348.512733\" style=\"stroke: #000000; stroke-width: 0.8\"/>\n      </g>\n     </g>\n     <g id=\"text_1\">\n      <!-- Страховые выплаты -->\n      <g transform=\"translate(117.243124 415.59786) rotate(-30) scale(0.1 -0.1)\">\n       <defs>\n        <path id=\"DejaVuSans-421\" d=\"M 4122 4306 \nL 4122 3641 \nQ 3803 3938 3442 4084 \nQ 3081 4231 2675 4231 \nQ 1875 4231 1450 3742 \nQ 1025 3253 1025 2328 \nQ 1025 1406 1450 917 \nQ 1875 428 2675 428 \nQ 3081 428 3442 575 \nQ 3803 722 4122 1019 \nL 4122 359 \nQ 3791 134 3420 21 \nQ 3050 -91 2638 -91 \nQ 1578 -91 968 557 \nQ 359 1206 359 2328 \nQ 359 3453 968 4101 \nQ 1578 4750 2638 4750 \nQ 3056 4750 3426 4639 \nQ 3797 4528 4122 4306 \nz\n\" transform=\"scale(0.015625)\"/>\n        <path id=\"DejaVuSans-442\" d=\"M 188 3500 \nL 3541 3500 \nL 3541 3041 \nL 2147 3041 \nL 2147 0 \nL 1581 0 \nL 1581 3041 \nL 188 3041 \nL 188 3500 \nz\n\" transform=\"scale(0.015625)\"/>\n        <path id=\"DejaVuSans-440\" d=\"M 1159 525 \nL 1159 -1331 \nL 581 -1331 \nL 581 3500 \nL 1159 3500 \nL 1159 2969 \nQ 1341 3281 1617 3432 \nQ 1894 3584 2278 3584 \nQ 2916 3584 3314 3078 \nQ 3713 2572 3713 1747 \nQ 3713 922 3314 415 \nQ 2916 -91 2278 -91 \nQ 1894 -91 1617 61 \nQ 1341 213 1159 525 \nz\nM 3116 1747 \nQ 3116 2381 2855 2742 \nQ 2594 3103 2138 3103 \nQ 1681 3103 1420 2742 \nQ 1159 2381 1159 1747 \nQ 1159 1113 1420 752 \nQ 1681 391 2138 391 \nQ 2594 391 2855 752 \nQ 3116 1113 3116 1747 \nz\n\" transform=\"scale(0.015625)\"/>\n        <path id=\"DejaVuSans-430\" d=\"M 2194 1759 \nQ 1497 1759 1228 1600 \nQ 959 1441 959 1056 \nQ 959 750 1161 570 \nQ 1363 391 1709 391 \nQ 2188 391 2477 730 \nQ 2766 1069 2766 1631 \nL 2766 1759 \nL 2194 1759 \nz\nM 3341 1997 \nL 3341 0 \nL 2766 0 \nL 2766 531 \nQ 2569 213 2275 61 \nQ 1981 -91 1556 -91 \nQ 1019 -91 701 211 \nQ 384 513 384 1019 \nQ 384 1609 779 1909 \nQ 1175 2209 1959 2209 \nL 2766 2209 \nL 2766 2266 \nQ 2766 2663 2505 2880 \nQ 2244 3097 1772 3097 \nQ 1472 3097 1187 3025 \nQ 903 2953 641 2809 \nL 641 3341 \nQ 956 3463 1253 3523 \nQ 1550 3584 1831 3584 \nQ 2591 3584 2966 3190 \nQ 3341 2797 3341 1997 \nz\n\" transform=\"scale(0.015625)\"/>\n        <path id=\"DejaVuSans-445\" d=\"M 3513 3500 \nL 2247 1797 \nL 3578 0 \nL 2900 0 \nL 1881 1375 \nL 863 0 \nL 184 0 \nL 1544 1831 \nL 300 3500 \nL 978 3500 \nL 1906 2253 \nL 2834 3500 \nL 3513 3500 \nz\n\" transform=\"scale(0.015625)\"/>\n        <path id=\"DejaVuSans-43e\" d=\"M 1959 3097 \nQ 1497 3097 1228 2736 \nQ 959 2375 959 1747 \nQ 959 1119 1226 758 \nQ 1494 397 1959 397 \nQ 2419 397 2687 759 \nQ 2956 1122 2956 1747 \nQ 2956 2369 2687 2733 \nQ 2419 3097 1959 3097 \nz\nM 1959 3584 \nQ 2709 3584 3137 3096 \nQ 3566 2609 3566 1747 \nQ 3566 888 3137 398 \nQ 2709 -91 1959 -91 \nQ 1206 -91 779 398 \nQ 353 888 353 1747 \nQ 353 2609 779 3096 \nQ 1206 3584 1959 3584 \nz\n\" transform=\"scale(0.015625)\"/>\n        <path id=\"DejaVuSans-432\" d=\"M 1156 1613 \nL 1156 459 \nL 1975 459 \nQ 2369 459 2575 607 \nQ 2781 756 2781 1038 \nQ 2781 1319 2575 1466 \nQ 2369 1613 1975 1613 \nL 1156 1613 \nz\nM 1156 3041 \nL 1156 2072 \nL 1913 2072 \nQ 2238 2072 2444 2201 \nQ 2650 2331 2650 2563 \nQ 2650 2794 2444 2917 \nQ 2238 3041 1913 3041 \nL 1156 3041 \nz\nM 581 3500 \nL 1950 3500 \nQ 2566 3500 2897 3275 \nQ 3228 3050 3228 2634 \nQ 3228 2313 3059 2123 \nQ 2891 1934 2559 1888 \nQ 2956 1813 3175 1575 \nQ 3394 1338 3394 981 \nQ 3394 513 3033 256 \nQ 2672 0 2003 0 \nL 581 0 \nL 581 3500 \nz\n\" transform=\"scale(0.015625)\"/>\n        <path id=\"DejaVuSans-44b\" d=\"M 3907 3500 \nL 4482 3500 \nL 4482 0 \nL 3907 0 \nL 3907 3500 \nz\nM 4195 3584 \nL 4195 3584 \nz\nM 2781 1038 \nQ 2781 1319 2576 1466 \nQ 2372 1613 1978 1613 \nL 1159 1613 \nL 1159 459 \nL 1978 459 \nQ 2372 459 2576 607 \nQ 2781 756 2781 1038 \nz\nM 581 3500 \nL 1159 3500 \nL 1159 2072 \nL 2003 2072 \nQ 2672 2072 3033 1817 \nQ 3394 1563 3394 1038 \nQ 3394 513 3033 256 \nQ 2672 0 2003 0 \nL 581 0 \nL 581 3500 \nz\n\" transform=\"scale(0.015625)\"/>\n        <path id=\"DejaVuSans-435\" d=\"M 3597 1894 \nL 3597 1613 \nL 953 1613 \nQ 991 1019 1311 708 \nQ 1631 397 2203 397 \nQ 2534 397 2845 478 \nQ 3156 559 3463 722 \nL 3463 178 \nQ 3153 47 2828 -22 \nQ 2503 -91 2169 -91 \nQ 1331 -91 842 396 \nQ 353 884 353 1716 \nQ 353 2575 817 3079 \nQ 1281 3584 2069 3584 \nQ 2775 3584 3186 3129 \nQ 3597 2675 3597 1894 \nz\nM 3022 2063 \nQ 3016 2534 2758 2815 \nQ 2500 3097 2075 3097 \nQ 1594 3097 1305 2825 \nQ 1016 2553 972 2059 \nL 3022 2063 \nz\n\" transform=\"scale(0.015625)\"/>\n        <path id=\"DejaVuSans-20\" transform=\"scale(0.015625)\"/>\n        <path id=\"DejaVuSans-43f\" d=\"M 3603 3500 \nL 3603 0 \nL 3025 0 \nL 3025 3041 \nL 1159 3041 \nL 1159 0 \nL 581 0 \nL 581 3500 \nL 3603 3500 \nz\n\" transform=\"scale(0.015625)\"/>\n        <path id=\"DejaVuSans-43b\" d=\"M 238 0 \nL 238 478 \nQ 806 566 981 959 \nQ 1194 1513 1194 2928 \nL 1194 3500 \nL 3559 3500 \nL 3559 0 \nL 2984 0 \nL 2984 3041 \nL 1769 3041 \nL 1769 2694 \nQ 1769 1344 1494 738 \nQ 1200 91 238 0 \nz\n\" transform=\"scale(0.015625)\"/>\n       </defs>\n       <use xlink:href=\"#DejaVuSans-421\"/>\n       <use xlink:href=\"#DejaVuSans-442\" x=\"69.824219\"/>\n       <use xlink:href=\"#DejaVuSans-440\" x=\"128.076172\"/>\n       <use xlink:href=\"#DejaVuSans-430\" x=\"191.552734\"/>\n       <use xlink:href=\"#DejaVuSans-445\" x=\"252.832031\"/>\n       <use xlink:href=\"#DejaVuSans-43e\" x=\"312.011719\"/>\n       <use xlink:href=\"#DejaVuSans-432\" x=\"373.193359\"/>\n       <use xlink:href=\"#DejaVuSans-44b\" x=\"432.128906\"/>\n       <use xlink:href=\"#DejaVuSans-435\" x=\"511.083984\"/>\n       <use xlink:href=\"#DejaVuSans-20\" x=\"572.607422\"/>\n       <use xlink:href=\"#DejaVuSans-432\" x=\"604.394531\"/>\n       <use xlink:href=\"#DejaVuSans-44b\" x=\"663.330078\"/>\n       <use xlink:href=\"#DejaVuSans-43f\" x=\"742.285156\"/>\n       <use xlink:href=\"#DejaVuSans-43b\" x=\"807.666016\"/>\n       <use xlink:href=\"#DejaVuSans-430\" x=\"871.582031\"/>\n       <use xlink:href=\"#DejaVuSans-442\" x=\"932.861328\"/>\n       <use xlink:href=\"#DejaVuSans-44b\" x=\"991.113281\"/>\n      </g>\n     </g>\n    </g>\n    <g id=\"xtick_2\">\n     <g id=\"line2d_2\">\n      <g>\n       <use xlink:href=\"#m0a4c34d79f\" x=\"244.180815\" y=\"348.512733\" style=\"stroke: #000000; stroke-width: 0.8\"/>\n      </g>\n     </g>\n     <g id=\"text_2\">\n      <!-- Члены семьи -->\n      <g transform=\"translate(215.855831 396.393173) rotate(-30) scale(0.1 -0.1)\">\n       <defs>\n        <path id=\"DejaVuSans-427\" d=\"M 3125 0 \nL 3125 1913 \nL 1822 1913 \nQ 1241 1913 894 2277 \nQ 547 2641 547 3384 \nL 547 4666 \nL 1175 4666 \nL 1175 3434 \nQ 1175 2938 1369 2691 \nQ 1563 2444 1950 2444 \nL 3125 2444 \nL 3125 4666 \nL 3759 4666 \nL 3759 0 \nL 3125 0 \nz\n\" transform=\"scale(0.015625)\"/>\n        <path id=\"DejaVuSans-43d\" d=\"M 581 3500 \nL 1159 3500 \nL 1159 2072 \nL 3025 2072 \nL 3025 3500 \nL 3603 3500 \nL 3603 0 \nL 3025 0 \nL 3025 1613 \nL 1159 1613 \nL 1159 0 \nL 581 0 \nL 581 3500 \nz\n\" transform=\"scale(0.015625)\"/>\n        <path id=\"DejaVuSans-441\" d=\"M 3122 3366 \nL 3122 2828 \nQ 2878 2963 2633 3030 \nQ 2388 3097 2138 3097 \nQ 1578 3097 1268 2742 \nQ 959 2388 959 1747 \nQ 959 1106 1268 751 \nQ 1578 397 2138 397 \nQ 2388 397 2633 464 \nQ 2878 531 3122 666 \nL 3122 134 \nQ 2881 22 2623 -34 \nQ 2366 -91 2075 -91 \nQ 1284 -91 818 406 \nQ 353 903 353 1747 \nQ 353 2603 823 3093 \nQ 1294 3584 2113 3584 \nQ 2378 3584 2631 3529 \nQ 2884 3475 3122 3366 \nz\n\" transform=\"scale(0.015625)\"/>\n        <path id=\"DejaVuSans-43c\" d=\"M 581 3500 \nL 1422 3500 \nL 2416 1156 \nL 3413 3500 \nL 4247 3500 \nL 4247 0 \nL 3669 0 \nL 3669 2950 \nL 2703 672 \nL 2128 672 \nL 1159 2950 \nL 1159 0 \nL 581 0 \nL 581 3500 \nz\n\" transform=\"scale(0.015625)\"/>\n        <path id=\"DejaVuSans-44c\" d=\"M 2781 1038 \nQ 2781 1319 2576 1466 \nQ 2372 1613 1978 1613 \nL 1159 1613 \nL 1159 459 \nL 1978 459 \nQ 2372 459 2576 607 \nQ 2781 756 2781 1038 \nz\nM 581 3500 \nL 1159 3500 \nL 1159 2072 \nL 2003 2072 \nQ 2672 2072 3033 1817 \nQ 3394 1563 3394 1038 \nQ 3394 513 3033 256 \nQ 2672 0 2003 0 \nL 581 0 \nL 581 3500 \nz\n\" transform=\"scale(0.015625)\"/>\n        <path id=\"DejaVuSans-438\" d=\"M 3578 3500 \nL 3578 0 \nL 3006 0 \nL 3006 2809 \nL 1319 0 \nL 581 0 \nL 581 3500 \nL 1153 3500 \nL 1153 697 \nL 2838 3500 \nL 3578 3500 \nz\n\" transform=\"scale(0.015625)\"/>\n       </defs>\n       <use xlink:href=\"#DejaVuSans-427\"/>\n       <use xlink:href=\"#DejaVuSans-43b\" x=\"68.554688\"/>\n       <use xlink:href=\"#DejaVuSans-435\" x=\"132.470703\"/>\n       <use xlink:href=\"#DejaVuSans-43d\" x=\"193.994141\"/>\n       <use xlink:href=\"#DejaVuSans-44b\" x=\"259.375\"/>\n       <use xlink:href=\"#DejaVuSans-20\" x=\"338.330078\"/>\n       <use xlink:href=\"#DejaVuSans-441\" x=\"370.117188\"/>\n       <use xlink:href=\"#DejaVuSans-435\" x=\"425.097656\"/>\n       <use xlink:href=\"#DejaVuSans-43c\" x=\"486.621094\"/>\n       <use xlink:href=\"#DejaVuSans-44c\" x=\"562.060547\"/>\n       <use xlink:href=\"#DejaVuSans-438\" x=\"620.996094\"/>\n      </g>\n     </g>\n    </g>\n    <g id=\"xtick_3\">\n     <g id=\"line2d_3\">\n      <g>\n       <use xlink:href=\"#m0a4c34d79f\" x=\"326.161775\" y=\"348.512733\" style=\"stroke: #000000; stroke-width: 0.8\"/>\n      </g>\n     </g>\n     <g id=\"text_3\">\n      <!-- Зарплата -->\n      <g transform=\"translate(305.934805 387.042392) rotate(-30) scale(0.1 -0.1)\">\n       <defs>\n        <path id=\"DejaVuSans-417\" d=\"M 1828 4750 \nQ 2597 4750 3084 4423 \nQ 3572 4097 3572 3541 \nQ 3572 3153 3350 2886 \nQ 3128 2619 2719 2516 \nQ 3172 2419 3426 2112 \nQ 3681 1806 3681 1356 \nQ 3681 638 3126 273 \nQ 2572 -91 1828 -91 \nQ 1447 -91 1003 12 \nQ 559 116 422 203 \nL 422 853 \nQ 900 575 1164 508 \nQ 1428 441 1816 441 \nQ 2403 441 2728 666 \nQ 3053 891 3053 1356 \nQ 3053 1769 2764 2001 \nQ 2475 2234 1866 2234 \nL 1228 2234 \nL 1228 2753 \nL 1891 2753 \nQ 2450 2753 2697 2939 \nQ 2944 3125 2944 3475 \nQ 2944 3834 2689 4026 \nQ 2434 4219 1816 4219 \nQ 1397 4219 1253 4181 \nQ 1109 4144 469 3903 \nL 469 4519 \nQ 822 4644 1190 4697 \nQ 1559 4750 1828 4750 \nz\n\" transform=\"scale(0.015625)\"/>\n       </defs>\n       <use xlink:href=\"#DejaVuSans-417\"/>\n       <use xlink:href=\"#DejaVuSans-430\" x=\"64.111328\"/>\n       <use xlink:href=\"#DejaVuSans-440\" x=\"125.390625\"/>\n       <use xlink:href=\"#DejaVuSans-43f\" x=\"188.867188\"/>\n       <use xlink:href=\"#DejaVuSans-43b\" x=\"254.248047\"/>\n       <use xlink:href=\"#DejaVuSans-430\" x=\"318.164062\"/>\n       <use xlink:href=\"#DejaVuSans-442\" x=\"379.443359\"/>\n       <use xlink:href=\"#DejaVuSans-430\" x=\"437.695312\"/>\n      </g>\n     </g>\n    </g>\n    <g id=\"xtick_4\">\n     <g id=\"line2d_4\">\n      <g>\n       <use xlink:href=\"#m0a4c34d79f\" x=\"408.142735\" y=\"348.512733\" style=\"stroke: #000000; stroke-width: 0.8\"/>\n      </g>\n     </g>\n     <g id=\"text_4\">\n      <!-- Возраст -->\n      <g transform=\"translate(391.293941 383.14161) rotate(-30) scale(0.1 -0.1)\">\n       <defs>\n        <path id=\"DejaVuSans-412\" d=\"M 1259 2228 \nL 1259 519 \nL 2272 519 \nQ 2781 519 3026 730 \nQ 3272 941 3272 1375 \nQ 3272 1813 3026 2020 \nQ 2781 2228 2272 2228 \nL 1259 2228 \nz\nM 1259 4147 \nL 1259 2741 \nL 2194 2741 \nQ 2656 2741 2882 2914 \nQ 3109 3088 3109 3444 \nQ 3109 3797 2882 3972 \nQ 2656 4147 2194 4147 \nL 1259 4147 \nz\nM 628 4666 \nL 2241 4666 \nQ 2963 4666 3353 4366 \nQ 3744 4066 3744 3513 \nQ 3744 3084 3544 2831 \nQ 3344 2578 2956 2516 \nQ 3422 2416 3680 2098 \nQ 3938 1781 3938 1306 \nQ 3938 681 3513 340 \nQ 3088 0 2303 0 \nL 628 0 \nL 628 4666 \nz\n\" transform=\"scale(0.015625)\"/>\n        <path id=\"DejaVuSans-437\" d=\"M 2206 1888 \nQ 2594 1813 2809 1584 \nQ 3025 1356 3025 1019 \nQ 3025 478 2622 193 \nQ 2219 -91 1475 -91 \nQ 1225 -91 961 -47 \nQ 697 -3 416 84 \nL 416 619 \nQ 638 503 903 445 \nQ 1169 388 1459 388 \nQ 1931 388 2195 563 \nQ 2459 738 2459 1019 \nQ 2459 1294 2225 1461 \nQ 1991 1628 1563 1628 \nL 1100 1628 \nL 1100 2103 \nL 1584 2103 \nQ 1947 2103 2158 2242 \nQ 2369 2381 2369 2600 \nQ 2369 2800 2151 2944 \nQ 1934 3088 1563 3088 \nQ 1341 3088 1089 3047 \nQ 838 3006 534 2916 \nL 534 3438 \nQ 841 3513 1106 3550 \nQ 1372 3588 1609 3588 \nQ 2222 3588 2576 3342 \nQ 2931 3097 2931 2656 \nQ 2931 2366 2743 2164 \nQ 2556 1963 2206 1888 \nz\n\" transform=\"scale(0.015625)\"/>\n       </defs>\n       <use xlink:href=\"#DejaVuSans-412\"/>\n       <use xlink:href=\"#DejaVuSans-43e\" x=\"68.603516\"/>\n       <use xlink:href=\"#DejaVuSans-437\" x=\"129.785156\"/>\n       <use xlink:href=\"#DejaVuSans-440\" x=\"182.958984\"/>\n       <use xlink:href=\"#DejaVuSans-430\" x=\"246.435547\"/>\n       <use xlink:href=\"#DejaVuSans-441\" x=\"307.714844\"/>\n       <use xlink:href=\"#DejaVuSans-442\" x=\"362.695312\"/>\n      </g>\n     </g>\n    </g>\n    <g id=\"xtick_5\">\n     <g id=\"line2d_5\">\n      <g>\n       <use xlink:href=\"#m0a4c34d79f\" x=\"490.123695\" y=\"348.512733\" style=\"stroke: #000000; stroke-width: 0.8\"/>\n      </g>\n     </g>\n     <g id=\"text_5\">\n      <!-- Пол -->\n      <g transform=\"translate(482.829597 372.108798) rotate(-30) scale(0.1 -0.1)\">\n       <defs>\n        <path id=\"DejaVuSans-41f\" d=\"M 4184 4666 \nL 4184 0 \nL 3553 0 \nL 3553 4134 \nL 1259 4134 \nL 1259 0 \nL 628 0 \nL 628 4666 \nL 4184 4666 \nz\n\" transform=\"scale(0.015625)\"/>\n       </defs>\n       <use xlink:href=\"#DejaVuSans-41f\"/>\n       <use xlink:href=\"#DejaVuSans-43e\" x=\"75.195312\"/>\n       <use xlink:href=\"#DejaVuSans-43b\" x=\"136.376953\"/>\n      </g>\n     </g>\n    </g>\n   </g>\n   <g id=\"matplotlib.axis_2\">\n    <g id=\"ytick_1\">\n     <g id=\"line2d_6\">\n      <defs>\n       <path id=\"md3524a2c5f\" d=\"M 0 0 \nL -3.5 0 \n\" style=\"stroke: #000000; stroke-width: 0.8\"/>\n      </defs>\n      <g>\n       <use xlink:href=\"#md3524a2c5f\" x=\"121.209375\" y=\"316.04546\" style=\"stroke: #000000; stroke-width: 0.8\"/>\n      </g>\n     </g>\n     <g id=\"text_6\">\n      <!-- Пол -->\n      <g transform=\"translate(94.178125 319.844679) scale(0.1 -0.1)\">\n       <use xlink:href=\"#DejaVuSans-41f\"/>\n       <use xlink:href=\"#DejaVuSans-43e\" x=\"75.195312\"/>\n       <use xlink:href=\"#DejaVuSans-43b\" x=\"136.376953\"/>\n      </g>\n     </g>\n    </g>\n    <g id=\"ytick_2\">\n     <g id=\"line2d_7\">\n      <g>\n       <use xlink:href=\"#md3524a2c5f\" x=\"121.209375\" y=\"251.110913\" style=\"stroke: #000000; stroke-width: 0.8\"/>\n      </g>\n     </g>\n     <g id=\"text_7\">\n      <!-- Возраст -->\n      <g transform=\"translate(72.1125 254.910132) scale(0.1 -0.1)\">\n       <use xlink:href=\"#DejaVuSans-412\"/>\n       <use xlink:href=\"#DejaVuSans-43e\" x=\"68.603516\"/>\n       <use xlink:href=\"#DejaVuSans-437\" x=\"129.785156\"/>\n       <use xlink:href=\"#DejaVuSans-440\" x=\"182.958984\"/>\n       <use xlink:href=\"#DejaVuSans-430\" x=\"246.435547\"/>\n       <use xlink:href=\"#DejaVuSans-441\" x=\"307.714844\"/>\n       <use xlink:href=\"#DejaVuSans-442\" x=\"362.695312\"/>\n      </g>\n     </g>\n    </g>\n    <g id=\"ytick_3\">\n     <g id=\"line2d_8\">\n      <g>\n       <use xlink:href=\"#md3524a2c5f\" x=\"121.209375\" y=\"186.176367\" style=\"stroke: #000000; stroke-width: 0.8\"/>\n      </g>\n     </g>\n     <g id=\"text_8\">\n      <!-- Зарплата -->\n      <g transform=\"translate(64.310938 189.975585) scale(0.1 -0.1)\">\n       <use xlink:href=\"#DejaVuSans-417\"/>\n       <use xlink:href=\"#DejaVuSans-430\" x=\"64.111328\"/>\n       <use xlink:href=\"#DejaVuSans-440\" x=\"125.390625\"/>\n       <use xlink:href=\"#DejaVuSans-43f\" x=\"188.867188\"/>\n       <use xlink:href=\"#DejaVuSans-43b\" x=\"254.248047\"/>\n       <use xlink:href=\"#DejaVuSans-430\" x=\"318.164062\"/>\n       <use xlink:href=\"#DejaVuSans-442\" x=\"379.443359\"/>\n       <use xlink:href=\"#DejaVuSans-430\" x=\"437.695312\"/>\n      </g>\n     </g>\n    </g>\n    <g id=\"ytick_4\">\n     <g id=\"line2d_9\">\n      <g>\n       <use xlink:href=\"#md3524a2c5f\" x=\"121.209375\" y=\"121.24182\" style=\"stroke: #000000; stroke-width: 0.8\"/>\n      </g>\n     </g>\n     <g id=\"text_9\">\n      <!-- Члены семьи -->\n      <g transform=\"translate(45.609375 125.041039) scale(0.1 -0.1)\">\n       <use xlink:href=\"#DejaVuSans-427\"/>\n       <use xlink:href=\"#DejaVuSans-43b\" x=\"68.554688\"/>\n       <use xlink:href=\"#DejaVuSans-435\" x=\"132.470703\"/>\n       <use xlink:href=\"#DejaVuSans-43d\" x=\"193.994141\"/>\n       <use xlink:href=\"#DejaVuSans-44b\" x=\"259.375\"/>\n       <use xlink:href=\"#DejaVuSans-20\" x=\"338.330078\"/>\n       <use xlink:href=\"#DejaVuSans-441\" x=\"370.117188\"/>\n       <use xlink:href=\"#DejaVuSans-435\" x=\"425.097656\"/>\n       <use xlink:href=\"#DejaVuSans-43c\" x=\"486.621094\"/>\n       <use xlink:href=\"#DejaVuSans-44c\" x=\"562.060547\"/>\n       <use xlink:href=\"#DejaVuSans-438\" x=\"620.996094\"/>\n      </g>\n     </g>\n    </g>\n    <g id=\"ytick_5\">\n     <g id=\"line2d_10\">\n      <g>\n       <use xlink:href=\"#md3524a2c5f\" x=\"121.209375\" y=\"56.307273\" style=\"stroke: #000000; stroke-width: 0.8\"/>\n      </g>\n     </g>\n     <g id=\"text_10\">\n      <!-- Страховые выплаты -->\n      <g transform=\"translate(7.2 60.106492) scale(0.1 -0.1)\">\n       <use xlink:href=\"#DejaVuSans-421\"/>\n       <use xlink:href=\"#DejaVuSans-442\" x=\"69.824219\"/>\n       <use xlink:href=\"#DejaVuSans-440\" x=\"128.076172\"/>\n       <use xlink:href=\"#DejaVuSans-430\" x=\"191.552734\"/>\n       <use xlink:href=\"#DejaVuSans-445\" x=\"252.832031\"/>\n       <use xlink:href=\"#DejaVuSans-43e\" x=\"312.011719\"/>\n       <use xlink:href=\"#DejaVuSans-432\" x=\"373.193359\"/>\n       <use xlink:href=\"#DejaVuSans-44b\" x=\"432.128906\"/>\n       <use xlink:href=\"#DejaVuSans-435\" x=\"511.083984\"/>\n       <use xlink:href=\"#DejaVuSans-20\" x=\"572.607422\"/>\n       <use xlink:href=\"#DejaVuSans-432\" x=\"604.394531\"/>\n       <use xlink:href=\"#DejaVuSans-44b\" x=\"663.330078\"/>\n       <use xlink:href=\"#DejaVuSans-43f\" x=\"742.285156\"/>\n       <use xlink:href=\"#DejaVuSans-43b\" x=\"807.666016\"/>\n       <use xlink:href=\"#DejaVuSans-430\" x=\"871.582031\"/>\n       <use xlink:href=\"#DejaVuSans-442\" x=\"932.861328\"/>\n       <use xlink:href=\"#DejaVuSans-44b\" x=\"991.113281\"/>\n      </g>\n     </g>\n    </g>\n   </g>\n   <g id=\"patch_3\">\n    <path d=\"M 121.209375 348.512733 \nL 121.209375 23.84 \n\" style=\"fill: none; stroke: #000000; stroke-width: 0.8; stroke-linejoin: miter; stroke-linecap: square\"/>\n   </g>\n   <g id=\"patch_4\">\n    <path d=\"M 531.114175 348.512733 \nL 531.114175 23.84 \n\" style=\"fill: none; stroke: #000000; stroke-width: 0.8; stroke-linejoin: miter; stroke-linecap: square\"/>\n   </g>\n   <g id=\"patch_5\">\n    <path d=\"M 121.209375 348.512733 \nL 531.114175 348.512733 \n\" style=\"fill: none; stroke: #000000; stroke-width: 0.8; stroke-linejoin: miter; stroke-linecap: square\"/>\n   </g>\n   <g id=\"patch_6\">\n    <path d=\"M 121.209375 23.84 \nL 531.114175 23.84 \n\" style=\"fill: none; stroke: #000000; stroke-width: 0.8; stroke-linejoin: miter; stroke-linecap: square\"/>\n   </g>\n   <g id=\"text_11\">\n    <!-- 0.04 -->\n    <g transform=\"translate(151.067043 318.804835) scale(0.1 -0.1)\">\n     <defs>\n      <path id=\"DejaVuSans-30\" d=\"M 2034 4250 \nQ 1547 4250 1301 3770 \nQ 1056 3291 1056 2328 \nQ 1056 1369 1301 889 \nQ 1547 409 2034 409 \nQ 2525 409 2770 889 \nQ 3016 1369 3016 2328 \nQ 3016 3291 2770 3770 \nQ 2525 4250 2034 4250 \nz\nM 2034 4750 \nQ 2819 4750 3233 4129 \nQ 3647 3509 3647 2328 \nQ 3647 1150 3233 529 \nQ 2819 -91 2034 -91 \nQ 1250 -91 836 529 \nQ 422 1150 422 2328 \nQ 422 3509 836 4129 \nQ 1250 4750 2034 4750 \nz\n\" transform=\"scale(0.015625)\"/>\n      <path id=\"DejaVuSans-2e\" d=\"M 684 794 \nL 1344 794 \nL 1344 0 \nL 684 0 \nL 684 794 \nz\n\" transform=\"scale(0.015625)\"/>\n      <path id=\"DejaVuSans-34\" d=\"M 2419 4116 \nL 825 1625 \nL 2419 1625 \nL 2419 4116 \nz\nM 2253 4666 \nL 3047 4666 \nL 3047 1625 \nL 3713 1625 \nL 3713 1100 \nL 3047 1100 \nL 3047 0 \nL 2419 0 \nL 2419 1100 \nL 313 1100 \nL 313 1709 \nL 2253 4666 \nz\n\" transform=\"scale(0.015625)\"/>\n     </defs>\n     <use xlink:href=\"#DejaVuSans-30\"/>\n     <use xlink:href=\"#DejaVuSans-2e\" x=\"63.623047\"/>\n     <use xlink:href=\"#DejaVuSans-30\" x=\"95.410156\"/>\n     <use xlink:href=\"#DejaVuSans-34\" x=\"159.033203\"/>\n    </g>\n   </g>\n   <g id=\"text_12\">\n    <!-- 0.88 -->\n    <g style=\"fill: #ffffff\" transform=\"translate(151.067043 253.870288) scale(0.1 -0.1)\">\n     <defs>\n      <path id=\"DejaVuSans-38\" d=\"M 2034 2216 \nQ 1584 2216 1326 1975 \nQ 1069 1734 1069 1313 \nQ 1069 891 1326 650 \nQ 1584 409 2034 409 \nQ 2484 409 2743 651 \nQ 3003 894 3003 1313 \nQ 3003 1734 2745 1975 \nQ 2488 2216 2034 2216 \nz\nM 1403 2484 \nQ 997 2584 770 2862 \nQ 544 3141 544 3541 \nQ 544 4100 942 4425 \nQ 1341 4750 2034 4750 \nQ 2731 4750 3128 4425 \nQ 3525 4100 3525 3541 \nQ 3525 3141 3298 2862 \nQ 3072 2584 2669 2484 \nQ 3125 2378 3379 2068 \nQ 3634 1759 3634 1313 \nQ 3634 634 3220 271 \nQ 2806 -91 2034 -91 \nQ 1263 -91 848 271 \nQ 434 634 434 1313 \nQ 434 1759 690 2068 \nQ 947 2378 1403 2484 \nz\nM 1172 3481 \nQ 1172 3119 1398 2916 \nQ 1625 2713 2034 2713 \nQ 2441 2713 2670 2916 \nQ 2900 3119 2900 3481 \nQ 2900 3844 2670 4047 \nQ 2441 4250 2034 4250 \nQ 1625 4250 1398 4047 \nQ 1172 3844 1172 3481 \nz\n\" transform=\"scale(0.015625)\"/>\n     </defs>\n     <use xlink:href=\"#DejaVuSans-30\"/>\n     <use xlink:href=\"#DejaVuSans-2e\" x=\"63.623047\"/>\n     <use xlink:href=\"#DejaVuSans-38\" x=\"95.410156\"/>\n     <use xlink:href=\"#DejaVuSans-38\" x=\"159.033203\"/>\n    </g>\n   </g>\n   <g id=\"text_13\">\n    <!-- 0.00 -->\n    <g transform=\"translate(151.067043 188.935742) scale(0.1 -0.1)\">\n     <use xlink:href=\"#DejaVuSans-30\"/>\n     <use xlink:href=\"#DejaVuSans-2e\" x=\"63.623047\"/>\n     <use xlink:href=\"#DejaVuSans-30\" x=\"95.410156\"/>\n     <use xlink:href=\"#DejaVuSans-30\" x=\"159.033203\"/>\n    </g>\n   </g>\n   <g id=\"text_14\">\n    <!-- 0.00 -->\n    <g transform=\"translate(151.067043 124.001195) scale(0.1 -0.1)\">\n     <use xlink:href=\"#DejaVuSans-30\"/>\n     <use xlink:href=\"#DejaVuSans-2e\" x=\"63.623047\"/>\n     <use xlink:href=\"#DejaVuSans-30\" x=\"95.410156\"/>\n     <use xlink:href=\"#DejaVuSans-30\" x=\"159.033203\"/>\n    </g>\n   </g>\n   <g id=\"text_15\">\n    <!-- 1.00 -->\n    <g style=\"fill: #ffffff\" transform=\"translate(151.067043 59.066648) scale(0.1 -0.1)\">\n     <defs>\n      <path id=\"DejaVuSans-31\" d=\"M 794 531 \nL 1825 531 \nL 1825 4091 \nL 703 3866 \nL 703 4441 \nL 1819 4666 \nL 2450 4666 \nL 2450 531 \nL 3481 531 \nL 3481 0 \nL 794 0 \nL 794 531 \nz\n\" transform=\"scale(0.015625)\"/>\n     </defs>\n     <use xlink:href=\"#DejaVuSans-31\"/>\n     <use xlink:href=\"#DejaVuSans-2e\" x=\"63.623047\"/>\n     <use xlink:href=\"#DejaVuSans-30\" x=\"95.410156\"/>\n     <use xlink:href=\"#DejaVuSans-30\" x=\"159.033203\"/>\n    </g>\n   </g>\n   <g id=\"text_16\">\n    <!-- 0.00 -->\n    <g transform=\"translate(233.048002 318.804835) scale(0.1 -0.1)\">\n     <use xlink:href=\"#DejaVuSans-30\"/>\n     <use xlink:href=\"#DejaVuSans-2e\" x=\"63.623047\"/>\n     <use xlink:href=\"#DejaVuSans-30\" x=\"95.410156\"/>\n     <use xlink:href=\"#DejaVuSans-30\" x=\"159.033203\"/>\n    </g>\n   </g>\n   <g id=\"text_17\">\n    <!-- 0.00 -->\n    <g transform=\"translate(233.048002 253.870288) scale(0.1 -0.1)\">\n     <use xlink:href=\"#DejaVuSans-30\"/>\n     <use xlink:href=\"#DejaVuSans-2e\" x=\"63.623047\"/>\n     <use xlink:href=\"#DejaVuSans-30\" x=\"95.410156\"/>\n     <use xlink:href=\"#DejaVuSans-30\" x=\"159.033203\"/>\n    </g>\n   </g>\n   <g id=\"text_18\">\n    <!-- 0.00 -->\n    <g transform=\"translate(233.048002 188.935742) scale(0.1 -0.1)\">\n     <use xlink:href=\"#DejaVuSans-30\"/>\n     <use xlink:href=\"#DejaVuSans-2e\" x=\"63.623047\"/>\n     <use xlink:href=\"#DejaVuSans-30\" x=\"95.410156\"/>\n     <use xlink:href=\"#DejaVuSans-30\" x=\"159.033203\"/>\n    </g>\n   </g>\n   <g id=\"text_19\">\n    <!-- 1.00 -->\n    <g style=\"fill: #ffffff\" transform=\"translate(233.048002 124.001195) scale(0.1 -0.1)\">\n     <use xlink:href=\"#DejaVuSans-31\"/>\n     <use xlink:href=\"#DejaVuSans-2e\" x=\"63.623047\"/>\n     <use xlink:href=\"#DejaVuSans-30\" x=\"95.410156\"/>\n     <use xlink:href=\"#DejaVuSans-30\" x=\"159.033203\"/>\n    </g>\n   </g>\n   <g id=\"text_20\">\n    <!-- 0.00 -->\n    <g transform=\"translate(233.048002 59.066648) scale(0.1 -0.1)\">\n     <use xlink:href=\"#DejaVuSans-30\"/>\n     <use xlink:href=\"#DejaVuSans-2e\" x=\"63.623047\"/>\n     <use xlink:href=\"#DejaVuSans-30\" x=\"95.410156\"/>\n     <use xlink:href=\"#DejaVuSans-30\" x=\"159.033203\"/>\n    </g>\n   </g>\n   <g id=\"text_21\">\n    <!-- 0.00 -->\n    <g transform=\"translate(315.028962 318.804835) scale(0.1 -0.1)\">\n     <use xlink:href=\"#DejaVuSans-30\"/>\n     <use xlink:href=\"#DejaVuSans-2e\" x=\"63.623047\"/>\n     <use xlink:href=\"#DejaVuSans-30\" x=\"95.410156\"/>\n     <use xlink:href=\"#DejaVuSans-30\" x=\"159.033203\"/>\n    </g>\n   </g>\n   <g id=\"text_22\">\n    <!-- 0.07 -->\n    <g transform=\"translate(315.028962 253.870288) scale(0.1 -0.1)\">\n     <defs>\n      <path id=\"DejaVuSans-37\" d=\"M 525 4666 \nL 3525 4666 \nL 3525 4397 \nL 1831 0 \nL 1172 0 \nL 2766 4134 \nL 525 4134 \nL 525 4666 \nz\n\" transform=\"scale(0.015625)\"/>\n     </defs>\n     <use xlink:href=\"#DejaVuSans-30\"/>\n     <use xlink:href=\"#DejaVuSans-2e\" x=\"63.623047\"/>\n     <use xlink:href=\"#DejaVuSans-30\" x=\"95.410156\"/>\n     <use xlink:href=\"#DejaVuSans-37\" x=\"159.033203\"/>\n    </g>\n   </g>\n   <g id=\"text_23\">\n    <!-- 1.00 -->\n    <g style=\"fill: #ffffff\" transform=\"translate(315.028962 188.935742) scale(0.1 -0.1)\">\n     <use xlink:href=\"#DejaVuSans-31\"/>\n     <use xlink:href=\"#DejaVuSans-2e\" x=\"63.623047\"/>\n     <use xlink:href=\"#DejaVuSans-30\" x=\"95.410156\"/>\n     <use xlink:href=\"#DejaVuSans-30\" x=\"159.033203\"/>\n    </g>\n   </g>\n   <g id=\"text_24\">\n    <!-- 0.00 -->\n    <g transform=\"translate(315.028962 124.001195) scale(0.1 -0.1)\">\n     <use xlink:href=\"#DejaVuSans-30\"/>\n     <use xlink:href=\"#DejaVuSans-2e\" x=\"63.623047\"/>\n     <use xlink:href=\"#DejaVuSans-30\" x=\"95.410156\"/>\n     <use xlink:href=\"#DejaVuSans-30\" x=\"159.033203\"/>\n    </g>\n   </g>\n   <g id=\"text_25\">\n    <!-- 0.00 -->\n    <g transform=\"translate(315.028962 59.066648) scale(0.1 -0.1)\">\n     <use xlink:href=\"#DejaVuSans-30\"/>\n     <use xlink:href=\"#DejaVuSans-2e\" x=\"63.623047\"/>\n     <use xlink:href=\"#DejaVuSans-30\" x=\"95.410156\"/>\n     <use xlink:href=\"#DejaVuSans-30\" x=\"159.033203\"/>\n    </g>\n   </g>\n   <g id=\"text_26\">\n    <!-- 0.00 -->\n    <g transform=\"translate(397.009922 318.804835) scale(0.1 -0.1)\">\n     <use xlink:href=\"#DejaVuSans-30\"/>\n     <use xlink:href=\"#DejaVuSans-2e\" x=\"63.623047\"/>\n     <use xlink:href=\"#DejaVuSans-30\" x=\"95.410156\"/>\n     <use xlink:href=\"#DejaVuSans-30\" x=\"159.033203\"/>\n    </g>\n   </g>\n   <g id=\"text_27\">\n    <!-- 1.00 -->\n    <g style=\"fill: #ffffff\" transform=\"translate(397.009922 253.870288) scale(0.1 -0.1)\">\n     <use xlink:href=\"#DejaVuSans-31\"/>\n     <use xlink:href=\"#DejaVuSans-2e\" x=\"63.623047\"/>\n     <use xlink:href=\"#DejaVuSans-30\" x=\"95.410156\"/>\n     <use xlink:href=\"#DejaVuSans-30\" x=\"159.033203\"/>\n    </g>\n   </g>\n   <g id=\"text_28\">\n    <!-- 0.07 -->\n    <g transform=\"translate(397.009922 188.935742) scale(0.1 -0.1)\">\n     <use xlink:href=\"#DejaVuSans-30\"/>\n     <use xlink:href=\"#DejaVuSans-2e\" x=\"63.623047\"/>\n     <use xlink:href=\"#DejaVuSans-30\" x=\"95.410156\"/>\n     <use xlink:href=\"#DejaVuSans-37\" x=\"159.033203\"/>\n    </g>\n   </g>\n   <g id=\"text_29\">\n    <!-- 0.00 -->\n    <g transform=\"translate(397.009922 124.001195) scale(0.1 -0.1)\">\n     <use xlink:href=\"#DejaVuSans-30\"/>\n     <use xlink:href=\"#DejaVuSans-2e\" x=\"63.623047\"/>\n     <use xlink:href=\"#DejaVuSans-30\" x=\"95.410156\"/>\n     <use xlink:href=\"#DejaVuSans-30\" x=\"159.033203\"/>\n    </g>\n   </g>\n   <g id=\"text_30\">\n    <!-- 0.88 -->\n    <g style=\"fill: #ffffff\" transform=\"translate(397.009922 59.066648) scale(0.1 -0.1)\">\n     <use xlink:href=\"#DejaVuSans-30\"/>\n     <use xlink:href=\"#DejaVuSans-2e\" x=\"63.623047\"/>\n     <use xlink:href=\"#DejaVuSans-38\" x=\"95.410156\"/>\n     <use xlink:href=\"#DejaVuSans-38\" x=\"159.033203\"/>\n    </g>\n   </g>\n   <g id=\"text_31\">\n    <!-- 1.00 -->\n    <g style=\"fill: #ffffff\" transform=\"translate(478.990882 318.804835) scale(0.1 -0.1)\">\n     <use xlink:href=\"#DejaVuSans-31\"/>\n     <use xlink:href=\"#DejaVuSans-2e\" x=\"63.623047\"/>\n     <use xlink:href=\"#DejaVuSans-30\" x=\"95.410156\"/>\n     <use xlink:href=\"#DejaVuSans-30\" x=\"159.033203\"/>\n    </g>\n   </g>\n   <g id=\"text_32\">\n    <!-- 0.00 -->\n    <g transform=\"translate(478.990882 253.870288) scale(0.1 -0.1)\">\n     <use xlink:href=\"#DejaVuSans-30\"/>\n     <use xlink:href=\"#DejaVuSans-2e\" x=\"63.623047\"/>\n     <use xlink:href=\"#DejaVuSans-30\" x=\"95.410156\"/>\n     <use xlink:href=\"#DejaVuSans-30\" x=\"159.033203\"/>\n    </g>\n   </g>\n   <g id=\"text_33\">\n    <!-- 0.00 -->\n    <g transform=\"translate(478.990882 188.935742) scale(0.1 -0.1)\">\n     <use xlink:href=\"#DejaVuSans-30\"/>\n     <use xlink:href=\"#DejaVuSans-2e\" x=\"63.623047\"/>\n     <use xlink:href=\"#DejaVuSans-30\" x=\"95.410156\"/>\n     <use xlink:href=\"#DejaVuSans-30\" x=\"159.033203\"/>\n    </g>\n   </g>\n   <g id=\"text_34\">\n    <!-- 0.00 -->\n    <g transform=\"translate(478.990882 124.001195) scale(0.1 -0.1)\">\n     <use xlink:href=\"#DejaVuSans-30\"/>\n     <use xlink:href=\"#DejaVuSans-2e\" x=\"63.623047\"/>\n     <use xlink:href=\"#DejaVuSans-30\" x=\"95.410156\"/>\n     <use xlink:href=\"#DejaVuSans-30\" x=\"159.033203\"/>\n    </g>\n   </g>\n   <g id=\"text_35\">\n    <!-- 0.04 -->\n    <g transform=\"translate(478.990882 59.066648) scale(0.1 -0.1)\">\n     <use xlink:href=\"#DejaVuSans-30\"/>\n     <use xlink:href=\"#DejaVuSans-2e\" x=\"63.623047\"/>\n     <use xlink:href=\"#DejaVuSans-30\" x=\"95.410156\"/>\n     <use xlink:href=\"#DejaVuSans-34\" x=\"159.033203\"/>\n    </g>\n   </g>\n   <g id=\"text_36\">\n    <!-- Рис. 1 -Мультиколинеарность признаков (correlation $\\phi_K$) -->\n    <g transform=\"translate(119.591775 17.84) scale(0.14 -0.14)\">\n     <defs>\n      <path id=\"DejaVuSans-420\" d=\"M 1259 4147 \nL 1259 2394 \nL 2053 2394 \nQ 2494 2394 2734 2622 \nQ 2975 2850 2975 3272 \nQ 2975 3691 2734 3919 \nQ 2494 4147 2053 4147 \nL 1259 4147 \nz\nM 628 4666 \nL 2053 4666 \nQ 2838 4666 3239 4311 \nQ 3641 3956 3641 3272 \nQ 3641 2581 3239 2228 \nQ 2838 1875 2053 1875 \nL 1259 1875 \nL 1259 0 \nL 628 0 \nL 628 4666 \nz\n\" transform=\"scale(0.015625)\"/>\n      <path id=\"DejaVuSans-2d\" d=\"M 313 2009 \nL 1997 2009 \nL 1997 1497 \nL 313 1497 \nL 313 2009 \nz\n\" transform=\"scale(0.015625)\"/>\n      <path id=\"DejaVuSans-41c\" d=\"M 628 4666 \nL 1569 4666 \nL 2759 1491 \nL 3956 4666 \nL 4897 4666 \nL 4897 0 \nL 4281 0 \nL 4281 4097 \nL 3078 897 \nL 2444 897 \nL 1241 4097 \nL 1241 0 \nL 628 0 \nL 628 4666 \nz\n\" transform=\"scale(0.015625)\"/>\n      <path id=\"DejaVuSans-443\" d=\"M 2059 -325 \nQ 1816 -950 1584 -1140 \nQ 1353 -1331 966 -1331 \nL 506 -1331 \nL 506 -850 \nL 844 -850 \nQ 1081 -850 1212 -737 \nQ 1344 -625 1503 -206 \nL 1606 56 \nL 191 3500 \nL 800 3500 \nL 1894 763 \nL 2988 3500 \nL 3597 3500 \nL 2059 -325 \nz\n\" transform=\"scale(0.015625)\"/>\n      <path id=\"DejaVuSans-43a\" d=\"M 581 3500 \nL 1153 3500 \nL 1153 1856 \nL 2775 3500 \nL 3481 3500 \nL 2144 2147 \nL 3653 0 \nL 3009 0 \nL 1769 1766 \nL 1153 1141 \nL 1153 0 \nL 581 0 \nL 581 3500 \nz\n\" transform=\"scale(0.015625)\"/>\n      <path id=\"DejaVuSans-28\" d=\"M 1984 4856 \nQ 1566 4138 1362 3434 \nQ 1159 2731 1159 2009 \nQ 1159 1288 1364 580 \nQ 1569 -128 1984 -844 \nL 1484 -844 \nQ 1016 -109 783 600 \nQ 550 1309 550 2009 \nQ 550 2706 781 3412 \nQ 1013 4119 1484 4856 \nL 1984 4856 \nz\n\" transform=\"scale(0.015625)\"/>\n      <path id=\"DejaVuSans-63\" d=\"M 3122 3366 \nL 3122 2828 \nQ 2878 2963 2633 3030 \nQ 2388 3097 2138 3097 \nQ 1578 3097 1268 2742 \nQ 959 2388 959 1747 \nQ 959 1106 1268 751 \nQ 1578 397 2138 397 \nQ 2388 397 2633 464 \nQ 2878 531 3122 666 \nL 3122 134 \nQ 2881 22 2623 -34 \nQ 2366 -91 2075 -91 \nQ 1284 -91 818 406 \nQ 353 903 353 1747 \nQ 353 2603 823 3093 \nQ 1294 3584 2113 3584 \nQ 2378 3584 2631 3529 \nQ 2884 3475 3122 3366 \nz\n\" transform=\"scale(0.015625)\"/>\n      <path id=\"DejaVuSans-6f\" d=\"M 1959 3097 \nQ 1497 3097 1228 2736 \nQ 959 2375 959 1747 \nQ 959 1119 1226 758 \nQ 1494 397 1959 397 \nQ 2419 397 2687 759 \nQ 2956 1122 2956 1747 \nQ 2956 2369 2687 2733 \nQ 2419 3097 1959 3097 \nz\nM 1959 3584 \nQ 2709 3584 3137 3096 \nQ 3566 2609 3566 1747 \nQ 3566 888 3137 398 \nQ 2709 -91 1959 -91 \nQ 1206 -91 779 398 \nQ 353 888 353 1747 \nQ 353 2609 779 3096 \nQ 1206 3584 1959 3584 \nz\n\" transform=\"scale(0.015625)\"/>\n      <path id=\"DejaVuSans-72\" d=\"M 2631 2963 \nQ 2534 3019 2420 3045 \nQ 2306 3072 2169 3072 \nQ 1681 3072 1420 2755 \nQ 1159 2438 1159 1844 \nL 1159 0 \nL 581 0 \nL 581 3500 \nL 1159 3500 \nL 1159 2956 \nQ 1341 3275 1631 3429 \nQ 1922 3584 2338 3584 \nQ 2397 3584 2469 3576 \nQ 2541 3569 2628 3553 \nL 2631 2963 \nz\n\" transform=\"scale(0.015625)\"/>\n      <path id=\"DejaVuSans-65\" d=\"M 3597 1894 \nL 3597 1613 \nL 953 1613 \nQ 991 1019 1311 708 \nQ 1631 397 2203 397 \nQ 2534 397 2845 478 \nQ 3156 559 3463 722 \nL 3463 178 \nQ 3153 47 2828 -22 \nQ 2503 -91 2169 -91 \nQ 1331 -91 842 396 \nQ 353 884 353 1716 \nQ 353 2575 817 3079 \nQ 1281 3584 2069 3584 \nQ 2775 3584 3186 3129 \nQ 3597 2675 3597 1894 \nz\nM 3022 2063 \nQ 3016 2534 2758 2815 \nQ 2500 3097 2075 3097 \nQ 1594 3097 1305 2825 \nQ 1016 2553 972 2059 \nL 3022 2063 \nz\n\" transform=\"scale(0.015625)\"/>\n      <path id=\"DejaVuSans-6c\" d=\"M 603 4863 \nL 1178 4863 \nL 1178 0 \nL 603 0 \nL 603 4863 \nz\n\" transform=\"scale(0.015625)\"/>\n      <path id=\"DejaVuSans-61\" d=\"M 2194 1759 \nQ 1497 1759 1228 1600 \nQ 959 1441 959 1056 \nQ 959 750 1161 570 \nQ 1363 391 1709 391 \nQ 2188 391 2477 730 \nQ 2766 1069 2766 1631 \nL 2766 1759 \nL 2194 1759 \nz\nM 3341 1997 \nL 3341 0 \nL 2766 0 \nL 2766 531 \nQ 2569 213 2275 61 \nQ 1981 -91 1556 -91 \nQ 1019 -91 701 211 \nQ 384 513 384 1019 \nQ 384 1609 779 1909 \nQ 1175 2209 1959 2209 \nL 2766 2209 \nL 2766 2266 \nQ 2766 2663 2505 2880 \nQ 2244 3097 1772 3097 \nQ 1472 3097 1187 3025 \nQ 903 2953 641 2809 \nL 641 3341 \nQ 956 3463 1253 3523 \nQ 1550 3584 1831 3584 \nQ 2591 3584 2966 3190 \nQ 3341 2797 3341 1997 \nz\n\" transform=\"scale(0.015625)\"/>\n      <path id=\"DejaVuSans-74\" d=\"M 1172 4494 \nL 1172 3500 \nL 2356 3500 \nL 2356 3053 \nL 1172 3053 \nL 1172 1153 \nQ 1172 725 1289 603 \nQ 1406 481 1766 481 \nL 2356 481 \nL 2356 0 \nL 1766 0 \nQ 1100 0 847 248 \nQ 594 497 594 1153 \nL 594 3053 \nL 172 3053 \nL 172 3500 \nL 594 3500 \nL 594 4494 \nL 1172 4494 \nz\n\" transform=\"scale(0.015625)\"/>\n      <path id=\"DejaVuSans-69\" d=\"M 603 3500 \nL 1178 3500 \nL 1178 0 \nL 603 0 \nL 603 3500 \nz\nM 603 4863 \nL 1178 4863 \nL 1178 4134 \nL 603 4134 \nL 603 4863 \nz\n\" transform=\"scale(0.015625)\"/>\n      <path id=\"DejaVuSans-6e\" d=\"M 3513 2113 \nL 3513 0 \nL 2938 0 \nL 2938 2094 \nQ 2938 2591 2744 2837 \nQ 2550 3084 2163 3084 \nQ 1697 3084 1428 2787 \nQ 1159 2491 1159 1978 \nL 1159 0 \nL 581 0 \nL 581 3500 \nL 1159 3500 \nL 1159 2956 \nQ 1366 3272 1645 3428 \nQ 1925 3584 2291 3584 \nQ 2894 3584 3203 3211 \nQ 3513 2838 3513 2113 \nz\n\" transform=\"scale(0.015625)\"/>\n      <path id=\"DejaVuSans-Oblique-3d5\" d=\"M 2991 4863 \nL 2738 3572 \nQ 3363 3572 3684 3094 \nQ 4016 2606 3850 1747 \nQ 3681 888 3159 400 \nQ 2653 -78 2028 -78 \nL 1784 -1331 \nL 1213 -1331 \nL 1456 -78 \nQ 834 -78 509 400 \nQ 178 888 347 1747 \nQ 513 2606 1034 3094 \nQ 1544 3572 2166 3572 \nL 2419 4863 \nL 2991 4863 \nz\nM 2128 434 \nQ 2481 434 2784 756 \nQ 3116 1116 3244 1747 \nQ 3369 2372 3169 2738 \nQ 2991 3059 2638 3059 \nL 2128 434 \nz\nM 1556 434 \nL 2066 3059 \nQ 1716 3059 1413 2738 \nQ 1072 2372 953 1747 \nQ 834 1116 1028 756 \nQ 1203 434 1556 434 \nz\n\" transform=\"scale(0.015625)\"/>\n      <path id=\"DejaVuSans-Oblique-4b\" d=\"M 1081 4666 \nL 1716 4666 \nL 1331 2700 \nL 3781 4666 \nL 4622 4666 \nL 1850 2438 \nL 3878 0 \nL 3109 0 \nL 1247 2272 \nL 806 0 \nL 172 0 \nL 1081 4666 \nz\n\" transform=\"scale(0.015625)\"/>\n      <path id=\"DejaVuSans-29\" d=\"M 513 4856 \nL 1013 4856 \nQ 1481 4119 1714 3412 \nQ 1947 2706 1947 2009 \nQ 1947 1309 1714 600 \nQ 1481 -109 1013 -844 \nL 513 -844 \nQ 928 -128 1133 580 \nQ 1338 1288 1338 2009 \nQ 1338 2731 1133 3434 \nQ 928 4138 513 4856 \nz\n\" transform=\"scale(0.015625)\"/>\n     </defs>\n     <use xlink:href=\"#DejaVuSans-420\" transform=\"translate(0 0.015625)\"/>\n     <use xlink:href=\"#DejaVuSans-438\" transform=\"translate(60.302734 0.015625)\"/>\n     <use xlink:href=\"#DejaVuSans-441\" transform=\"translate(125.292969 0.015625)\"/>\n     <use xlink:href=\"#DejaVuSans-2e\" transform=\"translate(180.273438 0.015625)\"/>\n     <use xlink:href=\"#DejaVuSans-20\" transform=\"translate(212.060547 0.015625)\"/>\n     <use xlink:href=\"#DejaVuSans-31\" transform=\"translate(243.847656 0.015625)\"/>\n     <use xlink:href=\"#DejaVuSans-20\" transform=\"translate(307.470703 0.015625)\"/>\n     <use xlink:href=\"#DejaVuSans-2d\" transform=\"translate(339.257812 0.015625)\"/>\n     <use xlink:href=\"#DejaVuSans-41c\" transform=\"translate(375.341797 0.015625)\"/>\n     <use xlink:href=\"#DejaVuSans-443\" transform=\"translate(461.621094 0.015625)\"/>\n     <use xlink:href=\"#DejaVuSans-43b\" transform=\"translate(520.800781 0.015625)\"/>\n     <use xlink:href=\"#DejaVuSans-44c\" transform=\"translate(584.716797 0.015625)\"/>\n     <use xlink:href=\"#DejaVuSans-442\" transform=\"translate(643.652344 0.015625)\"/>\n     <use xlink:href=\"#DejaVuSans-438\" transform=\"translate(701.904297 0.015625)\"/>\n     <use xlink:href=\"#DejaVuSans-43a\" transform=\"translate(766.894531 0.015625)\"/>\n     <use xlink:href=\"#DejaVuSans-43e\" transform=\"translate(827.294922 0.015625)\"/>\n     <use xlink:href=\"#DejaVuSans-43b\" transform=\"translate(888.476562 0.015625)\"/>\n     <use xlink:href=\"#DejaVuSans-438\" transform=\"translate(952.392578 0.015625)\"/>\n     <use xlink:href=\"#DejaVuSans-43d\" transform=\"translate(1017.382812 0.015625)\"/>\n     <use xlink:href=\"#DejaVuSans-435\" transform=\"translate(1082.763672 0.015625)\"/>\n     <use xlink:href=\"#DejaVuSans-430\" transform=\"translate(1144.287109 0.015625)\"/>\n     <use xlink:href=\"#DejaVuSans-440\" transform=\"translate(1205.566406 0.015625)\"/>\n     <use xlink:href=\"#DejaVuSans-43d\" transform=\"translate(1269.042969 0.015625)\"/>\n     <use xlink:href=\"#DejaVuSans-43e\" transform=\"translate(1334.423828 0.015625)\"/>\n     <use xlink:href=\"#DejaVuSans-441\" transform=\"translate(1395.605469 0.015625)\"/>\n     <use xlink:href=\"#DejaVuSans-442\" transform=\"translate(1450.585938 0.015625)\"/>\n     <use xlink:href=\"#DejaVuSans-44c\" transform=\"translate(1508.837891 0.015625)\"/>\n     <use xlink:href=\"#DejaVuSans-20\" transform=\"translate(1567.773438 0.015625)\"/>\n     <use xlink:href=\"#DejaVuSans-43f\" transform=\"translate(1599.560547 0.015625)\"/>\n     <use xlink:href=\"#DejaVuSans-440\" transform=\"translate(1664.941406 0.015625)\"/>\n     <use xlink:href=\"#DejaVuSans-438\" transform=\"translate(1728.417969 0.015625)\"/>\n     <use xlink:href=\"#DejaVuSans-437\" transform=\"translate(1793.408203 0.015625)\"/>\n     <use xlink:href=\"#DejaVuSans-43d\" transform=\"translate(1846.582031 0.015625)\"/>\n     <use xlink:href=\"#DejaVuSans-430\" transform=\"translate(1911.962891 0.015625)\"/>\n     <use xlink:href=\"#DejaVuSans-43a\" transform=\"translate(1973.242188 0.015625)\"/>\n     <use xlink:href=\"#DejaVuSans-43e\" transform=\"translate(2033.642578 0.015625)\"/>\n     <use xlink:href=\"#DejaVuSans-432\" transform=\"translate(2094.824219 0.015625)\"/>\n     <use xlink:href=\"#DejaVuSans-20\" transform=\"translate(2153.759766 0.015625)\"/>\n     <use xlink:href=\"#DejaVuSans-28\" transform=\"translate(2185.546875 0.015625)\"/>\n     <use xlink:href=\"#DejaVuSans-63\" transform=\"translate(2224.560547 0.015625)\"/>\n     <use xlink:href=\"#DejaVuSans-6f\" transform=\"translate(2279.541016 0.015625)\"/>\n     <use xlink:href=\"#DejaVuSans-72\" transform=\"translate(2340.722656 0.015625)\"/>\n     <use xlink:href=\"#DejaVuSans-72\" transform=\"translate(2381.835938 0.015625)\"/>\n     <use xlink:href=\"#DejaVuSans-65\" transform=\"translate(2422.949219 0.015625)\"/>\n     <use xlink:href=\"#DejaVuSans-6c\" transform=\"translate(2484.472656 0.015625)\"/>\n     <use xlink:href=\"#DejaVuSans-61\" transform=\"translate(2512.255859 0.015625)\"/>\n     <use xlink:href=\"#DejaVuSans-74\" transform=\"translate(2573.535156 0.015625)\"/>\n     <use xlink:href=\"#DejaVuSans-69\" transform=\"translate(2612.744141 0.015625)\"/>\n     <use xlink:href=\"#DejaVuSans-6f\" transform=\"translate(2640.527344 0.015625)\"/>\n     <use xlink:href=\"#DejaVuSans-6e\" transform=\"translate(2701.708984 0.015625)\"/>\n     <use xlink:href=\"#DejaVuSans-20\" transform=\"translate(2765.087891 0.015625)\"/>\n     <use xlink:href=\"#DejaVuSans-Oblique-3d5\" transform=\"translate(2796.875 0.015625)\"/>\n     <use xlink:href=\"#DejaVuSans-Oblique-4b\" transform=\"translate(2862.841797 -16.390625) scale(0.7)\"/>\n     <use xlink:href=\"#DejaVuSans-29\" transform=\"translate(2911.479492 0.015625)\"/>\n    </g>\n   </g>\n  </g>\n  <g id=\"axes_2\">\n   <g id=\"patch_7\">\n    <path d=\"M 556.733225 348.512733 \nL 572.966862 348.512733 \nL 572.966862 23.84 \nL 556.733225 23.84 \nz\n\" style=\"fill: #ffffff\"/>\n   </g>\n   <image xlink:href=\"data:image/png;base64,\niVBORw0KGgoAAAANSUhEUgAAAOIAABGdCAYAAABozTO5AAA0+klEQVR4nO3dwQ0cMQwEQZ3B/LN0GJYcBhvYqgj0acyL0O+9v+8Aq/5sPwAQIiQIEQKECAFChAAhQoAQIUCIECBECBAiBAgRAoQIAUKEACFCgBAhQIgQMOe4C4ZtFhEChAgBQoQAIUKAECFAiBAgRAgQIgQIEQKECAFChAAhQoAQIUCIECBECBAiBAgRAua8u/0G+DyLCAFChAAhQoAQIUCIECBECBAiBAgRAoQIAUKEACFCgBAhQIgQIEQIECIECBEChAgBc87bfgN8nkWEACFCgBAhQIgQIEQIECIECBEChAgBQoQAIUKAECFAiBAgRAgQIgQIEQKECAEOgyHAIkKAECFAiBAgRAgQIgQIEQKECAFChAAhQoAQIUCIECBECBAiBAgRAoQIAUKEACFCgAt9CLCIECBECBAiBAgRAoQIAUKEACFCgBAhQIgQIEQIECIECBEChAgBQoQAIUKAECFgzrvbb4DPs4gQIEQIECIECBEChAgBQoQAIUKAECFAiBAgRAgQIgQIEQKECAFChAAhQoAQIUCIEODrbgiwiBAgRAgQIgQIEQKECAFChAAhQoAQIUCIECBECBAiBAgRAoQIAUKEACFCgBAhQIgQ4EIfAiwiBAgRAoQIAUKEACFCgBAhQIgQIEQIECIECBEChAgBQoQAIUKAECFAiBAgRAiYc+72G+DzLCIECBEChAgBQoQAIUKAECFAiBAgRAgQIgQIEQKECAFChAAhQoAQIUCIECBECBAiBMx5vu6GbRYRAoQIAUKEACFCgBAhQIgQIEQIECIECBEChAgBQoQAIUKAECFAiBAgRAgQIgQIEQLmHBf6sM0iQoAQIUCIECBECBAiBAgRAoQIAUKEACFCgBAhQIgQIEQIECIECBEChAgBQoQAh8EQYBEhQIgQIEQIECIECBEChAgBQoQAIUKAECFAiBAgRAgQIgQIEQKECAFChAAhQoAQIWDOudtvgM+ziBAgRAgQIgQIEQKECAFChAAhQoAQIUCIECBECBAiBAgRAoQIAUKEACFCgBAhYM7zdTdss4gQIEQIECIECBEChAgBQoQAIUKAECFAiBAgRAgQIgQIEQKECAFChAAhQoAQIUCIEDDnuNCHbRYRAoQIAUKEACFCgBAhQIgQIEQIECIECBEChAgBQoQAIUKAECFAiBAgRAgQIgQIEQLmnLv9Bvg8iwgBQoQAIUKAECFAiBAgRAgQIgQIEQKECAFChAAhQoAQIUCIECBECBAiBAgRAnzdDQEWEQKECAFChAAhQoAQIUCIECBECBAiBAgRAoQIAUKEACFCgBAhQIgQIEQIECIECBEC5jwX+rDNIkKAECFAiBAgRAgQIgQIEQKECAFChAAhQoAQIUCIECBECBAiBAgRAoQIAUKEAF93Q4BFhAAhQoAQIUCIECBECBAiBAgRAoQIAUKEACFCgBAhQIgQIEQIECIECBEChAgBQoSAOeduvwE+zyJCgBAhQIgQIEQIECIECBEChAgBQoQAIUKAECFAiBAgRAgQIgQIEQKECAFChAAhQsCc87bfAJ9nESFAiBAgRAgQIgQIEQKECAFChAAhQoAQIUCIECBECBAiBAgRAoQIAUKEACFCwJznMBi2WUQIECIECBEChAgBQoQAIUKAECFAiBAgRAgQIgQIEQKECAFChAAhQoAQIUCIECBECJhz7vYb4PMsIgQIEQKECAFChAAhQoAQIUCIECBECBAiBAgRAoQIAUKEACFCgBAhQIgQIEQIECIEzDlv+w3weRYRAoQIAUKEACFCgBAhQIgQIEQIECIECBEChAgBQoQAIUKAECFAiBAgRAgQIgQ4DIYAiwgBQoQAIUKAECFAiBAgRAgQIgQIEQKECAFChAAhQoAQIUCIECBECBAiBAgRAoQIAXOeC33YZhEhQIgQIEQIECIECBEChAgBQoQAIUKAECFAiBAgRAgQIgQIEQKECAFChAAhQsCcc7ffAJ9nESFAiBAgRAgQIgQIEQKECAFChAAhQoAQIUCIECBECBAiBAgRAoQIAUKEACFCgBAhYM7xdTdss4gQIEQIECIECBEChAgBQoQAIUKAECFAiBAgRAgQIgQIEQKECAFChAAhQoAQIUCIEOBCHwIsIgQIEQKECAFChAAhQoAQIUCIECBECBAiBAgRAoQIAUKEACFCgBAhQIgQIEQImPPu9hvg8ywiBAgRAoQIAUKEACFCgBAhQIgQIEQIECIECBEChAgBQoQAIUKAECFAiBAgRAgQIgT4uhsCLCIECBEChAgBQoQAIUKAECFAiBAgRAgQIgQIEQKECAFChAAhQoAQIUCIECBECHAYDAEWEQKECAFChAAhQoAQIUCIECBECBAiBAgRAoQIAUKEACFCgBAhQIgQIEQIECIECBEC5ry7/Qb4PIsIAUKEACFCgBAhQIgQIEQIECIECBEChAgBQoQAIUKAECFAiBAgRAgQIgQIEQKECAFzztt+A3yeRYQAIUKAECFAiBAgRAgQIgQIEQKECAFChAAhQoAQIUCIECBECBAiBAgRAoQIAXOew2DYZhEhQIgQIEQIECIECBEChAgBQoQAIUKAECFAiBAgRAgQIgQIEQKECAFChAAhQoAQIWDOu9tvgM+ziBAgRAgQIgQIEQKECAFChAAhQoAQIUCIECBECBAiBAgRAoQIAUKEACFCgBAhYM7xdTdss4gQIEQIECIECBEChAgBQoQAIUKAECFAiBAgRAgQIgQIEQKECAFChAAhQoAQIUCIEDDnudCHbRYRAoQIAUKEACFCgBAhQIgQIEQIECIECBEChAgBQoQAIUKAECFAiBAgRAgQIgQIEQLmnLv9Bvg8iwgBQoQAIUKAECFAiBAgRAgQIgQIEQKECAFChAAhQoAQIUCIECBECBAiBAgRAnzdDQEWEQKECAFChAAhQoAQIUCIECBECBAiBAgRAoQIAUKEACFCgBAhQIgQIEQIECIECBECXOhDgEWEACFCgBAhQIgQIEQIECIECBEChAgBQoQAIUKAECFAiBAgRAgQIgQIEQKECAFChIA5526/AT7PIkKAECFAiBAgRAgQIgQIEQKECAFChAAhQoAQIUCIECBECBAiBAgRAoQIAUKEAF93Q4BFhAAhQoAQIUCIECBECBAiBAgRAoQIAUKEACFCgBAhQIgQIEQIECIECBEChAgBQoQAF/oQYBEhQIgQIEQIECIECBEChAgBQoQAIUKAECFAiBAgRAgQIgQIEQKECAFChAAhQsCcc7ffAJ9nESFAiBAgRAgQIgQIEQKECAFChAAhQoAQIUCIECBECBAiBAgRAoQIAUKEACFCgBAhwNfdEGARIUCIECBECBAiBAgRAoQIAUKEACFCgBAhQIgQIEQIECIECBEChAgBQoQAIUKAECFgznGhD9ssIgQIEQKECAFChAAhQoAQIUCIECBECBAiBAgRAoQIAUKEACFCgBAhQIgQIEQImPfu9hvg8ywiBAgRAoQIAUKEACFCgBAhQIgQIEQIECIECBEChAgBQoQAIUKAECFAiBAgRAgQIgTMeb7uhm0WEQKECAFChAAhQoAQIUCIECBECBAiBAgRAoQIAUKEACFCgBAhQIgQIEQIECIEzDkOg2GbRYQAIUKAECFAiBAgRAgQIgQIEQKECAFChAAhQoAQIUCIECBECBAiBAgRAoQIAUKEgDnvbr8BPs8iQoAQIUCIECBECBAiBAgRAoQIAUKEACFCgBAhQIgQIEQIECIECBEChAgBQoQAIULAnPe23wCfZxEhQIgQIEQIECIECBEChAgBQoQAIUKAECFAiBAgRAgQIgQIEQKECAFChAAhQsCc4zAYtllECBAiBAgRAoQIAUKEACFCgBAhQIgQIEQIECIECBEChAgBQoQAIUKAECFAiBAgRAiY8+72G+DzLCIECBEChAgBQoQAIUKAECFAiBAgRAgQIgQIEQKECAFChAAhQoAQIUCIECBECBAiBMx5b/sN8HkWEQKECAFChAAhQoAQIUCIECBECBAiBAgRAoQIAUKEACFCgBAhQIgQIEQIECIEzDm+7oZtFhEChAgBQoQAIUKAECFAiBAgRAgQIgQIEQKECAFChAAhQoAQIUCIECBECBAiBAgRAnzdDQEWEQKECAFChAAhQoAQIUCIECBECBAiBAgRAoQIAUKEACFCgBAhQIgQIEQIECIEzDkOg2GbRYQAIUKAECFAiBAgRAgQIgQIEQKECAFChAAhQoAQIUCIECBECBAiBAgRAoQIAUKEgDnvbr8BPs8iQoAQIUCIECBECBAiBAgRAoQIAUKEACFCgBAhQIgQIEQIECIECBEChAgBQoQAIULAnPe23wCfZxEhQIgQIEQIECIECBEChAgBQoQAIUKAECFAiBAgRAgQIgQIEQKECAFChAAhQsCc4zAYtllECBAiBAgRAoQIAUKEACFCgBAhQIgQIEQIECIECBEChAgBQoQAIUKAECFAiBAgRAiY8+72G+DzLCIECBEChAgBQoQAIUKAECFAiBAgRAgQIgQIEQKECAFChAAhQoAQIUCIECBECJjzfN0N2ywiBAgRAoQIAUKEACFCgBAhQIgQIEQIECIECBEChAgBQoQAIUKAECFAiBAgRAgQIgTMOb7uhm0WEQKECAFChAAhQoAQIUCIECBECBAiBAgRAoQIAUKEACFCgBAhQIgQIEQIECIECBEC5jwX+rDNIkKAECFAiBAgRAgQIgQIEQKECAFChAAhQoAQIUCIECBECBAiBAgRAoQIAUKEAIfBEGARIUCIECBECBAiBAgRAoQIAUKEACFCgBAhQIgQIEQIECIECBEChAgBQoQAIUKAECHAhT4EWEQIECIECBEChAgBQoQAIUKAECFAiBAgRAgQIgQIEQKECAFChAAhQoAQIUCIECBECHChDwEWEQKECAFChAAhQoAQIUCIECBECBAiBAgRAoQIAUKEACFCgBAhQIgQIEQIECIEOAyGAIsIAUKEACFCgBAhQIgQIEQIECIECBEChAgBQoQAIUKAECFAiBAgRAgQIgQIEQKECAEu9CHAIkKAECFAiBAgRAgQIgQIEQKECAFChAAhQoAQIUCIECBECBAiBAgRAoQIAUKEAIfBEGARIUCIECBECBAiBAgRAoQIAUKEACFCgBAhQIgQIEQIECIECBEChAgBQoQAIUKAECHAhT4EWEQIECIECBEChAgBQoQAIUKAECFAiBAgRAgQIgQIEQKECAFChAAhQoAQIUCIECBECHChDwEWEQKECAFChAAhQoAQIUCIECBECBAiBAgRAoQIAUKEACFCgBAhQIgQIEQIECIEOAyGAIsIAUKEACFCgBAhQIgQIEQIECIECBEChAgBQoQAIUKAECFAiBAgRAgQIgQIEQKECAEu9CHAIkKAECFAiBAgRAgQIgQIEQKECAFChAAhQoAQIUCIECBECBAiBAgRAoQIAUKEAIfBEGARIUCIECBECBAiBAgRAoQIAUKEACFCgBAhQIgQIEQIECIECBEChAgBQoQAIUKAECHAhT4EWEQIECIECBEChAgBQoQAIUKAECFAiBAgRAgQIgQIEQKECAFChAAhQoAQIUCIECBECJjz/m2/AT7PIkKAECFAiBAgRAgQIgQIEQKECAFChAAhQoAQIUCIECBECBAiBAgRAoQIAUKEAF93Q4BFhAAhQoAQIUCIECBECBAiBAgRAoQIAUKEACFCgBAhQIgQIEQIECIECBEChAgBQoQAF/oQYBEhQIgQIEQIECIECBEChAgBQoQAIUKAECFAiBAgRAgQIgQIEQKECAFChAAhQoAQIcCFPgRYRAgQIgQIEQKECAFChAAhQoAQIUCIECBECBAiBAgRAoQIAUKEACFCgBAhQIgQ4DAYAiwiBAgRAoQIAUKEACFCgBAhQIgQIEQIECIECBEChAgBQoQAIUKAECFAiBAgRAgQIgS40IcAiwgBQoQAIUKAECFAiBAgRAgQIgQIEQKECAFChAAhQoAQIUCIECBECBAiBAgRAhwGQ4BFhAAhQoAQIUCIECBECBAiBAgRAoQIAUKEACFCgBAhQIgQIEQIECIECBEChAgBQoQAF/oQYBEhQIgQIEQIECIECBEChAgBQoQAIUKAECFAiBAgRAgQIgQIEQKECAFChAAhQoAQIcCFPgRYRAgQIgQIEQKECAFChAAhQoAQIUCIECBECBAiBAgRAoQIAUKEACFCgBAhQIgQ4DAYAiwiBAgRAoQIAUKEACFCgBAhQIgQIEQIECIECBEChAgBQoQAIUKAECFAiBAgRAgQIgS40IcAiwgBQoQAIUKAECFAiBAgRAgQIgQIEQKECAFChAAhQoAQIUCIECBECBAiBAgRAhwGQ4BFhAAhQoAQIUCIECBECBAiBAgRAoQIAUKEACFCgBAhQIgQIEQIECIECBEChAgBQoQAF/oQYBEhQIgQIEQIECIECBEChAgBQoQAIUKAECFAiBAgRAgQIgQIEQKECAFChAAhQoAQIcCFPgRYRAgQIgQIEQKECAFChAAhQoAQIUCIECBECBAiBAgRAoQIAUKEACFCgBAhQIgQMOc4DIZtFhEChAgBQoQAIUKAECFAiBAgRAgQIgQIEQKECAFChAAhQoAQIUCIECBECBAiBAgRAua8f9tvgM+ziBAgRAgQIgQIEQKECAFChAAhQoAQIUCIECBECBAiBAgRAoQIAUKEACFCgBAhQIgQMOfd7TfA51lECBAiBAgRAoQIAUKEACFCgBAhQIgQIEQIECIECBEChAgBQoQAIUKAECFAiBDgMBgCLCIECBEChAgBQoQAIUKAECFAiBAgRAgQIgQIEQKECAFChAAhQoAQIUCIECBECBAiBMy5b/sN8HkWEQKECAFChAAhQoAQIUCIECBECBAiBAgRAoQIAUKEACFCgBAhQIgQIEQIECIE+LobAiwiBAgRAoQIAUKEACFCgBAhQIgQIEQIECIECBEChAgBQoQAIUKAECFAiBAgRAgQIgTMeb7uhm0WEQKECAFChAAhQoAQIUCIECBECBAiBAgRAoQIAUKEACFCgBAhQIgQIEQIECIECBEC5lwX+rDNIkKAECFAiBAgRAgQIgQIEQKECAFChAAhQoAQIUCIECBECBAiBAgRAoQIAUKEAF93Q4BFhAAhQoAQIUCIECBECBAiBAgRAoQIAUKEACFCgBAhQIgQIEQIECIECBEChAgBQoQAF/oQYBEhQIgQIEQIECIECBEChAgBQoQAIUKAECFAiBAgRAgQIgQIEQKECAFChAAhQsCce7ffAJ9nESFAiBAgRAgQIgQIEQKECAFChAAhQoAQIUCIECBECBAiBAgRAoQIAUKEACFCgBAhwNfdEGARIUCIECBECBAiBAgRAoQIAUKEACFCgBAhQIgQIEQIECIECBEChAgBQoQAIUKAECHAhT4EWEQIECIECBEChAgBQoQAIUKAECFAiBAgRAgQIgQIEQKECAFChAAhQoAQIUCIEDDnOgyGbRYRAoQIAUKEACFCgBAhQIgQIEQIECIECBEChAgBQoQAIUKAECFAiBAgRAgQIgQIEQJ83Q0BFhEChAgBQoQAIUKAECFAiBAgRAgQIgQIEQKECAFChAAhQoAQIUCIECBECBAiBAgRAua8u/0G+DyLCAFChAAhQoAQIUCIECBECBAiBAgRAoQIAUKEACFCgBAhQIgQIEQIECIECBEC5lxfd8M2iwgBQoQAIUKAECFAiBAgRAgQIgQIEQKECAFChAAhQoAQIUCIECBECBAiBAgRAoQIAXOeC33YZhEhQIgQIEQIECIECBEChAgBQoQAIUKAECFAiBAgRAgQIgQIEQKECAFChAAhQoDDYAiwiBAgRAgQIgQIEQKECAFChAAhQoAQIUCIECBECBAiBAgRAoQIAUKEACFCgBAhQIgQMOe60IdtFhEChAgBQoQAIUKAECFAiBAgRAgQIgQIEQKECAFChAAhQoAQIUCIECBECBAiBAgRAua8u/0G+DyLCAFChAAhQoAQIUCIECBECBAiBAgRAoQIAUKEACFCgBAhQIgQIEQIECIECBEC5jxfd8M2iwgBQoQAIUKAECFAiBAgRAgQIgQIEQKECAFChAAhQoAQIUCIECBECBAiBAgRAoQIAXOuC33YZhEhQIgQIEQIECIECBEChAgBQoQAIUKAECFAiBAgRAgQIgQIEQKECAFChAAhQoCvuyHAIkKAECFAiBAgRAgQIgQIEQKECAFChAAhQoAQIUCIECBECBAiBAgRAoQIAUKEACFCgAt9CLCIECBECBAiBAgRAoQIAUKEACFCgBAhQIgQIEQIECIECBEChAgBQoQAIUKAECFAiBAw57rQh20WEQKECAFChAAhQoAQIUCIECBECBAiBAgRAoQIAUKEACFCgBAhQIgQIEQIECIEzHl3+w3weRYRAoQIAUKEACFCgBAhQIgQIEQIECIECBEChAgBQoQAIUKAECFAiBAgRAgQIgQIEQJ83Q0BFhEChAgBQoQAIUKAECFAiBAgRAgQIgQIEQKECAFChAAhQoAQIUCIECBECBAiBAgRAuY8F/qwzSJCgBAhQIgQIEQIECIECBEChAgBQoQAIUKAECFAiBAgRAgQIgQIEQKECAFChACHwRBgESFAiBAgRAgQIgQIEQKECAFChAAhQoAQIUCIECBECBAiBAgRAoQIAUKEACFCgBAhYM51oQ/bLCIECBEChAgBQoQAIUKAECFAiBAgRAgQIgQIEQKECAFChAAhQoAQIUCIECBECJjz7vYb4PMsIgQIEQKECAFChAAhQoAQIUCIECBECBAiBAgRAoQIAUKEACFCgBAhQIgQIEQIECIEzHm+7oZtFhEChAgBQoQAIUKAECFAiBAgRAgQIgQIEQKECAFChAAhQoAQIUCIECBECBAiBAgRAuZcF/qwzSJCgBAhQIgQIEQIECIECBEChAgBQoQAIUKAECFAiBAgRAgQIgQIEQKECAFChABfd0OARYQAIUKAECFAiBAgRAgQIgQIEQKECAFChAAhQoAQIUCIECBECBAiBAgRAoQIAUKEABf6EGARIUCIECBECBAiBAgRAoQIAUKEACFCgBAhQIgQIEQIECIECBEChAgBQoQAIULAnOswGLZZRAgQIgQIEQKECAFChAAhQoAQIUCIECBECBAiBAgRAoQIAUKEACFCgBAhQIgQIEQImOfrblhnESFAiBAgRAgQIgQIEQKECAFChAAhQoAQIUCIECBECBAiBAgRAoQIAUKEACFCgBAhYI4LfVhnESFAiBAgRAgQIgQIEQKECAFChAAhQoAQIUCIECBECBAiBAgRAoQIAUKEACFCwLy7/QTAIkKAECFAiBAgRAgQIgQIEQKECAFChAAhQoAQIUCIECBECBAiBAgRAoQIAUKEACFCwDxfd8M6iwgBQoQAIUKAECFAiBAgRAgQIgQIEQKECAFChAAhQoAQIUCIECBECBAiBAgRAuY4DIZ1FhEChAgBQoQAIUKAECFAiBAgRAgQIgQIEQKECAFChAAhQoAQIUCIECBECBAiBAgRAsaBPuyziBAgRAgQIgQIEQKECAFChAAhQoAQIUCIECBECBAiBAgRAoQIAUKEACFCgBAhQIgQMOc60YdtFhEChAgBQoQAIUKAECFAiBAgRAgQIgQIEQKECAFChAAhQoAQIUCIECBECBAiBMzzdzess4gQIEQIECIECBEChAgBQoQAIUKAECFAiBAgRAgQIgQIEQKECAFChAAhQoAQIUCIEDDHgT6ss4gQIEQIECIECBEChAgBQoQAIUKAECFAiBAgRAgQIgQIEQKECAFChAAhQoAQIUCIEDDvOtGHbRYRAoQIAUKEACFCgBAhQIgQIEQIECIECBEChAgBQoQAIUKAECFAiBAgRAgQIgTMeQ6DYZtFhAAhQoAQIUCIECBECBAiBAgRAoQIAUKEACFCgBAhQIgQIEQIECIECBEChAgBQoSAcaAP+ywiBAgRAoQIAUKEACFCgBAhQIgQIEQIECIECBEChAgBQoQAIUKAECFAiBAgRAiY5zIY1llECBAiBAgRAoQIAUKEACFCgBAhQIgQIEQIECIECBEChAgBQoQAIUKAECFAiBAgRAiYc13owzaLCAFChAAhQoAQIUCIECBECBAiBAgRAoQIAUKEACFCgBAhQIgQIEQIECIECBEChAgB8xzowzqLCAFChAAhQoAQIUCIECBECBAiBAgRAoQIAUKEACFCgBAhQIgQIEQIECIECBEC5rgMhnUWEQKECAFChAAhQoAQIUCIECBECBAiBAgRAoQIAUKEACFCgBAhQIgQIEQIECIECBEC5l0X+rDNIkKAECFAiBAgRAgQIgQIEQKECAFChAAhQoAQIUCIECBECBAiBAgRAoQIAUKEgDnugmGdRYQAIUKAECFAiBAgRAgQIgQIEQKECAFChAAhQoAQIUCIECBECBAiBAgRAoQIAUKEgHnPiT5ss4gQIEQIECIECBEChAgBQoQAIUKAECFAiBAgRAgQIgQIEQKECAFChAAhQoAQIUCIEOBCHwIsIgQIEQKECAFChAAhQoAQIUCIECBECBAiBAgRAoQIAUKEACFCgBAhQIgQIEQImHO3nwBYRAgQIgQIEQKECAFChAAhQoAQIUCIECBECBAiBAgRAoQIAUKEACFCgBAhQIgQIEQI8HU3BFhECBAiBAgRAoQIAUKEACFCgBAhQIgQIEQIECIECBEChAgBQoQAIUKAECFAiBAgRAiY40Af1llECBAiBAgRAoQIAUKEACFCgBAhQIgQIEQIECIECBEChAgBQoQAIUKAECFAiBAw77oMhm0WEQKECAFChAAhQoAQIUCIECBECBAiBAgRAoQIAUKEACFCgBAhQIgQIEQIECIECBEC5jwX+rDNIkKAECFAiBAgRAgQIgQIEQKECAFChAAhQoAQIUCIECBECBAiBAgRAoQIAUKEgHEXDPssIgQIEQKECAFChAAhQoAQIUCIECBECBAiBAgRAoQIAUKEACFCgBAhQIgQIEQIECIEzHOiD+ssIgQIEQKECAFChAAhQoAQIUCIECBECBAiBAgRAoQIAUKEACFCgBAhQIgQIEQIECIEzLku9GGbRYQAIUKAECFAiBAgRAgQIgQIEQKECAFChAAhQoAQIUCIECBECBAiBAgRAoQIAePnbthnESFAiBAgRAgQIgQIEQKECAFChAAhQoAQIUCIECBECBAiBAgRAoQIAUKEACFCgBAhYI4TfVhnESFAiBAgRAgQIgQIEQKECAFChAAhQoAQIUCIECBECBAiBAgRAoQIAUKEACFCwLzrMBi2WUQIECIECBEChAgBQoQAIUKAECFAiBAgRAgQIgQIEQKECAFChAAhQoAQIUCIECBECBg/d8M+iwgBQoQAIUKAECFAiBAgRAgQIgQIEQKECAFChAAhQoAQIUCIECBECBAiBAgRAoQIAfOc6MM6iwgBQoQAIUKAECFAiBAgRAgQIgQIEQKECAFChAAhQoAQIUCIECBECBAiBAgRAnzdDQEWEQKECAFChAAhQoAQIUCIECBECBAiBAgRAoQIAUKEACFCgBAhQIgQIEQIECIECBECfN0NARYRAoQIAUKEACFCgBAhQIgQIEQIECIECBEChAgBQoQAIUKAECFAiBAgRAgQIgQIEQJc6EOARYQAIUKAECFAiBAgRAgQIgQIEQKECAFChAAhQoAQIUCIECBECBAiBAgRAoQIAeMuGPZZRAgQIgQIEQKECAFChAAhQoAQIUCIECBECBAiBAgRAoQIAUKEACFCgBAhQIgQIEQI8HU3BFhECBAiBAgRAoQIAUKEACFCgBAhQIgQIEQIECIECBEChAgBQoQAIUKAECFAiBAw724/AbCIECBECBAiBAgRAoQIAUKEACFCgBAhQIgQIEQIECIECBEChAgBQoQAIUKAECFAiBDg624IsIgQIEQIECIECBEChAgBQoQAIUKAECFAiBAgRAgQIgQIEQKECAFChAAhQoAQIUCIEDAO9GGfRYQAIUKAECFAiBAgRAgQIgQIEQKECAFChAAhQoAQIUCIECBECBAiBAgRAoQIAb7uhgCLCAFChAAhQoAQIUCIECBECBAiBAgRAoQIAUKEACFCgBAhQIgQIEQIECIECBEChAgBLvQhwCJCgBAhQIgQIEQIECIECBEChAgBQoQAIUKAECFAiBAgRAgQIgQIEQKECAFChIBxFwz7LCIECBEChAgBQoQAIUKAECFAiBAgRAgQIgQIEQKECAFChAAhQoAQIUCIECBECBAiBPi6GwIsIgQIEQKECAFChAAhQoAQIUCIECBECBAiBAgRAoQIAUKEACFCgBAhQIgQIEQIECIEzLvbTwAsIgQIEQKECAFChAAhQoAQIUCIECBECBAiBAgRAoQIAUKEACFCgBAhQIgQIEQI8HU3BFhECBAiBAgRAoQIAUKEACFCgBAhQIgQIEQIECIECBEChAgBQoQAIUKAECFAiBAgRAgYB/qwzyJCgBAhQIgQIEQIECIECBEChAgBQoQAIUKAECFAiBAgRAgQIgQIEQKECAFChAAhQsA8J/qwziJCgBAhQIgQIEQIECIECBEChAgBQoQAIUKAECFAiBAgRAgQIgQIEQKECAFChACHwRBgESFAiBAgRAgQIgQIEQKECAFChAAhQoAQIUCIECBECBAiBAgRAoQIAUKEACFCgBAhYBzowz6LCAFChAAhQoAQIUCIECBECBAiBAgRAoQIAUKEACFCgBAhQIgQIEQIECIECBECfN0NARYRAoQIAUKEACFCgBAhQIgQIEQIECIECBEChAgBQoQAIUKAECFAiBAgRAgQIgQIEQJ83Q0BFhEChAgBQoQAIUKAECFAiBAgRAgQIgQIEQKECAFChAAhQoAQIUCIECBECBAiBAgRAuZdJ/qwzSJCgBAhQIgQIEQIECIECBEChAgBQoQAIUKAECFAiBAgRAgQIgQIEQKECAFChABfd0OARYQAIUKAECFAiBAgRAgQIgQIEQKECAFChAAhQoAQIUCIECBECBAiBAgRAoQIAUKEgHlO9GGdRYQAIUKAECFAiBAgRAgQIgQIEQKECAFChAAhQoAQIUCIECBECBAiBAgRAoQIAb7uhgCLCAFChAAhQoAQIUCIECBECBAiBAgRAoQIAUKEACFCgBAhQIgQIEQIECIECBEChAgBvu6GAIsIAUKEACFCgBAhQIgQIEQIECIECBEChAgBQoQAIUKAECFAiBAgRAgQIgQIEQKECAEu9CHAIkKAECFAiBAgRAgQIgQIEQKECAFChAAhQoAQIUCIECBECBAiBAgRAoQIAUKEgHEXDPssIgQIEQKECAFChAAhQoAQIUCIECBECBAiBAgRAoQIAUKEACFCgBAhQIgQIEQIECIE+LobAiwiBAgRAoQIAUKEACFCgBAhQIgQIEQIECIECBEChAgBQoQAIUKAECFAiBAgRAgQIgTMu9tPACwiBAgRAoQIAUKEACFCgBAhQIgQIEQIECIECBEChAgBQoQAIUKAECFAiBAgRAjwdTcEWEQIECIECBEChAgBQoQAIUKAECFAiBAgRAgQIgQIEQKECAFChAAhQoAQIUCIECBECBgH+rDPIkKAECFAiBAgRAgQIgQIEQKECAFChAAhQoAQIUCIECBECBAiBAgRAoQIAUKEgLnbLwAsIhQIEQKECAFChAAhQoAQIUCIECBECBAiBAgRAoQIAUKEACFCgBAhQIgQIEQIECIE+LobAiwiBAgRAoQIAUKEACFCgBAhQIgQIEQIECIECBEChAgBQoQAIUKAECFAiBAgRAgQIgTMdaEP6ywiBAgRAoQIAUKEACFCgBAhQIgQIEQIECIECBEChAgBQoQAIUKAECFAiBAgRAhwGAwBFhEChAgBQoQAIUKAECFAiBAgRAgQIgQIEQKECAFChAAhQoAQIUCIECBECBAiBAgRAsaBPuyziBAgRAgQIgQIEQKECAFChAAhQoAQIUCIECBECBAiBAgRAoQIAUKEACFCgBAhwNfdEGARIUCIECBECBAiBAgRAoQIAUKEACFCgBAhQIgQIEQIECIECBEChAgBQoQAIUKAECFgngt9WGcRIUCIECBECBAiBAgRAoQIAUKEACFCgBAhQIgQIEQIECIECBEChAgBQoQAIUKAECFg7vttvwE+zyJCgBAhQIgQIEQIECIECBEChAgBQoQAIUKAECFAiBAgRAgQIgQIEQKECAFChIC52y8ALCIUCBEChAgBQoQAIUKAECFAiBAgRAgQIgQIEQKECAFChAAhQoAQIUCIECBECBAiBMx7208ALCIECBEChAgBQoQAIUKAECFAiBAgRAgQIgQIEQKECAFChAAhQoAQIUCIECBECBAiBMx1oQ/rLCIECBEChAgBQoQAIUKAECFAiBAgRAgQIgQIEQKECAFChAAhQoAQIUCIECBECPB1NwRYRAgQIgQIEQKECAFChAAhQoAQIUCIECBECBAiBAgRAoQIAUKEACFCgBAhQIgQIEQImLv9AsAiQoEQIUCIECBECBAiBAgRAoQIAUKEACFCgBAhQIgQIEQIECIECBEChAgBQoSAub7uhnUWEQKECAFChAAhQoAQIUCIECBECBAiBAgRAoQIAUKEACFCgBAhQIgQIEQIECIECBEC5rnQh3UWEQKECAFChAAhQoAQIUCIECBECBAiBAgRAoQIAUKEACFCgBAhQIgQIEQIECIECBEC5rrQh3UWEQKECAFChAAhQoAQIUCIECBECBAiBAgRAoQIAUKEACFCgBAhQIgQIEQIECIEjLtg2GcRIUCIECBECBAiBAgRAoQIAUKEACFCgBAhQIgQIEQIECIECBEChAgBQoQAIUKAECHA190QYBEhQIgQIEQIECIECBEChAgBQoQAIUKAECFAiBAgRAgQIgQIEQKECAFChAAhQoDDYAiwiBAgRAgQIgQIEQKECAFChAAhQoAQIUCIECBECBAiBAgRAoQIAUKEACFCgBAhQIgQMM+FPqyziBAgRAgQIgQIEQKECAFChAAhQoAQIUCIECBECBAiBAgRAoQIAUKEACFCgBAhQIgQMHf7BYBFhAIhQoAQIUCIECBECBAiBAgRAoQIAUKEACFCgBAhQIgQIEQIECIECBEChAgBvu6GAIsIAUKEACFCgBAhQIgQIEQIECIECBEChAgBQoQAIUKAECFAiBAgRAgQIgQIEQKECAFzXejDOosIAUKEACFCgBAhQIgQIEQIECIECBEChAgBQoQAIUKAECFAiBAgRAgQIgQIEQKECAFz32/7DfB5FhEChAgBQoQAIUKAECFAiBAgRAgQIgQIEQKECAFChAAhQoAQIUCIECBECBAiBIyfu2GfRYQAIUKAECFAiBAgRAgQIgQIEQKECAFChAAhQoAQIUCIECBECBAiBAgRAoQIAUKEgLlO9GGdRYQAIUKAECFAiBAgRAgQIgQIEQKECAFChAAhQoAQIUCIECBECBAiBAgRAoQIAfMcBsM6iwgBQoQAIUKAECFAiBAgRAgQIgQIEQKECAFChAAhQoAQIUCIECBECBAiBAgRAoQIAb7uhgCLCAFChAAhQoAQIUCIECBECBAiBAgRAoQIAUKEACFCgBAhQIgQIEQIECIECBEChAgBc7dfAFhEKBAiBAgRAoQIAUKEACFCgBAhQIgQIEQIECIECBEChAgBQoQAIUKAECFAiBAwz9fdsM4iQoAQIUCIECBECBAiBAgRAoQIAUKEACFCgBAhQIgQIEQIECIECBEChAgBQoQAIULAXBf6sM4iQoAQIUCIECBECBAiBAgRAoQIAUKEACFCgBAhQIgQIEQIECIECBEChAgBQoSAcRcM+ywiBAgRAoQIAUKEACFCgBAhQIgQIEQIECIECBEChAgBQoQAIUKAECFAiBAgRAgQIgT4uhsCLCIECBEChAgBQoQAIUKAECFAiBAgRAgQIgQIEQKECAFChAAhQoAQIUCIECBECBAiBMzdfgFgEaFAiBAgRAgQIgQIEQKECAFChAAhQoAQIUCIECBECBAiBAgRAoQIAUKEACFCwDxfd8M6iwgBQoQAIUKAECFAiBAgRAgQIgQIEQKECAFChAAhQoAQIUCIECBECBAiBAgRAoQIAb7uhgCLCAFChAAhQoAQIUCIECBECBAiBAgRAoQIAUKEACFCgBAhQIgQIEQIECIECBEChAgB8972EwCLCAFChAAhQoAQIUCIECBECBAiBAgRAoQIAUKEACFCgBAhQIgQIEQIECIECBECfN0NARYRAoQIAUKEACFCgBAhQIgQIEQIECIECBEChAgBQoQAIUKAECFAiBAgRAgQIgQIEQLm+rob1llECBAiBAgRAoQIAUKEACFCgBAhQIgQIEQIECIECBEChAgBQoQAIUKAECFAiBAw7/y23wCfZxEhQIgQIEQIECIECBEChAgBQoQAIUKAECFAiBAgRAgQIgQIEQKECAFChAAhQoAQIcDX3RBgESFAiBAgRAgQIgQIEQKECAFChAAhQoAQIUCIECBECBAiBAgRAoQIAUKEACFCgBAhYBzowz6LCAFChAAhQoAQIUCIECBECBAiBAgRAoQIAUKEACFCgBAhQIgQIEQIECIECBECfN0NARYRAoQIAUKEACFCgBAhQIgQIEQIECIECBEChAgBQoQAIUKAECFAiBAgRAgQIgQIEQLmbr8AsIhQIEQIECIECBEChAgBQoQAIUKAECFAiBAgRAgQIgQIEQKECAFChAAhQoAQIWCer7thnUWEACFCgBAhQIgQIEQIECIECBEChAgBQoQAIUKAECFAiBAgRAgQIgQIEQKECAFChABfd0OARYQAIUKAECFAiBAgRAgQIgQIEQKECAFChAAhQoAQIUCIECBECBAiBAgRAoQIAUKEgHnbLwAsIhQIEQKECAFChAAhQoAQIUCIECBECBAiBAgRAoQIAUKEACFCgBAhQIgQIEQImOsyGNZZRAgQIgQIEQKECAFChAAhQoAQIUCIECBECBAiBAgRAoQIAUKEACFCgBAhQIgQIEQImLv9AsAiQoEQIUCIECBECBAiBAgRAoQIAUKEACFCgBAhQIgQIEQIECIECBEChAgBQoSAeb7uhnUWEQKECAFChAAhQoAQIUCIECBECBAiBAgRAoQIAUKEACFCgBAhQIgQIEQIECIECBECfN0NARYRAoQIAUKEACFCgBAhQIgQIEQIECIECBEChAgBQoQAIUKAECFAiBAgRAgQIgQIEQLmve0nABYRAoQIAUKEACFCgBAhQIgQIEQIECIECBEChAgBQoQAIUKAECFAiBAgRAgQIgT4uhsCLCIECBEChAgBQoQAIUKAECFAiBAgRAgQIgQIEQKECAFChAAhQoAQIUCIECBECBAiBMz1dTess4gQIEQIECIECBEChAgBQoQAIUKAECFAiBAgRAgQIgQIEQKECAFChAAhQoAQIUCIEDAO9GGfRYQAIUKAECFAiBAgRAgQIgQIEQKECAFChAAhQoAQIUCIECBECBAiBAgRAoQIAXPfb/sN8HkWEQKECAFChAAhQoAQIUCIECBECBAiBAgRAoQIAUKEACFCgBAhQIgQIEQIECIECBECfN0NARYRAoQIAUKEACFCgBAhQIgQIEQIECIECBEChAgBQoQAIUKAECFAiBAgRAgQIgTMdRkM6ywiBAgRAoQIAUKEACFCgBAhQIgQIEQIECIECBEChAgBQoQAIUKAECFAiBAgRAgQIgTM3X4BYBGhQIgQIEQIECIECBEChAgBQoQAIUKAECFAiBAgRAgQIgQIEQKECAFChAAhQoAQIWDe234CYBEhQIgQIEQIECIECBEChAgBQoQAIUKAECFAiBAgRAgQIgQIEQKECAFChAAhQoCvuyHAIkKAECFAiBAgRAgQIgQIEQKECAFChAAhQoAQIUCIECBECBAiBAgRAoQIAUKEACFCgK+7IcAiQoAQIUCIECBECBAiBAgRAoQIAUKEACFCgBAhQIgQIEQIECIECBEChAgBQoQAX3dDgEWEACFCgBAhQIgQIEQIECIECBEChAgBQoQAIUKAECFAiBAgRAgQIgQIEQKECAFChID/RAoB5rZTuAoAAAAASUVORK5CYII=\" id=\"imaged4bbdb1ea4\" transform=\"scale(1 -1) translate(0 -324.648)\" x=\"556.704\" y=\"-23.832\" width=\"16.272\" height=\"324.648\"/>\n   <g id=\"matplotlib.axis_3\"/>\n   <g id=\"matplotlib.axis_4\">\n    <g id=\"ytick_6\">\n     <g id=\"line2d_11\">\n      <defs>\n       <path id=\"m44008dbccd\" d=\"M 0 0 \nL 3.5 0 \n\" style=\"stroke: #000000; stroke-width: 0.8\"/>\n      </defs>\n      <g>\n       <use xlink:href=\"#m44008dbccd\" x=\"572.966862\" y=\"348.512733\" style=\"stroke: #000000; stroke-width: 0.8\"/>\n      </g>\n     </g>\n     <g id=\"text_37\">\n      <!-- 0.0 -->\n      <g transform=\"translate(579.966862 352.311952) scale(0.1 -0.1)\">\n       <use xlink:href=\"#DejaVuSans-30\"/>\n       <use xlink:href=\"#DejaVuSans-2e\" x=\"63.623047\"/>\n       <use xlink:href=\"#DejaVuSans-30\" x=\"95.410156\"/>\n      </g>\n     </g>\n    </g>\n    <g id=\"ytick_7\">\n     <g id=\"line2d_12\">\n      <g>\n       <use xlink:href=\"#m44008dbccd\" x=\"572.966862\" y=\"283.578186\" style=\"stroke: #000000; stroke-width: 0.8\"/>\n      </g>\n     </g>\n     <g id=\"text_38\">\n      <!-- 0.2 -->\n      <g transform=\"translate(579.966862 287.377405) scale(0.1 -0.1)\">\n       <defs>\n        <path id=\"DejaVuSans-32\" d=\"M 1228 531 \nL 3431 531 \nL 3431 0 \nL 469 0 \nL 469 531 \nQ 828 903 1448 1529 \nQ 2069 2156 2228 2338 \nQ 2531 2678 2651 2914 \nQ 2772 3150 2772 3378 \nQ 2772 3750 2511 3984 \nQ 2250 4219 1831 4219 \nQ 1534 4219 1204 4116 \nQ 875 4013 500 3803 \nL 500 4441 \nQ 881 4594 1212 4672 \nQ 1544 4750 1819 4750 \nQ 2544 4750 2975 4387 \nQ 3406 4025 3406 3419 \nQ 3406 3131 3298 2873 \nQ 3191 2616 2906 2266 \nQ 2828 2175 2409 1742 \nQ 1991 1309 1228 531 \nz\n\" transform=\"scale(0.015625)\"/>\n       </defs>\n       <use xlink:href=\"#DejaVuSans-30\"/>\n       <use xlink:href=\"#DejaVuSans-2e\" x=\"63.623047\"/>\n       <use xlink:href=\"#DejaVuSans-32\" x=\"95.410156\"/>\n      </g>\n     </g>\n    </g>\n    <g id=\"ytick_8\">\n     <g id=\"line2d_13\">\n      <g>\n       <use xlink:href=\"#m44008dbccd\" x=\"572.966862\" y=\"218.64364\" style=\"stroke: #000000; stroke-width: 0.8\"/>\n      </g>\n     </g>\n     <g id=\"text_39\">\n      <!-- 0.4 -->\n      <g transform=\"translate(579.966862 222.442859) scale(0.1 -0.1)\">\n       <use xlink:href=\"#DejaVuSans-30\"/>\n       <use xlink:href=\"#DejaVuSans-2e\" x=\"63.623047\"/>\n       <use xlink:href=\"#DejaVuSans-34\" x=\"95.410156\"/>\n      </g>\n     </g>\n    </g>\n    <g id=\"ytick_9\">\n     <g id=\"line2d_14\">\n      <g>\n       <use xlink:href=\"#m44008dbccd\" x=\"572.966862\" y=\"153.709093\" style=\"stroke: #000000; stroke-width: 0.8\"/>\n      </g>\n     </g>\n     <g id=\"text_40\">\n      <!-- 0.6 -->\n      <g transform=\"translate(579.966862 157.508312) scale(0.1 -0.1)\">\n       <defs>\n        <path id=\"DejaVuSans-36\" d=\"M 2113 2584 \nQ 1688 2584 1439 2293 \nQ 1191 2003 1191 1497 \nQ 1191 994 1439 701 \nQ 1688 409 2113 409 \nQ 2538 409 2786 701 \nQ 3034 994 3034 1497 \nQ 3034 2003 2786 2293 \nQ 2538 2584 2113 2584 \nz\nM 3366 4563 \nL 3366 3988 \nQ 3128 4100 2886 4159 \nQ 2644 4219 2406 4219 \nQ 1781 4219 1451 3797 \nQ 1122 3375 1075 2522 \nQ 1259 2794 1537 2939 \nQ 1816 3084 2150 3084 \nQ 2853 3084 3261 2657 \nQ 3669 2231 3669 1497 \nQ 3669 778 3244 343 \nQ 2819 -91 2113 -91 \nQ 1303 -91 875 529 \nQ 447 1150 447 2328 \nQ 447 3434 972 4092 \nQ 1497 4750 2381 4750 \nQ 2619 4750 2861 4703 \nQ 3103 4656 3366 4563 \nz\n\" transform=\"scale(0.015625)\"/>\n       </defs>\n       <use xlink:href=\"#DejaVuSans-30\"/>\n       <use xlink:href=\"#DejaVuSans-2e\" x=\"63.623047\"/>\n       <use xlink:href=\"#DejaVuSans-36\" x=\"95.410156\"/>\n      </g>\n     </g>\n    </g>\n    <g id=\"ytick_10\">\n     <g id=\"line2d_15\">\n      <g>\n       <use xlink:href=\"#m44008dbccd\" x=\"572.966862\" y=\"88.774547\" style=\"stroke: #000000; stroke-width: 0.8\"/>\n      </g>\n     </g>\n     <g id=\"text_41\">\n      <!-- 0.8 -->\n      <g transform=\"translate(579.966862 92.573765) scale(0.1 -0.1)\">\n       <use xlink:href=\"#DejaVuSans-30\"/>\n       <use xlink:href=\"#DejaVuSans-2e\" x=\"63.623047\"/>\n       <use xlink:href=\"#DejaVuSans-38\" x=\"95.410156\"/>\n      </g>\n     </g>\n    </g>\n    <g id=\"ytick_11\">\n     <g id=\"line2d_16\">\n      <g>\n       <use xlink:href=\"#m44008dbccd\" x=\"572.966862\" y=\"23.84\" style=\"stroke: #000000; stroke-width: 0.8\"/>\n      </g>\n     </g>\n     <g id=\"text_42\">\n      <!-- 1.0 -->\n      <g transform=\"translate(579.966862 27.639219) scale(0.1 -0.1)\">\n       <use xlink:href=\"#DejaVuSans-31\"/>\n       <use xlink:href=\"#DejaVuSans-2e\" x=\"63.623047\"/>\n       <use xlink:href=\"#DejaVuSans-30\" x=\"95.410156\"/>\n      </g>\n     </g>\n    </g>\n   </g>\n   <g id=\"LineCollection_1\"/>\n   <g id=\"patch_8\">\n    <path d=\"M 556.733225 348.512733 \nL 564.850043 348.512733 \nL 572.966862 348.512733 \nL 572.966862 23.84 \nL 564.850043 23.84 \nL 556.733225 23.84 \nL 556.733225 348.512733 \nz\n\" style=\"fill: none; stroke: #000000; stroke-width: 0.8; stroke-linejoin: miter; stroke-linecap: square\"/>\n   </g>\n  </g>\n </g>\n <defs>\n  <clipPath id=\"pc6c3179e66\">\n   <rect x=\"121.209375\" y=\"23.84\" width=\"409.9048\" height=\"324.672733\"/>\n  </clipPath>\n </defs>\n</svg>\n"
          },
          "metadata": {}
        }
      ],
      "source": [
        "%%time\n",
        "\n",
        "interval_cols = data.select_dtypes('number').columns.tolist()\n",
        "phik_overview = data.phik_matrix(interval_cols=interval_cols)\n",
        "\n",
        "plot_correlation_matrix(phik_overview.values,\n",
        "      x_labels=phik_overview.columns,\n",
        "      y_labels=phik_overview.index,\n",
        "      vmin=0, vmax=1, color_map=\"YlOrBr\",\n",
        "      title = r'Рис. 1 -Мультиколинеарность признаков (correlation $\\phi_K$)',\n",
        "      fontsize_factor=1,\n",
        "      figsize=(9, 6))\n",
        "plt.xticks(rotation = 30)\n",
        "plt.tight_layout()"
      ]
    },
    {
      "cell_type": "code",
      "execution_count": null,
      "metadata": {
        "colab": {
          "base_uri": "https://localhost:8080/",
          "height": 399
        },
        "id": "ttW2Qa2o6i5V",
        "outputId": "3a06e191-f3eb-474d-9b91-656d3c707ef9"
      },
      "outputs": [
        {
          "output_type": "display_data",
          "data": {
            "text/plain": [
              "<Figure size 7000x4000 with 1 Axes>"
            ],
            "image/svg+xml": "<?xml version=\"1.0\" encoding=\"utf-8\" standalone=\"no\"?>\n<!DOCTYPE svg PUBLIC \"-//W3C//DTD SVG 1.1//EN\"\n  \"http://www.w3.org/Graphics/SVG/1.1/DTD/svg11.dtd\">\n<svg xmlns:xlink=\"http://www.w3.org/1999/xlink\" width=\"461.22pt\" height=\"283.32925pt\" viewBox=\"0 0 461.22 283.32925\" xmlns=\"http://www.w3.org/2000/svg\" version=\"1.1\">\n <metadata>\n  <rdf:RDF xmlns:dc=\"http://purl.org/dc/elements/1.1/\" xmlns:cc=\"http://creativecommons.org/ns#\" xmlns:rdf=\"http://www.w3.org/1999/02/22-rdf-syntax-ns#\">\n   <cc:Work>\n    <dc:type rdf:resource=\"http://purl.org/dc/dcmitype/StillImage\"/>\n    <dc:date>2023-09-21T08:12:38.917384</dc:date>\n    <dc:format>image/svg+xml</dc:format>\n    <dc:creator>\n     <cc:Agent>\n      <dc:title>Matplotlib v3.7.1, https://matplotlib.org/</dc:title>\n     </cc:Agent>\n    </dc:creator>\n   </cc:Work>\n  </rdf:RDF>\n </metadata>\n <defs>\n  <style type=\"text/css\">*{stroke-linejoin: round; stroke-linecap: butt}</style>\n </defs>\n <g id=\"figure_1\">\n  <g id=\"patch_1\">\n   <path d=\"M 0 283.32925 \nL 461.22 283.32925 \nL 461.22 -0 \nL 0 -0 \nz\n\" style=\"fill: #ffffff\"/>\n  </g>\n  <g id=\"axes_1\">\n   <g id=\"patch_2\">\n    <path d=\"M 35.31 257.5155 \nL 425.91 257.5155 \nL 425.91 35.7555 \nL 35.31 35.7555 \nz\n\" style=\"fill: #ffffff\"/>\n   </g>\n   <g id=\"patch_3\">\n    <path d=\"M 59.7225 257.5155 \nL 108.5475 257.5155 \nL 108.5475 46.3155 \nL 59.7225 46.3155 \nz\n\" clip-path=\"url(#p2c53442f15)\" style=\"fill: #ff7f50\"/>\n   </g>\n   <g id=\"patch_4\">\n    <path d=\"M 157.3725 257.5155 \nL 206.1975 257.5155 \nL 206.1975 249.081553 \nL 157.3725 249.081553 \nz\n\" clip-path=\"url(#p2c53442f15)\" style=\"fill: #ff7f50\"/>\n   </g>\n   <g id=\"patch_5\">\n    <path d=\"M 255.0225 257.5155 \nL 303.8475 257.5155 \nL 303.8475 257.5155 \nL 255.0225 257.5155 \nz\n\" clip-path=\"url(#p2c53442f15)\" style=\"fill: #ff7f50\"/>\n   </g>\n   <g id=\"patch_6\">\n    <path d=\"M 352.6725 257.5155 \nL 401.4975 257.5155 \nL 401.4975 257.5155 \nL 352.6725 257.5155 \nz\n\" clip-path=\"url(#p2c53442f15)\" style=\"fill: #ff7f50\"/>\n   </g>\n   <g id=\"matplotlib.axis_1\">\n    <g id=\"xtick_1\">\n     <g id=\"line2d_1\">\n      <defs>\n       <path id=\"m6537c53932\" d=\"M 0 0 \nL 0 3.5 \n\" style=\"stroke: #000000; stroke-width: 0.8\"/>\n      </defs>\n      <g>\n       <use xlink:href=\"#m6537c53932\" x=\"84.135\" y=\"257.5155\" style=\"stroke: #000000; stroke-width: 0.8\"/>\n      </g>\n     </g>\n     <g id=\"text_1\">\n      <!-- Возраст -->\n      <g transform=\"translate(58.876875 273.633625) scale(0.12 -0.12)\">\n       <defs>\n        <path id=\"DejaVuSans-412\" d=\"M 1259 2228 \nL 1259 519 \nL 2272 519 \nQ 2781 519 3026 730 \nQ 3272 941 3272 1375 \nQ 3272 1813 3026 2020 \nQ 2781 2228 2272 2228 \nL 1259 2228 \nz\nM 1259 4147 \nL 1259 2741 \nL 2194 2741 \nQ 2656 2741 2882 2914 \nQ 3109 3088 3109 3444 \nQ 3109 3797 2882 3972 \nQ 2656 4147 2194 4147 \nL 1259 4147 \nz\nM 628 4666 \nL 2241 4666 \nQ 2963 4666 3353 4366 \nQ 3744 4066 3744 3513 \nQ 3744 3084 3544 2831 \nQ 3344 2578 2956 2516 \nQ 3422 2416 3680 2098 \nQ 3938 1781 3938 1306 \nQ 3938 681 3513 340 \nQ 3088 0 2303 0 \nL 628 0 \nL 628 4666 \nz\n\" transform=\"scale(0.015625)\"/>\n        <path id=\"DejaVuSans-43e\" d=\"M 1959 3097 \nQ 1497 3097 1228 2736 \nQ 959 2375 959 1747 \nQ 959 1119 1226 758 \nQ 1494 397 1959 397 \nQ 2419 397 2687 759 \nQ 2956 1122 2956 1747 \nQ 2956 2369 2687 2733 \nQ 2419 3097 1959 3097 \nz\nM 1959 3584 \nQ 2709 3584 3137 3096 \nQ 3566 2609 3566 1747 \nQ 3566 888 3137 398 \nQ 2709 -91 1959 -91 \nQ 1206 -91 779 398 \nQ 353 888 353 1747 \nQ 353 2609 779 3096 \nQ 1206 3584 1959 3584 \nz\n\" transform=\"scale(0.015625)\"/>\n        <path id=\"DejaVuSans-437\" d=\"M 2206 1888 \nQ 2594 1813 2809 1584 \nQ 3025 1356 3025 1019 \nQ 3025 478 2622 193 \nQ 2219 -91 1475 -91 \nQ 1225 -91 961 -47 \nQ 697 -3 416 84 \nL 416 619 \nQ 638 503 903 445 \nQ 1169 388 1459 388 \nQ 1931 388 2195 563 \nQ 2459 738 2459 1019 \nQ 2459 1294 2225 1461 \nQ 1991 1628 1563 1628 \nL 1100 1628 \nL 1100 2103 \nL 1584 2103 \nQ 1947 2103 2158 2242 \nQ 2369 2381 2369 2600 \nQ 2369 2800 2151 2944 \nQ 1934 3088 1563 3088 \nQ 1341 3088 1089 3047 \nQ 838 3006 534 2916 \nL 534 3438 \nQ 841 3513 1106 3550 \nQ 1372 3588 1609 3588 \nQ 2222 3588 2576 3342 \nQ 2931 3097 2931 2656 \nQ 2931 2366 2743 2164 \nQ 2556 1963 2206 1888 \nz\n\" transform=\"scale(0.015625)\"/>\n        <path id=\"DejaVuSans-440\" d=\"M 1159 525 \nL 1159 -1331 \nL 581 -1331 \nL 581 3500 \nL 1159 3500 \nL 1159 2969 \nQ 1341 3281 1617 3432 \nQ 1894 3584 2278 3584 \nQ 2916 3584 3314 3078 \nQ 3713 2572 3713 1747 \nQ 3713 922 3314 415 \nQ 2916 -91 2278 -91 \nQ 1894 -91 1617 61 \nQ 1341 213 1159 525 \nz\nM 3116 1747 \nQ 3116 2381 2855 2742 \nQ 2594 3103 2138 3103 \nQ 1681 3103 1420 2742 \nQ 1159 2381 1159 1747 \nQ 1159 1113 1420 752 \nQ 1681 391 2138 391 \nQ 2594 391 2855 752 \nQ 3116 1113 3116 1747 \nz\n\" transform=\"scale(0.015625)\"/>\n        <path id=\"DejaVuSans-430\" d=\"M 2194 1759 \nQ 1497 1759 1228 1600 \nQ 959 1441 959 1056 \nQ 959 750 1161 570 \nQ 1363 391 1709 391 \nQ 2188 391 2477 730 \nQ 2766 1069 2766 1631 \nL 2766 1759 \nL 2194 1759 \nz\nM 3341 1997 \nL 3341 0 \nL 2766 0 \nL 2766 531 \nQ 2569 213 2275 61 \nQ 1981 -91 1556 -91 \nQ 1019 -91 701 211 \nQ 384 513 384 1019 \nQ 384 1609 779 1909 \nQ 1175 2209 1959 2209 \nL 2766 2209 \nL 2766 2266 \nQ 2766 2663 2505 2880 \nQ 2244 3097 1772 3097 \nQ 1472 3097 1187 3025 \nQ 903 2953 641 2809 \nL 641 3341 \nQ 956 3463 1253 3523 \nQ 1550 3584 1831 3584 \nQ 2591 3584 2966 3190 \nQ 3341 2797 3341 1997 \nz\n\" transform=\"scale(0.015625)\"/>\n        <path id=\"DejaVuSans-441\" d=\"M 3122 3366 \nL 3122 2828 \nQ 2878 2963 2633 3030 \nQ 2388 3097 2138 3097 \nQ 1578 3097 1268 2742 \nQ 959 2388 959 1747 \nQ 959 1106 1268 751 \nQ 1578 397 2138 397 \nQ 2388 397 2633 464 \nQ 2878 531 3122 666 \nL 3122 134 \nQ 2881 22 2623 -34 \nQ 2366 -91 2075 -91 \nQ 1284 -91 818 406 \nQ 353 903 353 1747 \nQ 353 2603 823 3093 \nQ 1294 3584 2113 3584 \nQ 2378 3584 2631 3529 \nQ 2884 3475 3122 3366 \nz\n\" transform=\"scale(0.015625)\"/>\n        <path id=\"DejaVuSans-442\" d=\"M 188 3500 \nL 3541 3500 \nL 3541 3041 \nL 2147 3041 \nL 2147 0 \nL 1581 0 \nL 1581 3041 \nL 188 3041 \nL 188 3500 \nz\n\" transform=\"scale(0.015625)\"/>\n       </defs>\n       <use xlink:href=\"#DejaVuSans-412\"/>\n       <use xlink:href=\"#DejaVuSans-43e\" x=\"68.603516\"/>\n       <use xlink:href=\"#DejaVuSans-437\" x=\"129.785156\"/>\n       <use xlink:href=\"#DejaVuSans-440\" x=\"182.958984\"/>\n       <use xlink:href=\"#DejaVuSans-430\" x=\"246.435547\"/>\n       <use xlink:href=\"#DejaVuSans-441\" x=\"307.714844\"/>\n       <use xlink:href=\"#DejaVuSans-442\" x=\"362.695312\"/>\n      </g>\n     </g>\n    </g>\n    <g id=\"xtick_2\">\n     <g id=\"line2d_2\">\n      <g>\n       <use xlink:href=\"#m6537c53932\" x=\"181.785\" y=\"257.5155\" style=\"stroke: #000000; stroke-width: 0.8\"/>\n      </g>\n     </g>\n     <g id=\"text_2\">\n      <!-- Пол -->\n      <g transform=\"translate(169.76625 273.633625) scale(0.12 -0.12)\">\n       <defs>\n        <path id=\"DejaVuSans-41f\" d=\"M 4184 4666 \nL 4184 0 \nL 3553 0 \nL 3553 4134 \nL 1259 4134 \nL 1259 0 \nL 628 0 \nL 628 4666 \nL 4184 4666 \nz\n\" transform=\"scale(0.015625)\"/>\n        <path id=\"DejaVuSans-43b\" d=\"M 238 0 \nL 238 478 \nQ 806 566 981 959 \nQ 1194 1513 1194 2928 \nL 1194 3500 \nL 3559 3500 \nL 3559 0 \nL 2984 0 \nL 2984 3041 \nL 1769 3041 \nL 1769 2694 \nQ 1769 1344 1494 738 \nQ 1200 91 238 0 \nz\n\" transform=\"scale(0.015625)\"/>\n       </defs>\n       <use xlink:href=\"#DejaVuSans-41f\"/>\n       <use xlink:href=\"#DejaVuSans-43e\" x=\"75.195312\"/>\n       <use xlink:href=\"#DejaVuSans-43b\" x=\"136.376953\"/>\n      </g>\n     </g>\n    </g>\n    <g id=\"xtick_3\">\n     <g id=\"line2d_3\">\n      <g>\n       <use xlink:href=\"#m6537c53932\" x=\"279.435\" y=\"257.5155\" style=\"stroke: #000000; stroke-width: 0.8\"/>\n      </g>\n     </g>\n     <g id=\"text_3\">\n      <!-- Зарплата -->\n      <g transform=\"translate(249.495937 273.633625) scale(0.12 -0.12)\">\n       <defs>\n        <path id=\"DejaVuSans-417\" d=\"M 1828 4750 \nQ 2597 4750 3084 4423 \nQ 3572 4097 3572 3541 \nQ 3572 3153 3350 2886 \nQ 3128 2619 2719 2516 \nQ 3172 2419 3426 2112 \nQ 3681 1806 3681 1356 \nQ 3681 638 3126 273 \nQ 2572 -91 1828 -91 \nQ 1447 -91 1003 12 \nQ 559 116 422 203 \nL 422 853 \nQ 900 575 1164 508 \nQ 1428 441 1816 441 \nQ 2403 441 2728 666 \nQ 3053 891 3053 1356 \nQ 3053 1769 2764 2001 \nQ 2475 2234 1866 2234 \nL 1228 2234 \nL 1228 2753 \nL 1891 2753 \nQ 2450 2753 2697 2939 \nQ 2944 3125 2944 3475 \nQ 2944 3834 2689 4026 \nQ 2434 4219 1816 4219 \nQ 1397 4219 1253 4181 \nQ 1109 4144 469 3903 \nL 469 4519 \nQ 822 4644 1190 4697 \nQ 1559 4750 1828 4750 \nz\n\" transform=\"scale(0.015625)\"/>\n        <path id=\"DejaVuSans-43f\" d=\"M 3603 3500 \nL 3603 0 \nL 3025 0 \nL 3025 3041 \nL 1159 3041 \nL 1159 0 \nL 581 0 \nL 581 3500 \nL 3603 3500 \nz\n\" transform=\"scale(0.015625)\"/>\n       </defs>\n       <use xlink:href=\"#DejaVuSans-417\"/>\n       <use xlink:href=\"#DejaVuSans-430\" x=\"64.111328\"/>\n       <use xlink:href=\"#DejaVuSans-440\" x=\"125.390625\"/>\n       <use xlink:href=\"#DejaVuSans-43f\" x=\"188.867188\"/>\n       <use xlink:href=\"#DejaVuSans-43b\" x=\"254.248047\"/>\n       <use xlink:href=\"#DejaVuSans-430\" x=\"318.164062\"/>\n       <use xlink:href=\"#DejaVuSans-442\" x=\"379.443359\"/>\n       <use xlink:href=\"#DejaVuSans-430\" x=\"437.695312\"/>\n      </g>\n     </g>\n    </g>\n    <g id=\"xtick_4\">\n     <g id=\"line2d_4\">\n      <g>\n       <use xlink:href=\"#m6537c53932\" x=\"377.085\" y=\"257.5155\" style=\"stroke: #000000; stroke-width: 0.8\"/>\n      </g>\n     </g>\n     <g id=\"text_4\">\n      <!-- Члены семьи -->\n      <g transform=\"translate(335.925 273.633625) scale(0.12 -0.12)\">\n       <defs>\n        <path id=\"DejaVuSans-427\" d=\"M 3125 0 \nL 3125 1913 \nL 1822 1913 \nQ 1241 1913 894 2277 \nQ 547 2641 547 3384 \nL 547 4666 \nL 1175 4666 \nL 1175 3434 \nQ 1175 2938 1369 2691 \nQ 1563 2444 1950 2444 \nL 3125 2444 \nL 3125 4666 \nL 3759 4666 \nL 3759 0 \nL 3125 0 \nz\n\" transform=\"scale(0.015625)\"/>\n        <path id=\"DejaVuSans-435\" d=\"M 3597 1894 \nL 3597 1613 \nL 953 1613 \nQ 991 1019 1311 708 \nQ 1631 397 2203 397 \nQ 2534 397 2845 478 \nQ 3156 559 3463 722 \nL 3463 178 \nQ 3153 47 2828 -22 \nQ 2503 -91 2169 -91 \nQ 1331 -91 842 396 \nQ 353 884 353 1716 \nQ 353 2575 817 3079 \nQ 1281 3584 2069 3584 \nQ 2775 3584 3186 3129 \nQ 3597 2675 3597 1894 \nz\nM 3022 2063 \nQ 3016 2534 2758 2815 \nQ 2500 3097 2075 3097 \nQ 1594 3097 1305 2825 \nQ 1016 2553 972 2059 \nL 3022 2063 \nz\n\" transform=\"scale(0.015625)\"/>\n        <path id=\"DejaVuSans-43d\" d=\"M 581 3500 \nL 1159 3500 \nL 1159 2072 \nL 3025 2072 \nL 3025 3500 \nL 3603 3500 \nL 3603 0 \nL 3025 0 \nL 3025 1613 \nL 1159 1613 \nL 1159 0 \nL 581 0 \nL 581 3500 \nz\n\" transform=\"scale(0.015625)\"/>\n        <path id=\"DejaVuSans-44b\" d=\"M 3907 3500 \nL 4482 3500 \nL 4482 0 \nL 3907 0 \nL 3907 3500 \nz\nM 4195 3584 \nL 4195 3584 \nz\nM 2781 1038 \nQ 2781 1319 2576 1466 \nQ 2372 1613 1978 1613 \nL 1159 1613 \nL 1159 459 \nL 1978 459 \nQ 2372 459 2576 607 \nQ 2781 756 2781 1038 \nz\nM 581 3500 \nL 1159 3500 \nL 1159 2072 \nL 2003 2072 \nQ 2672 2072 3033 1817 \nQ 3394 1563 3394 1038 \nQ 3394 513 3033 256 \nQ 2672 0 2003 0 \nL 581 0 \nL 581 3500 \nz\n\" transform=\"scale(0.015625)\"/>\n        <path id=\"DejaVuSans-20\" transform=\"scale(0.015625)\"/>\n        <path id=\"DejaVuSans-43c\" d=\"M 581 3500 \nL 1422 3500 \nL 2416 1156 \nL 3413 3500 \nL 4247 3500 \nL 4247 0 \nL 3669 0 \nL 3669 2950 \nL 2703 672 \nL 2128 672 \nL 1159 2950 \nL 1159 0 \nL 581 0 \nL 581 3500 \nz\n\" transform=\"scale(0.015625)\"/>\n        <path id=\"DejaVuSans-44c\" d=\"M 2781 1038 \nQ 2781 1319 2576 1466 \nQ 2372 1613 1978 1613 \nL 1159 1613 \nL 1159 459 \nL 1978 459 \nQ 2372 459 2576 607 \nQ 2781 756 2781 1038 \nz\nM 581 3500 \nL 1159 3500 \nL 1159 2072 \nL 2003 2072 \nQ 2672 2072 3033 1817 \nQ 3394 1563 3394 1038 \nQ 3394 513 3033 256 \nQ 2672 0 2003 0 \nL 581 0 \nL 581 3500 \nz\n\" transform=\"scale(0.015625)\"/>\n        <path id=\"DejaVuSans-438\" d=\"M 3578 3500 \nL 3578 0 \nL 3006 0 \nL 3006 2809 \nL 1319 0 \nL 581 0 \nL 581 3500 \nL 1153 3500 \nL 1153 697 \nL 2838 3500 \nL 3578 3500 \nz\n\" transform=\"scale(0.015625)\"/>\n       </defs>\n       <use xlink:href=\"#DejaVuSans-427\"/>\n       <use xlink:href=\"#DejaVuSans-43b\" x=\"68.554688\"/>\n       <use xlink:href=\"#DejaVuSans-435\" x=\"132.470703\"/>\n       <use xlink:href=\"#DejaVuSans-43d\" x=\"193.994141\"/>\n       <use xlink:href=\"#DejaVuSans-44b\" x=\"259.375\"/>\n       <use xlink:href=\"#DejaVuSans-20\" x=\"338.330078\"/>\n       <use xlink:href=\"#DejaVuSans-441\" x=\"370.117188\"/>\n       <use xlink:href=\"#DejaVuSans-435\" x=\"425.097656\"/>\n       <use xlink:href=\"#DejaVuSans-43c\" x=\"486.621094\"/>\n       <use xlink:href=\"#DejaVuSans-44c\" x=\"562.060547\"/>\n       <use xlink:href=\"#DejaVuSans-438\" x=\"620.996094\"/>\n      </g>\n     </g>\n    </g>\n   </g>\n   <g id=\"matplotlib.axis_2\">\n    <g id=\"ytick_1\">\n     <g id=\"line2d_5\">\n      <defs>\n       <path id=\"m42e26e1d8b\" d=\"M 0 0 \nL -3.5 0 \n\" style=\"stroke: #000000; stroke-width: 0.8\"/>\n      </defs>\n      <g>\n       <use xlink:href=\"#m42e26e1d8b\" x=\"35.31\" y=\"257.5155\" style=\"stroke: #000000; stroke-width: 0.8\"/>\n      </g>\n     </g>\n     <g id=\"text_5\">\n      <!-- 0.0 -->\n      <g transform=\"translate(9.22625 262.074563) scale(0.12 -0.12)\">\n       <defs>\n        <path id=\"DejaVuSans-30\" d=\"M 2034 4250 \nQ 1547 4250 1301 3770 \nQ 1056 3291 1056 2328 \nQ 1056 1369 1301 889 \nQ 1547 409 2034 409 \nQ 2525 409 2770 889 \nQ 3016 1369 3016 2328 \nQ 3016 3291 2770 3770 \nQ 2525 4250 2034 4250 \nz\nM 2034 4750 \nQ 2819 4750 3233 4129 \nQ 3647 3509 3647 2328 \nQ 3647 1150 3233 529 \nQ 2819 -91 2034 -91 \nQ 1250 -91 836 529 \nQ 422 1150 422 2328 \nQ 422 3509 836 4129 \nQ 1250 4750 2034 4750 \nz\n\" transform=\"scale(0.015625)\"/>\n        <path id=\"DejaVuSans-2e\" d=\"M 684 794 \nL 1344 794 \nL 1344 0 \nL 684 0 \nL 684 794 \nz\n\" transform=\"scale(0.015625)\"/>\n       </defs>\n       <use xlink:href=\"#DejaVuSans-30\"/>\n       <use xlink:href=\"#DejaVuSans-2e\" x=\"63.623047\"/>\n       <use xlink:href=\"#DejaVuSans-30\" x=\"95.410156\"/>\n      </g>\n     </g>\n    </g>\n    <g id=\"ytick_2\">\n     <g id=\"line2d_6\">\n      <g>\n       <use xlink:href=\"#m42e26e1d8b\" x=\"35.31\" y=\"209.781819\" style=\"stroke: #000000; stroke-width: 0.8\"/>\n      </g>\n     </g>\n     <g id=\"text_6\">\n      <!-- 0.2 -->\n      <g transform=\"translate(9.22625 214.340881) scale(0.12 -0.12)\">\n       <defs>\n        <path id=\"DejaVuSans-32\" d=\"M 1228 531 \nL 3431 531 \nL 3431 0 \nL 469 0 \nL 469 531 \nQ 828 903 1448 1529 \nQ 2069 2156 2228 2338 \nQ 2531 2678 2651 2914 \nQ 2772 3150 2772 3378 \nQ 2772 3750 2511 3984 \nQ 2250 4219 1831 4219 \nQ 1534 4219 1204 4116 \nQ 875 4013 500 3803 \nL 500 4441 \nQ 881 4594 1212 4672 \nQ 1544 4750 1819 4750 \nQ 2544 4750 2975 4387 \nQ 3406 4025 3406 3419 \nQ 3406 3131 3298 2873 \nQ 3191 2616 2906 2266 \nQ 2828 2175 2409 1742 \nQ 1991 1309 1228 531 \nz\n\" transform=\"scale(0.015625)\"/>\n       </defs>\n       <use xlink:href=\"#DejaVuSans-30\"/>\n       <use xlink:href=\"#DejaVuSans-2e\" x=\"63.623047\"/>\n       <use xlink:href=\"#DejaVuSans-32\" x=\"95.410156\"/>\n      </g>\n     </g>\n    </g>\n    <g id=\"ytick_3\">\n     <g id=\"line2d_7\">\n      <g>\n       <use xlink:href=\"#m42e26e1d8b\" x=\"35.31\" y=\"162.048137\" style=\"stroke: #000000; stroke-width: 0.8\"/>\n      </g>\n     </g>\n     <g id=\"text_7\">\n      <!-- 0.4 -->\n      <g transform=\"translate(9.22625 166.6072) scale(0.12 -0.12)\">\n       <defs>\n        <path id=\"DejaVuSans-34\" d=\"M 2419 4116 \nL 825 1625 \nL 2419 1625 \nL 2419 4116 \nz\nM 2253 4666 \nL 3047 4666 \nL 3047 1625 \nL 3713 1625 \nL 3713 1100 \nL 3047 1100 \nL 3047 0 \nL 2419 0 \nL 2419 1100 \nL 313 1100 \nL 313 1709 \nL 2253 4666 \nz\n\" transform=\"scale(0.015625)\"/>\n       </defs>\n       <use xlink:href=\"#DejaVuSans-30\"/>\n       <use xlink:href=\"#DejaVuSans-2e\" x=\"63.623047\"/>\n       <use xlink:href=\"#DejaVuSans-34\" x=\"95.410156\"/>\n      </g>\n     </g>\n    </g>\n    <g id=\"ytick_4\">\n     <g id=\"line2d_8\">\n      <g>\n       <use xlink:href=\"#m42e26e1d8b\" x=\"35.31\" y=\"114.314456\" style=\"stroke: #000000; stroke-width: 0.8\"/>\n      </g>\n     </g>\n     <g id=\"text_8\">\n      <!-- 0.6 -->\n      <g transform=\"translate(9.22625 118.873519) scale(0.12 -0.12)\">\n       <defs>\n        <path id=\"DejaVuSans-36\" d=\"M 2113 2584 \nQ 1688 2584 1439 2293 \nQ 1191 2003 1191 1497 \nQ 1191 994 1439 701 \nQ 1688 409 2113 409 \nQ 2538 409 2786 701 \nQ 3034 994 3034 1497 \nQ 3034 2003 2786 2293 \nQ 2538 2584 2113 2584 \nz\nM 3366 4563 \nL 3366 3988 \nQ 3128 4100 2886 4159 \nQ 2644 4219 2406 4219 \nQ 1781 4219 1451 3797 \nQ 1122 3375 1075 2522 \nQ 1259 2794 1537 2939 \nQ 1816 3084 2150 3084 \nQ 2853 3084 3261 2657 \nQ 3669 2231 3669 1497 \nQ 3669 778 3244 343 \nQ 2819 -91 2113 -91 \nQ 1303 -91 875 529 \nQ 447 1150 447 2328 \nQ 447 3434 972 4092 \nQ 1497 4750 2381 4750 \nQ 2619 4750 2861 4703 \nQ 3103 4656 3366 4563 \nz\n\" transform=\"scale(0.015625)\"/>\n       </defs>\n       <use xlink:href=\"#DejaVuSans-30\"/>\n       <use xlink:href=\"#DejaVuSans-2e\" x=\"63.623047\"/>\n       <use xlink:href=\"#DejaVuSans-36\" x=\"95.410156\"/>\n      </g>\n     </g>\n    </g>\n    <g id=\"ytick_5\">\n     <g id=\"line2d_9\">\n      <g>\n       <use xlink:href=\"#m42e26e1d8b\" x=\"35.31\" y=\"66.580775\" style=\"stroke: #000000; stroke-width: 0.8\"/>\n      </g>\n     </g>\n     <g id=\"text_9\">\n      <!-- 0.8 -->\n      <g transform=\"translate(9.22625 71.139837) scale(0.12 -0.12)\">\n       <defs>\n        <path id=\"DejaVuSans-38\" d=\"M 2034 2216 \nQ 1584 2216 1326 1975 \nQ 1069 1734 1069 1313 \nQ 1069 891 1326 650 \nQ 1584 409 2034 409 \nQ 2484 409 2743 651 \nQ 3003 894 3003 1313 \nQ 3003 1734 2745 1975 \nQ 2488 2216 2034 2216 \nz\nM 1403 2484 \nQ 997 2584 770 2862 \nQ 544 3141 544 3541 \nQ 544 4100 942 4425 \nQ 1341 4750 2034 4750 \nQ 2731 4750 3128 4425 \nQ 3525 4100 3525 3541 \nQ 3525 3141 3298 2862 \nQ 3072 2584 2669 2484 \nQ 3125 2378 3379 2068 \nQ 3634 1759 3634 1313 \nQ 3634 634 3220 271 \nQ 2806 -91 2034 -91 \nQ 1263 -91 848 271 \nQ 434 634 434 1313 \nQ 434 1759 690 2068 \nQ 947 2378 1403 2484 \nz\nM 1172 3481 \nQ 1172 3119 1398 2916 \nQ 1625 2713 2034 2713 \nQ 2441 2713 2670 2916 \nQ 2900 3119 2900 3481 \nQ 2900 3844 2670 4047 \nQ 2441 4250 2034 4250 \nQ 1625 4250 1398 4047 \nQ 1172 3844 1172 3481 \nz\n\" transform=\"scale(0.015625)\"/>\n       </defs>\n       <use xlink:href=\"#DejaVuSans-30\"/>\n       <use xlink:href=\"#DejaVuSans-2e\" x=\"63.623047\"/>\n       <use xlink:href=\"#DejaVuSans-38\" x=\"95.410156\"/>\n      </g>\n     </g>\n    </g>\n   </g>\n   <g id=\"patch_7\">\n    <path d=\"M 35.31 257.5155 \nL 35.31 35.7555 \n\" style=\"fill: none; stroke: #000000; stroke-width: 0.8; stroke-linejoin: miter; stroke-linecap: square\"/>\n   </g>\n   <g id=\"patch_8\">\n    <path d=\"M 425.91 257.5155 \nL 425.91 35.7555 \n\" style=\"fill: none; stroke: #000000; stroke-width: 0.8; stroke-linejoin: miter; stroke-linecap: square\"/>\n   </g>\n   <g id=\"patch_9\">\n    <path d=\"M 35.31 257.5155 \nL 425.91 257.5155 \n\" style=\"fill: none; stroke: #000000; stroke-width: 0.8; stroke-linejoin: miter; stroke-linecap: square\"/>\n   </g>\n   <g id=\"patch_10\">\n    <path d=\"M 35.31 35.7555 \nL 425.91 35.7555 \n\" style=\"fill: none; stroke: #000000; stroke-width: 0.8; stroke-linejoin: miter; stroke-linecap: square\"/>\n   </g>\n   <g id=\"text_10\">\n    <!-- Рис. 2 - Корреляция между целевым признаком 'Страховые выплаты'  -->\n    <g transform=\"translate(7.2 16.318125) scale(0.12 -0.12)\">\n     <defs>\n      <path id=\"DejaVuSans-420\" d=\"M 1259 4147 \nL 1259 2394 \nL 2053 2394 \nQ 2494 2394 2734 2622 \nQ 2975 2850 2975 3272 \nQ 2975 3691 2734 3919 \nQ 2494 4147 2053 4147 \nL 1259 4147 \nz\nM 628 4666 \nL 2053 4666 \nQ 2838 4666 3239 4311 \nQ 3641 3956 3641 3272 \nQ 3641 2581 3239 2228 \nQ 2838 1875 2053 1875 \nL 1259 1875 \nL 1259 0 \nL 628 0 \nL 628 4666 \nz\n\" transform=\"scale(0.015625)\"/>\n      <path id=\"DejaVuSans-2d\" d=\"M 313 2009 \nL 1997 2009 \nL 1997 1497 \nL 313 1497 \nL 313 2009 \nz\n\" transform=\"scale(0.015625)\"/>\n      <path id=\"DejaVuSans-41a\" d=\"M 628 4666 \nL 1259 4666 \nL 1259 2359 \nL 3516 4666 \nL 4325 4666 \nL 2522 2822 \nL 4419 0 \nL 3731 0 \nL 2113 2403 \nL 1259 1531 \nL 1259 0 \nL 628 0 \nL 628 4666 \nz\n\" transform=\"scale(0.015625)\"/>\n      <path id=\"DejaVuSans-44f\" d=\"M 1181 2491 \nQ 1181 2231 1381 2084 \nQ 1581 1938 1953 1938 \nL 2728 1938 \nL 2728 3041 \nL 1953 3041 \nQ 1581 3041 1381 2897 \nQ 1181 2753 1181 2491 \nz\nM 363 0 \nL 1431 1534 \nQ 1069 1616 828 1830 \nQ 588 2044 588 2491 \nQ 588 2997 923 3248 \nQ 1259 3500 1938 3500 \nL 3306 3500 \nL 3306 0 \nL 2728 0 \nL 2728 1478 \nL 2013 1478 \nL 981 0 \nL 363 0 \nz\n\" transform=\"scale(0.015625)\"/>\n      <path id=\"DejaVuSans-446\" d=\"M 3603 0 \nL 581 0 \nL 581 3500 \nL 1159 3500 \nL 1159 459 \nL 3025 459 \nL 3025 3500 \nL 3603 3500 \nL 3603 459 \nL 4063 459 \nL 4063 -884 \nL 3603 -884 \nL 3603 0 \nz\n\" transform=\"scale(0.015625)\"/>\n      <path id=\"DejaVuSans-436\" d=\"M 2597 3500 \nL 3169 3500 \nL 3169 1856 \nL 4697 3500 \nL 5366 3500 \nL 4109 2153 \nL 5547 0 \nL 4931 0 \nL 3753 1769 \nL 3169 1141 \nL 3169 0 \nL 2597 0 \nL 2597 1141 \nL 2013 1769 \nL 834 0 \nL 219 0 \nL 1656 2153 \nL 400 3500 \nL 1069 3500 \nL 2597 1856 \nL 2597 3500 \nz\n\" transform=\"scale(0.015625)\"/>\n      <path id=\"DejaVuSans-434\" d=\"M 1384 459 \nL 3053 459 \nL 3053 3041 \nL 1844 3041 \nL 1844 2603 \nQ 1844 1316 1475 628 \nL 1384 459 \nz\nM 550 459 \nQ 834 584 959 850 \nQ 1266 1509 1266 2838 \nL 1266 3500 \nL 3631 3500 \nL 3631 459 \nL 4091 459 \nL 4091 -884 \nL 3631 -884 \nL 3631 0 \nL 794 0 \nL 794 -884 \nL 334 -884 \nL 334 459 \nL 550 459 \nz\n\" transform=\"scale(0.015625)\"/>\n      <path id=\"DejaVuSans-443\" d=\"M 2059 -325 \nQ 1816 -950 1584 -1140 \nQ 1353 -1331 966 -1331 \nL 506 -1331 \nL 506 -850 \nL 844 -850 \nQ 1081 -850 1212 -737 \nQ 1344 -625 1503 -206 \nL 1606 56 \nL 191 3500 \nL 800 3500 \nL 1894 763 \nL 2988 3500 \nL 3597 3500 \nL 2059 -325 \nz\n\" transform=\"scale(0.015625)\"/>\n      <path id=\"DejaVuSans-432\" d=\"M 1156 1613 \nL 1156 459 \nL 1975 459 \nQ 2369 459 2575 607 \nQ 2781 756 2781 1038 \nQ 2781 1319 2575 1466 \nQ 2369 1613 1975 1613 \nL 1156 1613 \nz\nM 1156 3041 \nL 1156 2072 \nL 1913 2072 \nQ 2238 2072 2444 2201 \nQ 2650 2331 2650 2563 \nQ 2650 2794 2444 2917 \nQ 2238 3041 1913 3041 \nL 1156 3041 \nz\nM 581 3500 \nL 1950 3500 \nQ 2566 3500 2897 3275 \nQ 3228 3050 3228 2634 \nQ 3228 2313 3059 2123 \nQ 2891 1934 2559 1888 \nQ 2956 1813 3175 1575 \nQ 3394 1338 3394 981 \nQ 3394 513 3033 256 \nQ 2672 0 2003 0 \nL 581 0 \nL 581 3500 \nz\n\" transform=\"scale(0.015625)\"/>\n      <path id=\"DejaVuSans-43a\" d=\"M 581 3500 \nL 1153 3500 \nL 1153 1856 \nL 2775 3500 \nL 3481 3500 \nL 2144 2147 \nL 3653 0 \nL 3009 0 \nL 1769 1766 \nL 1153 1141 \nL 1153 0 \nL 581 0 \nL 581 3500 \nz\n\" transform=\"scale(0.015625)\"/>\n      <path id=\"DejaVuSans-27\" d=\"M 1147 4666 \nL 1147 2931 \nL 616 2931 \nL 616 4666 \nL 1147 4666 \nz\n\" transform=\"scale(0.015625)\"/>\n      <path id=\"DejaVuSans-421\" d=\"M 4122 4306 \nL 4122 3641 \nQ 3803 3938 3442 4084 \nQ 3081 4231 2675 4231 \nQ 1875 4231 1450 3742 \nQ 1025 3253 1025 2328 \nQ 1025 1406 1450 917 \nQ 1875 428 2675 428 \nQ 3081 428 3442 575 \nQ 3803 722 4122 1019 \nL 4122 359 \nQ 3791 134 3420 21 \nQ 3050 -91 2638 -91 \nQ 1578 -91 968 557 \nQ 359 1206 359 2328 \nQ 359 3453 968 4101 \nQ 1578 4750 2638 4750 \nQ 3056 4750 3426 4639 \nQ 3797 4528 4122 4306 \nz\n\" transform=\"scale(0.015625)\"/>\n      <path id=\"DejaVuSans-445\" d=\"M 3513 3500 \nL 2247 1797 \nL 3578 0 \nL 2900 0 \nL 1881 1375 \nL 863 0 \nL 184 0 \nL 1544 1831 \nL 300 3500 \nL 978 3500 \nL 1906 2253 \nL 2834 3500 \nL 3513 3500 \nz\n\" transform=\"scale(0.015625)\"/>\n     </defs>\n     <use xlink:href=\"#DejaVuSans-420\"/>\n     <use xlink:href=\"#DejaVuSans-438\" x=\"60.302734\"/>\n     <use xlink:href=\"#DejaVuSans-441\" x=\"125.292969\"/>\n     <use xlink:href=\"#DejaVuSans-2e\" x=\"180.273438\"/>\n     <use xlink:href=\"#DejaVuSans-20\" x=\"212.060547\"/>\n     <use xlink:href=\"#DejaVuSans-32\" x=\"243.847656\"/>\n     <use xlink:href=\"#DejaVuSans-20\" x=\"307.470703\"/>\n     <use xlink:href=\"#DejaVuSans-2d\" x=\"339.257812\"/>\n     <use xlink:href=\"#DejaVuSans-20\" x=\"375.341797\"/>\n     <use xlink:href=\"#DejaVuSans-41a\" x=\"407.128906\"/>\n     <use xlink:href=\"#DejaVuSans-43e\" x=\"478.125\"/>\n     <use xlink:href=\"#DejaVuSans-440\" x=\"539.306641\"/>\n     <use xlink:href=\"#DejaVuSans-440\" x=\"602.783203\"/>\n     <use xlink:href=\"#DejaVuSans-435\" x=\"666.259766\"/>\n     <use xlink:href=\"#DejaVuSans-43b\" x=\"727.783203\"/>\n     <use xlink:href=\"#DejaVuSans-44f\" x=\"791.699219\"/>\n     <use xlink:href=\"#DejaVuSans-446\" x=\"851.855469\"/>\n     <use xlink:href=\"#DejaVuSans-438\" x=\"919.921875\"/>\n     <use xlink:href=\"#DejaVuSans-44f\" x=\"984.912109\"/>\n     <use xlink:href=\"#DejaVuSans-20\" x=\"1045.068359\"/>\n     <use xlink:href=\"#DejaVuSans-43c\" x=\"1076.855469\"/>\n     <use xlink:href=\"#DejaVuSans-435\" x=\"1152.294922\"/>\n     <use xlink:href=\"#DejaVuSans-436\" x=\"1213.818359\"/>\n     <use xlink:href=\"#DejaVuSans-434\" x=\"1303.90625\"/>\n     <use xlink:href=\"#DejaVuSans-443\" x=\"1373.046875\"/>\n     <use xlink:href=\"#DejaVuSans-20\" x=\"1432.226562\"/>\n     <use xlink:href=\"#DejaVuSans-446\" x=\"1464.013672\"/>\n     <use xlink:href=\"#DejaVuSans-435\" x=\"1532.080078\"/>\n     <use xlink:href=\"#DejaVuSans-43b\" x=\"1593.603516\"/>\n     <use xlink:href=\"#DejaVuSans-435\" x=\"1657.519531\"/>\n     <use xlink:href=\"#DejaVuSans-432\" x=\"1719.042969\"/>\n     <use xlink:href=\"#DejaVuSans-44b\" x=\"1777.978516\"/>\n     <use xlink:href=\"#DejaVuSans-43c\" x=\"1856.933594\"/>\n     <use xlink:href=\"#DejaVuSans-20\" x=\"1932.373047\"/>\n     <use xlink:href=\"#DejaVuSans-43f\" x=\"1964.160156\"/>\n     <use xlink:href=\"#DejaVuSans-440\" x=\"2029.541016\"/>\n     <use xlink:href=\"#DejaVuSans-438\" x=\"2093.017578\"/>\n     <use xlink:href=\"#DejaVuSans-437\" x=\"2158.007812\"/>\n     <use xlink:href=\"#DejaVuSans-43d\" x=\"2211.181641\"/>\n     <use xlink:href=\"#DejaVuSans-430\" x=\"2276.5625\"/>\n     <use xlink:href=\"#DejaVuSans-43a\" x=\"2337.841797\"/>\n     <use xlink:href=\"#DejaVuSans-43e\" x=\"2398.242188\"/>\n     <use xlink:href=\"#DejaVuSans-43c\" x=\"2459.423828\"/>\n     <use xlink:href=\"#DejaVuSans-20\" x=\"2534.863281\"/>\n     <use xlink:href=\"#DejaVuSans-27\" x=\"2566.650391\"/>\n     <use xlink:href=\"#DejaVuSans-421\" x=\"2594.140625\"/>\n     <use xlink:href=\"#DejaVuSans-442\" x=\"2663.964844\"/>\n     <use xlink:href=\"#DejaVuSans-440\" x=\"2722.216797\"/>\n     <use xlink:href=\"#DejaVuSans-430\" x=\"2785.693359\"/>\n     <use xlink:href=\"#DejaVuSans-445\" x=\"2846.972656\"/>\n     <use xlink:href=\"#DejaVuSans-43e\" x=\"2906.152344\"/>\n     <use xlink:href=\"#DejaVuSans-432\" x=\"2967.333984\"/>\n     <use xlink:href=\"#DejaVuSans-44b\" x=\"3026.269531\"/>\n     <use xlink:href=\"#DejaVuSans-435\" x=\"3105.224609\"/>\n     <use xlink:href=\"#DejaVuSans-20\" x=\"3166.748047\"/>\n     <use xlink:href=\"#DejaVuSans-432\" x=\"3198.535156\"/>\n     <use xlink:href=\"#DejaVuSans-44b\" x=\"3257.470703\"/>\n     <use xlink:href=\"#DejaVuSans-43f\" x=\"3336.425781\"/>\n     <use xlink:href=\"#DejaVuSans-43b\" x=\"3401.806641\"/>\n     <use xlink:href=\"#DejaVuSans-430\" x=\"3465.722656\"/>\n     <use xlink:href=\"#DejaVuSans-442\" x=\"3527.001953\"/>\n     <use xlink:href=\"#DejaVuSans-44b\" x=\"3585.253906\"/>\n     <use xlink:href=\"#DejaVuSans-27\" x=\"3664.208984\"/>\n     <use xlink:href=\"#DejaVuSans-20\" x=\"3691.699219\"/>\n    </g>\n    <!--  и остальными признаками датасета -->\n    <g transform=\"translate(113.177813 29.7555) scale(0.12 -0.12)\">\n     <use xlink:href=\"#DejaVuSans-20\"/>\n     <use xlink:href=\"#DejaVuSans-438\" x=\"31.787109\"/>\n     <use xlink:href=\"#DejaVuSans-20\" x=\"96.777344\"/>\n     <use xlink:href=\"#DejaVuSans-43e\" x=\"128.564453\"/>\n     <use xlink:href=\"#DejaVuSans-441\" x=\"189.746094\"/>\n     <use xlink:href=\"#DejaVuSans-442\" x=\"244.726562\"/>\n     <use xlink:href=\"#DejaVuSans-430\" x=\"302.978516\"/>\n     <use xlink:href=\"#DejaVuSans-43b\" x=\"364.257812\"/>\n     <use xlink:href=\"#DejaVuSans-44c\" x=\"428.173828\"/>\n     <use xlink:href=\"#DejaVuSans-43d\" x=\"487.109375\"/>\n     <use xlink:href=\"#DejaVuSans-44b\" x=\"552.490234\"/>\n     <use xlink:href=\"#DejaVuSans-43c\" x=\"631.445312\"/>\n     <use xlink:href=\"#DejaVuSans-438\" x=\"706.884766\"/>\n     <use xlink:href=\"#DejaVuSans-20\" x=\"771.875\"/>\n     <use xlink:href=\"#DejaVuSans-43f\" x=\"803.662109\"/>\n     <use xlink:href=\"#DejaVuSans-440\" x=\"869.042969\"/>\n     <use xlink:href=\"#DejaVuSans-438\" x=\"932.519531\"/>\n     <use xlink:href=\"#DejaVuSans-437\" x=\"997.509766\"/>\n     <use xlink:href=\"#DejaVuSans-43d\" x=\"1050.683594\"/>\n     <use xlink:href=\"#DejaVuSans-430\" x=\"1116.064453\"/>\n     <use xlink:href=\"#DejaVuSans-43a\" x=\"1177.34375\"/>\n     <use xlink:href=\"#DejaVuSans-430\" x=\"1237.744141\"/>\n     <use xlink:href=\"#DejaVuSans-43c\" x=\"1299.023438\"/>\n     <use xlink:href=\"#DejaVuSans-438\" x=\"1374.462891\"/>\n     <use xlink:href=\"#DejaVuSans-20\" x=\"1439.453125\"/>\n     <use xlink:href=\"#DejaVuSans-434\" x=\"1471.240234\"/>\n     <use xlink:href=\"#DejaVuSans-430\" x=\"1540.380859\"/>\n     <use xlink:href=\"#DejaVuSans-442\" x=\"1601.660156\"/>\n     <use xlink:href=\"#DejaVuSans-430\" x=\"1659.912109\"/>\n     <use xlink:href=\"#DejaVuSans-441\" x=\"1721.191406\"/>\n     <use xlink:href=\"#DejaVuSans-435\" x=\"1776.171875\"/>\n     <use xlink:href=\"#DejaVuSans-442\" x=\"1837.695312\"/>\n     <use xlink:href=\"#DejaVuSans-430\" x=\"1895.947266\"/>\n    </g>\n   </g>\n  </g>\n </g>\n <defs>\n  <clipPath id=\"p2c53442f15\">\n   <rect x=\"35.31\" y=\"35.7555\" width=\"390.6\" height=\"221.76\"/>\n  </clipPath>\n </defs>\n</svg>\n"
          },
          "metadata": {}
        }
      ],
      "source": [
        "phik_overview['Страховые выплаты'].sort_values(ascending = False)[1:].plot(\n",
        "    kind = 'bar',\n",
        "    figsize = (7, 4),\n",
        "    fontsize = 12,\n",
        "    title = 'Рис. 2 - Корреляция между целевым признаком \\'Страховые выплаты\\' \\n \\\n",
        "и остальными признаками датасета',\n",
        "        color = 'coral',\n",
        ")\n",
        "plt.xticks(rotation = 0)\n",
        "plt.show()"
      ]
    },
    {
      "cell_type": "markdown",
      "metadata": {
        "id": "BKY62yVOB5X3"
      },
      "source": [
        "Высокий уровень линейной корреляции наблюдается между признаком 'Возраст' и целевым признаком 'Страховые выплаты' (0.88). Удалять признаки из датасета data не требуется, т.к. между самими признаками линейная корреляция либо равна, либо практически равна нулю.\n",
        "\n",
        "Также для  достижения цели исследования не требуется проводить масштабирование признаков."
      ]
    },
    {
      "cell_type": "markdown",
      "metadata": {
        "id": "_whX16ysRcnf"
      },
      "source": [
        "### **Выводы по 1.2 Исследовательский анализ данных**\n",
        "\n",
        "---"
      ]
    },
    {
      "cell_type": "markdown",
      "metadata": {
        "id": "pDygU43IUz5S"
      },
      "source": [
        "**(1)** изучение общей статистики не позволило выявить значимых проблем в информации, представленной в датасете\n",
        "\n",
        "**(2)** из датасета удалено 153 явных дубликатов (из 5000 наблюдений)\n",
        "\n",
        "**(3)** медианный возраст застрахованного – 30 лет. Медианная зарплата застрахованных лиц – 40 тыс. рублей\n",
        "\n",
        "**(4)** признак ‘Пол’ сбалансирован: количество мужчин и женщин среди застрахованных примерно одинаково. Среди застрахованных преобладают клиенты, проживающие отдельно или в небольших семьях (два или три человека)\n",
        "\n",
        "**(5)** целевой признак ‘Страховые выплаты’ отличается ярко выраженной несбалансированностью: в 88.4% случаев страховых выплат не было, в 8.7% случаев имела место одна страховая выплата, в 2.3% случаев – две страховые выплаты, в 0.4% случаев – три страховые выплаты, в 0.1% случаев – четыре страховые выплаты, в 0.02% случаев – пять страховых выплат\n",
        "\n",
        "**(6)** проверка на мультиколинеарность показала, что между признаками датасета, из которых будет сформирована обучающая выборка, линейная корреляция равна или практически равна нулю, в связи с чем нет необходимости удаления признаков"
      ]
    },
    {
      "cell_type": "markdown",
      "metadata": {
        "id": "FFrpBH0FDcPb"
      },
      "source": [
        "### **1.3 Формирование обучающей и тестовой выборки**\n",
        "\n",
        "---\n"
      ]
    },
    {
      "cell_type": "markdown",
      "metadata": {
        "id": "k843AOdaDs1F"
      },
      "source": [
        "Из датасета data выделим датасет с обучающими признаками и целевым признаком."
      ]
    },
    {
      "cell_type": "code",
      "execution_count": null,
      "metadata": {
        "colab": {
          "base_uri": "https://localhost:8080/"
        },
        "id": "mooB62akEvq3",
        "outputId": "e4ea093c-d7d6-4c0f-ca32-77cbb006d9b7"
      },
      "outputs": [
        {
          "output_type": "execute_result",
          "data": {
            "text/plain": [
              "(4847, 5)"
            ]
          },
          "metadata": {},
          "execution_count": 25
        }
      ],
      "source": [
        "# проверим размер датасета data перед разделением\n",
        "# на выборки с признаками и целевым признаком\n",
        "data.shape"
      ]
    },
    {
      "cell_type": "code",
      "execution_count": null,
      "metadata": {
        "colab": {
          "base_uri": "https://localhost:8080/"
        },
        "id": "99G93RHlDqVe",
        "outputId": "262db0c9-25a9-4e42-d7b4-dab07466c85f"
      },
      "outputs": [
        {
          "output_type": "execute_result",
          "data": {
            "text/plain": [
              "(4847, 4)"
            ]
          },
          "metadata": {},
          "execution_count": 26
        }
      ],
      "source": [
        "# формируем датасет с признаками\n",
        "features = data.drop('Страховые выплаты', axis = 1)\n",
        "\n",
        "# проверим размер датасета с признаками после удаления\n",
        "# целевого признака\n",
        "features.shape"
      ]
    },
    {
      "cell_type": "code",
      "execution_count": null,
      "metadata": {
        "colab": {
          "base_uri": "https://localhost:8080/"
        },
        "id": "nlaA43oADz7C",
        "outputId": "520e5b19-b5c3-40d8-c691-03230a6669cc"
      },
      "outputs": [
        {
          "output_type": "execute_result",
          "data": {
            "text/plain": [
              "(4847,)"
            ]
          },
          "metadata": {},
          "execution_count": 27
        }
      ],
      "source": [
        "# формируем датасет с целевым признаком\n",
        "target = data['Страховые выплаты']\n",
        "\n",
        "# проверим размер датасета с целевым признаком\n",
        "target.shape"
      ]
    },
    {
      "cell_type": "markdown",
      "metadata": {
        "id": "-UmNh1nPG6eZ"
      },
      "source": [
        "Из датасетов features и target формируем обучающий и тестовый комплект."
      ]
    },
    {
      "cell_type": "code",
      "execution_count": null,
      "metadata": {
        "id": "NnWA1W36Dz-J"
      },
      "outputs": [],
      "source": [
        "features_train, features_test, \\\n",
        "target_train, target_test = train_test_split(\n",
        "    features, target, test_size = 0.25,\n",
        "    random_state = 1, shuffle = True\n",
        ")"
      ]
    },
    {
      "cell_type": "code",
      "execution_count": null,
      "metadata": {
        "colab": {
          "base_uri": "https://localhost:8080/"
        },
        "id": "mIW0-6A0D0A9",
        "outputId": "da941ad3-f441-4896-886a-00f568e8b584"
      },
      "outputs": [
        {
          "output_type": "execute_result",
          "data": {
            "text/plain": [
              "((3635, 4), (3635,))"
            ]
          },
          "metadata": {},
          "execution_count": 29
        }
      ],
      "source": [
        "# проверим размеры обучающей выборки\n",
        "features_train.shape, target_train.shape"
      ]
    },
    {
      "cell_type": "code",
      "execution_count": null,
      "metadata": {
        "colab": {
          "base_uri": "https://localhost:8080/"
        },
        "id": "5bhGvI3ED0D0",
        "outputId": "6555b4ef-a894-47dc-a210-cfa92331ebf2"
      },
      "outputs": [
        {
          "output_type": "execute_result",
          "data": {
            "text/plain": [
              "((1212, 4), (1212,))"
            ]
          },
          "metadata": {},
          "execution_count": 30
        }
      ],
      "source": [
        "# проверим размеры тестовой выборки\n",
        "features_test.shape, target_test.shape"
      ]
    },
    {
      "cell_type": "markdown",
      "metadata": {
        "id": "LwIZsYD-LVCY"
      },
      "source": [
        "### **Выводы по 1.3 Формирование обучающей и тестовой выборки**\n",
        "\n",
        "---\n"
      ]
    },
    {
      "cell_type": "markdown",
      "metadata": {
        "id": "mQoA8pIpLdy5"
      },
      "source": [
        "**(1)** обучающий и тестовый комплекты сформированы:\n",
        "\n",
        " * обучающий комплект:\n",
        "\n",
        "    - features_train\n",
        "\n",
        "    - target_train\n",
        "\n",
        " * тестовый комплект:\n",
        "\n",
        "   - features_test\n",
        "\n",
        "   - target_test"
      ]
    },
    {
      "cell_type": "markdown",
      "metadata": {
        "id": "8p4Eup9YU8-g"
      },
      "source": [
        "## **<font color='mediumblue'>ВЫВОДЫ по 1 Загрузка и изучение данных</font>**\n",
        "\n",
        "---"
      ]
    },
    {
      "cell_type": "markdown",
      "metadata": {
        "id": "OgBaYfrhVFRZ"
      },
      "source": [
        "**(1)** импортированы необходимые библиотеки, структуры данных и функции; данные загружены\n",
        "\n",
        "**(2)** проведен исследовательский анализ данных, в результате которого данные датасета подготовлены для использования на следующих этапах проекта\n",
        "\n",
        "**(3)** сформированы обучающий и тестовый комплекты для обучения моделей и проверки результатов машинного обучения"
      ]
    },
    {
      "cell_type": "markdown",
      "metadata": {
        "id": "rG-nVJb0VvNy"
      },
      "source": [
        "## <font color='green'>**2 Исследование изменения качества линейной регрессии при умножении датасета с признаками на обратимую матрицу**</font>\n",
        "\n",
        "---"
      ]
    },
    {
      "cell_type": "markdown",
      "metadata": {
        "id": "5WlhrVM9RXhP"
      },
      "source": [
        "### **2.1 Теоретические положения**\n",
        "\n",
        "---\n"
      ]
    },
    {
      "cell_type": "markdown",
      "metadata": {
        "id": "6oFjhc0_X2GI"
      },
      "source": [
        "Обозначения, применяемые в проекте:\n",
        "\n",
        "- $X$ — матрица признаков (нулевой столбец состоит из единиц)\n",
        "\n",
        "- $y$ — вектор целевого признака\n",
        "\n",
        "- $P$ — матрица, на которую умножаются признаки\n",
        "\n",
        "- $w$ — вектор весов линейной регрессии (нулевой элемент равен сдвигу)"
      ]
    },
    {
      "cell_type": "markdown",
      "metadata": {
        "id": "UfhOVnZzYE4Z"
      },
      "source": [
        "Предсказания:\n",
        "\n",
        "$$\n",
        "a = Xw\n",
        "$$\n",
        "\n",
        "Задача обучения:\n",
        "\n",
        "$$\n",
        "w = \\arg\\min_w MSE(Xw, y)\n",
        "$$\n",
        "\n",
        "Формула обучения:\n",
        "\n",
        "$$\n",
        "w = (X^T X)^{-1} X^T y\n",
        "$$"
      ]
    },
    {
      "cell_type": "markdown",
      "metadata": {
        "id": "T7HARgFjeuCK"
      },
      "source": [
        "Для разработки метода преобразования персональных данных, гарантирующего невозможность их идентификации третьими лицами (злоумышленниками), предполагается использовать умножение датасета с признаками на обратимую матрицу с тем, чтобы в дальнейшем передавать для машинного обучения закодированные таким образом данные.\n",
        "\n",
        "Соответственно, важно установить, изменится ли качество линейной регрессии после кодирования признаков. С этой целью создадим специальный тестовый (экспериментальный) датасет с рандомными значениями, выделим из него обучающий и тестовый комплекты. Обучим модель линейной регрессии, получим предсказания, вычислим метрики r2 и mse. Точность в данном случае не будет иметь значения: нас интересует, изменятся ли значения метрик обучения модели до и после кодирования признаков. Следующим шагом станет создание обратимой матрицы и проверка ее на обратимость. Датасет с признаками будет закодирован при помощи умножения его на обратимую матрицу. Модель линейной регрессии будет обучена на закодированных данных, получены предсказания также на закодированных данных. В результате получим значения метрик r2 и mse после кодирования датасетов с признаками и сравним значения метрик до и после кодировки.\n",
        "\n",
        "Если метрики r2 и mse, рассчитанные на шагах 3 и 6, равны или расходятся на ничтожно малое значение – будет сделан вывод о том, что умножение датасета с признаками на обратимую матрицу не влияет на качество предсказаний линейной регрессии."
      ]
    },
    {
      "cell_type": "markdown",
      "metadata": {
        "id": "E1KYeiesVsnU"
      },
      "source": [
        "В линейной алгебре квадратная матрица А размером n*n называется обратимой, если существует квадратная матрица В размером n*n при условии, что AB = BA = In, где In обозначает идентификационную матрицу. Матрица B называется обратной к матрице А. Квадратная матрица обратима тогда и только тогда, когда ее определитель отличен от нуля."
      ]
    },
    {
      "cell_type": "markdown",
      "metadata": {
        "id": "fzdiCv9MoxTB"
      },
      "source": [
        "Докажем, что при умножении датасета с признаками на обратимую матрицу качество линейной регрессии не уменьшится."
      ]
    },
    {
      "cell_type": "markdown",
      "metadata": {
        "id": "x1kk8Ea2gFS7"
      },
      "source": [
        "Обозначим стандартные свойства умножения матриц, которые потребуются для доказательства:\n",
        "\n",
        "$ (A\\cdot B)^{-1} = B^{-1}\\cdot A^{-1} $\n",
        "\n",
        "$ (A\\cdot B)^T = B^T\\cdot A^T $\n",
        "\n",
        "$ (A\\cdot B\\cdot C\\cdot)^{-1} = C^{-1}\\cdot (A\\cdot B)^{-1} = (B\\cdot C)^{-1}\\cdot A^{-1} = C^{-1}\\cdot B^{-1}\\cdot A^{-1}  $\n",
        "\n",
        "$ A\\cdot E = E\\cdot A $\n",
        "\n",
        "* $E$ - единичная матрица"
      ]
    },
    {
      "cell_type": "markdown",
      "metadata": {
        "id": "VILmCw5riXGQ"
      },
      "source": [
        "Как было отмечено выше, предсказания определяются по формуле:\n",
        "\n",
        "$$ a = X\\cdot w $$"
      ]
    },
    {
      "cell_type": "markdown",
      "metadata": {
        "id": "MMyv61a3iXJy"
      },
      "source": [
        "Формула обучения:\n",
        "\n",
        "$$\n",
        "w = (X^T X)^{-1} X^T y\n",
        "$$"
      ]
    },
    {
      "cell_type": "markdown",
      "metadata": {
        "id": "KS_cOAzKiXM_"
      },
      "source": [
        "При умножении датасета с признаками на обратимую матрицу получаем:\n",
        "\n",
        "$$ a' = X\\cdot P\\cdot w'$$"
      ]
    },
    {
      "cell_type": "markdown",
      "metadata": {
        "id": "u_mot5IWiXQa"
      },
      "source": [
        "Требуется доказать, что $ a = a'$"
      ]
    },
    {
      "cell_type": "markdown",
      "metadata": {
        "id": "zs06_YdUrC7r"
      },
      "source": [
        "Чтобы получить $ w' $, в формуле обучения для $ w $ заменим $X$ на $P\\cdot X$:\n",
        "\n",
        "$$\n",
        "w' = ((X\\cdot P)^T \\cdot (X\\cdot P))^{-1}\\cdot (X\\cdot P)^T\\cdot y\n",
        "$$    \n",
        "\n"
      ]
    },
    {
      "cell_type": "markdown",
      "metadata": {
        "id": "dAqwv4SblS7W"
      },
      "source": [
        "Тогда 'новые' предсказания $a'$:\n",
        "\n",
        "$$\n",
        "a' = X\\cdot P\\cdot ((X\\cdot P)^T\\cdot X\\cdot P)^{-1}\\cdot (X\\cdot P)^T\\cdot y\n",
        "$$"
      ]
    },
    {
      "cell_type": "markdown",
      "metadata": {
        "id": "WgiT1Hebl5nN"
      },
      "source": [
        "Раскрываем скобки $(X\\cdot P)^T$, применяя стандартное правило:\n",
        "\n",
        "$$\n",
        "a' = X\\cdot P\\cdot (P^T\\cdot X^T\\cdot X\\cdot P)^{-1}\\cdot P^T\\cdot X^T\\cdot y\n",
        "$$"
      ]
    },
    {
      "cell_type": "markdown",
      "metadata": {
        "id": "Y5G8up8_ma9J"
      },
      "source": [
        "Раскроем скобки с инверсией по стандартному правилу для произведения нескольких матриц:\n",
        "\n",
        "$$\n",
        "a' = X\\cdot P\\cdot P^{-1}\\cdot (P^T\\cdot X^T\\cdot X)^{-1}\\cdot P^T\\cdot X^T\\cdot y\n",
        "$$\n",
        "\n",
        "$$\n",
        "a' = X\\cdot P\\cdot P^{-1}\\cdot (X^T\\cdot X)^{-1}\\cdot (P^T)^{-1}\\cdot P^T\\cdot X^T\\cdot y\n",
        "$$"
      ]
    },
    {
      "cell_type": "markdown",
      "metadata": {
        "id": "DZjQbrPxrsni"
      },
      "source": [
        "Доказательство имеет смысл только в случае, если $P$ является квадратной матрицей, поэтому умножение квадратной матрицы на обратную даст единичную матрицу $E$:"
      ]
    },
    {
      "cell_type": "markdown",
      "metadata": {
        "id": "US3ALxWFsRTL"
      },
      "source": [
        "$$\n",
        "a' = X\\cdot E\\cdot (X^T\\cdot X)^{-1}\\cdot E\\cdot X^T\\cdot y\n",
        "$$"
      ]
    },
    {
      "cell_type": "markdown",
      "metadata": {
        "id": "SK9tvElGswV8"
      },
      "source": [
        "В соответствии  со стандартным правилом при умножении исходной матрицы на единичную матрицу получаем исходную матрицу, поэтому:\n",
        "\n",
        "$$\n",
        "a' = X\\cdot (X^T\\cdot X)^{-1}\\cdot X^T\\cdot y\n",
        "$$"
      ]
    },
    {
      "cell_type": "markdown",
      "metadata": {
        "id": "vn6wlVlEt7A3"
      },
      "source": [
        "Заменим $(X^T X)^{-1} X^T y$ на $w$ (согласно формуле обучения, указанной выше):\n",
        "\n",
        "$$\n",
        "a' = X\\cdot w\n",
        "$$"
      ]
    },
    {
      "cell_type": "markdown",
      "metadata": {
        "id": "KXsaG2HuulTb"
      },
      "source": [
        "Следовательно, $a = a'$, что и требовалось доказать."
      ]
    },
    {
      "cell_type": "markdown",
      "metadata": {
        "id": "0-sEoxE1jFU_"
      },
      "source": [
        "## **<font color='mediumblue'>ВЫВОДЫ по 2 Исследование изменения качества линейной регрессии при умножении датасета с признаками на обратимую матрицу</font>**\n",
        "\n",
        "---"
      ]
    },
    {
      "cell_type": "markdown",
      "metadata": {
        "id": "L06WlqWVYK2y"
      },
      "source": [
        "**(1)** При умножении признаков на обратимую матрицу качество предсказаний, полученных в результате машинного обучения линейной регрессии, не снижается. **Обоснование:** математическое доказательство."
      ]
    },
    {
      "cell_type": "markdown",
      "metadata": {
        "id": "mMkgCRQVrcsr"
      },
      "source": [
        "## <font color='green'>**3 Алгоритм преобразования данных для обеспечения надежной защиты персональных данных клиентов и сохранения качества результатов машинного обучения**</font>\n",
        "\n",
        "---"
      ]
    },
    {
      "cell_type": "markdown",
      "metadata": {
        "id": "vfuIz2L6YK9q"
      },
      "source": [
        "**Алгоритм**\n"
      ]
    },
    {
      "cell_type": "markdown",
      "metadata": {
        "id": "Iuw4Rhg2MMGU"
      },
      "source": [
        "В результате проведения эксперимента, итоги которого приведены в разделе 2, уточним алгоритм преобразования данных для обеспечения надежной защиты персональных данных клиентов и сохранения качества результатов машинного обучения:\n",
        "\n",
        "- (1) матрица признаков Х включает значения, которые должны быть закодированы\n",
        "\n",
        "- (2) для контроля вычисляются значения метрик R2 и MSE, полученные по результатам обучения и предсказания модели на незакодированном датасете с признаками\n",
        "\n",
        "- (3) для кодирования создается обратимая матрица Р с размерностью, обеспечивающей получение после умножения матрицы с закодированными признаками той же размерности, что и у исходного датасета Х. Для создания обратимой матрицы может быть применена функция numpy.random.normal()\n",
        "\n",
        "- (4) в обязательном порядке проводится проверка матрицы Р на обратимость. Проверка на обратимость может быть проведена с помощью функции numpy.linalg.inv(), - если вызов функции со сгенерированной обратимой матрицей не приведет к ошибке, созданная обратимая матрица действительно обратима. В случае, если выполнение функции numpy.linalg.inv() заврешилось ошибкой, необходимо вернуться в пункт 3, создать новую матрицу и проверить ее на обратимость, - до тех пор, пока не будет получена обратимая матрица\n",
        "\n",
        "- (5) датасет с признаками Х умножается на обратимую матрицу. Результатом является новый датасет Х с закодированными признаками (персональными данными клиентов)\n",
        "\n",
        "- (6) проводится обучение модели, получение предсказаний на сгенерированном датасете, признаки которого умножены на обратимую матрицу\n",
        "\n",
        "- (7) вычисляются значения метрик R2 и MSE на закодированных данных\n",
        "\n",
        "- (8) проводится сравнение значений метрик R2 и MSE до и после кодирования признаков. Разница должна быть равна нулю или практически равна нулю\n",
        "\n",
        "- (9) в случае, если необходимо повысить точность расчета значений метрик R2 и MSE, при машинном обучении до и после кодирования необходимо выделить обучающий и тестовый комплект. Кодируются датасеты с признаками. Целевой признак кодировать не нужно"
      ]
    },
    {
      "cell_type": "markdown",
      "metadata": {
        "id": "a23-KtimVr2B"
      },
      "source": [
        "## **<font color='mediumblue'>ВЫВОДЫ по 3 Алгоритм преобразования данных для обеспечения надежной защиты персональных данных клиентов и сохранения качества результатов машинного обучения</font>**\n",
        "\n",
        "---"
      ]
    },
    {
      "cell_type": "markdown",
      "metadata": {
        "id": "9hD9QSkpUnji"
      },
      "source": [
        "**(1)** разработан алгоритм преобразования (кодирования) данных, позволяющий одновременно обеспечить невозможность восстановления персональной информации и сохранить высокое качество модели машинного обучения на закодированных признаках\n",
        "\n"
      ]
    },
    {
      "cell_type": "markdown",
      "metadata": {
        "id": "drY80N9bV4VN"
      },
      "source": [
        "## <font color='green'>**4 Применение алгоритма преобразования данных с использованием матричных операций**</font>\n",
        "\n",
        "---"
      ]
    },
    {
      "cell_type": "markdown",
      "metadata": {
        "id": "VK-qdic4WxAe"
      },
      "source": [
        "### **4.1 Расчет метрик на исходном датасете (без кодирования признаков)**\n",
        "\n",
        "---"
      ]
    },
    {
      "cell_type": "markdown",
      "metadata": {
        "id": "XdU8GYss5ok5"
      },
      "source": [
        "Необратимые матрицы встречаются редко. Если сгенерировать случайную матрицу функцией **numpy.random.normal()**, вероятность получить необратимую матрицу близка к нулю. Чтобы найти обратную матрицу, необходимо вызвать функцию **numpy.linalg.inv()** (от англ. linear algebra, «линейная алгебра»; invert, «обратить»). Также она поможет проверить матрицу на обратимость: если матрица необратима, будет обнаружена ошибка."
      ]
    },
    {
      "cell_type": "code",
      "execution_count": null,
      "metadata": {
        "id": "E13q2ma1Pc-C"
      },
      "outputs": [],
      "source": [
        "# создадим class для объекта LinearRegression,\n",
        "# который будет использован в последующем машинном обучении\n",
        "class LinearRegression:\n",
        "    def fit(self, train_features, train_target):\n",
        "        X = np.concatenate((np.ones((train_features.shape[0], 1)),\n",
        "                            train_features), axis=1)\n",
        "        y = train_target\n",
        "        w = (np.linalg.inv(X.T.dot(X)).dot(X.T)).dot(y)\n",
        "        self.w = w[1:]\n",
        "        self.w0 = w[0]\n",
        "\n",
        "    def predict(self, test_features):\n",
        "        return test_features.dot(self.w) + self.w0"
      ]
    },
    {
      "cell_type": "markdown",
      "metadata": {
        "id": "D0Vwr7LAnVXr"
      },
      "source": [
        "Особо отметим, что проект был выполнен без импортирования модели LinearRegression из библиотеки sklearn. Обучение модели и получение предсказаний было выполнено с помощью объявленного class LinearRegression."
      ]
    },
    {
      "cell_type": "markdown",
      "metadata": {
        "id": "ZX7U9YjRYktA"
      },
      "source": [
        "Обучающий и тестовый комплекты на исходном датасете (без кодирования признаков) были созданы в пп. 1.3:\n",
        "\n",
        " * обучающий комплект:\n",
        "\n",
        "    - features_train\n",
        "\n",
        "    - target_train\n",
        "\n",
        " * тестовый комплект:\n",
        "\n",
        "   - features_test\n",
        "\n",
        "   - target_test"
      ]
    },
    {
      "cell_type": "code",
      "execution_count": null,
      "metadata": {
        "id": "6vbDIqYWZQTm"
      },
      "outputs": [],
      "source": [
        "# создадим модель LinearRegression()\n",
        "model = LinearRegression()"
      ]
    },
    {
      "cell_type": "code",
      "execution_count": null,
      "metadata": {
        "id": "kUngt2mDZQTn"
      },
      "outputs": [],
      "source": [
        "# обучим модель на обучающем комплекте\n",
        "model.fit(features_train, target_train)"
      ]
    },
    {
      "cell_type": "code",
      "execution_count": null,
      "metadata": {
        "id": "jn_krsvcZQTn"
      },
      "outputs": [],
      "source": [
        "# получим предсказания на тестовом датасете с признаками\n",
        "predictions = model.predict(features_test)"
      ]
    },
    {
      "cell_type": "code",
      "execution_count": null,
      "metadata": {
        "id": "cnwZIUluZQTo"
      },
      "outputs": [],
      "source": [
        "R2_before_encoding = r2_score(target_test, predictions)"
      ]
    },
    {
      "cell_type": "code",
      "execution_count": null,
      "metadata": {
        "id": "y1rxm6HKZQTo"
      },
      "outputs": [],
      "source": [
        "MSE_before_encoding = mean_squared_error(target_test, predictions)"
      ]
    },
    {
      "cell_type": "code",
      "execution_count": null,
      "metadata": {
        "colab": {
          "base_uri": "https://localhost:8080/"
        },
        "id": "3v-kbgkRZQTo",
        "outputId": "6a2e3e59-be06-495a-a9b4-ef0b4e77467d"
      },
      "outputs": [
        {
          "output_type": "stream",
          "name": "stdout",
          "text": [
            "R2 до кодирования признаков: \n",
            "0.4593257004025376\n"
          ]
        }
      ],
      "source": [
        "print(f'R2 до кодирования признаков: \\n'\n",
        "    f'{R2_before_encoding}')"
      ]
    },
    {
      "cell_type": "code",
      "execution_count": null,
      "metadata": {
        "colab": {
          "base_uri": "https://localhost:8080/"
        },
        "id": "IGYiGLYbZQTp",
        "outputId": "13bc00d4-74f4-4724-bb64-53c143327b34"
      },
      "outputs": [
        {
          "output_type": "stream",
          "name": "stdout",
          "text": [
            "MSE до кодирования признаков: \n",
            "0.11701388748218343\n"
          ]
        }
      ],
      "source": [
        "print(f'MSE до кодирования признаков: \\n'\n",
        "    f'{MSE_before_encoding}')"
      ]
    },
    {
      "cell_type": "markdown",
      "metadata": {
        "id": "KYm8DOnRaKWK"
      },
      "source": [
        "### **4.2 Расчет метрик на датасете с закодированными признаками**\n",
        "\n",
        "---"
      ]
    },
    {
      "cell_type": "markdown",
      "metadata": {
        "id": "UjBe5CAnasbI"
      },
      "source": [
        "Кодировку признаков начнем с создания обратимой матрицы. Пояснение по выбору размерности обратимой матрицы были даны в п. 2.3."
      ]
    },
    {
      "cell_type": "markdown",
      "metadata": {
        "id": "DODSMuOuRhkn"
      },
      "source": [
        "Создадим функцию, которая будет принимать на вход датасет, который необходимо умножить на обратимую матрицу; средний центр распределения (loc); стандартное отклонение распределения (scale). Функция будет возвращать квадратную матрицу, количество сторон которой соответствует количеству столбцов подаваемого на вход функции датасета. Это обязательное условие, без выполнения которого умножение исходного датасета на обратимую матрицу невозможно. Функция возвращает обратимую матрицу только после ее предварительной проверки на обратимость."
      ]
    },
    {
      "cell_type": "code",
      "execution_count": null,
      "metadata": {
        "id": "LlHtfu-sPb5V"
      },
      "outputs": [],
      "source": [
        "def get_rand_matrix(data, loc, scale):\n",
        "    det = 0\n",
        "    while det == 0:\n",
        "        matrix = np.random.normal(\n",
        "            loc = loc,\n",
        "            scale = scale,\n",
        "            size=(data.shape[1], data.shape[1]))\n",
        "        det = np.linalg.det(matrix)\n",
        "    return matrix"
      ]
    },
    {
      "cell_type": "code",
      "execution_count": null,
      "metadata": {
        "colab": {
          "base_uri": "https://localhost:8080/"
        },
        "id": "-QFi0L6HPb8p",
        "outputId": "269c74ea-0fec-4143-e6c4-98409040a832"
      },
      "outputs": [
        {
          "output_type": "execute_result",
          "data": {
            "text/plain": [
              "array([[38.07808425, 29.70483371, 26.90403401, 20.98217959],\n",
              "       [34.25701813, 22.88551828, 25.00027272, 20.09671992],\n",
              "       [16.86990191, 30.26546938, 33.2788857 , 11.18619075],\n",
              "       [36.5558328 , 19.08700452, 28.67116552, 19.3424551 ]])"
            ]
          },
          "metadata": {},
          "execution_count": 40
        }
      ],
      "source": [
        "# вызовем функцию для получения обратимой матрицы\n",
        "matrix = get_rand_matrix(features_train, 30, 7)\n",
        "matrix"
      ]
    },
    {
      "cell_type": "markdown",
      "metadata": {
        "id": "ScVpBRU5TSMV"
      },
      "source": [
        "Проверка матрицы matrix на обратимость была проведена в функции, поэтому дополнительно проверять сгенерированную матрицу не требуется. Сгенерированная матрица подойдет для кодирования данных как датаета features_train, так и features_test, поскольку число столбцов (признаков) в этих датасетах совпадает."
      ]
    },
    {
      "cell_type": "code",
      "execution_count": null,
      "metadata": {
        "colab": {
          "base_uri": "https://localhost:8080/"
        },
        "id": "jedwSZ7zcnUm",
        "outputId": "e0fbaa42-13c6-4c68-ed4c-f4b790d681bf"
      },
      "outputs": [
        {
          "output_type": "execute_result",
          "data": {
            "text/plain": [
              "Index(['Пол', 'Возраст', 'Зарплата', 'Члены семьи'], dtype='object')"
            ]
          },
          "metadata": {},
          "execution_count": 41
        }
      ],
      "source": [
        "# создадим список названий столбцов датасетов features_train\n",
        "# и features_test\n",
        "columns_names = features_train.columns\n",
        "columns_names"
      ]
    },
    {
      "cell_type": "code",
      "execution_count": null,
      "metadata": {
        "colab": {
          "base_uri": "https://localhost:8080/",
          "height": 206
        },
        "id": "c5RtaTxWcWam",
        "outputId": "cf222a94-8356-421e-a432-749b17373607"
      },
      "outputs": [
        {
          "output_type": "execute_result",
          "data": {
            "text/plain": [
              "      Пол  Возраст  Зарплата  Члены семьи\n",
              "571     0     32.0   41100.0            1\n",
              "1595    0     41.0   40000.0            4\n",
              "2782    1     25.0   43000.0            1\n",
              "2588    1     29.0   59100.0            3\n",
              "1875    0     40.0   49900.0            1"
            ],
            "text/html": [
              "\n",
              "  <div id=\"df-7fbc1e2b-d80d-4e5a-8e11-21fd212129c0\" class=\"colab-df-container\">\n",
              "    <div>\n",
              "<style scoped>\n",
              "    .dataframe tbody tr th:only-of-type {\n",
              "        vertical-align: middle;\n",
              "    }\n",
              "\n",
              "    .dataframe tbody tr th {\n",
              "        vertical-align: top;\n",
              "    }\n",
              "\n",
              "    .dataframe thead th {\n",
              "        text-align: right;\n",
              "    }\n",
              "</style>\n",
              "<table border=\"1\" class=\"dataframe\">\n",
              "  <thead>\n",
              "    <tr style=\"text-align: right;\">\n",
              "      <th></th>\n",
              "      <th>Пол</th>\n",
              "      <th>Возраст</th>\n",
              "      <th>Зарплата</th>\n",
              "      <th>Члены семьи</th>\n",
              "    </tr>\n",
              "  </thead>\n",
              "  <tbody>\n",
              "    <tr>\n",
              "      <th>571</th>\n",
              "      <td>0</td>\n",
              "      <td>32.0</td>\n",
              "      <td>41100.0</td>\n",
              "      <td>1</td>\n",
              "    </tr>\n",
              "    <tr>\n",
              "      <th>1595</th>\n",
              "      <td>0</td>\n",
              "      <td>41.0</td>\n",
              "      <td>40000.0</td>\n",
              "      <td>4</td>\n",
              "    </tr>\n",
              "    <tr>\n",
              "      <th>2782</th>\n",
              "      <td>1</td>\n",
              "      <td>25.0</td>\n",
              "      <td>43000.0</td>\n",
              "      <td>1</td>\n",
              "    </tr>\n",
              "    <tr>\n",
              "      <th>2588</th>\n",
              "      <td>1</td>\n",
              "      <td>29.0</td>\n",
              "      <td>59100.0</td>\n",
              "      <td>3</td>\n",
              "    </tr>\n",
              "    <tr>\n",
              "      <th>1875</th>\n",
              "      <td>0</td>\n",
              "      <td>40.0</td>\n",
              "      <td>49900.0</td>\n",
              "      <td>1</td>\n",
              "    </tr>\n",
              "  </tbody>\n",
              "</table>\n",
              "</div>\n",
              "    <div class=\"colab-df-buttons\">\n",
              "\n",
              "  <div class=\"colab-df-container\">\n",
              "    <button class=\"colab-df-convert\" onclick=\"convertToInteractive('df-7fbc1e2b-d80d-4e5a-8e11-21fd212129c0')\"\n",
              "            title=\"Convert this dataframe to an interactive table.\"\n",
              "            style=\"display:none;\">\n",
              "\n",
              "  <svg xmlns=\"http://www.w3.org/2000/svg\" height=\"24px\" viewBox=\"0 -960 960 960\">\n",
              "    <path d=\"M120-120v-720h720v720H120Zm60-500h600v-160H180v160Zm220 220h160v-160H400v160Zm0 220h160v-160H400v160ZM180-400h160v-160H180v160Zm440 0h160v-160H620v160ZM180-180h160v-160H180v160Zm440 0h160v-160H620v160Z\"/>\n",
              "  </svg>\n",
              "    </button>\n",
              "\n",
              "  <style>\n",
              "    .colab-df-container {\n",
              "      display:flex;\n",
              "      gap: 12px;\n",
              "    }\n",
              "\n",
              "    .colab-df-convert {\n",
              "      background-color: #E8F0FE;\n",
              "      border: none;\n",
              "      border-radius: 50%;\n",
              "      cursor: pointer;\n",
              "      display: none;\n",
              "      fill: #1967D2;\n",
              "      height: 32px;\n",
              "      padding: 0 0 0 0;\n",
              "      width: 32px;\n",
              "    }\n",
              "\n",
              "    .colab-df-convert:hover {\n",
              "      background-color: #E2EBFA;\n",
              "      box-shadow: 0px 1px 2px rgba(60, 64, 67, 0.3), 0px 1px 3px 1px rgba(60, 64, 67, 0.15);\n",
              "      fill: #174EA6;\n",
              "    }\n",
              "\n",
              "    .colab-df-buttons div {\n",
              "      margin-bottom: 4px;\n",
              "    }\n",
              "\n",
              "    [theme=dark] .colab-df-convert {\n",
              "      background-color: #3B4455;\n",
              "      fill: #D2E3FC;\n",
              "    }\n",
              "\n",
              "    [theme=dark] .colab-df-convert:hover {\n",
              "      background-color: #434B5C;\n",
              "      box-shadow: 0px 1px 3px 1px rgba(0, 0, 0, 0.15);\n",
              "      filter: drop-shadow(0px 1px 2px rgba(0, 0, 0, 0.3));\n",
              "      fill: #FFFFFF;\n",
              "    }\n",
              "  </style>\n",
              "\n",
              "    <script>\n",
              "      const buttonEl =\n",
              "        document.querySelector('#df-7fbc1e2b-d80d-4e5a-8e11-21fd212129c0 button.colab-df-convert');\n",
              "      buttonEl.style.display =\n",
              "        google.colab.kernel.accessAllowed ? 'block' : 'none';\n",
              "\n",
              "      async function convertToInteractive(key) {\n",
              "        const element = document.querySelector('#df-7fbc1e2b-d80d-4e5a-8e11-21fd212129c0');\n",
              "        const dataTable =\n",
              "          await google.colab.kernel.invokeFunction('convertToInteractive',\n",
              "                                                    [key], {});\n",
              "        if (!dataTable) return;\n",
              "\n",
              "        const docLinkHtml = 'Like what you see? Visit the ' +\n",
              "          '<a target=\"_blank\" href=https://colab.research.google.com/notebooks/data_table.ipynb>data table notebook</a>'\n",
              "          + ' to learn more about interactive tables.';\n",
              "        element.innerHTML = '';\n",
              "        dataTable['output_type'] = 'display_data';\n",
              "        await google.colab.output.renderOutput(dataTable, element);\n",
              "        const docLink = document.createElement('div');\n",
              "        docLink.innerHTML = docLinkHtml;\n",
              "        element.appendChild(docLink);\n",
              "      }\n",
              "    </script>\n",
              "  </div>\n",
              "\n",
              "\n",
              "<div id=\"df-b051d846-d698-41ad-9574-fa1ff027cd01\">\n",
              "  <button class=\"colab-df-quickchart\" onclick=\"quickchart('df-b051d846-d698-41ad-9574-fa1ff027cd01')\"\n",
              "            title=\"Suggest charts.\"\n",
              "            style=\"display:none;\">\n",
              "\n",
              "<svg xmlns=\"http://www.w3.org/2000/svg\" height=\"24px\"viewBox=\"0 0 24 24\"\n",
              "     width=\"24px\">\n",
              "    <g>\n",
              "        <path d=\"M19 3H5c-1.1 0-2 .9-2 2v14c0 1.1.9 2 2 2h14c1.1 0 2-.9 2-2V5c0-1.1-.9-2-2-2zM9 17H7v-7h2v7zm4 0h-2V7h2v10zm4 0h-2v-4h2v4z\"/>\n",
              "    </g>\n",
              "</svg>\n",
              "  </button>\n",
              "\n",
              "<style>\n",
              "  .colab-df-quickchart {\n",
              "      --bg-color: #E8F0FE;\n",
              "      --fill-color: #1967D2;\n",
              "      --hover-bg-color: #E2EBFA;\n",
              "      --hover-fill-color: #174EA6;\n",
              "      --disabled-fill-color: #AAA;\n",
              "      --disabled-bg-color: #DDD;\n",
              "  }\n",
              "\n",
              "  [theme=dark] .colab-df-quickchart {\n",
              "      --bg-color: #3B4455;\n",
              "      --fill-color: #D2E3FC;\n",
              "      --hover-bg-color: #434B5C;\n",
              "      --hover-fill-color: #FFFFFF;\n",
              "      --disabled-bg-color: #3B4455;\n",
              "      --disabled-fill-color: #666;\n",
              "  }\n",
              "\n",
              "  .colab-df-quickchart {\n",
              "    background-color: var(--bg-color);\n",
              "    border: none;\n",
              "    border-radius: 50%;\n",
              "    cursor: pointer;\n",
              "    display: none;\n",
              "    fill: var(--fill-color);\n",
              "    height: 32px;\n",
              "    padding: 0;\n",
              "    width: 32px;\n",
              "  }\n",
              "\n",
              "  .colab-df-quickchart:hover {\n",
              "    background-color: var(--hover-bg-color);\n",
              "    box-shadow: 0 1px 2px rgba(60, 64, 67, 0.3), 0 1px 3px 1px rgba(60, 64, 67, 0.15);\n",
              "    fill: var(--button-hover-fill-color);\n",
              "  }\n",
              "\n",
              "  .colab-df-quickchart-complete:disabled,\n",
              "  .colab-df-quickchart-complete:disabled:hover {\n",
              "    background-color: var(--disabled-bg-color);\n",
              "    fill: var(--disabled-fill-color);\n",
              "    box-shadow: none;\n",
              "  }\n",
              "\n",
              "  .colab-df-spinner {\n",
              "    border: 2px solid var(--fill-color);\n",
              "    border-color: transparent;\n",
              "    border-bottom-color: var(--fill-color);\n",
              "    animation:\n",
              "      spin 1s steps(1) infinite;\n",
              "  }\n",
              "\n",
              "  @keyframes spin {\n",
              "    0% {\n",
              "      border-color: transparent;\n",
              "      border-bottom-color: var(--fill-color);\n",
              "      border-left-color: var(--fill-color);\n",
              "    }\n",
              "    20% {\n",
              "      border-color: transparent;\n",
              "      border-left-color: var(--fill-color);\n",
              "      border-top-color: var(--fill-color);\n",
              "    }\n",
              "    30% {\n",
              "      border-color: transparent;\n",
              "      border-left-color: var(--fill-color);\n",
              "      border-top-color: var(--fill-color);\n",
              "      border-right-color: var(--fill-color);\n",
              "    }\n",
              "    40% {\n",
              "      border-color: transparent;\n",
              "      border-right-color: var(--fill-color);\n",
              "      border-top-color: var(--fill-color);\n",
              "    }\n",
              "    60% {\n",
              "      border-color: transparent;\n",
              "      border-right-color: var(--fill-color);\n",
              "    }\n",
              "    80% {\n",
              "      border-color: transparent;\n",
              "      border-right-color: var(--fill-color);\n",
              "      border-bottom-color: var(--fill-color);\n",
              "    }\n",
              "    90% {\n",
              "      border-color: transparent;\n",
              "      border-bottom-color: var(--fill-color);\n",
              "    }\n",
              "  }\n",
              "</style>\n",
              "\n",
              "  <script>\n",
              "    async function quickchart(key) {\n",
              "      const quickchartButtonEl =\n",
              "        document.querySelector('#' + key + ' button');\n",
              "      quickchartButtonEl.disabled = true;  // To prevent multiple clicks.\n",
              "      quickchartButtonEl.classList.add('colab-df-spinner');\n",
              "      try {\n",
              "        const charts = await google.colab.kernel.invokeFunction(\n",
              "            'suggestCharts', [key], {});\n",
              "      } catch (error) {\n",
              "        console.error('Error during call to suggestCharts:', error);\n",
              "      }\n",
              "      quickchartButtonEl.classList.remove('colab-df-spinner');\n",
              "      quickchartButtonEl.classList.add('colab-df-quickchart-complete');\n",
              "    }\n",
              "    (() => {\n",
              "      let quickchartButtonEl =\n",
              "        document.querySelector('#df-b051d846-d698-41ad-9574-fa1ff027cd01 button');\n",
              "      quickchartButtonEl.style.display =\n",
              "        google.colab.kernel.accessAllowed ? 'block' : 'none';\n",
              "    })();\n",
              "  </script>\n",
              "</div>\n",
              "    </div>\n",
              "  </div>\n"
            ]
          },
          "metadata": {},
          "execution_count": 42
        }
      ],
      "source": [
        "# перед кодированием выведем первые пять строк датасета features_train\n",
        "features_train.head()"
      ]
    },
    {
      "cell_type": "code",
      "execution_count": null,
      "metadata": {
        "colab": {
          "base_uri": "https://localhost:8080/"
        },
        "id": "8IGQNWMrcWao",
        "outputId": "0076ebb1-05a7-48f8-b0a3-c65e33943b8a"
      },
      "outputs": [
        {
          "output_type": "execute_result",
          "data": {
            "text/plain": [
              "(3635, 4)"
            ]
          },
          "metadata": {},
          "execution_count": 43
        }
      ],
      "source": [
        "# перед кодированием выведем размер датасета features_train\n",
        "features_train.shape"
      ]
    },
    {
      "cell_type": "code",
      "execution_count": null,
      "metadata": {
        "id": "_ZbcL0pDcWao"
      },
      "outputs": [],
      "source": [
        "# закодируем данные датасета с признаками features_train\n",
        "features_train = features_train.dot(matrix)\n",
        "features_train.columns = columns_names"
      ]
    },
    {
      "cell_type": "code",
      "execution_count": null,
      "metadata": {
        "colab": {
          "base_uri": "https://localhost:8080/",
          "height": 206
        },
        "id": "OhFS62qzcWap",
        "outputId": "53f6a29d-eac2-49c1-9237-68e0b8207362"
      },
      "outputs": [
        {
          "output_type": "execute_result",
          "data": {
            "text/plain": [
              "                Пол       Возраст      Зарплата    Члены семьи\n",
              "571   694485.748834  1.244662e+06  1.368591e+06  460414.877384\n",
              "1595  676346.837397  1.211633e+06  1.332295e+06  448348.965402\n",
              "2782  726336.841417  1.302036e+06  1.431673e+06  481548.944952\n",
              "2588  998152.401875  1.789440e+06  1.967620e+06  661765.687843\n",
              "1875  843214.941771  1.511181e+06  1.661645e+06  559014.129758"
            ],
            "text/html": [
              "\n",
              "  <div id=\"df-1bbbb9c5-d474-4605-950e-9b9b56427b32\" class=\"colab-df-container\">\n",
              "    <div>\n",
              "<style scoped>\n",
              "    .dataframe tbody tr th:only-of-type {\n",
              "        vertical-align: middle;\n",
              "    }\n",
              "\n",
              "    .dataframe tbody tr th {\n",
              "        vertical-align: top;\n",
              "    }\n",
              "\n",
              "    .dataframe thead th {\n",
              "        text-align: right;\n",
              "    }\n",
              "</style>\n",
              "<table border=\"1\" class=\"dataframe\">\n",
              "  <thead>\n",
              "    <tr style=\"text-align: right;\">\n",
              "      <th></th>\n",
              "      <th>Пол</th>\n",
              "      <th>Возраст</th>\n",
              "      <th>Зарплата</th>\n",
              "      <th>Члены семьи</th>\n",
              "    </tr>\n",
              "  </thead>\n",
              "  <tbody>\n",
              "    <tr>\n",
              "      <th>571</th>\n",
              "      <td>694485.748834</td>\n",
              "      <td>1.244662e+06</td>\n",
              "      <td>1.368591e+06</td>\n",
              "      <td>460414.877384</td>\n",
              "    </tr>\n",
              "    <tr>\n",
              "      <th>1595</th>\n",
              "      <td>676346.837397</td>\n",
              "      <td>1.211633e+06</td>\n",
              "      <td>1.332295e+06</td>\n",
              "      <td>448348.965402</td>\n",
              "    </tr>\n",
              "    <tr>\n",
              "      <th>2782</th>\n",
              "      <td>726336.841417</td>\n",
              "      <td>1.302036e+06</td>\n",
              "      <td>1.431673e+06</td>\n",
              "      <td>481548.944952</td>\n",
              "    </tr>\n",
              "    <tr>\n",
              "      <th>2588</th>\n",
              "      <td>998152.401875</td>\n",
              "      <td>1.789440e+06</td>\n",
              "      <td>1.967620e+06</td>\n",
              "      <td>661765.687843</td>\n",
              "    </tr>\n",
              "    <tr>\n",
              "      <th>1875</th>\n",
              "      <td>843214.941771</td>\n",
              "      <td>1.511181e+06</td>\n",
              "      <td>1.661645e+06</td>\n",
              "      <td>559014.129758</td>\n",
              "    </tr>\n",
              "  </tbody>\n",
              "</table>\n",
              "</div>\n",
              "    <div class=\"colab-df-buttons\">\n",
              "\n",
              "  <div class=\"colab-df-container\">\n",
              "    <button class=\"colab-df-convert\" onclick=\"convertToInteractive('df-1bbbb9c5-d474-4605-950e-9b9b56427b32')\"\n",
              "            title=\"Convert this dataframe to an interactive table.\"\n",
              "            style=\"display:none;\">\n",
              "\n",
              "  <svg xmlns=\"http://www.w3.org/2000/svg\" height=\"24px\" viewBox=\"0 -960 960 960\">\n",
              "    <path d=\"M120-120v-720h720v720H120Zm60-500h600v-160H180v160Zm220 220h160v-160H400v160Zm0 220h160v-160H400v160ZM180-400h160v-160H180v160Zm440 0h160v-160H620v160ZM180-180h160v-160H180v160Zm440 0h160v-160H620v160Z\"/>\n",
              "  </svg>\n",
              "    </button>\n",
              "\n",
              "  <style>\n",
              "    .colab-df-container {\n",
              "      display:flex;\n",
              "      gap: 12px;\n",
              "    }\n",
              "\n",
              "    .colab-df-convert {\n",
              "      background-color: #E8F0FE;\n",
              "      border: none;\n",
              "      border-radius: 50%;\n",
              "      cursor: pointer;\n",
              "      display: none;\n",
              "      fill: #1967D2;\n",
              "      height: 32px;\n",
              "      padding: 0 0 0 0;\n",
              "      width: 32px;\n",
              "    }\n",
              "\n",
              "    .colab-df-convert:hover {\n",
              "      background-color: #E2EBFA;\n",
              "      box-shadow: 0px 1px 2px rgba(60, 64, 67, 0.3), 0px 1px 3px 1px rgba(60, 64, 67, 0.15);\n",
              "      fill: #174EA6;\n",
              "    }\n",
              "\n",
              "    .colab-df-buttons div {\n",
              "      margin-bottom: 4px;\n",
              "    }\n",
              "\n",
              "    [theme=dark] .colab-df-convert {\n",
              "      background-color: #3B4455;\n",
              "      fill: #D2E3FC;\n",
              "    }\n",
              "\n",
              "    [theme=dark] .colab-df-convert:hover {\n",
              "      background-color: #434B5C;\n",
              "      box-shadow: 0px 1px 3px 1px rgba(0, 0, 0, 0.15);\n",
              "      filter: drop-shadow(0px 1px 2px rgba(0, 0, 0, 0.3));\n",
              "      fill: #FFFFFF;\n",
              "    }\n",
              "  </style>\n",
              "\n",
              "    <script>\n",
              "      const buttonEl =\n",
              "        document.querySelector('#df-1bbbb9c5-d474-4605-950e-9b9b56427b32 button.colab-df-convert');\n",
              "      buttonEl.style.display =\n",
              "        google.colab.kernel.accessAllowed ? 'block' : 'none';\n",
              "\n",
              "      async function convertToInteractive(key) {\n",
              "        const element = document.querySelector('#df-1bbbb9c5-d474-4605-950e-9b9b56427b32');\n",
              "        const dataTable =\n",
              "          await google.colab.kernel.invokeFunction('convertToInteractive',\n",
              "                                                    [key], {});\n",
              "        if (!dataTable) return;\n",
              "\n",
              "        const docLinkHtml = 'Like what you see? Visit the ' +\n",
              "          '<a target=\"_blank\" href=https://colab.research.google.com/notebooks/data_table.ipynb>data table notebook</a>'\n",
              "          + ' to learn more about interactive tables.';\n",
              "        element.innerHTML = '';\n",
              "        dataTable['output_type'] = 'display_data';\n",
              "        await google.colab.output.renderOutput(dataTable, element);\n",
              "        const docLink = document.createElement('div');\n",
              "        docLink.innerHTML = docLinkHtml;\n",
              "        element.appendChild(docLink);\n",
              "      }\n",
              "    </script>\n",
              "  </div>\n",
              "\n",
              "\n",
              "<div id=\"df-96da0207-3665-40a3-9df0-db08192f6f50\">\n",
              "  <button class=\"colab-df-quickchart\" onclick=\"quickchart('df-96da0207-3665-40a3-9df0-db08192f6f50')\"\n",
              "            title=\"Suggest charts.\"\n",
              "            style=\"display:none;\">\n",
              "\n",
              "<svg xmlns=\"http://www.w3.org/2000/svg\" height=\"24px\"viewBox=\"0 0 24 24\"\n",
              "     width=\"24px\">\n",
              "    <g>\n",
              "        <path d=\"M19 3H5c-1.1 0-2 .9-2 2v14c0 1.1.9 2 2 2h14c1.1 0 2-.9 2-2V5c0-1.1-.9-2-2-2zM9 17H7v-7h2v7zm4 0h-2V7h2v10zm4 0h-2v-4h2v4z\"/>\n",
              "    </g>\n",
              "</svg>\n",
              "  </button>\n",
              "\n",
              "<style>\n",
              "  .colab-df-quickchart {\n",
              "      --bg-color: #E8F0FE;\n",
              "      --fill-color: #1967D2;\n",
              "      --hover-bg-color: #E2EBFA;\n",
              "      --hover-fill-color: #174EA6;\n",
              "      --disabled-fill-color: #AAA;\n",
              "      --disabled-bg-color: #DDD;\n",
              "  }\n",
              "\n",
              "  [theme=dark] .colab-df-quickchart {\n",
              "      --bg-color: #3B4455;\n",
              "      --fill-color: #D2E3FC;\n",
              "      --hover-bg-color: #434B5C;\n",
              "      --hover-fill-color: #FFFFFF;\n",
              "      --disabled-bg-color: #3B4455;\n",
              "      --disabled-fill-color: #666;\n",
              "  }\n",
              "\n",
              "  .colab-df-quickchart {\n",
              "    background-color: var(--bg-color);\n",
              "    border: none;\n",
              "    border-radius: 50%;\n",
              "    cursor: pointer;\n",
              "    display: none;\n",
              "    fill: var(--fill-color);\n",
              "    height: 32px;\n",
              "    padding: 0;\n",
              "    width: 32px;\n",
              "  }\n",
              "\n",
              "  .colab-df-quickchart:hover {\n",
              "    background-color: var(--hover-bg-color);\n",
              "    box-shadow: 0 1px 2px rgba(60, 64, 67, 0.3), 0 1px 3px 1px rgba(60, 64, 67, 0.15);\n",
              "    fill: var(--button-hover-fill-color);\n",
              "  }\n",
              "\n",
              "  .colab-df-quickchart-complete:disabled,\n",
              "  .colab-df-quickchart-complete:disabled:hover {\n",
              "    background-color: var(--disabled-bg-color);\n",
              "    fill: var(--disabled-fill-color);\n",
              "    box-shadow: none;\n",
              "  }\n",
              "\n",
              "  .colab-df-spinner {\n",
              "    border: 2px solid var(--fill-color);\n",
              "    border-color: transparent;\n",
              "    border-bottom-color: var(--fill-color);\n",
              "    animation:\n",
              "      spin 1s steps(1) infinite;\n",
              "  }\n",
              "\n",
              "  @keyframes spin {\n",
              "    0% {\n",
              "      border-color: transparent;\n",
              "      border-bottom-color: var(--fill-color);\n",
              "      border-left-color: var(--fill-color);\n",
              "    }\n",
              "    20% {\n",
              "      border-color: transparent;\n",
              "      border-left-color: var(--fill-color);\n",
              "      border-top-color: var(--fill-color);\n",
              "    }\n",
              "    30% {\n",
              "      border-color: transparent;\n",
              "      border-left-color: var(--fill-color);\n",
              "      border-top-color: var(--fill-color);\n",
              "      border-right-color: var(--fill-color);\n",
              "    }\n",
              "    40% {\n",
              "      border-color: transparent;\n",
              "      border-right-color: var(--fill-color);\n",
              "      border-top-color: var(--fill-color);\n",
              "    }\n",
              "    60% {\n",
              "      border-color: transparent;\n",
              "      border-right-color: var(--fill-color);\n",
              "    }\n",
              "    80% {\n",
              "      border-color: transparent;\n",
              "      border-right-color: var(--fill-color);\n",
              "      border-bottom-color: var(--fill-color);\n",
              "    }\n",
              "    90% {\n",
              "      border-color: transparent;\n",
              "      border-bottom-color: var(--fill-color);\n",
              "    }\n",
              "  }\n",
              "</style>\n",
              "\n",
              "  <script>\n",
              "    async function quickchart(key) {\n",
              "      const quickchartButtonEl =\n",
              "        document.querySelector('#' + key + ' button');\n",
              "      quickchartButtonEl.disabled = true;  // To prevent multiple clicks.\n",
              "      quickchartButtonEl.classList.add('colab-df-spinner');\n",
              "      try {\n",
              "        const charts = await google.colab.kernel.invokeFunction(\n",
              "            'suggestCharts', [key], {});\n",
              "      } catch (error) {\n",
              "        console.error('Error during call to suggestCharts:', error);\n",
              "      }\n",
              "      quickchartButtonEl.classList.remove('colab-df-spinner');\n",
              "      quickchartButtonEl.classList.add('colab-df-quickchart-complete');\n",
              "    }\n",
              "    (() => {\n",
              "      let quickchartButtonEl =\n",
              "        document.querySelector('#df-96da0207-3665-40a3-9df0-db08192f6f50 button');\n",
              "      quickchartButtonEl.style.display =\n",
              "        google.colab.kernel.accessAllowed ? 'block' : 'none';\n",
              "    })();\n",
              "  </script>\n",
              "</div>\n",
              "    </div>\n",
              "  </div>\n"
            ]
          },
          "metadata": {},
          "execution_count": 45
        }
      ],
      "source": [
        "# выведем первые пять строк закодированного датасета features_train\n",
        "features_train.head()"
      ]
    },
    {
      "cell_type": "code",
      "execution_count": null,
      "metadata": {
        "colab": {
          "base_uri": "https://localhost:8080/"
        },
        "id": "x24SLvOHdZ15",
        "outputId": "674e1035-eea8-48c9-bcac-6c0fefb30c82"
      },
      "outputs": [
        {
          "output_type": "execute_result",
          "data": {
            "text/plain": [
              "(3635, 4)"
            ]
          },
          "metadata": {},
          "execution_count": 46
        }
      ],
      "source": [
        "# после кодирования выведем размер датасета features_train\n",
        "features_train.shape"
      ]
    },
    {
      "cell_type": "code",
      "execution_count": null,
      "metadata": {
        "colab": {
          "base_uri": "https://localhost:8080/",
          "height": 206
        },
        "id": "g7cXDOVqcWaq",
        "outputId": "f844e36c-f1ec-4375-c1c7-fbccef993f4d"
      },
      "outputs": [
        {
          "output_type": "execute_result",
          "data": {
            "text/plain": [
              "      Пол  Возраст  Зарплата  Члены семьи\n",
              "917     0     24.0   35300.0            2\n",
              "1739    1     27.0   49700.0            1\n",
              "4850    0     19.0   42000.0            2\n",
              "2836    0     18.0   19100.0            0\n",
              "4419    1     32.0   18700.0            0"
            ],
            "text/html": [
              "\n",
              "  <div id=\"df-87b28813-0cf8-48c2-aed3-f1b10ad5f78d\" class=\"colab-df-container\">\n",
              "    <div>\n",
              "<style scoped>\n",
              "    .dataframe tbody tr th:only-of-type {\n",
              "        vertical-align: middle;\n",
              "    }\n",
              "\n",
              "    .dataframe tbody tr th {\n",
              "        vertical-align: top;\n",
              "    }\n",
              "\n",
              "    .dataframe thead th {\n",
              "        text-align: right;\n",
              "    }\n",
              "</style>\n",
              "<table border=\"1\" class=\"dataframe\">\n",
              "  <thead>\n",
              "    <tr style=\"text-align: right;\">\n",
              "      <th></th>\n",
              "      <th>Пол</th>\n",
              "      <th>Возраст</th>\n",
              "      <th>Зарплата</th>\n",
              "      <th>Члены семьи</th>\n",
              "    </tr>\n",
              "  </thead>\n",
              "  <tbody>\n",
              "    <tr>\n",
              "      <th>917</th>\n",
              "      <td>0</td>\n",
              "      <td>24.0</td>\n",
              "      <td>35300.0</td>\n",
              "      <td>2</td>\n",
              "    </tr>\n",
              "    <tr>\n",
              "      <th>1739</th>\n",
              "      <td>1</td>\n",
              "      <td>27.0</td>\n",
              "      <td>49700.0</td>\n",
              "      <td>1</td>\n",
              "    </tr>\n",
              "    <tr>\n",
              "      <th>4850</th>\n",
              "      <td>0</td>\n",
              "      <td>19.0</td>\n",
              "      <td>42000.0</td>\n",
              "      <td>2</td>\n",
              "    </tr>\n",
              "    <tr>\n",
              "      <th>2836</th>\n",
              "      <td>0</td>\n",
              "      <td>18.0</td>\n",
              "      <td>19100.0</td>\n",
              "      <td>0</td>\n",
              "    </tr>\n",
              "    <tr>\n",
              "      <th>4419</th>\n",
              "      <td>1</td>\n",
              "      <td>32.0</td>\n",
              "      <td>18700.0</td>\n",
              "      <td>0</td>\n",
              "    </tr>\n",
              "  </tbody>\n",
              "</table>\n",
              "</div>\n",
              "    <div class=\"colab-df-buttons\">\n",
              "\n",
              "  <div class=\"colab-df-container\">\n",
              "    <button class=\"colab-df-convert\" onclick=\"convertToInteractive('df-87b28813-0cf8-48c2-aed3-f1b10ad5f78d')\"\n",
              "            title=\"Convert this dataframe to an interactive table.\"\n",
              "            style=\"display:none;\">\n",
              "\n",
              "  <svg xmlns=\"http://www.w3.org/2000/svg\" height=\"24px\" viewBox=\"0 -960 960 960\">\n",
              "    <path d=\"M120-120v-720h720v720H120Zm60-500h600v-160H180v160Zm220 220h160v-160H400v160Zm0 220h160v-160H400v160ZM180-400h160v-160H180v160Zm440 0h160v-160H620v160ZM180-180h160v-160H180v160Zm440 0h160v-160H620v160Z\"/>\n",
              "  </svg>\n",
              "    </button>\n",
              "\n",
              "  <style>\n",
              "    .colab-df-container {\n",
              "      display:flex;\n",
              "      gap: 12px;\n",
              "    }\n",
              "\n",
              "    .colab-df-convert {\n",
              "      background-color: #E8F0FE;\n",
              "      border: none;\n",
              "      border-radius: 50%;\n",
              "      cursor: pointer;\n",
              "      display: none;\n",
              "      fill: #1967D2;\n",
              "      height: 32px;\n",
              "      padding: 0 0 0 0;\n",
              "      width: 32px;\n",
              "    }\n",
              "\n",
              "    .colab-df-convert:hover {\n",
              "      background-color: #E2EBFA;\n",
              "      box-shadow: 0px 1px 2px rgba(60, 64, 67, 0.3), 0px 1px 3px 1px rgba(60, 64, 67, 0.15);\n",
              "      fill: #174EA6;\n",
              "    }\n",
              "\n",
              "    .colab-df-buttons div {\n",
              "      margin-bottom: 4px;\n",
              "    }\n",
              "\n",
              "    [theme=dark] .colab-df-convert {\n",
              "      background-color: #3B4455;\n",
              "      fill: #D2E3FC;\n",
              "    }\n",
              "\n",
              "    [theme=dark] .colab-df-convert:hover {\n",
              "      background-color: #434B5C;\n",
              "      box-shadow: 0px 1px 3px 1px rgba(0, 0, 0, 0.15);\n",
              "      filter: drop-shadow(0px 1px 2px rgba(0, 0, 0, 0.3));\n",
              "      fill: #FFFFFF;\n",
              "    }\n",
              "  </style>\n",
              "\n",
              "    <script>\n",
              "      const buttonEl =\n",
              "        document.querySelector('#df-87b28813-0cf8-48c2-aed3-f1b10ad5f78d button.colab-df-convert');\n",
              "      buttonEl.style.display =\n",
              "        google.colab.kernel.accessAllowed ? 'block' : 'none';\n",
              "\n",
              "      async function convertToInteractive(key) {\n",
              "        const element = document.querySelector('#df-87b28813-0cf8-48c2-aed3-f1b10ad5f78d');\n",
              "        const dataTable =\n",
              "          await google.colab.kernel.invokeFunction('convertToInteractive',\n",
              "                                                    [key], {});\n",
              "        if (!dataTable) return;\n",
              "\n",
              "        const docLinkHtml = 'Like what you see? Visit the ' +\n",
              "          '<a target=\"_blank\" href=https://colab.research.google.com/notebooks/data_table.ipynb>data table notebook</a>'\n",
              "          + ' to learn more about interactive tables.';\n",
              "        element.innerHTML = '';\n",
              "        dataTable['output_type'] = 'display_data';\n",
              "        await google.colab.output.renderOutput(dataTable, element);\n",
              "        const docLink = document.createElement('div');\n",
              "        docLink.innerHTML = docLinkHtml;\n",
              "        element.appendChild(docLink);\n",
              "      }\n",
              "    </script>\n",
              "  </div>\n",
              "\n",
              "\n",
              "<div id=\"df-3767868a-8f6c-4dad-ad02-1b07bbf02f7f\">\n",
              "  <button class=\"colab-df-quickchart\" onclick=\"quickchart('df-3767868a-8f6c-4dad-ad02-1b07bbf02f7f')\"\n",
              "            title=\"Suggest charts.\"\n",
              "            style=\"display:none;\">\n",
              "\n",
              "<svg xmlns=\"http://www.w3.org/2000/svg\" height=\"24px\"viewBox=\"0 0 24 24\"\n",
              "     width=\"24px\">\n",
              "    <g>\n",
              "        <path d=\"M19 3H5c-1.1 0-2 .9-2 2v14c0 1.1.9 2 2 2h14c1.1 0 2-.9 2-2V5c0-1.1-.9-2-2-2zM9 17H7v-7h2v7zm4 0h-2V7h2v10zm4 0h-2v-4h2v4z\"/>\n",
              "    </g>\n",
              "</svg>\n",
              "  </button>\n",
              "\n",
              "<style>\n",
              "  .colab-df-quickchart {\n",
              "      --bg-color: #E8F0FE;\n",
              "      --fill-color: #1967D2;\n",
              "      --hover-bg-color: #E2EBFA;\n",
              "      --hover-fill-color: #174EA6;\n",
              "      --disabled-fill-color: #AAA;\n",
              "      --disabled-bg-color: #DDD;\n",
              "  }\n",
              "\n",
              "  [theme=dark] .colab-df-quickchart {\n",
              "      --bg-color: #3B4455;\n",
              "      --fill-color: #D2E3FC;\n",
              "      --hover-bg-color: #434B5C;\n",
              "      --hover-fill-color: #FFFFFF;\n",
              "      --disabled-bg-color: #3B4455;\n",
              "      --disabled-fill-color: #666;\n",
              "  }\n",
              "\n",
              "  .colab-df-quickchart {\n",
              "    background-color: var(--bg-color);\n",
              "    border: none;\n",
              "    border-radius: 50%;\n",
              "    cursor: pointer;\n",
              "    display: none;\n",
              "    fill: var(--fill-color);\n",
              "    height: 32px;\n",
              "    padding: 0;\n",
              "    width: 32px;\n",
              "  }\n",
              "\n",
              "  .colab-df-quickchart:hover {\n",
              "    background-color: var(--hover-bg-color);\n",
              "    box-shadow: 0 1px 2px rgba(60, 64, 67, 0.3), 0 1px 3px 1px rgba(60, 64, 67, 0.15);\n",
              "    fill: var(--button-hover-fill-color);\n",
              "  }\n",
              "\n",
              "  .colab-df-quickchart-complete:disabled,\n",
              "  .colab-df-quickchart-complete:disabled:hover {\n",
              "    background-color: var(--disabled-bg-color);\n",
              "    fill: var(--disabled-fill-color);\n",
              "    box-shadow: none;\n",
              "  }\n",
              "\n",
              "  .colab-df-spinner {\n",
              "    border: 2px solid var(--fill-color);\n",
              "    border-color: transparent;\n",
              "    border-bottom-color: var(--fill-color);\n",
              "    animation:\n",
              "      spin 1s steps(1) infinite;\n",
              "  }\n",
              "\n",
              "  @keyframes spin {\n",
              "    0% {\n",
              "      border-color: transparent;\n",
              "      border-bottom-color: var(--fill-color);\n",
              "      border-left-color: var(--fill-color);\n",
              "    }\n",
              "    20% {\n",
              "      border-color: transparent;\n",
              "      border-left-color: var(--fill-color);\n",
              "      border-top-color: var(--fill-color);\n",
              "    }\n",
              "    30% {\n",
              "      border-color: transparent;\n",
              "      border-left-color: var(--fill-color);\n",
              "      border-top-color: var(--fill-color);\n",
              "      border-right-color: var(--fill-color);\n",
              "    }\n",
              "    40% {\n",
              "      border-color: transparent;\n",
              "      border-right-color: var(--fill-color);\n",
              "      border-top-color: var(--fill-color);\n",
              "    }\n",
              "    60% {\n",
              "      border-color: transparent;\n",
              "      border-right-color: var(--fill-color);\n",
              "    }\n",
              "    80% {\n",
              "      border-color: transparent;\n",
              "      border-right-color: var(--fill-color);\n",
              "      border-bottom-color: var(--fill-color);\n",
              "    }\n",
              "    90% {\n",
              "      border-color: transparent;\n",
              "      border-bottom-color: var(--fill-color);\n",
              "    }\n",
              "  }\n",
              "</style>\n",
              "\n",
              "  <script>\n",
              "    async function quickchart(key) {\n",
              "      const quickchartButtonEl =\n",
              "        document.querySelector('#' + key + ' button');\n",
              "      quickchartButtonEl.disabled = true;  // To prevent multiple clicks.\n",
              "      quickchartButtonEl.classList.add('colab-df-spinner');\n",
              "      try {\n",
              "        const charts = await google.colab.kernel.invokeFunction(\n",
              "            'suggestCharts', [key], {});\n",
              "      } catch (error) {\n",
              "        console.error('Error during call to suggestCharts:', error);\n",
              "      }\n",
              "      quickchartButtonEl.classList.remove('colab-df-spinner');\n",
              "      quickchartButtonEl.classList.add('colab-df-quickchart-complete');\n",
              "    }\n",
              "    (() => {\n",
              "      let quickchartButtonEl =\n",
              "        document.querySelector('#df-3767868a-8f6c-4dad-ad02-1b07bbf02f7f button');\n",
              "      quickchartButtonEl.style.display =\n",
              "        google.colab.kernel.accessAllowed ? 'block' : 'none';\n",
              "    })();\n",
              "  </script>\n",
              "</div>\n",
              "    </div>\n",
              "  </div>\n"
            ]
          },
          "metadata": {},
          "execution_count": 47
        }
      ],
      "source": [
        "# перед кодированием выведем первые пять строк датасета features_test\n",
        "features_test.head()"
      ]
    },
    {
      "cell_type": "code",
      "execution_count": null,
      "metadata": {
        "colab": {
          "base_uri": "https://localhost:8080/"
        },
        "id": "a4HvKPu8eccB",
        "outputId": "d3990297-f6b7-4162-b3ad-be83a63f2b75"
      },
      "outputs": [
        {
          "output_type": "execute_result",
          "data": {
            "text/plain": [
              "(1212, 4)"
            ]
          },
          "metadata": {},
          "execution_count": 48
        }
      ],
      "source": [
        "# перед кодированием выведем размер датасета features_test\n",
        "features_test.shape"
      ]
    },
    {
      "cell_type": "code",
      "execution_count": null,
      "metadata": {
        "id": "MoJNgl6PcWaq"
      },
      "outputs": [],
      "source": [
        "# закодируем данные датасета с признаками features_test\n",
        "features_test = features_test.dot(matrix)\n",
        "features_test.columns = columns_names"
      ]
    },
    {
      "cell_type": "code",
      "execution_count": null,
      "metadata": {
        "colab": {
          "base_uri": "https://localhost:8080/",
          "height": 206
        },
        "id": "MLCMD_T2cWar",
        "outputId": "c84252e9-9a59-4ed5-eb53-9e1bc8e18f0a"
      },
      "outputs": [
        {
          "output_type": "execute_result",
          "data": {
            "text/plain": [
              "                Пол       Возраст      Зарплата    Члены семьи\n",
              "917   596402.817455  1.068958e+06  1.175402e+06  395393.539720\n",
              "1739  839433.698237  1.504861e+06  1.654691e+06  556536.616428\n",
              "4850  709259.875149  1.271623e+06  1.398246e+06  470240.534156\n",
              "2836  322831.752770  5.784824e+05  6.360767e+05  214017.984314\n",
              "4419  316601.468345  5.667263e+05  6.231421e+05  209845.844272"
            ],
            "text/html": [
              "\n",
              "  <div id=\"df-f34548c2-2a2c-43a7-8848-cfe21f07b4dd\" class=\"colab-df-container\">\n",
              "    <div>\n",
              "<style scoped>\n",
              "    .dataframe tbody tr th:only-of-type {\n",
              "        vertical-align: middle;\n",
              "    }\n",
              "\n",
              "    .dataframe tbody tr th {\n",
              "        vertical-align: top;\n",
              "    }\n",
              "\n",
              "    .dataframe thead th {\n",
              "        text-align: right;\n",
              "    }\n",
              "</style>\n",
              "<table border=\"1\" class=\"dataframe\">\n",
              "  <thead>\n",
              "    <tr style=\"text-align: right;\">\n",
              "      <th></th>\n",
              "      <th>Пол</th>\n",
              "      <th>Возраст</th>\n",
              "      <th>Зарплата</th>\n",
              "      <th>Члены семьи</th>\n",
              "    </tr>\n",
              "  </thead>\n",
              "  <tbody>\n",
              "    <tr>\n",
              "      <th>917</th>\n",
              "      <td>596402.817455</td>\n",
              "      <td>1.068958e+06</td>\n",
              "      <td>1.175402e+06</td>\n",
              "      <td>395393.539720</td>\n",
              "    </tr>\n",
              "    <tr>\n",
              "      <th>1739</th>\n",
              "      <td>839433.698237</td>\n",
              "      <td>1.504861e+06</td>\n",
              "      <td>1.654691e+06</td>\n",
              "      <td>556536.616428</td>\n",
              "    </tr>\n",
              "    <tr>\n",
              "      <th>4850</th>\n",
              "      <td>709259.875149</td>\n",
              "      <td>1.271623e+06</td>\n",
              "      <td>1.398246e+06</td>\n",
              "      <td>470240.534156</td>\n",
              "    </tr>\n",
              "    <tr>\n",
              "      <th>2836</th>\n",
              "      <td>322831.752770</td>\n",
              "      <td>5.784824e+05</td>\n",
              "      <td>6.360767e+05</td>\n",
              "      <td>214017.984314</td>\n",
              "    </tr>\n",
              "    <tr>\n",
              "      <th>4419</th>\n",
              "      <td>316601.468345</td>\n",
              "      <td>5.667263e+05</td>\n",
              "      <td>6.231421e+05</td>\n",
              "      <td>209845.844272</td>\n",
              "    </tr>\n",
              "  </tbody>\n",
              "</table>\n",
              "</div>\n",
              "    <div class=\"colab-df-buttons\">\n",
              "\n",
              "  <div class=\"colab-df-container\">\n",
              "    <button class=\"colab-df-convert\" onclick=\"convertToInteractive('df-f34548c2-2a2c-43a7-8848-cfe21f07b4dd')\"\n",
              "            title=\"Convert this dataframe to an interactive table.\"\n",
              "            style=\"display:none;\">\n",
              "\n",
              "  <svg xmlns=\"http://www.w3.org/2000/svg\" height=\"24px\" viewBox=\"0 -960 960 960\">\n",
              "    <path d=\"M120-120v-720h720v720H120Zm60-500h600v-160H180v160Zm220 220h160v-160H400v160Zm0 220h160v-160H400v160ZM180-400h160v-160H180v160Zm440 0h160v-160H620v160ZM180-180h160v-160H180v160Zm440 0h160v-160H620v160Z\"/>\n",
              "  </svg>\n",
              "    </button>\n",
              "\n",
              "  <style>\n",
              "    .colab-df-container {\n",
              "      display:flex;\n",
              "      gap: 12px;\n",
              "    }\n",
              "\n",
              "    .colab-df-convert {\n",
              "      background-color: #E8F0FE;\n",
              "      border: none;\n",
              "      border-radius: 50%;\n",
              "      cursor: pointer;\n",
              "      display: none;\n",
              "      fill: #1967D2;\n",
              "      height: 32px;\n",
              "      padding: 0 0 0 0;\n",
              "      width: 32px;\n",
              "    }\n",
              "\n",
              "    .colab-df-convert:hover {\n",
              "      background-color: #E2EBFA;\n",
              "      box-shadow: 0px 1px 2px rgba(60, 64, 67, 0.3), 0px 1px 3px 1px rgba(60, 64, 67, 0.15);\n",
              "      fill: #174EA6;\n",
              "    }\n",
              "\n",
              "    .colab-df-buttons div {\n",
              "      margin-bottom: 4px;\n",
              "    }\n",
              "\n",
              "    [theme=dark] .colab-df-convert {\n",
              "      background-color: #3B4455;\n",
              "      fill: #D2E3FC;\n",
              "    }\n",
              "\n",
              "    [theme=dark] .colab-df-convert:hover {\n",
              "      background-color: #434B5C;\n",
              "      box-shadow: 0px 1px 3px 1px rgba(0, 0, 0, 0.15);\n",
              "      filter: drop-shadow(0px 1px 2px rgba(0, 0, 0, 0.3));\n",
              "      fill: #FFFFFF;\n",
              "    }\n",
              "  </style>\n",
              "\n",
              "    <script>\n",
              "      const buttonEl =\n",
              "        document.querySelector('#df-f34548c2-2a2c-43a7-8848-cfe21f07b4dd button.colab-df-convert');\n",
              "      buttonEl.style.display =\n",
              "        google.colab.kernel.accessAllowed ? 'block' : 'none';\n",
              "\n",
              "      async function convertToInteractive(key) {\n",
              "        const element = document.querySelector('#df-f34548c2-2a2c-43a7-8848-cfe21f07b4dd');\n",
              "        const dataTable =\n",
              "          await google.colab.kernel.invokeFunction('convertToInteractive',\n",
              "                                                    [key], {});\n",
              "        if (!dataTable) return;\n",
              "\n",
              "        const docLinkHtml = 'Like what you see? Visit the ' +\n",
              "          '<a target=\"_blank\" href=https://colab.research.google.com/notebooks/data_table.ipynb>data table notebook</a>'\n",
              "          + ' to learn more about interactive tables.';\n",
              "        element.innerHTML = '';\n",
              "        dataTable['output_type'] = 'display_data';\n",
              "        await google.colab.output.renderOutput(dataTable, element);\n",
              "        const docLink = document.createElement('div');\n",
              "        docLink.innerHTML = docLinkHtml;\n",
              "        element.appendChild(docLink);\n",
              "      }\n",
              "    </script>\n",
              "  </div>\n",
              "\n",
              "\n",
              "<div id=\"df-78139d73-be66-4178-9525-92b5e1bbc797\">\n",
              "  <button class=\"colab-df-quickchart\" onclick=\"quickchart('df-78139d73-be66-4178-9525-92b5e1bbc797')\"\n",
              "            title=\"Suggest charts.\"\n",
              "            style=\"display:none;\">\n",
              "\n",
              "<svg xmlns=\"http://www.w3.org/2000/svg\" height=\"24px\"viewBox=\"0 0 24 24\"\n",
              "     width=\"24px\">\n",
              "    <g>\n",
              "        <path d=\"M19 3H5c-1.1 0-2 .9-2 2v14c0 1.1.9 2 2 2h14c1.1 0 2-.9 2-2V5c0-1.1-.9-2-2-2zM9 17H7v-7h2v7zm4 0h-2V7h2v10zm4 0h-2v-4h2v4z\"/>\n",
              "    </g>\n",
              "</svg>\n",
              "  </button>\n",
              "\n",
              "<style>\n",
              "  .colab-df-quickchart {\n",
              "      --bg-color: #E8F0FE;\n",
              "      --fill-color: #1967D2;\n",
              "      --hover-bg-color: #E2EBFA;\n",
              "      --hover-fill-color: #174EA6;\n",
              "      --disabled-fill-color: #AAA;\n",
              "      --disabled-bg-color: #DDD;\n",
              "  }\n",
              "\n",
              "  [theme=dark] .colab-df-quickchart {\n",
              "      --bg-color: #3B4455;\n",
              "      --fill-color: #D2E3FC;\n",
              "      --hover-bg-color: #434B5C;\n",
              "      --hover-fill-color: #FFFFFF;\n",
              "      --disabled-bg-color: #3B4455;\n",
              "      --disabled-fill-color: #666;\n",
              "  }\n",
              "\n",
              "  .colab-df-quickchart {\n",
              "    background-color: var(--bg-color);\n",
              "    border: none;\n",
              "    border-radius: 50%;\n",
              "    cursor: pointer;\n",
              "    display: none;\n",
              "    fill: var(--fill-color);\n",
              "    height: 32px;\n",
              "    padding: 0;\n",
              "    width: 32px;\n",
              "  }\n",
              "\n",
              "  .colab-df-quickchart:hover {\n",
              "    background-color: var(--hover-bg-color);\n",
              "    box-shadow: 0 1px 2px rgba(60, 64, 67, 0.3), 0 1px 3px 1px rgba(60, 64, 67, 0.15);\n",
              "    fill: var(--button-hover-fill-color);\n",
              "  }\n",
              "\n",
              "  .colab-df-quickchart-complete:disabled,\n",
              "  .colab-df-quickchart-complete:disabled:hover {\n",
              "    background-color: var(--disabled-bg-color);\n",
              "    fill: var(--disabled-fill-color);\n",
              "    box-shadow: none;\n",
              "  }\n",
              "\n",
              "  .colab-df-spinner {\n",
              "    border: 2px solid var(--fill-color);\n",
              "    border-color: transparent;\n",
              "    border-bottom-color: var(--fill-color);\n",
              "    animation:\n",
              "      spin 1s steps(1) infinite;\n",
              "  }\n",
              "\n",
              "  @keyframes spin {\n",
              "    0% {\n",
              "      border-color: transparent;\n",
              "      border-bottom-color: var(--fill-color);\n",
              "      border-left-color: var(--fill-color);\n",
              "    }\n",
              "    20% {\n",
              "      border-color: transparent;\n",
              "      border-left-color: var(--fill-color);\n",
              "      border-top-color: var(--fill-color);\n",
              "    }\n",
              "    30% {\n",
              "      border-color: transparent;\n",
              "      border-left-color: var(--fill-color);\n",
              "      border-top-color: var(--fill-color);\n",
              "      border-right-color: var(--fill-color);\n",
              "    }\n",
              "    40% {\n",
              "      border-color: transparent;\n",
              "      border-right-color: var(--fill-color);\n",
              "      border-top-color: var(--fill-color);\n",
              "    }\n",
              "    60% {\n",
              "      border-color: transparent;\n",
              "      border-right-color: var(--fill-color);\n",
              "    }\n",
              "    80% {\n",
              "      border-color: transparent;\n",
              "      border-right-color: var(--fill-color);\n",
              "      border-bottom-color: var(--fill-color);\n",
              "    }\n",
              "    90% {\n",
              "      border-color: transparent;\n",
              "      border-bottom-color: var(--fill-color);\n",
              "    }\n",
              "  }\n",
              "</style>\n",
              "\n",
              "  <script>\n",
              "    async function quickchart(key) {\n",
              "      const quickchartButtonEl =\n",
              "        document.querySelector('#' + key + ' button');\n",
              "      quickchartButtonEl.disabled = true;  // To prevent multiple clicks.\n",
              "      quickchartButtonEl.classList.add('colab-df-spinner');\n",
              "      try {\n",
              "        const charts = await google.colab.kernel.invokeFunction(\n",
              "            'suggestCharts', [key], {});\n",
              "      } catch (error) {\n",
              "        console.error('Error during call to suggestCharts:', error);\n",
              "      }\n",
              "      quickchartButtonEl.classList.remove('colab-df-spinner');\n",
              "      quickchartButtonEl.classList.add('colab-df-quickchart-complete');\n",
              "    }\n",
              "    (() => {\n",
              "      let quickchartButtonEl =\n",
              "        document.querySelector('#df-78139d73-be66-4178-9525-92b5e1bbc797 button');\n",
              "      quickchartButtonEl.style.display =\n",
              "        google.colab.kernel.accessAllowed ? 'block' : 'none';\n",
              "    })();\n",
              "  </script>\n",
              "</div>\n",
              "    </div>\n",
              "  </div>\n"
            ]
          },
          "metadata": {},
          "execution_count": 50
        }
      ],
      "source": [
        "# выведем первые пять строк закодированного датасета features_test\n",
        "features_test.head()"
      ]
    },
    {
      "cell_type": "code",
      "execution_count": null,
      "metadata": {
        "colab": {
          "base_uri": "https://localhost:8080/"
        },
        "id": "hwJa34BQYNh0",
        "outputId": "1ccdc902-1088-4093-85d9-71a4a612431d"
      },
      "outputs": [
        {
          "output_type": "execute_result",
          "data": {
            "text/plain": [
              "(1212, 4)"
            ]
          },
          "metadata": {},
          "execution_count": 51
        }
      ],
      "source": [
        "# после кодирования выведем размер датасета features_test\n",
        "features_test.shape"
      ]
    },
    {
      "cell_type": "markdown",
      "metadata": {
        "id": "ufQGrJ-BfKH7"
      },
      "source": [
        "Данные из датасетов с признаками features_train и features_test успешно закодированы."
      ]
    },
    {
      "cell_type": "code",
      "execution_count": null,
      "metadata": {
        "id": "UDDHApKnfnsr"
      },
      "outputs": [],
      "source": [
        "# объявляем модель LinearRegression()\n",
        "model = LinearRegression()"
      ]
    },
    {
      "cell_type": "code",
      "execution_count": null,
      "metadata": {
        "id": "r8QKZNoXfnss"
      },
      "outputs": [],
      "source": [
        "# обучаем модель на закодированных признаках\n",
        "model.fit(features_train, target_train)"
      ]
    },
    {
      "cell_type": "code",
      "execution_count": null,
      "metadata": {
        "id": "5muKgEubfnss"
      },
      "outputs": [],
      "source": [
        "# получим предсказания на тестовом датасете с закодированными признаками\n",
        "predictions = model.predict(features_test)"
      ]
    },
    {
      "cell_type": "code",
      "execution_count": null,
      "metadata": {
        "id": "_Q1YatGbfnst"
      },
      "outputs": [],
      "source": [
        "R2_after_encoding = r2_score(target_test, predictions)"
      ]
    },
    {
      "cell_type": "code",
      "execution_count": null,
      "metadata": {
        "id": "nlflSQVXfnst"
      },
      "outputs": [],
      "source": [
        "MSE_after_encoding = mean_squared_error(target_test, predictions)"
      ]
    },
    {
      "cell_type": "code",
      "execution_count": null,
      "metadata": {
        "colab": {
          "base_uri": "https://localhost:8080/"
        },
        "id": "8y7eOyR_fnsu",
        "outputId": "5c6abbc3-ca90-43b3-a4ca-e4445ae767ff"
      },
      "outputs": [
        {
          "output_type": "stream",
          "name": "stdout",
          "text": [
            "R2 после кодирования признаков: \n",
            "0.4593254640920542\n"
          ]
        }
      ],
      "source": [
        "print(f'R2 после кодирования признаков: \\n'\n",
        "    f'{R2_after_encoding}')"
      ]
    },
    {
      "cell_type": "code",
      "execution_count": null,
      "metadata": {
        "colab": {
          "base_uri": "https://localhost:8080/"
        },
        "id": "1glNHr-Bfnsv",
        "outputId": "a3432483-22e9-4183-adae-b0e4ea745c95"
      },
      "outputs": [
        {
          "output_type": "stream",
          "name": "stdout",
          "text": [
            "MSE после кодирования признаков: \n",
            "0.11701393862500331\n"
          ]
        }
      ],
      "source": [
        "print(f'MSE после кодирования признаков: \\n'\n",
        "    f'{MSE_after_encoding}')"
      ]
    },
    {
      "cell_type": "markdown",
      "metadata": {
        "id": "nDjvSnNFgy7J"
      },
      "source": [
        "### **4.3 Обобщение результатов применения алгоритма преобразования данных с использованием матричных операций**"
      ]
    },
    {
      "cell_type": "markdown",
      "metadata": {
        "id": "OkP8wC2NhfNb"
      },
      "source": [
        "Обобщим результаты применения алгоритма преобразования данных с использованием матричных операций в сводной таблице"
      ]
    },
    {
      "cell_type": "code",
      "execution_count": null,
      "metadata": {
        "colab": {
          "base_uri": "https://localhost:8080/",
          "height": 112
        },
        "id": "lgT9sZvbhfNb",
        "outputId": "14aa933c-a91e-4c89-ff26-3e5f0a4a5e4c"
      },
      "outputs": [
        {
          "output_type": "execute_result",
          "data": {
            "text/plain": [
              "                                          R2       MSE\n",
              "Без умножения на обратимую матрицу  0.459326  0.117014\n",
              "С умножением на обратимую матрицу   0.459325  0.117014"
            ],
            "text/html": [
              "\n",
              "  <div id=\"df-c2bcf742-c322-48b3-a527-b8daa87d770d\" class=\"colab-df-container\">\n",
              "    <div>\n",
              "<style scoped>\n",
              "    .dataframe tbody tr th:only-of-type {\n",
              "        vertical-align: middle;\n",
              "    }\n",
              "\n",
              "    .dataframe tbody tr th {\n",
              "        vertical-align: top;\n",
              "    }\n",
              "\n",
              "    .dataframe thead th {\n",
              "        text-align: right;\n",
              "    }\n",
              "</style>\n",
              "<table border=\"1\" class=\"dataframe\">\n",
              "  <thead>\n",
              "    <tr style=\"text-align: right;\">\n",
              "      <th></th>\n",
              "      <th>R2</th>\n",
              "      <th>MSE</th>\n",
              "    </tr>\n",
              "  </thead>\n",
              "  <tbody>\n",
              "    <tr>\n",
              "      <th>Без умножения на обратимую матрицу</th>\n",
              "      <td>0.459326</td>\n",
              "      <td>0.117014</td>\n",
              "    </tr>\n",
              "    <tr>\n",
              "      <th>С умножением на обратимую матрицу</th>\n",
              "      <td>0.459325</td>\n",
              "      <td>0.117014</td>\n",
              "    </tr>\n",
              "  </tbody>\n",
              "</table>\n",
              "</div>\n",
              "    <div class=\"colab-df-buttons\">\n",
              "\n",
              "  <div class=\"colab-df-container\">\n",
              "    <button class=\"colab-df-convert\" onclick=\"convertToInteractive('df-c2bcf742-c322-48b3-a527-b8daa87d770d')\"\n",
              "            title=\"Convert this dataframe to an interactive table.\"\n",
              "            style=\"display:none;\">\n",
              "\n",
              "  <svg xmlns=\"http://www.w3.org/2000/svg\" height=\"24px\" viewBox=\"0 -960 960 960\">\n",
              "    <path d=\"M120-120v-720h720v720H120Zm60-500h600v-160H180v160Zm220 220h160v-160H400v160Zm0 220h160v-160H400v160ZM180-400h160v-160H180v160Zm440 0h160v-160H620v160ZM180-180h160v-160H180v160Zm440 0h160v-160H620v160Z\"/>\n",
              "  </svg>\n",
              "    </button>\n",
              "\n",
              "  <style>\n",
              "    .colab-df-container {\n",
              "      display:flex;\n",
              "      gap: 12px;\n",
              "    }\n",
              "\n",
              "    .colab-df-convert {\n",
              "      background-color: #E8F0FE;\n",
              "      border: none;\n",
              "      border-radius: 50%;\n",
              "      cursor: pointer;\n",
              "      display: none;\n",
              "      fill: #1967D2;\n",
              "      height: 32px;\n",
              "      padding: 0 0 0 0;\n",
              "      width: 32px;\n",
              "    }\n",
              "\n",
              "    .colab-df-convert:hover {\n",
              "      background-color: #E2EBFA;\n",
              "      box-shadow: 0px 1px 2px rgba(60, 64, 67, 0.3), 0px 1px 3px 1px rgba(60, 64, 67, 0.15);\n",
              "      fill: #174EA6;\n",
              "    }\n",
              "\n",
              "    .colab-df-buttons div {\n",
              "      margin-bottom: 4px;\n",
              "    }\n",
              "\n",
              "    [theme=dark] .colab-df-convert {\n",
              "      background-color: #3B4455;\n",
              "      fill: #D2E3FC;\n",
              "    }\n",
              "\n",
              "    [theme=dark] .colab-df-convert:hover {\n",
              "      background-color: #434B5C;\n",
              "      box-shadow: 0px 1px 3px 1px rgba(0, 0, 0, 0.15);\n",
              "      filter: drop-shadow(0px 1px 2px rgba(0, 0, 0, 0.3));\n",
              "      fill: #FFFFFF;\n",
              "    }\n",
              "  </style>\n",
              "\n",
              "    <script>\n",
              "      const buttonEl =\n",
              "        document.querySelector('#df-c2bcf742-c322-48b3-a527-b8daa87d770d button.colab-df-convert');\n",
              "      buttonEl.style.display =\n",
              "        google.colab.kernel.accessAllowed ? 'block' : 'none';\n",
              "\n",
              "      async function convertToInteractive(key) {\n",
              "        const element = document.querySelector('#df-c2bcf742-c322-48b3-a527-b8daa87d770d');\n",
              "        const dataTable =\n",
              "          await google.colab.kernel.invokeFunction('convertToInteractive',\n",
              "                                                    [key], {});\n",
              "        if (!dataTable) return;\n",
              "\n",
              "        const docLinkHtml = 'Like what you see? Visit the ' +\n",
              "          '<a target=\"_blank\" href=https://colab.research.google.com/notebooks/data_table.ipynb>data table notebook</a>'\n",
              "          + ' to learn more about interactive tables.';\n",
              "        element.innerHTML = '';\n",
              "        dataTable['output_type'] = 'display_data';\n",
              "        await google.colab.output.renderOutput(dataTable, element);\n",
              "        const docLink = document.createElement('div');\n",
              "        docLink.innerHTML = docLinkHtml;\n",
              "        element.appendChild(docLink);\n",
              "      }\n",
              "    </script>\n",
              "  </div>\n",
              "\n",
              "\n",
              "<div id=\"df-fd3ae319-fac2-42e7-b90d-e6b78464d3cd\">\n",
              "  <button class=\"colab-df-quickchart\" onclick=\"quickchart('df-fd3ae319-fac2-42e7-b90d-e6b78464d3cd')\"\n",
              "            title=\"Suggest charts.\"\n",
              "            style=\"display:none;\">\n",
              "\n",
              "<svg xmlns=\"http://www.w3.org/2000/svg\" height=\"24px\"viewBox=\"0 0 24 24\"\n",
              "     width=\"24px\">\n",
              "    <g>\n",
              "        <path d=\"M19 3H5c-1.1 0-2 .9-2 2v14c0 1.1.9 2 2 2h14c1.1 0 2-.9 2-2V5c0-1.1-.9-2-2-2zM9 17H7v-7h2v7zm4 0h-2V7h2v10zm4 0h-2v-4h2v4z\"/>\n",
              "    </g>\n",
              "</svg>\n",
              "  </button>\n",
              "\n",
              "<style>\n",
              "  .colab-df-quickchart {\n",
              "      --bg-color: #E8F0FE;\n",
              "      --fill-color: #1967D2;\n",
              "      --hover-bg-color: #E2EBFA;\n",
              "      --hover-fill-color: #174EA6;\n",
              "      --disabled-fill-color: #AAA;\n",
              "      --disabled-bg-color: #DDD;\n",
              "  }\n",
              "\n",
              "  [theme=dark] .colab-df-quickchart {\n",
              "      --bg-color: #3B4455;\n",
              "      --fill-color: #D2E3FC;\n",
              "      --hover-bg-color: #434B5C;\n",
              "      --hover-fill-color: #FFFFFF;\n",
              "      --disabled-bg-color: #3B4455;\n",
              "      --disabled-fill-color: #666;\n",
              "  }\n",
              "\n",
              "  .colab-df-quickchart {\n",
              "    background-color: var(--bg-color);\n",
              "    border: none;\n",
              "    border-radius: 50%;\n",
              "    cursor: pointer;\n",
              "    display: none;\n",
              "    fill: var(--fill-color);\n",
              "    height: 32px;\n",
              "    padding: 0;\n",
              "    width: 32px;\n",
              "  }\n",
              "\n",
              "  .colab-df-quickchart:hover {\n",
              "    background-color: var(--hover-bg-color);\n",
              "    box-shadow: 0 1px 2px rgba(60, 64, 67, 0.3), 0 1px 3px 1px rgba(60, 64, 67, 0.15);\n",
              "    fill: var(--button-hover-fill-color);\n",
              "  }\n",
              "\n",
              "  .colab-df-quickchart-complete:disabled,\n",
              "  .colab-df-quickchart-complete:disabled:hover {\n",
              "    background-color: var(--disabled-bg-color);\n",
              "    fill: var(--disabled-fill-color);\n",
              "    box-shadow: none;\n",
              "  }\n",
              "\n",
              "  .colab-df-spinner {\n",
              "    border: 2px solid var(--fill-color);\n",
              "    border-color: transparent;\n",
              "    border-bottom-color: var(--fill-color);\n",
              "    animation:\n",
              "      spin 1s steps(1) infinite;\n",
              "  }\n",
              "\n",
              "  @keyframes spin {\n",
              "    0% {\n",
              "      border-color: transparent;\n",
              "      border-bottom-color: var(--fill-color);\n",
              "      border-left-color: var(--fill-color);\n",
              "    }\n",
              "    20% {\n",
              "      border-color: transparent;\n",
              "      border-left-color: var(--fill-color);\n",
              "      border-top-color: var(--fill-color);\n",
              "    }\n",
              "    30% {\n",
              "      border-color: transparent;\n",
              "      border-left-color: var(--fill-color);\n",
              "      border-top-color: var(--fill-color);\n",
              "      border-right-color: var(--fill-color);\n",
              "    }\n",
              "    40% {\n",
              "      border-color: transparent;\n",
              "      border-right-color: var(--fill-color);\n",
              "      border-top-color: var(--fill-color);\n",
              "    }\n",
              "    60% {\n",
              "      border-color: transparent;\n",
              "      border-right-color: var(--fill-color);\n",
              "    }\n",
              "    80% {\n",
              "      border-color: transparent;\n",
              "      border-right-color: var(--fill-color);\n",
              "      border-bottom-color: var(--fill-color);\n",
              "    }\n",
              "    90% {\n",
              "      border-color: transparent;\n",
              "      border-bottom-color: var(--fill-color);\n",
              "    }\n",
              "  }\n",
              "</style>\n",
              "\n",
              "  <script>\n",
              "    async function quickchart(key) {\n",
              "      const quickchartButtonEl =\n",
              "        document.querySelector('#' + key + ' button');\n",
              "      quickchartButtonEl.disabled = true;  // To prevent multiple clicks.\n",
              "      quickchartButtonEl.classList.add('colab-df-spinner');\n",
              "      try {\n",
              "        const charts = await google.colab.kernel.invokeFunction(\n",
              "            'suggestCharts', [key], {});\n",
              "      } catch (error) {\n",
              "        console.error('Error during call to suggestCharts:', error);\n",
              "      }\n",
              "      quickchartButtonEl.classList.remove('colab-df-spinner');\n",
              "      quickchartButtonEl.classList.add('colab-df-quickchart-complete');\n",
              "    }\n",
              "    (() => {\n",
              "      let quickchartButtonEl =\n",
              "        document.querySelector('#df-fd3ae319-fac2-42e7-b90d-e6b78464d3cd button');\n",
              "      quickchartButtonEl.style.display =\n",
              "        google.colab.kernel.accessAllowed ? 'block' : 'none';\n",
              "    })();\n",
              "  </script>\n",
              "</div>\n",
              "    </div>\n",
              "  </div>\n"
            ]
          },
          "metadata": {},
          "execution_count": 59
        }
      ],
      "source": [
        "final_results = pd.DataFrame(\n",
        "    {'Без умножения на обратимую матрицу': [R2_before_encoding,\n",
        "                                            MSE_before_encoding],\n",
        "     'С умножением на обратимую матрицу': [R2_after_encoding,\n",
        "                                           MSE_after_encoding],\n",
        "    },\n",
        ")\n",
        "\n",
        "final_results = final_results.T\n",
        "final_results.columns=['R2', 'MSE']\n",
        "final_results"
      ]
    },
    {
      "cell_type": "code",
      "execution_count": null,
      "metadata": {
        "colab": {
          "base_uri": "https://localhost:8080/"
        },
        "id": "rIwpg__zhfNd",
        "outputId": "0b1ff7fb-6242-4362-9bda-2021b8d8dd6d"
      },
      "outputs": [
        {
          "output_type": "execute_result",
          "data": {
            "text/plain": [
              "2.3631048340355676e-07"
            ]
          },
          "metadata": {},
          "execution_count": 60
        }
      ],
      "source": [
        "# вычислим разницу метрики R2 до и после кодирования датасетов с признаками\n",
        "R2_subtraction_final = R2_before_encoding - R2_after_encoding\n",
        "R2_subtraction_final"
      ]
    },
    {
      "cell_type": "code",
      "execution_count": null,
      "metadata": {
        "colab": {
          "base_uri": "https://localhost:8080/"
        },
        "id": "QL3YTulHhfNd",
        "outputId": "8b1aa7af-cf4b-44d1-99cf-4b5dd42b18f0"
      },
      "outputs": [
        {
          "output_type": "execute_result",
          "data": {
            "text/plain": [
              "-5.114281988183311e-08"
            ]
          },
          "metadata": {},
          "execution_count": 61
        }
      ],
      "source": [
        "# вычислим разницу метрики MSE до и после кодирования датасетов с признаками\n",
        "MSE_subtraction_final = MSE_before_encoding - MSE_after_encoding\n",
        "MSE_subtraction_final"
      ]
    },
    {
      "cell_type": "markdown",
      "metadata": {
        "id": "dLM_AtrLmtaC"
      },
      "source": [
        "## **<font color='mediumblue'>ВЫВОДЫ по 4 Применение алгоритма преобразования данных с использованием матричных операций</font>**\n",
        "\n",
        "---"
      ]
    },
    {
      "cell_type": "markdown",
      "metadata": {
        "id": "c2VCldhaE6aw"
      },
      "source": [
        "**(1)** проведен расчет метрик R2 и MSE до и после кодирования значений датасетов с обучающими и тестовыми признаками, сформированными из исходного датасета, содержащего персональную информацию о клиентах страховой компании\n",
        "\n",
        "**(2)** значения метрик R2 и MSE до и после кодирования датасетов с признаками практически не отличаются:"
      ]
    },
    {
      "cell_type": "code",
      "execution_count": null,
      "metadata": {
        "colab": {
          "base_uri": "https://localhost:8080/",
          "height": 112
        },
        "id": "78XiiyuPYdJK",
        "outputId": "d375dc30-ec29-49f7-8d6b-35c15ab0fe23"
      },
      "outputs": [
        {
          "output_type": "execute_result",
          "data": {
            "text/plain": [
              "                                          R2       MSE\n",
              "Без умножения на обратимую матрицу  0.459326  0.117014\n",
              "С умножением на обратимую матрицу   0.459325  0.117014"
            ],
            "text/html": [
              "\n",
              "  <div id=\"df-3bd08799-6f72-400d-88b9-3ab81ad2595d\" class=\"colab-df-container\">\n",
              "    <div>\n",
              "<style scoped>\n",
              "    .dataframe tbody tr th:only-of-type {\n",
              "        vertical-align: middle;\n",
              "    }\n",
              "\n",
              "    .dataframe tbody tr th {\n",
              "        vertical-align: top;\n",
              "    }\n",
              "\n",
              "    .dataframe thead th {\n",
              "        text-align: right;\n",
              "    }\n",
              "</style>\n",
              "<table border=\"1\" class=\"dataframe\">\n",
              "  <thead>\n",
              "    <tr style=\"text-align: right;\">\n",
              "      <th></th>\n",
              "      <th>R2</th>\n",
              "      <th>MSE</th>\n",
              "    </tr>\n",
              "  </thead>\n",
              "  <tbody>\n",
              "    <tr>\n",
              "      <th>Без умножения на обратимую матрицу</th>\n",
              "      <td>0.459326</td>\n",
              "      <td>0.117014</td>\n",
              "    </tr>\n",
              "    <tr>\n",
              "      <th>С умножением на обратимую матрицу</th>\n",
              "      <td>0.459325</td>\n",
              "      <td>0.117014</td>\n",
              "    </tr>\n",
              "  </tbody>\n",
              "</table>\n",
              "</div>\n",
              "    <div class=\"colab-df-buttons\">\n",
              "\n",
              "  <div class=\"colab-df-container\">\n",
              "    <button class=\"colab-df-convert\" onclick=\"convertToInteractive('df-3bd08799-6f72-400d-88b9-3ab81ad2595d')\"\n",
              "            title=\"Convert this dataframe to an interactive table.\"\n",
              "            style=\"display:none;\">\n",
              "\n",
              "  <svg xmlns=\"http://www.w3.org/2000/svg\" height=\"24px\" viewBox=\"0 -960 960 960\">\n",
              "    <path d=\"M120-120v-720h720v720H120Zm60-500h600v-160H180v160Zm220 220h160v-160H400v160Zm0 220h160v-160H400v160ZM180-400h160v-160H180v160Zm440 0h160v-160H620v160ZM180-180h160v-160H180v160Zm440 0h160v-160H620v160Z\"/>\n",
              "  </svg>\n",
              "    </button>\n",
              "\n",
              "  <style>\n",
              "    .colab-df-container {\n",
              "      display:flex;\n",
              "      gap: 12px;\n",
              "    }\n",
              "\n",
              "    .colab-df-convert {\n",
              "      background-color: #E8F0FE;\n",
              "      border: none;\n",
              "      border-radius: 50%;\n",
              "      cursor: pointer;\n",
              "      display: none;\n",
              "      fill: #1967D2;\n",
              "      height: 32px;\n",
              "      padding: 0 0 0 0;\n",
              "      width: 32px;\n",
              "    }\n",
              "\n",
              "    .colab-df-convert:hover {\n",
              "      background-color: #E2EBFA;\n",
              "      box-shadow: 0px 1px 2px rgba(60, 64, 67, 0.3), 0px 1px 3px 1px rgba(60, 64, 67, 0.15);\n",
              "      fill: #174EA6;\n",
              "    }\n",
              "\n",
              "    .colab-df-buttons div {\n",
              "      margin-bottom: 4px;\n",
              "    }\n",
              "\n",
              "    [theme=dark] .colab-df-convert {\n",
              "      background-color: #3B4455;\n",
              "      fill: #D2E3FC;\n",
              "    }\n",
              "\n",
              "    [theme=dark] .colab-df-convert:hover {\n",
              "      background-color: #434B5C;\n",
              "      box-shadow: 0px 1px 3px 1px rgba(0, 0, 0, 0.15);\n",
              "      filter: drop-shadow(0px 1px 2px rgba(0, 0, 0, 0.3));\n",
              "      fill: #FFFFFF;\n",
              "    }\n",
              "  </style>\n",
              "\n",
              "    <script>\n",
              "      const buttonEl =\n",
              "        document.querySelector('#df-3bd08799-6f72-400d-88b9-3ab81ad2595d button.colab-df-convert');\n",
              "      buttonEl.style.display =\n",
              "        google.colab.kernel.accessAllowed ? 'block' : 'none';\n",
              "\n",
              "      async function convertToInteractive(key) {\n",
              "        const element = document.querySelector('#df-3bd08799-6f72-400d-88b9-3ab81ad2595d');\n",
              "        const dataTable =\n",
              "          await google.colab.kernel.invokeFunction('convertToInteractive',\n",
              "                                                    [key], {});\n",
              "        if (!dataTable) return;\n",
              "\n",
              "        const docLinkHtml = 'Like what you see? Visit the ' +\n",
              "          '<a target=\"_blank\" href=https://colab.research.google.com/notebooks/data_table.ipynb>data table notebook</a>'\n",
              "          + ' to learn more about interactive tables.';\n",
              "        element.innerHTML = '';\n",
              "        dataTable['output_type'] = 'display_data';\n",
              "        await google.colab.output.renderOutput(dataTable, element);\n",
              "        const docLink = document.createElement('div');\n",
              "        docLink.innerHTML = docLinkHtml;\n",
              "        element.appendChild(docLink);\n",
              "      }\n",
              "    </script>\n",
              "  </div>\n",
              "\n",
              "\n",
              "<div id=\"df-351591b2-9f4b-454c-ac35-add5af4eb984\">\n",
              "  <button class=\"colab-df-quickchart\" onclick=\"quickchart('df-351591b2-9f4b-454c-ac35-add5af4eb984')\"\n",
              "            title=\"Suggest charts.\"\n",
              "            style=\"display:none;\">\n",
              "\n",
              "<svg xmlns=\"http://www.w3.org/2000/svg\" height=\"24px\"viewBox=\"0 0 24 24\"\n",
              "     width=\"24px\">\n",
              "    <g>\n",
              "        <path d=\"M19 3H5c-1.1 0-2 .9-2 2v14c0 1.1.9 2 2 2h14c1.1 0 2-.9 2-2V5c0-1.1-.9-2-2-2zM9 17H7v-7h2v7zm4 0h-2V7h2v10zm4 0h-2v-4h2v4z\"/>\n",
              "    </g>\n",
              "</svg>\n",
              "  </button>\n",
              "\n",
              "<style>\n",
              "  .colab-df-quickchart {\n",
              "      --bg-color: #E8F0FE;\n",
              "      --fill-color: #1967D2;\n",
              "      --hover-bg-color: #E2EBFA;\n",
              "      --hover-fill-color: #174EA6;\n",
              "      --disabled-fill-color: #AAA;\n",
              "      --disabled-bg-color: #DDD;\n",
              "  }\n",
              "\n",
              "  [theme=dark] .colab-df-quickchart {\n",
              "      --bg-color: #3B4455;\n",
              "      --fill-color: #D2E3FC;\n",
              "      --hover-bg-color: #434B5C;\n",
              "      --hover-fill-color: #FFFFFF;\n",
              "      --disabled-bg-color: #3B4455;\n",
              "      --disabled-fill-color: #666;\n",
              "  }\n",
              "\n",
              "  .colab-df-quickchart {\n",
              "    background-color: var(--bg-color);\n",
              "    border: none;\n",
              "    border-radius: 50%;\n",
              "    cursor: pointer;\n",
              "    display: none;\n",
              "    fill: var(--fill-color);\n",
              "    height: 32px;\n",
              "    padding: 0;\n",
              "    width: 32px;\n",
              "  }\n",
              "\n",
              "  .colab-df-quickchart:hover {\n",
              "    background-color: var(--hover-bg-color);\n",
              "    box-shadow: 0 1px 2px rgba(60, 64, 67, 0.3), 0 1px 3px 1px rgba(60, 64, 67, 0.15);\n",
              "    fill: var(--button-hover-fill-color);\n",
              "  }\n",
              "\n",
              "  .colab-df-quickchart-complete:disabled,\n",
              "  .colab-df-quickchart-complete:disabled:hover {\n",
              "    background-color: var(--disabled-bg-color);\n",
              "    fill: var(--disabled-fill-color);\n",
              "    box-shadow: none;\n",
              "  }\n",
              "\n",
              "  .colab-df-spinner {\n",
              "    border: 2px solid var(--fill-color);\n",
              "    border-color: transparent;\n",
              "    border-bottom-color: var(--fill-color);\n",
              "    animation:\n",
              "      spin 1s steps(1) infinite;\n",
              "  }\n",
              "\n",
              "  @keyframes spin {\n",
              "    0% {\n",
              "      border-color: transparent;\n",
              "      border-bottom-color: var(--fill-color);\n",
              "      border-left-color: var(--fill-color);\n",
              "    }\n",
              "    20% {\n",
              "      border-color: transparent;\n",
              "      border-left-color: var(--fill-color);\n",
              "      border-top-color: var(--fill-color);\n",
              "    }\n",
              "    30% {\n",
              "      border-color: transparent;\n",
              "      border-left-color: var(--fill-color);\n",
              "      border-top-color: var(--fill-color);\n",
              "      border-right-color: var(--fill-color);\n",
              "    }\n",
              "    40% {\n",
              "      border-color: transparent;\n",
              "      border-right-color: var(--fill-color);\n",
              "      border-top-color: var(--fill-color);\n",
              "    }\n",
              "    60% {\n",
              "      border-color: transparent;\n",
              "      border-right-color: var(--fill-color);\n",
              "    }\n",
              "    80% {\n",
              "      border-color: transparent;\n",
              "      border-right-color: var(--fill-color);\n",
              "      border-bottom-color: var(--fill-color);\n",
              "    }\n",
              "    90% {\n",
              "      border-color: transparent;\n",
              "      border-bottom-color: var(--fill-color);\n",
              "    }\n",
              "  }\n",
              "</style>\n",
              "\n",
              "  <script>\n",
              "    async function quickchart(key) {\n",
              "      const quickchartButtonEl =\n",
              "        document.querySelector('#' + key + ' button');\n",
              "      quickchartButtonEl.disabled = true;  // To prevent multiple clicks.\n",
              "      quickchartButtonEl.classList.add('colab-df-spinner');\n",
              "      try {\n",
              "        const charts = await google.colab.kernel.invokeFunction(\n",
              "            'suggestCharts', [key], {});\n",
              "      } catch (error) {\n",
              "        console.error('Error during call to suggestCharts:', error);\n",
              "      }\n",
              "      quickchartButtonEl.classList.remove('colab-df-spinner');\n",
              "      quickchartButtonEl.classList.add('colab-df-quickchart-complete');\n",
              "    }\n",
              "    (() => {\n",
              "      let quickchartButtonEl =\n",
              "        document.querySelector('#df-351591b2-9f4b-454c-ac35-add5af4eb984 button');\n",
              "      quickchartButtonEl.style.display =\n",
              "        google.colab.kernel.accessAllowed ? 'block' : 'none';\n",
              "    })();\n",
              "  </script>\n",
              "</div>\n",
              "    </div>\n",
              "  </div>\n"
            ]
          },
          "metadata": {},
          "execution_count": 62
        }
      ],
      "source": [
        "final_results"
      ]
    },
    {
      "cell_type": "markdown",
      "metadata": {
        "id": "2PYRxlDsFITw"
      },
      "source": [
        "**(3)** в результате применения кодирования методом умножения датасетов с признаками на обратимую матрицу одновременно гарантирована защита персональных данных клиентов и обеспечено сохранение качества модели LinearRegression"
      ]
    },
    {
      "cell_type": "markdown",
      "metadata": {
        "id": "mZcHBUVNFR0w"
      },
      "source": [
        "# **<font color='firebrick'>ИТОГОВЫЕ ВЫВОДЫ по проекту «Защита персональных данных клиентов страховой компании „Хоть потоп‟»</font>**"
      ]
    },
    {
      "cell_type": "markdown",
      "metadata": {
        "id": "C9iRjy6mMDjj"
      },
      "source": [
        "**(1)** проведен исследовательский анализ данных, в результате которого данные датасета подготовлены для машинного обучения\n",
        "\n",
        "**(2)** создан class для объекта LinearRegression, который был использован для машинного обучения. Исследовательский проект был выполнен без импортирования модели LinearRegression из библиотеки sklearn. Обучение модели и получение предсказаний было выполнено с помощью объявленного class LinearRegression\n",
        "\n",
        "**(3)** математически доказано, что умножение датасета с признаками на обратимую матрицу не влияет на качество линейной регрессии, при этом позволяет значительно повысить надежность защиты персональных данных клиентов\n",
        "\n",
        "**(4)** предложен алгоритм преобразования данных для обеспечения надежной защиты персональных данных клиентов и сохранения качества результатов машинного обучения\n",
        "\n",
        "**(5)** проведен расчет метрик R2 и MSE на исходном датасете до и после кодирования датасетов с обучающими и тестовыми признаками, подтвердивший правильность сделанных предположений. В результате применения кодирования методом умножения датасетов с признаками на обратимую матрицу одновременно гарантирована защита персональных данных клиентов и обеспечено сохранение качества модели LinearRegression.\n",
        "\n",
        "**(6)** гарантирование защиты персональных данных клиентов подтверждает вывод первых пяти строк датасета с обучающими признаками до кодирования:"
      ]
    },
    {
      "cell_type": "markdown",
      "metadata": {
        "id": "jtswdCe9MJLf"
      },
      "source": [
        "![1 до кодирования.JPG](data:image/jpeg;base64,/9j/4AAQSkZJRgABAQEAYABgAAD/4RDsRXhpZgAATU0AKgAAAAgABAE7AAIAAAALAAAISodpAAQAAAABAAAIVpydAAEAAAAWAAAQzuocAAcAAAgMAAAAPgAAAAAc6gAAAAgAAAAAAAAAAAAAAAAAAAAAAAAAAAAAAAAAAAAAAAAAAAAAAAAAAAAAAAAAAAAAAAAAAAAAAAAAAAAAAAAAAAAAAAAAAAAAAAAAAAAAAAAAAAAAAAAAAAAAAAAAAAAAAAAAAAAAAAAAAAAAAAAAAAAAAAAAAAAAAAAAAAAAAAAAAAAAAAAAAAAAAAAAAAAAAAAAAAAAAAAAAAAAAAAAAAAAAAAAAAAAAAAAAAAAAAAAAAAAAAAAAAAAAAAAAAAAAAAAAAAAAAAAAAAAAAAAAAAAAAAAAAAAAAAAAAAAAAAAAAAAAAAAAAAAAAAAAAAAAAAAAAAAAAAAAAAAAAAAAAAAAAAAAAAAAAAAAAAAAAAAAAAAAAAAAAAAAAAAAAAAAAAAAAAAAAAAAAAAAAAAAAAAAAAAAAAAAAAAAAAAAAAAAAAAAAAAAAAAAAAAAAAAAAAAAAAAAAAAAAAAAAAAAAAAAAAAAAAAAAAAAAAAAAAAAAAAAAAAAAAAAAAAAAAAAAAAAAAAAAAAAAAAAAAAAAAAAAAAAAAAAAAAAAAAAAAAAAAAAAAAAAAAAAAAAAAAAAAAAAAAAAAAAAAAAAAAAAAAAAAAAAAAAAAAAAAAAAAAAAAAAAAAAAAAAAAAAAAAAAAAAAAAAAAAAAAAAAAAAAAAAAAAAAAAAAAAAAAAAAAAAAAAAAAAAAAAAAAAAAAAAAAAAAAAAAAAAAAAAAAAAAAAAAAAAAAAAAAAAAAAAAAAAAAAAAAAAAAAAAAAAAAAAAAAAAAAAAAAAAAAAAAAAAAAAAAAAAAAAAAAAAAAAAAAAAAAAAAAAAAAAAAAAAAAAAAAAAAAAAAAAAAAAAAAAAAAAAAAAAAAAAAAAAAAAAAAAAAAAAAAAAAAAAAAAAAAAAAAAAAAAAAAAAAAAAAAAAAAAAAAAAAAAAAAAAAAAAAAAAAAAAAAAAAAAAAAAAAAAAAAAAAAAAAAAAAAAAAAAAAAAAAAAAAAAAAAAAAAAAAAAAAAAAAAAAAAAAAAAAAAAAAAAAAAAAAAAAAAAAAAAAAAAAAAAAAAAAAAAAAAAAAAAAAAAAAAAAAAAAAAAAAAAAAAAAAAAAAAAAAAAAAAAAAAAAAAAAAAAAAAAAAAAAAAAAAAAAAAAAAAAAAAAAAAAAAAAAAAAAAAAAAAAAAAAAAAAAAAAAAAAAAAAAAAAAAAAAAAAAAAAAAAAAAAAAAAAAAAAAAAAAAAAAAAAAAAAAAAAAAAAAAAAAAAAAAAAAAAAAAAAAAAAAAAAAAAAAAAAAAAAAAAAAAAAAAAAAAAAAAAAAAAAAAAAAAAAAAAAAAAAAAAAAAAAAAAAAAAAAAAAAAAAAAAAAAAAAAAAAAAAAAAAAAAAAAAAAAAAAAAAAAAAAAAAAAAAAAAAAAAAAAAAAAAAAAAAAAAAAAAAAAAAAAAAAAAAAAAAAAAAAAAAAAAAAAAAAAAAAAAAAAAAAAAAAAAAAAAAAAAAAAAAAAAAAAAAAAAAAAAAAAAAAAAAAAAAAAAAAAAAAAAAAAAAAAAAAAAAAAAAAAAAAAAAAAAAAAAAAAAAAAAAAAAAAAAAAAAAAAAAAAAAAAAAAAAAAAAAAAAAAAAAAAAAAAAAAAAAAAAAAAAAAAAAAAAAAAAAAAAAAAAAAAAAAAAAAAAAAAAAAAAAAAAAAAAAAAAAAAAAAAAAAAAAAAAAAAAAAAAAAAAAAAAAAAAAAAAAAAAAAAAAAAAAAAAAAAAAAAAAAAAAAAAAAAAAAAAAAAAAAAAAAAAAAAAAAAAAAAAAAAAAAAAAAAAAAAAAAAAAAAAAAAAAAAAAAAAAAAAAAAAAAAAAAAAAAAAAAAAAAAAAAAAAAAAAAAAAAAAAAAAAAAAAAAAAAAAAAAAAAAAAAAAAAAAAAAAAAAAAAAAAAAAAAAAAAAAAAAAAAAAAAAAAAAAAAAAAAAAAAAAAAAAAAAAAAAAAAAAAAAAAAAAAAAAAAAAAAAAAAAAAAAAAAAAAAAAAAAAAAAAAAAAAAAAAAAAAAAAAAAAAAAAAAAAAAAAAAAAAAAAAAAAAAAAAAAAAAAAAAAAAAAAAAAAAAAAAAAAAAAAAAAAAAAAAAAAAAAAAAAAAAAAAAAAAAAAAAAAAAAAAAAAAAAAAAAAAAAAAAAAAAAAAAAAAAAAAAAAAAAAAAAAAAAAAAAAAAAAAAAAAAAAAAAAAAAAAAAAAAAAAAAAAAAAAAAAAAAAAAAAAAAAAAAAAAAAAAAAAAAAAAAAAAAAAAAAAAAAAAAAAAAAAAAAAAAAAAAAAAAAAAAAAAAAAAAAAAAAAAAAAAAAAAAAAAAAAAAAAAAAAAAAAAAAAAAAAAAAAAAAAAAAAAAAAAAAAAAAAAAAAAAAAAAAAAAAAAAAAAAAAAAAAAAAAAAAAAAAAAAAAAAAAAAAAAAAAAAAAAAAAAAAAAAAAAAAAAAAAAAAAAAAAAAAAAAAAAAAAAAAAAAAAAAAAAAAAAAAAAAAAAAAAAAAAAAAAAAAAAAAAAAAAAAAAAAAAAAAAAAAAAAAAAAAAAAAAAAAAAAAAAAAAAAAAAAAAAAAAAAAAAAAAAAAAAAAAAAAAAAAAAAAAAAAAAAAAAAAAAAAAAAAAAAAAAAAAAAAAAAAAAAAAAAAAAAAAAAAAAAAAAAAAAAAAAAAAAAAAAAAAAAAAAAAAAAAAAAAAAAAAAAAAAAAAAAAAAAAAAAAAAAAAAAAAAAAAAAAAAAAAAAAAAAAAAAAAEVnb3IgVW1hZXYAAAAFkAMAAgAAABQAABCkkAQAAgAAABQAABC4kpEAAgAAAAMzNAAAkpIAAgAAAAMzNAAA6hwABwAACAwAAAiYAAAAABzqAAAACAAAAAAAAAAAAAAAAAAAAAAAAAAAAAAAAAAAAAAAAAAAAAAAAAAAAAAAAAAAAAAAAAAAAAAAAAAAAAAAAAAAAAAAAAAAAAAAAAAAAAAAAAAAAAAAAAAAAAAAAAAAAAAAAAAAAAAAAAAAAAAAAAAAAAAAAAAAAAAAAAAAAAAAAAAAAAAAAAAAAAAAAAAAAAAAAAAAAAAAAAAAAAAAAAAAAAAAAAAAAAAAAAAAAAAAAAAAAAAAAAAAAAAAAAAAAAAAAAAAAAAAAAAAAAAAAAAAAAAAAAAAAAAAAAAAAAAAAAAAAAAAAAAAAAAAAAAAAAAAAAAAAAAAAAAAAAAAAAAAAAAAAAAAAAAAAAAAAAAAAAAAAAAAAAAAAAAAAAAAAAAAAAAAAAAAAAAAAAAAAAAAAAAAAAAAAAAAAAAAAAAAAAAAAAAAAAAAAAAAAAAAAAAAAAAAAAAAAAAAAAAAAAAAAAAAAAAAAAAAAAAAAAAAAAAAAAAAAAAAAAAAAAAAAAAAAAAAAAAAAAAAAAAAAAAAAAAAAAAAAAAAAAAAAAAAAAAAAAAAAAAAAAAAAAAAAAAAAAAAAAAAAAAAAAAAAAAAAAAAAAAAAAAAAAAAAAAAAAAAAAAAAAAAAAAAAAAAAAAAAAAAAAAAAAAAAAAAAAAAAAAAAAAAAAAAAAAAAAAAAAAAAAAAAAAAAAAAAAAAAAAAAAAAAAAAAAAAAAAAAAAAAAAAAAAAAAAAAAAAAAAAAAAAAAAAAAAAAAAAAAAAAAAAAAAAAAAAAAAAAAAAAAAAAAAAAAAAAAAAAAAAAAAAAAAAAAAAAAAAAAAAAAAAAAAAAAAAAAAAAAAAAAAAAAAAAAAAAAAAAAAAAAAAAAAAAAAAAAAAAAAAAAAAAAAAAAAAAAAAAAAAAAAAAAAAAAAAAAAAAAAAAAAAAAAAAAAAAAAAAAAAAAAAAAAAAAAAAAAAAAAAAAAAAAAAAAAAAAAAAAAAAAAAAAAAAAAAAAAAAAAAAAAAAAAAAAAAAAAAAAAAAAAAAAAAAAAAAAAAAAAAAAAAAAAAAAAAAAAAAAAAAAAAAAAAAAAAAAAAAAAAAAAAAAAAAAAAAAAAAAAAAAAAAAAAAAAAAAAAAAAAAAAAAAAAAAAAAAAAAAAAAAAAAAAAAAAAAAAAAAAAAAAAAAAAAAAAAAAAAAAAAAAAAAAAAAAAAAAAAAAAAAAAAAAAAAAAAAAAAAAAAAAAAAAAAAAAAAAAAAAAAAAAAAAAAAAAAAAAAAAAAAAAAAAAAAAAAAAAAAAAAAAAAAAAAAAAAAAAAAAAAAAAAAAAAAAAAAAAAAAAAAAAAAAAAAAAAAAAAAAAAAAAAAAAAAAAAAAAAAAAAAAAAAAAAAAAAAAAAAAAAAAAAAAAAAAAAAAAAAAAAAAAAAAAAAAAAAAAAAAAAAAAAAAAAAAAAAAAAAAAAAAAAAAAAAAAAAAAAAAAAAAAAAAAAAAAAAAAAAAAAAAAAAAAAAAAAAAAAAAAAAAAAAAAAAAAAAAAAAAAAAAAAAAAAAAAAAAAAAAAAAAAAAAAAAAAAAAAAAAAAAAAAAAAAAAAAAAAAAAAAAAAAAAAAAAAAAAAAAAAAAAAAAAAAAAAAAAAAAAAAAAAAAAAAAAAAAAAAAAAAAAAAAAAAAAAAAAAAAAAAAAAAAAAAAAAAAAAAAAAAAAAAAAAAAAAAAAAAAAAAAAAAAAAAAAAAAAAAAAAAAAAAAAAAAAAAAAAAAAAAAAAAAAAAAAAAAAAAAAAAAAAAAAAAAAAAAAAAAAAAAAAAAAAAAAAAAAAAAAAAAAAAAAAAAAAAAAAAAAAAAAAAAAAAAAAAAAAAAAAAAAAAAAAAAAAAAAAAAAAAAAAAAAAAAAAAAAAAAAAAAAAAAAAAAAAAAAAAAAAAAAAAAAAAAAAAAAAAAAAAAAAAAAAAAAAAAAAAAAAAAAAAAAAAAAAAAAAAAAAAAAAAAAAAAAAAAAAAAAAAAAAAAAAAAAAAAAAAAAAAAAAAAAAAAAAAAAAAAAAAAAAAAAAAAAAAAAAAAAAAAAAAAAAAAAAAAAAAAAAAAAAAAAAAAAAAAAAAAAAAAAAAAAAAAAAAAAAAAAAAAAAAAAAAAAAAAAAAAAAAAAAAAAAAAAAAAAAAAAAAAAAAAAAAAAAAAAAAAAAAAAAAAAAAAAAAAAAAAAAAAAAAAAAAAAAAAAAAAAAAAAAAAAAAAAAAAAAAAAAAAAAAAAAAAAAAAAAAAAAAAAAAAAAAAAAAAAAAAAAAAAAAAAAAAAAAAAAAAAAAAAAAAAAAAAAAAAAAAAAAAAAAAAAAAAAAAAAAAAAAAAAAAAAAAAAAAAAAAAAAAAAAAAAAAAAAAAAAAAAAAAAAAAAAAAAAAAAAAAAAAAAAAAAAAAAAAAAAAAAAAAAAAAAAAAAAAAAAAAAAAAAAAAAAAAAAAAAAAAAAAAAAAAAAAAAAAAAAAAAAAAAAAAAAAAAAAAAAAAAAAAAAAAAAAAAAAAAAAAAAAAAAAAAAAAAAAAAAAAAAAAAAAAAAAAAAAAAAAAAAAAAAAAAAAAAAAAAAAAAAAAAAAAAAAAAAAAAAAAAAAAAAAAAAAAAAAAAAAAAAAAAAAAAAAAAAAAAAAAAAAAAAAAAAAAAAAAAAAAAAAAAAAAAAAAAAAAAAAAAAAAAAAAAAAAAAAAAAAAAAAAAAAAAAAAAAAAAAAAAAAAAAAAAAAAAAAAAAAAAAAAAAAAAAAAAAAAAMjAyMjoxMjoxOCAxMzozODoxOQAyMDIyOjEyOjE4IDEzOjM4OjE5AAAARQBnAG8AcgAgAFUAbQBhAGUAdgAAAP/hCx1odHRwOi8vbnMuYWRvYmUuY29tL3hhcC8xLjAvADw/eHBhY2tldCBiZWdpbj0n77u/JyBpZD0nVzVNME1wQ2VoaUh6cmVTek5UY3prYzlkJz8+DQo8eDp4bXBtZXRhIHhtbG5zOng9ImFkb2JlOm5zOm1ldGEvIj48cmRmOlJERiB4bWxuczpyZGY9Imh0dHA6Ly93d3cudzMub3JnLzE5OTkvMDIvMjItcmRmLXN5bnRheC1ucyMiPjxyZGY6RGVzY3JpcHRpb24gcmRmOmFib3V0PSJ1dWlkOmZhZjViZGQ1LWJhM2QtMTFkYS1hZDMxLWQzM2Q3NTE4MmYxYiIgeG1sbnM6ZGM9Imh0dHA6Ly9wdXJsLm9yZy9kYy9lbGVtZW50cy8xLjEvIi8+PHJkZjpEZXNjcmlwdGlvbiByZGY6YWJvdXQ9InV1aWQ6ZmFmNWJkZDUtYmEzZC0xMWRhLWFkMzEtZDMzZDc1MTgyZjFiIiB4bWxuczp4bXA9Imh0dHA6Ly9ucy5hZG9iZS5jb20veGFwLzEuMC8iPjx4bXA6Q3JlYXRlRGF0ZT4yMDIyLTEyLTE4VDEzOjM4OjE5LjM0NDwveG1wOkNyZWF0ZURhdGU+PC9yZGY6RGVzY3JpcHRpb24+PHJkZjpEZXNjcmlwdGlvbiByZGY6YWJvdXQ9InV1aWQ6ZmFmNWJkZDUtYmEzZC0xMWRhLWFkMzEtZDMzZDc1MTgyZjFiIiB4bWxuczpkYz0iaHR0cDovL3B1cmwub3JnL2RjL2VsZW1lbnRzLzEuMS8iPjxkYzpjcmVhdG9yPjxyZGY6U2VxIHhtbG5zOnJkZj0iaHR0cDovL3d3dy53My5vcmcvMTk5OS8wMi8yMi1yZGYtc3ludGF4LW5zIyI+PHJkZjpsaT5FZ29yIFVtYWV2PC9yZGY6bGk+PC9yZGY6U2VxPg0KCQkJPC9kYzpjcmVhdG9yPjwvcmRmOkRlc2NyaXB0aW9uPjwvcmRmOlJERj48L3g6eG1wbWV0YT4NCiAgICAgICAgICAgICAgICAgICAgICAgICAgICAgICAgICAgICAgICAgICAgICAgICAgICAgICAgICAgICAgICAgICAgICAgICAgICAgICAgICAgICAgICAgICAgICAgICAgICAKICAgICAgICAgICAgICAgICAgICAgICAgICAgICAgICAgICAgICAgICAgICAgICAgICAgICAgICAgICAgICAgICAgICAgICAgICAgICAgICAgICAgICAgICAgICAgICAgICAgIAogICAgICAgICAgICAgICAgICAgICAgICAgICAgICAgICAgICAgICAgICAgICAgICAgICAgICAgICAgICAgICAgICAgICAgICAgICAgICAgICAgICAgICAgICAgICAgICAgICAgCiAgICAgICAgICAgICAgICAgICAgICAgICAgICAgICAgICAgICAgICAgICAgICAgICAgICAgICAgICAgICAgICAgICAgICAgICAgICAgICAgICAgICAgICAgICAgICAgICAgICAKICAgICAgICAgICAgICAgICAgICAgICAgICAgICAgICAgICAgICAgICAgICAgICAgICAgICAgICAgICAgICAgICAgICAgICAgICAgICAgICAgICAgICAgICAgICAgICAgICAgIAogICAgICAgICAgICAgICAgICAgICAgICAgICAgICAgICAgICAgICAgICAgICAgICAgICAgICAgICAgICAgICAgICAgICAgICAgICAgICAgICAgICAgICAgICAgICAgICAgICAgCiAgICAgICAgICAgICAgICAgICAgICAgICAgICAgICAgICAgICAgICAgICAgICAgICAgICAgICAgICAgICAgICAgICAgICAgICAgICAgICAgICAgICAgICAgICAgICAgICAgICAKICAgICAgICAgICAgICAgICAgICAgICAgICAgICAgICAgICAgICAgICAgICAgICAgICAgICAgICAgICAgICAgICAgICAgICAgICAgICAgICAgICAgICAgICAgICAgICAgICAgIAogICAgICAgICAgICAgICAgICAgICAgICAgICAgICAgICAgICAgICAgICAgICAgICAgICAgICAgICAgICAgICAgICAgICAgICAgICAgICAgICAgICAgICAgICAgICAgICAgICAgCiAgICAgICAgICAgICAgICAgICAgICAgICAgICAgICAgICAgICAgICAgICAgICAgICAgICAgICAgICAgICAgICAgICAgICAgICAgICAgICAgICAgICAgICAgICAgICAgICAgICAKICAgICAgICAgICAgICAgICAgICAgICAgICAgICAgICAgICAgICAgICAgICAgICAgICAgICAgICAgICAgICAgICAgICAgICAgICAgICAgICAgICAgICAgICAgICAgICAgICAgIAogICAgICAgICAgICAgICAgICAgICAgICAgICAgICAgICAgICAgICAgICAgICAgICAgICAgICAgICAgICAgICAgICAgICAgICAgICAgICAgICAgICAgICAgICAgICAgICAgICAgCiAgICAgICAgICAgICAgICAgICAgICAgICAgICAgICAgICAgICAgICAgICAgICAgICAgICAgICAgICAgICAgICAgICAgICAgICAgICAgICAgICAgICAgICAgICAgICAgICAgICAKICAgICAgICAgICAgICAgICAgICAgICAgICAgICAgICAgICAgICAgICAgICAgICAgICAgICAgICAgICAgICAgICAgICAgICAgICAgICAgICAgICAgICAgICAgICAgICAgICAgIAogICAgICAgICAgICAgICAgICAgICAgICAgICAgICAgICAgICAgICAgICAgICAgICAgICAgICAgICAgICAgICAgICAgICAgICAgICAgICAgICAgICAgICAgICAgICAgICAgICAgCiAgICAgICAgICAgICAgICAgICAgICAgICAgICAgICAgICAgICAgICAgICAgICAgICAgICAgICAgICAgICAgICAgICAgICAgICAgICAgICAgICAgICAgICAgICAgICAgICAgICAKICAgICAgICAgICAgICAgICAgICAgICAgICAgICAgICAgICAgICAgICAgICAgICAgICAgICAgICAgICAgICAgICAgICAgICAgICAgICAgICAgICAgICAgICAgICAgICAgICAgIAogICAgICAgICAgICAgICAgICAgICAgICAgICAgICAgICAgICAgICAgICAgICAgICAgICAgICAgICAgICAgICAgICAgICAgICAgICAgICAgICAgICAgICAgICAgICAgICAgICAgCiAgICAgICAgICAgICAgICAgICAgICAgICAgICAgICAgICAgICAgICAgICAgICAgICAgICAgICAgICAgICAgICAgICAgICAgICAgICAgICAgICAgICAgICAgICAgICAgICAgICAKICAgICAgICAgICAgICAgICAgICAgICAgICAgICAgICAgICAgICAgICAgICAgICAgICAgICAgICAgICAgICAgICAgICAgICAgICAgICAgICAgICAgICAgICAgICAgICAgICAgIAogICAgICAgICAgICAgICAgICAgICAgICAgICAgPD94cGFja2V0IGVuZD0ndyc/Pv/bAEMABwUFBgUEBwYFBggHBwgKEQsKCQkKFQ8QDBEYFRoZGBUYFxseJyEbHSUdFxgiLiIlKCkrLCsaIC8zLyoyJyorKv/bAEMBBwgICgkKFAsLFCocGBwqKioqKioqKioqKioqKioqKioqKioqKioqKioqKioqKioqKioqKioqKioqKioqKioqKv/AABEIAPMBoAMBIgACEQEDEQH/xAAfAAABBQEBAQEBAQAAAAAAAAAAAQIDBAUGBwgJCgv/xAC1EAACAQMDAgQDBQUEBAAAAX0BAgMABBEFEiExQQYTUWEHInEUMoGRoQgjQrHBFVLR8CQzYnKCCQoWFxgZGiUmJygpKjQ1Njc4OTpDREVGR0hJSlNUVVZXWFlaY2RlZmdoaWpzdHV2d3h5eoOEhYaHiImKkpOUlZaXmJmaoqOkpaanqKmqsrO0tba3uLm6wsPExcbHyMnK0tPU1dbX2Nna4eLj5OXm5+jp6vHy8/T19vf4+fr/xAAfAQADAQEBAQEBAQEBAAAAAAAAAQIDBAUGBwgJCgv/xAC1EQACAQIEBAMEBwUEBAABAncAAQIDEQQFITEGEkFRB2FxEyIygQgUQpGhscEJIzNS8BVictEKFiQ04SXxFxgZGiYnKCkqNTY3ODk6Q0RFRkdISUpTVFVWV1hZWmNkZWZnaGlqc3R1dnd4eXqCg4SFhoeIiYqSk5SVlpeYmZqio6Slpqeoqaqys7S1tre4ubrCw8TFxsfIycrS09TV1tfY2dri4+Tl5ufo6ery8/T19vf4+fr/2gAMAwEAAhEDEQA/APpGiiigAooooAKKKKACiiigAooooAKKKKACiiigAooooAKKKKACiiigAooooAKKKKACiiigAooooAKKKKACiiigAooooAKKKKACiiigAooooAKKKKACiiigAooooAKKKKACiiigAooooAKKKKACiiigAooooAKKKKAKOtyPF4f1CSJ2R0tZGVlOCpCHBBrw8abqll8NvDnixfGXiia8vbq1EsE2qM0BDyYYbcZxj1Jr3a/tft2m3Npv8vz4Xi34zt3AjOO/WuRm+HfnfDzR/C/9qY/syaCX7T9n/wBZ5bbsbd3GfqcVKupX84/m7/gEtY28n+SsY9/4+8W3h13U/C2l6VJoegzyw3BvpZFnuTEMyGPb8qgf7Wf6Vd17x1q8+leE5PBsFh9r8RtmNdTDlI18rec7CDkdM80zUfhZdy3mqR6L4ru9J0fWZWm1DTo7ZJPMZ+H2SHlN30P9K07D4fx2fi6w1Z9SklsdItfs2lab5IVbQFAjMXzlyQD16Zqlsk/L/g/e9hvd28/+B93Ul+HPiXVPFHh25utdjs47y2v5rRxZqwjPlkDI3Enrn/CusrA8H+F/+EU028tftn2v7VfzXm7ytm3zGztxk5x69/St+n0Xovy1JXX1f56HF/F2+u9N+Fes3enXU9pcxrFsmt5CjrmVAcMORwSK4XwN4huNM8cGG61PxVDpx0uS5ktfFWTNO6cloOOgAJPIz79vUPGvhn/hMPB99oX2v7H9rCDz/K8zZtdW+7kZ+7jrWBpfw2u21yDVfGPiSXxFNaW8lvax/Y0to4kkXa+VQncSOM1Kvr/XT/Mt2cUv66f8ExV+JPi220mw8V6no+lx+F76eNFijmkN5DG7bVkb+A+uBzzVLxl8WPEHhXxbeaatz4auBDKvlaf5N59qkRsFRvC+UGII74rbtPhJcRrZ6Zf+K7y98NWM6zW+kvbIpBU5VXlHzMoPbH5Vd8QeAfEGvSXtofHF1Dol8W87T2sIZGCsclFlPzAdhwcCn6f1tv8Aj3JXW/8AW/8AXQh17xh4sTx3Z+G/DWmaY8t1pIvS1/I4Fu+8glip+ZRjGAM5Oc4rPk+JmrN4DutQeXQNI1fTdTfT73+0Wma3dkBz5QTLknggc8A1Q1fw9qK/GLSdH8La6+iPZ+GVjS6a2S5Zo0lK7SH4yeDn2rcn+EUK+HrC10vW7i11Wz1BtS/tSaBZ2lnb7zMhwD2x6YHWm9rr+ve/yuPZ29P/AEn/ADKPhL4w/wBp+F/EepawlncNoKJI02miVYrkODtCiUBlOVxyK3/DOp+PtSVbzWdN0O3sry2MtqkE0plt2K5QS54YHgHbyKg0v4YRwL4kXXdZuNZ/4SKGKO6eWJY3UorDcpXgfeGBj5do61c8KeD9c8PXMSah4wutV021i8q1sntI49gxgb3GWfA6ZxQ7Nv0X/B/4BO239bf8E5qw8SfFG68aXXh54/CImsoYridwt1tMbnopzndweoAr1SsCz8MG08e6l4k+17xfWkVt9n8vGzYSd27POc9MVv0l8Kv5/n/kP7T/AK6f5hXm3xPa5TULUibxwYGgJWPwtENquCctK/XkEYHT5TXpNcv4k8OeItS1Fbrw74xuNDBjCSQGyjuY2wT8wD42nnk57Ckxo4rSfHGsWXwV0/WT4g0V78XDRTXGsmUjaC37siMB2lA29jxk89aZpPxj1HUfAfifUkj0y51DQ1idJrZJhbTiQ4HyybXGMEc4rbn+EcSeGtOstK1y4tdTsL9tRXUpYFmMk7feZozgHtgdsDrWH4x8Ez+GPh9431S81ufV7nVra3M0k8KowaNsEjbxg7uAAMAd6JyspP7vw/4IQV3Fef6/5GxZ+OvFVj4k0mz8V6Vplta67DK9iLSZ3lgdE37ZSeDkEfdrCsfiN8QpPDmieI7238M/2Vql7Fa7IkuPPUPIUJwW2joe57V0vh74f30l/Ya34p8Sza5c2lqyWCG0S3jthImCdq/ebHGTj+WJo/hp5fgDQ/DP9rZ/sm9iuvtP2b/W7JC+3bu+XOcZyatqz+a+67v+Bmm3HTs/vtoUvG/jTxVpfim80zwrDo7w6fo51S6bUVlLYDMCq7GHOAMAj15rP8Q/E3WNM8KeHdWi1LwxYSalZLPcQ6klyzFmAP7tItzbevJ/Oujt/h9LnxPc6lrcl9qGv272ouHtwi2sO1giKgPON3JyM47c1nv8LLu3uNEu9E8UTaZfabpq6ZLcJZJJ58S8/Krk7GJzzzULb+vP/gf8E1dr3/rp/wAEj0/xt4p8U/De38ReFrfRYriJpheJfmYxsseeYtuDzjOG9af4X8T+NdT8FXHiPW5PC9naTWBnsnBnQRydvO3EgJ67Tmt3wz4KHhrwbd6AmoyXYuHuGFxLHhh5pP3ufmIzyeM+gqH/AIQCCb4VJ4KvL13jW1WA3UabTlW3BtuT3A4zQ76tdl99nf8AQlbpPu/uvoct4A+LN94j8ZpoGpT6Lf8AnQySR3GjpcIsbJztYTKM5GcFfSvWK4PQ/h1qOn+KNL1zWfFU2r3GnW8lukbWaQx7GXACqh+XHcnOeOmK7yrdrK39a/5Eq93f+tP8wrx2bx7H4Pl8aaT4v1S/tL64uribSGlWaRTE6fuxEwBCgH6AH8a9iqrqll/aWj3lj5nlfaoHh37c7dykZx361nJOzt2NItXV+55pb+LfEtr4D8CW2hPZ3msa5GEabVjI6nbEWZmZTuz781Wk+MGo6X4AOp63Bpq6q+rS6anliVbZNnWRh8zlR7cnI4FdF4c+Gsuja1pN9qWuyalDotkLXT7X7MsSwkoFd8gksWwevTPU4qM/CuP/AIR57FNamhvY9Wl1Wzv4IQrW8jn7u0khhg4PIz7Vct2+/wDmv0uQk0ku3+T/AFsc1pnxpv77wf4kulXSrrUtGgjnjntEnFtMrttxskCuCP1zWlH8ZrLWPEWnaf4XuLW9jksbme9L28yNFJHFvQLu2jBIOevTqK2bjwN4i1bwjrOh+JfGX9qf2jGiQzf2XHD9mw2SdqMN+eOpGMVe1jwP/a2taRfnUPK/s2yuLTy/J3eZ5sYTdndxjGcYOfaplfW3b8bP9bDXT1/Vf8E5aD4z2V/8NLrVNNu7GXxHZ2ST3Fi0UiorllDYBILKM9mPbmvUoHMtvHI2MsgY49xXlMfwRnl0mS01XxXJeyR6f/Z9i4sEjW2i3BuVDZc/LjJbvXq0MflQpHnOxQufXAqnYSvp/Xb/AIJyPi/xZq9h4g03w34UsrW51jUI3mEl87LBbxJ1ZtvzHJ4wKzPFXj/V/BHg20ufElrpses3Vz9mQxSSNajjPmnCmTaB/DgnNbPi7wQ/iLUrDV9J1ebRNa08MsF5FEsoKN1Vkbhh+Pc1X1LwDdax4bs7TU/El5NrNldfbLfV1hRGjl6cRj5duDjb+tTrb+u/T5Fdf67dfmcfpHxnvtR8KeIZgulXWp6VHFJDPapOLWbzHCAFZArggn8c8VesPivqeo+IPDlhDY2qx3DC21hirZt7k+YBGnzccwsec8Fa25fA/iPU/Dd/pPiTxn/an2mSB4Zf7Ljh8jy5A7DCMN27AHJ4xWhqPgHTri6tbjSyunSR6wurXBVC/wBokClSOW+XIPUcD05qnuv6/rd/NInWzX9f1f8AM5nwZ8bvD2raZbReJtVs7DWZJXR4EhlSJfnIX52yoyMHlqTXPivd6J/wlkTWtvPc6bcpb6ZDGjFpiYjIzP8ANyqgFiRjge9RW3wb1RdD/wCEdvvGs0/hwyF30+PTIo2Pz78eaSzD5q1l+E9iNe8S6s16WuNZtWtbfMPFkrR7GI+b5ycDnjjjvSeqfp/l/wAFF6c/lf8ADU6nwpqs+u+ENJ1W7SNJ720jnkWIEKGZQSACScc+ta9ZvhzSP7A8M6dpHn/aPsNskHm7Nu/aoGcZOOnTJrSqp25nbYzjeyuFFVdQmkht1aJtpLYzgHsazvt91/z2P/fK/wCFSUbdFYn2+6/57H/vlf8ACj7fdf8APY/98r/hQBt0Vifb7r/nsf8Avlf8KPt91/z2P/fK/wCFAG3RWJ9vuv8Ansf++V/wo+33X/PY/wDfK/4UAbdFYn2+6/57H/vlf8KPt91/z2P/AHyv+FAG3RWJ9vuv+ex/75X/AAo+33X/AD2P/fK/4UAbdFYn2+6/57H/AL5X/Cj7fdf89j/3yv8AhQBt0Vifb7r/AJ7H/vlf8KPt91/z2P8A3yv+FAG3RWJ9vuv+ex/75X/Cj7fdf89j/wB8r/hQBt0Vifb7r/nsf++V/wAKPt91/wA9j/3yv+FAG3RWJ9vuv+ex/wC+V/wo+33X/PY/98r/AIUAbdFYn2+6/wCex/75X/Cj7fdf89j/AN8r/hQBt0Vifb7r/nsf++V/wo+33X/PY/8AfK/4UAbdFYn2+6/57H/vlf8ACj7fdf8APY/98r/hQBt0Vifb7r/nsf8Avlf8KPt91/z2P/fK/wCFAG3RWJ9vuv8Ansf++V/wo+33X/PY/wDfK/4UAbdFYn2+6/57H/vlf8KPt91/z2P/AHyv+FAG3RWJ9vuv+ex/75X/AAo+33X/AD2P/fK/4UAbdFYn2+6/57H/AL5X/Cj7fdf89j/3yv8AhQBt0Vifb7r/AJ7H/vlf8KPt91/z2P8A3yv+FAG3RWJ9vuv+ex/75X/Cj7fdf89j/wB8r/hQBt0Vifb7r/nsf++V/wAKPt91/wA9j/3yv+FAG3RWJ9vuv+ex/wC+V/wo+33X/PY/98r/AIUAbdFYn2+6/wCex/75X/Cj7fdf89j/AN8r/hQBt0Vifb7r/nsf++V/wo+33X/PY/8AfK/4UAbdFYn2+6/57H/vlf8ACtHT5pJrdmlbcQ2M4A7CgBmq/wDHqv8Avj+RrJrW1X/j1X/fH8jWTQBWv9SsdLtvtGp3lvZwbgvm3Eqxrk9BkkDNUl8VeHns3u013TGto2CPMLyMorHoC2cAnB4rnPiVoGt+I/7EtdFsrW5igvPtNx9tceQNo+UOoO5gcngA1V8GHTtS/trw94g8MaJaXmmTIbqOztVNtMCCUkCkdcevPPbOAlqn/XYHpb+u519j4l0LU7oW2m61p13OwJEVvdpIxA68A5q619aJfJZPdQrdyIZEgMgEjKOrBepHvXnHw10ay1XVtT8Y2tha2cU0j2umQ28KxokKnBfAA+Zj3+oqjoeh3mh/HCyGq6pNql/daVJPcTycKGLkbUHZQAAB+g6CuqX9bNh0b7f52PXKKKKQBRRRQAVUv9U0/So1k1S+trJHbarXEyxhj6AsRk1brk7a0t9T+I+stqEUVx9jsreGBJUDBFfezkA/3iAD/u0B0OrVldAyMGVhkEHIIpa5fwD+60W+skBEFjqd1bW4/uxrIdoHsM4H0rqKA6tBRRRQAUUUUAFU7bV9NvLyW0tNQtZ7mH/WwRTqzx/VQcj8anuoPtNpNAZJIvNQpvjOGXIxkHsa4LUtNTQdf8NxLpcNlo9jcrFDqELB5nd0KBJBgFVZm5PzZIGQM8C1dg6XO1uNa0u0vo7K61Kzgu5ceXbyTqsj56YUnJq7XDeI9N0jTdLv9LgtBqms668jxxSqryOzfxM2PljTjB7ADHNdMVuNK8KFXm865tLLBlP8bqnX8SKTdouT6f1+A7Xkkv6/4cnj1fTZtRfT4tQtXvYxl7ZZlMij3XORVyvNbrTrTTvhNo+p2kEZvrc2d2lyqje8ryJvJbqd25gfXNelVTVtH00JTvqgooopDCori4htLeS4upo4IY13PJIwVVHqSeAKlry74heIdL1rT9c0yTV7OCDTYJB9ma5VJbq6C5VQuclUOPq3H8PKGlc9Q3AruyNuM5zximQzxXNuk9vKksMihkkjYMrA9CCOorn9SsrbxX4Xg+y6s504oTL9hmGLkAEFC69FyOcHPGKoaFo7a58MPD9m19cWlubOEzi2ba0yeXym7qoPGcc44703pzeX/B/yJTul5nXR3ME1sLiGeOSAgsJVcFSPXPSobDVNP1WNpNLvra9RG2s1vMsgU+hKk4Nef26LJ8IfDNix2295c2ttMD0aMy8qfY4x+NaHiUJoHiuzutIgjt5LjSr1ZfKQKGESK8ZIHocgfWlJ2u+1/wAFcpJtpdf+DY6+LV9Nn1CSwg1C1kvIhmS3SZTIn1UHIq2TgZNedXumWel/DfQL+xgjW8tZbKZJ1UB3eR0Dkt1O4M2fXNdD4/dh4NuYlcotzLBbyMDj5JJURv8Ax1iKpprTre35f5kxaevQ2bHVtO1QyDTdQtbwxHbJ9nmWTYfQ4PFXK5DVrK10jxl4Xl0y1itmmkms5BCgXdF5TOFOOoDICPTmuvpDCiiigAooooAKKKKACiiigAooooAKKKKACo5riG2RWuJY4lZ1QF2CgsxwBz3JIAFSVw3jnRfNv9M1a5vbiUQ6pZLb2u7bFETMoZsD7zHJ5PQdKFrJLu0HRs7mtbSv+PVv98/yFZNa2lf8erf75/kKADVf+PVf98fyNZNa2q/8eq/74/kayaAMHxLoF/rP2WbR9fu9Fu7ViVkiHmRSA9Q8RIV/bPSqGj+B30zR9ZSbVpLzV9ZV/tOpyQgHJUqu1AeAoPTP5DAHW0UrKzXcd9UzK8MaGnhrwzY6PHL54tI9hl2bd5zknGTjJPrVSfwv53xAtvE/2zb9nsmtPs3lfeyxO7dnjr0x+NdBRVNtu5KVlZBRRRSGFFFFABWBqvh68n1j+1dE1X+zLySAW85e3EySoCSp2kjDAscHPfkGt+igDO0PR4dC0mOxgkkmwzSSTSY3SuzFmY47kkmtGiigAooooAKKKKAIL20h1Cxns7pd8NxG0ci5xlSMH+dc3b+D71msYNX12TUNO0+RZbe3NusbsyfcMrgnft4PAXJAzmurooWjuG6scTb+DfEVnq+oajZ+KbZZr6Uu7y6SJHVf4Ywxl+6o6D8e9dLHY6h9tie61JZrUWnkzWwtlUSy5GZd2cjjI29Oa0aKOlg63ORtvBE8SWlhca1JPollMssFibdQ/wAh3IjyZ+ZVIGBgHgZJrrqKKACiiigArK17QbfW9Dv9PxFA95C8Xn+UGKFhjdjjP51q0UBsQLarHY/Zo9qL5ewbVwOnXFVtC0v+xfD1jpfnef8AY7dIfN27d+0YzjJx9M1oUUb38wOdi8IwjwRb+Hp7uRvs6p5d1GoRldG3K4Bzgggcc0un+Grkao2o+INTGq3It2togtsIY442IL/KCcs2Bk57cAV0NFG4HJWngq4i+w2V3rcl1o+nyrLbWRt1V/kOY1eTPzKvGBgdBkmtS90KTVrPVbLVr9p7O+I8iNIlja1AA6MPvHcNwJ6Vs0UB1uc7p3hu+TWLfUdd1k6pLZxtHaqtsIVTdwzsATucgYzwOuBzXRUUUAFFFFABRRRQAUUUUAFFFFABRRRQAUUUUAFZmuaR/bNrbQ+f5PkXkF1nZu3eXIH29R1xjPatOijrcArW0r/j1b/fP8hWTWtpX/Hq3++f5CgC1LCk6hZV3AHOM4qH+z7b/nl/48f8as0UAVv7Ptv+eX/jx/xo/s+2/wCeX/jx/wAapp4m0eTxQ/h2O+R9Wjg+0PbKrEonHJOMA8jgnOCDjFY2vfFLwb4Y1iXS9c1kW17EFLxC2mfaCMjlUI6Ed6B2Z0v9n23/ADy/8eP+NH9n23/PL/x4/wCNYeu/ETwr4btbO41rV47ZL6MS248t3d0IyG2KpYD3IHpVzUvFuhaT4aHiC+1GNdKYKVuow0qsGOBgICTyewo2FuaH9n23/PL/AMeP+NH9n23/ADy/8eP+NY/hfx34c8Zvcr4a1H7abUKZh5Eke3dnH31Geh6V0NFmgK39n23/ADy/8eP+NH9n23/PL/x4/wCNWaKAK39n23/PL/x4/wCNH9n23/PL/wAeP+NWayNb8VaN4dkij1a88qWYFkijheVyo6ttQEhR3bGB60AXv7Ptv+eX/jx/xo/s+2/55f8Ajx/xp1le22pWMN5YTx3FtOgeOWNsq4PcGp6AK39n23/PL/x4/wCNH9n23/PL/wAeP+NWaKAK39n23/PL/wAeP+NH9n23/PL/AMeP+NWaKAK39n23/PL/AMeP+NH9n23/ADy/8eP+NWaoya1p8Wuw6M90o1GeFp0twCWMakAsewGT36846GgCX+z7b/nl/wCPH/Gj+z7b/nl/48f8aZfavYabcWdvfXSQzX0vk20Z5aV8ZwAPYdegq5QBW/s+2/55f+PH/Gj+z7b/AJ5f+PH/ABrJtvHHhy81kaXbamj3TSNEn7txHI69UWQjYzD0BJrfo6XDyK39n23/ADy/8eP+NH9n23/PL/x4/wCNWaKAK39n23/PL/x4/wCNH9n23/PL/wAeP+NWao6lrOn6Q9omo3SwPe3C21upBJkkbooA/n0HegCX+z7b/nl/48f8aP7Ptv8Anl/48f8AGs3W/GGheHbhLfVr7ypnQyeWkTysqdN7BFO1f9o4HvU+o+JdH0rSodSvb+NbW4KiB4wZDOWGVCKoJckc4UHijpcPIt/2fbf88v8Ax4/40f2fbf8APL/x4/41TtPFGi3uhy6xBqMP2CDd50zkp5RXqHDYKkehANM0TxVo3iKSaPSbwyywgNJFJC8UgU9G2uAdp7HGKPIC/wD2fbf88v8Ax4/40f2fbf8APL/x4/41lWfjjw5qGrjTLTU0kuWdkj/duI5WX7ypIRscjuFJNbVxcQ2ltJcXUqQwxKXkkkYKqKBkkk9BR0uHWxF/Z9t/zy/8eP8AjR/Z9t/zy/8AHj/jWbonjDQvEN09vpN95s6IJPLeF4mZM43qHUblz/EMj3rboArf2fbf88v/AB4/40f2fbf88v8Ax4/41ZooArf2fbf88v8Ax4/40f2fbf8APL/x4/41ZooArf2fbf8APL/x4/40f2fbf88v/Hj/AI1ZooArf2fbf88v/Hj/AI0f2fbf88v/AB4/41ZooArf2fbf88v/AB4/40f2fbf88v8Ax4/41ZooArf2fbf88v8Ax4/40f2fbf8APL/x4/41ZooArf2fbf8APL/x4/40f2fbf88v/Hj/AI1ZqjrGtafoGnm+1e6W2tw6pvYE5ZjgAAZJJJ7UAS/2fbf88v8Ax4/41NFCkClYl2gnOM5p9FABUdxG01tLGkhjZ0Khx1UkdakopNXVhp2dzxrwl4WsvCH7QDafYSXE5fQWnnuLmQvJPK03zOx9TgdP55NSa74a8beFLvxb420zxDY2okl+1mwFqJluIYh8qvIwDIduRhf++h1Hov8Awidj/wAJ0fFfm3H242X2Ly9y+Vs3bs4xndn3x7Vz2p/B7w/qep3dwb3V7W0vpxcXmmWt6Y7W5fIJLpjPJAzgj2xT10+f532Era320/I5dtQ1NPGlp42/4Rm+1mw1/QI7eOKxjEpt5Dhijg/dQ5+905+tY/g3wpr3jL4NaNpun3ltp62etyTmaXMmxEYkbFAIfDsTgkA4r0zxF8MtH1/ULe/ivNT0a6gtvsnm6Tc+QZIe0bcHIH4e+cDEupfDbw9qHhrT9FgjuNNi0txJY3FjMY5rZ85LK/PJ5yTnJOeuDRor2/r3r/1/VzWyX9bW/r+rZngjXdfi8ba14Q8UahFq09hDHdQahHbrAXR8ZVkXgEZGMe/Nd/XO+FPBOm+EVu3s57y9vL1w91fahP5082PuhmwOAD6V0VPohLdhRRRSGFclpAV/it4keU5ljsbJIs/wxnzScfVs/lXW1g614TttY1GPUIr/AFDS75YvIa50+YI0kec7GDKwIBJIOMjPBFHUOlv63M74c5XSNXiQBbeHW71LcL0CecTx7bi1dfVLR9Is9C0mDTtNjMdvCDtDMWYknJYk8kkkkk9Sau0dkHVvu3+IUUUUAFFFFAFDXNUGiaFd6ibaa6+zxlxBAhZ5D2UAepry7Rta0yP4j6Je3Ul7Pql7bXQvJm0y5jHmO0ISNd0YPlqAQD0HUkFufYKz7jRre51+y1d3lFxZwywxqCNhWQqWyMZz8gxz60LSVw6WOR8W+HdPtvGHh/XAjyahc61DGZpXLeXGIZPkQHhVJGSB1PWuy1h5Y9Cv3t8iVbaQpjru2nH61HqmjW+rzafJcvKp0+7W7i8sgbnCsoDZB4w56Y7c09tM3a6upm8u8LbG3+yeb/o7ZYNvKY+/xjOehIqWrwcPX8kVf3lLyX5v9Dz3UY4YfgHob2AUyRR6bLbHv5vmxc/Ukn8zXp9cpafD3S7S8t2W81GWxtJvtFrpktxutoJM5BVcbuDyAWIHYCurrSUr3fd3/IhKysFFFFSMRmCKWOcAZOBmvFtZ8T6dql9p+uatHqEd2mr24tbaTS7kfZLdZMnB8vBkfAY7SSflUZ28+1VQ1bR7fWY7VLp5EFrdR3SeWQMuhyAcg8etL7SfZr8wesWvX8jnvCckV54z8XXJyzvNaqvmIVIh+zqyjBAIGWfg981yngf59d8LQy/8e1vFq/2MY+UbblUXH0QkD2rutY8G2uram+oQ6jqWl3U0QguJNPnEf2iMZwGBBHGThhhhnrS3ngvS7jSdOsLQ3Gm/2Xj7DcWUuyWDjBwSCDkcEMCD3prSz/rt/wAEHqrHCeJAB4z1q2PFjNq+itcAdGcschvrtiz+Fbfjp5rfxjpk1hxcto2pq7L97aERl/8AH8fnW9D4I0lNBvdLuftN4t/J5t1c3ExM80gxhy4xgjauMYAwMCpNG8I2uk38l/PfX+q3rw+QLjUZRIyRZzsUKqgAkAnjJxyTU8vuuPr+Mbf15DTtLm9Pwd/68zlNWigg+DXhtrELuhfS3tSP75kiGR7kE/ma3fiZg+BLhHJEMlzbRz/9c2njDg+2Cc06x+H2mWN5aut5qM1lZS+dZ6bNcbre2fsVXG44zwGYgdgK05vDlrdxavBqM91fWuq4822uJi0cS7Au2MDBQHGevXmtJO7b87/lp+BMVay7afmZHigeX468GPAAJTdXERwOfKNuxYfTKofqBXXVz2j+DbXSdTTUJtR1LVLqGIw28moTiT7OhxkIAo5OBljljjrXQ0ugwooopAFFFFABRRRQAUUUUAFFFFABRRRQAV4x488Q2OsWurzarFfxfYJVg062fTbjYCJF33BfZsywBC88LnuxFez1Q1zR7fX9Gn028eRIZ9u5oiAwwwYYyCOo9KOtweqaLFjew6jYxXdr5nkzLuTzImjbHurAMPoQKnoooAKKbIxVePWovMb1/SgCeioPMb1/SjzG9f0oAnoqDzG9f0o8xvX9KAJ6Kg8xvX9KPMb1/SgCeioPMb1/SjzG9f0oAnoqDzG9f0o8xvX9KAJ6Kg8xvX9KPMb1/SgCeioPMb1/SjzG9f0oAnoqDzG9f0o8xvX9KAJ6Kg8xvX9KPMb1/SgCeioPMb1/SjzG9f0oAnoqDzG9f0o8xvX9KAJ6Kg8xvX9KPMb1/SgCeioPMb1/SjzG9f0oAnoqDzG9f0o8xvX9KAJ6Kg8xvX9KPMb1/SgCeioPMb1/SjzG9f0oAnoqDzG9f0o8xvX9KAJ6Kg8xvX9KPMb1/SgCeioPMb1/SjzG9f0oAnoqDzG9f0o8xvX9KAJ6Kg8xvX9KPMb1/SgCeioPMb1/SjzG9f0oAnoqDzG9f0o8xvX9KAJ6Kg8xvX9KPMb1/SgCeioPMb1/SpY2LLz60AJL90fWqlzcw2drLc3UixQQoZJJGOAqgZJP4Vbl+6PrVK9itZ7GePUI4ZLVoyJknUFCmOdwPGMdc0nohrc4zSfi1oWq6paWn2HV7KC/kMVlf3ln5dtdNnACPk5z2yB74PFQ6x8XLPQvtL6l4T8VQ21tIUe6bTQsJ+baCHLgYJ6HvkVhWIf4n+KNNbRrNNP8FeHLkS28ixeX9smToEXjag/lnPJwun4vX/hK/ixoPhSU7tOsITq19Fn5ZSDtjUjuAe3o1Va9vP8ALe/5/gLa9+n59vyNbVfihpWmHT4V0vWb++vrNb0WNlZ+ZNDEw4aRdwA9DgnGPpUtz8TfD0HhKw8QQvc3cOoyCG0tbaHfcTSk4MYTP3gc55x6E5GeU8S2t7q/xua18N6qPDupW2ikz3zRrN9pjLjCCNuAF6luv5VU8G+IfC/h/wCDun6vq2lwST6bcywWp2iaS4uc5LxMRkbsZyOgHtU3TTf9b2/rzDZpf1tf+vI9D8K+NtO8WNeQ2tve2F7ZMBc2OoQeTPEGGVJXJ4P1/pXRVwXw68P6wuoar4u8Uottqmt7MWaf8u0KjCqf9rGM+mPXIHe1T6X3EtQooopDCsjxN4o0rwlo8mpa1ciKJR8iAgvK391B3P8Ak4Fa9ch8SdKsZ/BWtalNaRSXlvpdxHDO65aNSpzt9M+1IcdWdbG4kiV1zhgCM06orT/jzh/65r/Kpap6MiLukwooopFBRRRQBHPPFbW8k9w6xxRKXd2OAqgZJNc3ZePbC8urNJNO1Sztb9xHZ311bhIbhj90A7iy7u25Vz2ro7mOCa1ljvEje3ZCJVlAKFccgg8Yx61xsRfxzqFg9jD9m8MabcJPFMV2m/kj+55a9olPO7+IgY45oXxf18/+AD2/r5f8Eu3vjpLbWb3TrLw9rmqNYusc01jBG0YYoH25aRTnDDtXTxSeZAkjI0e5QxVxgrx0PvXnZ0W1k0vxJrem+LNQhnivbm4LwsYI7aVAAUeMjEgGwAlsgjpiuptLy81j4eRXk0JivbzTBI0ajG2Ros4H4mpbtTcuqSf3oq15pev4FS18f6Zd3luq2moR2N1N5FtqckAFtPJnACtndyeASoB7E11NeZ6jJFN8B9ESxIEksenR2w7+Z5sXA9wQfyNemVpKNrrs7fkQndXCiiipGFY+t+J9O0C8020vnc3Gp3K29vFGAWJJxuPPCjIyfcVrsdqkgFiBnA714/q2oamJLTU9Z8LawupXGsWpziAxxxJIdkEZ83Oec5IGWJzgYwvtJea/MH8Lfr+R6Dq/jC10vUpLCDT9R1S5giE1ylhAJPs6HOC2WHJwcKMscdKdd+MdMt9J0++tBcaj/aePsUFnHuln43HAJAGBySxAHeq16kPiGLUbLQtTk0PVVEZvpIrdDMu6PKK5YEHg9VPGMBhXJ+D7tJ9X8Gu1vFbwx6fqFlCIiTG0kcka7lLEk7lRmGST15NNLWz/AK3/AOAge11/X9as7OHxrpUmhXmqXH2izWwfyrq2uISJopOMIUGck7lxjIORg0/R/Fltqt/JYz2N9pd6kXni31CIIzxZxvUqxBAJAPORnkCuE8REHxjrNyTmxh1bRhcEfdVwxyT9N0efwra8cJNceL9NhsObhdH1JnVfvbSiKv8A4/j8qly91y9fwjf+vIaV5cvp+Lt/Xma1l4+029vLZFs9Qhs72XyrTUZrfbb3D9grZyM44LAA9ia39R1G10nTbi/1CUQ21tGZJZCM7VHsOv0rgtVlgn+Dvh1bErumfTEtgvXeJI+B7jB/I1t/ErA8DXDuMwx3FtJN/wBc1nQsT7YBq5Kza87fl/mTF3s+6uW9I8X2uq6munzafqOl3MsRmt49QgEfnoMZKkMeRkZU4YZ6V0Fcl4mbzPHHg5ICDKLm4kODz5QgYMfplk/Eiuto6DCiiikAUUUUAFFFFABRRRQAUUUUAFFFFABWLrvizSfDt1YWuo3A+1ahcR29vbpgyOXYLuxnhRnk/wAzgVtVxfjrSrGFbLUo7WJb241jT0kuNvzsouEwufT2oXxRXdr8w6P0O0qaL7p+tQ1NF90/WgAl+6PrVDUdPttW024sL+MyW1zGYpUDsu5SMEZUgj8DV+X7o+tQ0bhscRZfB3wJp99BeWeheXcW8iyxP9snO1lOQcF8Hkd66WHQNMg8RXGuxW2NSuIVglnMjHcg6DaTtHTsK0qKAOe8S+BPDXi+SGXxFpUd3LCNqSb3jcD03IQSOvB45NQal8N/CWr6TYaZfaOjWWnhhbQRzSRLHnqfkYZJx1OT19TXUUUeQXZzvhrwF4a8H3E8/hzTfsclwoSVvPkk3AHIHzscfhXRUUUAFFFFABVbUdPtdW0240/UIvNtbmNopY9xXcpGCMggj8Ks0UAIihEVFGFUYA9qWiigAooooAKKKKAK2oWFtqmm3FhfIZLa5jaKVA5XcpGCMqQRx6Guesfhr4X025t57Kzuo3tnV4h/aVyyqVOR8pkwRx0IxXVUUbO6DyMC+8D+HNS1R9QvdMSSeVlaYeY6xzFehkjBCOR6sDWkdHsTriav5H+nJbm1WXe3ERYMV25x1AOcZq7RRsBg23gnw7Z6wNTttMRLlZGlT945jjdurrGTsVj6gA1vUUUdLB5hRRRQAVVvtNtNSWBb2LzRbzpcR/MRtkQ5U8HnB7dKtUUAYuseEND167W61Oy8ycJ5ZkjmkiZ0/uMUYbl9myKlv/DOjanpUGm3dhEbS2Km3SPMZgKjAKMpBQgcZBFatFHSwGVa+GNFs9Dl0eDTofsE+7zoXBfzS3UuWyWJ9SSabovhbR/D0ksmk2flSzAK8skryuVHRdzknaOwziteigDBs/BPh3T9WGpWemJHcq7PH+8cxxM33mSMnYhPqoBq7HoOmRSak4s0Y6owa9EhLrMQgTlSSMbQBgcVo0UdLB1uYui+END8P3L3Gk2PlTOgj8x5XlZUznYpcnav+yMD2raoooAKKKKACiiigAooooAKKKKACiiigAooooAKq6hptpqkMUV/F5qQzx3CDcVxIjBlPBHQgHHSrVFABU0X3T9ahqaL7p+tADyAeozSbV/uj8qWorm5hs7Sa6upFighQySSMcBFAySfoKNg3JNq/wB0flRtX+6PyrhNJ+L2g6tqtnafYdYsoNQkMVjqF5Z+XbXbZwAj5JOe2QPfB4qbV/ihY6X4kvdEtfD/AIg1i5sQn2htKsROkZddygncCDj1HrQB2u1f7o/Kjav90flXHa98TNM0G7s7FtL1nUNRurUXZsLCz8yaCI/xSLkAc5BGTjH0pbr4oeHbfwbY+I4nubu31CRYbW2tod88spODGEzjcMHPOOOCcjIB2G1f7o/Kjav90flXO+E/G2neLxeR2lve2N5YuEubHUIPKniyMqSuTwee/aujoC4m1f7o/Kjav90flS0UAJtX+6Pyo2r/AHR+VLWP4n8VaT4Q0aTUtbuRDEo+RAQXlb+6i55P+TgUDSua+1f7o/Kjav8AdH5UkbiWJJFzhlDDPvTqBbibV/uj8qNq/wB0flS0UAJtX+6Pyo2r/dH5UtFACbV/uj8qNq/3R+VMnnitreSe4dY4okLu7HAVQMkn8K5mx+IGn3l1ZpLp2qWVrqDiOyvrq2CQ3DHlQDuLLuHTeq57UbuwdLnU7V/uj8qNq/3R+VctdfEHTba8vESx1O5s7CQxXmowW263t2H3gTncdv8AEVVgO9dQkiSRLJG6tGy7lYHgj1zR0uHWwu1f7o/Kjav90flXLWnxC0u7vLdFtNRisbub7Pa6nLbgW08mcAK2d3J4BKgHsTXVUdLh1sJtX+6Pyo2r/dH5UtFACbV/uj8qNq/3R+VLXJXPj9Y9VvbGx8Na9qf2KbyJbiygiaLftDEAtIDxuHajrYDrNq/3R+VG1f7o/Kuc1Hxra2OrPpttpmqancwRrLdLY24cWysMjeSwGSOdq5b2rQPiTSF8OLr0l/DHpjReaLiQ7V2/jzntjrnjrR0uHWxp7V/uj8qNq/3R+VYcPjDSpfBsfidnli06WISoXjy7AnCgKMksTgAD1FJo3i611a/lsJ7G/wBKvY4fPFvqEQjZ4s43qVZgQCQDzkZ5Ao62Dpc3dq/3R+VG1f7o/KuWsfiDpl9eWqLZ6jDZ3svk2epTW+23uX7BWzuGccFlAPYmuh1LUbXSNMuNQ1GYQ2ttGZJZCCdqj2HJ+lHS4dbFjav90flRtX+6Pyrn9H8Y2uq6ounz6dqWl3UsRmt49QgEf2hBjJQhiMjIypwwz0roaAE2r/dH5UbV/uj8qWigBNq/3R+VG1f7o/KlooATav8AdH5UbV/uj8qWigBNq/3R+VG1f7o/KlooATav90flRtX+6PypaKAE2r/dH5UbV/uj8qWigBNq/wB0flRtX+6Pypa5jVPHdhpl/d2yWGpXyWABvriytxJHaZGfnOQSQpyQoYgdaAOm2r/dH5UoAHQYqO3uIru1iuLaRZYZkDxup4ZSMgj8Kko2DcKgvYrWexni1GOGS0aNhMk6gxsmOdwPGMdc1PVbUtOttW0y40+/jMtrdRmKVA7JuUjBGVII/A0ne2g1vqeT2Af4peKdMbRbNNO8EeG7oS28ixeX9tmToEXjag/lnPJwtfxJ4Xj02z8X+NNF+IF0moRXDXDRafcIlujpjbBMm5t7fw8kdfunoewsvgz4C06/t72z0Hy7i3kWWJ/tk52spyDgvg8jvV3U/hf4M1jXjrOo6DBNfFw7PvdVdgc5ZAwVvfIOe+afa39ba/gF9df63/zPORNq3i/4jabPpGojwvrbeGY57y8eETfaFcqdgifAAByd3X8qw7O4tbz4Z+CdM02IabqJ10wwar5u9IplYF5gDw+7dwpwO2eK9s8S+APC/i94H8Q6RFdyW67I5A7xMF/u7kIJHseBk1JeeB/DV/4Xi8O3Oj27aVDjyrZQV8sg53BgQwbk5IOTk5JyaP8AP/26/wDwPxJt5/1a3/B/A4r4ZpNYfEjxnpmr3Q1bV0a3kn1ZVEYlQoNsfljhCvPQ8/hXqdY3hrwjoXhCzktfDmnR2UUrb5MMzs57ZZiWOOwzxzWzT6JB1bCiiikMK474l6TYT+CNb1Oe0ikvbfS7iOGd1y0ashzt9M+1djVbUdOtdW0y50/UIvOtbqNopo9xXcpGCMggj8KQ07Mfaf8AHlB/1zX+VTUiII0VEGFUYA9qWqbu7kRVkkFFFFIoKKKKAIrqOCa0ljvEjkt2QiVZQChXHIYHjGPWuLiL+O9QsHsYfs3hfTLhLiKYrtN/LH9zy17RKed38RAxxzXYajp9tqum3FhfoZLa5jaKVA7JuUjBGVII49DXOWPwy8K6Zc289lZXUb2zq8Q/tK5ZVKnI+UyEEcdCMUL4rv8Ar+ugPaxzki6jpnhvxRFpGp6W+gpNePNczpILm0dizSx7MBXOWO1iR1HDd+o0W1u4fhRY2rq4vF0ZIyp+8H8kDH1zVi98EeHdQ1c6neaYklyzq8n7xxHKy/dZ4wdjsOxYE8CtI6PYtryayYP+JglsbVZt7cRFgxXbnHUA5xmpcbwcX1SX3J/5/wDDlXtLmXS/4tf1/kee6jJDN8A9DSwKiSWPTYrYd/N82Lge4IP5GvT6wLXwP4cstYGqW2mIlysjSp+8cxxu3V1jJ2Kx9QAa360lLmbfd3ISsrBRRRUjCvLpNJt7bwfr3iXRvF2oie3uby8SRGMMMcquxMTwkYcZXadwJI6YGK9Rrn7nwJ4au9WfUbjS0eeSQSyL5jiKRx0dogdjN7lSaWt9B37nOaTJrLa9qF7oNxpgmv7e1udUs9QWVGsZWhADKVGHUqv3SRyp+Yc1N8PdGtNT8Aae+rQR36x39zeWrzJwSZpCkgXoMhsj0zXRa14O0HxBdrdatYCadU8oukrxl0znY+xhvXP8LZHtWxDBFb26QW8aRQxqESNFwqqBgAAdBTeqdidbJP8ArQ8styqfBrwfLMD9ni1CxeY9gvngZPtkrWt46Sa48Y6ZDYHNyujamzqn3tpRFX/x/H5V18Ph/SofDw0JbKNtMEXk/ZpMupT0O7JP41BonhTRvDsksmk2flSzKFeWSV5XKjou5ySFHYZxSkua673/ABVi+a0lL+t7nHatLBP8GvDa2JXdM+lpagdd4kiOB7gA/ka3fiZgeBLh3BMMdzbST/8AXNZ4y5PtgHNXbLwP4c0/VxqVnpaR3KOzx/vHMcTN95kjJ2IT3KgGr0fh/S4pdTdbNGOqsGvRIS6zEIE5UkjG0AYAxVSldt+d/wAv8iIqyS+X5mF4obzPHXgxIGBlF1cSnB58oW7Bj9Msg+pFddWJong/QvDty9xpNj5UzoIvMeV5WVM52KXY7V/2Rge1bdIfUKKKKACiiigAooooAKKKKACiiigAooooAK47X7K38SaJrFr4c1pdJeCWVNR8q3UCWTYMrKSA2CuMspBI6NxXY1g6p4I8Pa1qD32o6cJZ5FCylZXRZwOgkVWCyAf7QNTJXVv6/ryGnbUd4L1BdV8D6NeparaLNZxlYEztjG3GBnnHHHtW5TURIo1jiVURQFVVGAAOgAp1aSd22TFWSQUUyX7o+tQ1IyzRVaigCzRVaigCzRVaigCzRVaigCzRVaigCzRVaigCzRVaigCzRVaigCzRVaigCzRVaigCzRVaigCzRVaigCzRVaigCzRVaigCzRVaigCzRVaigCzRVaigCzRVaigCzRVaigCzRVaigCzRVaigCzRVaigCzRVaigCzRVaigCzRVapovun60AEv3R9agZlRC7sFVRksTgAVPL90fWq0sSTQvFKNyOpVhnqD1pO9tAXmcVoHxR0vxP8AEC58OaJF9pt7e2aVtQEmEdlYAqq45HzfezzjgEYJztW+LVzZX2rSaZ4WudR0fRZxb6hqC3aRmNt2G2xkEvj6j3wOahsLG10z9odLPT7eO2tofDYWOKJQqqPO7AV534iGl3q+Pb7U9abRdSh1HEehxTeXDehCNrPF1kLYJJB4J3dKelk/J/hK39JDWrs+6/K565rnjTxFYI19ovg9dU0b7Mtyuovq0VsChXcSUcZGBVJPilcn4bW3iiXw60dxfXaWtnp7XeDOWbAYOU4zhjyO3vms/wAfX13rXg/wj4faIWM/iSa3S6gjBXyogqvIo7gAkD6VtfELSvB02l6Jp3jC8k0/TI7pVtokJSGRlXAR3CnYu3P8S9+eKbVm152/z/OxKd0vS/8Al/mbXhnWPEWqNcDxH4X/ALBEYXyT/aEdz5uc5+4Btxgdeua6CvK/hgtlZePfEumeEbk3HhaGOF4tk5miinYfMEYk5yM55PQc16pQ9kwW7QUUUUhhXO6v4lvbfW/7I0DSP7VvY4BcXAe5EEcKEkKNxDZZipwMduSK6KuOtb210r4oa4upTQ2322xtprd5XCiRY/MVwCf7pIJ/3qXUOn9dzf0DW4fEGjx39vHJDuZo5IZQN8UiMVdDjuGBFaVcl8Ov3uh6hfIS1vqGrXd1bMf4omkO1h7HGR9a62qDq16hRRRSAKKKKACud/4S+3k8eR+GbaBpm+zySzXQbCRuuz9305bDgnnjI9eNPW/7T/sO7/sEQnUTGRb+e2EDnoTwenX8K88sIde0nxx4as30GziKWt3uf+1DK0u54jLKzeSMvnnHfPUYoWsrf1swex0V944u4ZNRudP0GS+0jS5WivLxblUfKf6zy4yPnC98leQQM4rq4rqGazS6jkVoHjEiydipGc/lXnmm6xp+i+BfFNlqVzDDdWl3fCSBnAdjK7vHhep3B1x610OlweR4DsvD01xENVGiqht2kHmHEYQtt643HGemaltqDa7J+t03+g7LmS83+DRTtfHtxKlnqNzoUlvoF/MsNvqBuFL/ADnbG7xY+VGJGDuJ5GQK7OvLLvVLLU/g3omk2VxGNQuTZWcdqjAyJLHJHvUr1G3YxPpivU60aSul3/yJTb1YUUUVIwrnvEPi+30HVtL00W73V1qFzHEVRsCBGbb5jHBwM8Adzn0NdAxIU7RlscAnGTXkmrW/ivT4LKfU9E0+W+u9btpZbldUY+Ywf93GF8n5EA4HJxycEk0vtJea/MH8Lfk/yO1vvFOotr13pnh7QjqjWCqbyZ7pYFRmG4ImQdzbeewGRzUU3jlbi10oeH9Nl1G+1RZGitZJRCIRGQJDKxzt2sdvAJJ6Vk3Ei23i/VpLbxCPDty1tDcanb3USSxSDZgSwszDBAXaSQRkDK1iaHZJZ6L4XmXUrjRtSupr17G9uIVlieKWQyeXMrFcl12sMYOQeaa8/wCv6++3mD8jsz44jtdJ1CbVNOmttR0+WOCWwR1kaSSQgReW3AYMSME475AxU2m+KbptWbTPEmlDSLo2zXUJW5E8csakB/mAXDLkZGO/BNeeXMbDUda8QSXx1SztdV0z7TfbVWNjC580oF4CJ5ijvjacknJrpfFLR+I/GFjaaLcR3MlvpF+8phcMFEqIkYJHTcckfSk3aLfr/wCk3GknK39b2NCz8d3M32C+vNCktNE1KVIrW+NyrPlziNpIsfIrHGDk9RkCuj1vV7bQdFutTvd5htk3FYxlnPQKo7kkgD3NcBfatY6v8LvDunafcRPe3ctjBHbo4MiPHIhkBXqNgRs+mK3/AIg3MFz4N1H7LLFcvptxbz3cUbhmjVJUkYMByDsBOD2qpJK6Xe3y01/EmLbs3933lrTPFGoPrdvpniHRDpM17E0loy3SzrJtwWRiANrgHOOQecHiulritY1Cz1rxx4Sh0q7humhkmvpDBIHCQ+SyBiR0BZ1A9efSu1o6AFFFFIYUUUUAFFFFABRRRQAUUUUAFFFFABXMeIvHenaBrFjpKo95qF3cwwtDFnFukjhBJI2CFHPAPJPHuOnrk/HsUaabp0iRqrya1p+9goBbE6AZPehfFFea/MOj9GdZU0X3T9ahqaL7p+tABL90fWoamlBK8DPNRbW/un8qAKv9nWP9pf2j9jt/t3l+V9q8pfN2Zzt34zjPOM4qvdeHtFvtRj1C90iwub2LbsuZrZHkTacjDEZGD0rS2t/dP5UbW/un8qAKs+nWV1eW91dWdvNc2pJgmkiVnhJ4O1iMrn2pb6ws9Ts3tNStILu2kxvhuIxIjYORlTweRVna390/lRtb+6fyoAq6fptjpNoLXS7K3srcEkQ20SxoCepwoAqzS7W/un8qNrf3T+VACUUu1v7p/Kja390/lQAlU9R0jTdXiSPVtPtb6NG3ItzAsgU+oDA4NXdrf3T+VG1v7p/KgBqIsaKiKFVRhVAwAPSlpdrf3T+VG1v7p/KgBKKXa390/lRtb+6fyoASil2t/dP5UbW/un8qAEqJrW3e6juXgjaeJWWOUoCyBsZAPUA4GfXAqba390/lRtb+6fyoAoz6Npd1qEV/dabZzXkP+quZIFaSP/dYjI/CpzZ2pvhem2hN2sZiE/ljzAhOSu7rjIzjpU+1v7p/Kja390/lQBRi0bS4dTfUodNs476QYe6SBRKw93xk/nV2l2t/dP5UbW/un8qAEopdrf3T+VG1v7p/KgBKintYLoILmCOYRuJEEiBtrjowz0I7Gptrf3T+VG1v7p/KgCjf6NpeqyQvqem2l48B3RNcQLIYz6rkHH4VLe6fZ6naNa6laQXdu+N0M8QkRseqkYqztb+6fyo2t/dP5UAV4LK1trNbS2toYbZV2LDHGFQL6BRxiotO0jTdIiePSdPtbGN23OltAsYY+pCgZNXdrf3T+VG1v7p/KgCjDo2l2+pSajb6bZxXsoxJcpAqyP8AVgMmporK1t5p5YLaGKS5YNO6RgNKQMAsR1OABz2qxtb+6fyo2t/dP5UAUdP0bTNJMp0rTrSyMzbpfs0Cx7z6naBk/WrtLtb+6fyo2t/dP5UAJRS7W/un8qNrf3T+VACUUu1v7p/Kja390/lQAlFLtb+6fyo2t/dP5UAJRS7W/un8qNrf3T+VACUUu1v7p/Kja390/lQAlFLtb+6fyo2t/dP5UAJUVxa292ipdQRzqjrIokQMFZTlWGehBGQe1TbW/un8qNrf3T+VACVNF90/Wotrf3T+VSxAheRjmgB9FFFABRRRQAUUUUAFFFFABRRRQAUUUUAFFFFABRRRQAUUUUAFFFFABRRRQAUUUUAFFFFABRRRQAUUUUAFFFFABRRRQAUUUUAFFFFABRRRQAUUUUAFFFFABRRRQAUUUUAFFFFABRRRQB//2Q==)"
      ]
    },
    {
      "cell_type": "markdown",
      "metadata": {
        "id": "e8Xwr18JMMV3"
      },
      "source": [
        "и после кодирования:"
      ]
    },
    {
      "cell_type": "markdown",
      "metadata": {
        "id": "3OKQsUcWMPc7"
      },
      "source": [
        "![2 после кодирования.JPG](data:image/jpeg;base64,/9j/4AAQSkZJRgABAQEAYABgAAD/4RDsRXhpZgAATU0AKgAAAAgABAE7AAIAAAALAAAISodpAAQAAAABAAAIVpydAAEAAAAWAAAQzuocAAcAAAgMAAAAPgAAAAAc6gAAAAgAAAAAAAAAAAAAAAAAAAAAAAAAAAAAAAAAAAAAAAAAAAAAAAAAAAAAAAAAAAAAAAAAAAAAAAAAAAAAAAAAAAAAAAAAAAAAAAAAAAAAAAAAAAAAAAAAAAAAAAAAAAAAAAAAAAAAAAAAAAAAAAAAAAAAAAAAAAAAAAAAAAAAAAAAAAAAAAAAAAAAAAAAAAAAAAAAAAAAAAAAAAAAAAAAAAAAAAAAAAAAAAAAAAAAAAAAAAAAAAAAAAAAAAAAAAAAAAAAAAAAAAAAAAAAAAAAAAAAAAAAAAAAAAAAAAAAAAAAAAAAAAAAAAAAAAAAAAAAAAAAAAAAAAAAAAAAAAAAAAAAAAAAAAAAAAAAAAAAAAAAAAAAAAAAAAAAAAAAAAAAAAAAAAAAAAAAAAAAAAAAAAAAAAAAAAAAAAAAAAAAAAAAAAAAAAAAAAAAAAAAAAAAAAAAAAAAAAAAAAAAAAAAAAAAAAAAAAAAAAAAAAAAAAAAAAAAAAAAAAAAAAAAAAAAAAAAAAAAAAAAAAAAAAAAAAAAAAAAAAAAAAAAAAAAAAAAAAAAAAAAAAAAAAAAAAAAAAAAAAAAAAAAAAAAAAAAAAAAAAAAAAAAAAAAAAAAAAAAAAAAAAAAAAAAAAAAAAAAAAAAAAAAAAAAAAAAAAAAAAAAAAAAAAAAAAAAAAAAAAAAAAAAAAAAAAAAAAAAAAAAAAAAAAAAAAAAAAAAAAAAAAAAAAAAAAAAAAAAAAAAAAAAAAAAAAAAAAAAAAAAAAAAAAAAAAAAAAAAAAAAAAAAAAAAAAAAAAAAAAAAAAAAAAAAAAAAAAAAAAAAAAAAAAAAAAAAAAAAAAAAAAAAAAAAAAAAAAAAAAAAAAAAAAAAAAAAAAAAAAAAAAAAAAAAAAAAAAAAAAAAAAAAAAAAAAAAAAAAAAAAAAAAAAAAAAAAAAAAAAAAAAAAAAAAAAAAAAAAAAAAAAAAAAAAAAAAAAAAAAAAAAAAAAAAAAAAAAAAAAAAAAAAAAAAAAAAAAAAAAAAAAAAAAAAAAAAAAAAAAAAAAAAAAAAAAAAAAAAAAAAAAAAAAAAAAAAAAAAAAAAAAAAAAAAAAAAAAAAAAAAAAAAAAAAAAAAAAAAAAAAAAAAAAAAAAAAAAAAAAAAAAAAAAAAAAAAAAAAAAAAAAAAAAAAAAAAAAAAAAAAAAAAAAAAAAAAAAAAAAAAAAAAAAAAAAAAAAAAAAAAAAAAAAAAAAAAAAAAAAAAAAAAAAAAAAAAAAAAAAAAAAAAAAAAAAAAAAAAAAAAAAAAAAAAAAAAAAAAAAAAAAAAAAAAAAAAAAAAAAAAAAAAAAAAAAAAAAAAAAAAAAAAAAAAAAAAAAAAAAAAAAAAAAAAAAAAAAAAAAAAAAAAAAAAAAAAAAAAAAAAAAAAAAAAAAAAAAAAAAAAAAAAAAAAAAAAAAAAAAAAAAAAAAAAAAAAAAAAAAAAAAAAAAAAAAAAAAAAAAAAAAAAAAAAAAAAAAAAAAAAAAAAAAAAAAAAAAAAAAAAAAAAAAAAAAAAAAAAAAAAAAAAAAAAAAAAAAAAAAAAAAAAAAAAAAAAAAAAAAAAAAAAAAAAAAAAAAAAAAAAAAAAAAAAAAAAAAAAAAAAAAAAAAAAAAAAAAAAAAAAAAAAAAAAAAAAAAAAAAAAAAAAAAAAAAAAAAAAAAAAAAAAAAAAAAAAAAAAAAAAAAAAAAAAAAAAAAAAAAAAAAAAAAAAAAAAAAAAAAAAAAAAAAAAAAAAAAAAAAAAAAAAAAAAAAAAAAAAAAAAAAAAAAAAAAAAAAAAAAAAAAAAAAAAAAAAAAAAAAAAAAAAAAAAAAAAAAAAAAAAAAAAAAAAAAAAAAAAAAAAAAAAAAAAAAAAAAAAAAAAAAAAAAAAAAAAAAAAAAAAAAAAAAAAAAAAAAAAAAAAAAAAAAAAAAAAAAAAAAAAAAAAAAAAAAAAAAAAAAAAAAAAAAAAAAAAAAAAAAAAAAAAAAAAAAAAAAAAAAAAAAAAAAAAAAAAAAAAAAAAAAAAAAAAAAAAAAAAAAAAAAAAAAAAAAAAAAAAAAAAAAAAAAAAAAAAAAAAAAAAAAAAAAAAAAAAAAAAAAAAAAAAAAAAAAAAAAAAAAAAAAAAAAAAAAAAAAAAAAAAAAAAAAAAAAAAAAAAAAAAAAAAAAAAAAAAAAAAAAAAAAAAAAAAAAAAAAAAAAAAAAAAAAAAAAAAAAAAAAAAAAAAAAAAAAAAAAAAAAAAAAAAAAAAAAAAAAAAAAAAAAAAAAAAAAAAAAAAAAAAAAAAAAAAAAAAAAAAAAAAAAAAAAAAAAAAAAAAAAAAAAAAAAAAAAAAAAAAAAAAAAAAAAAAAAAAAAAAAAAAAAAAAAAAAAAAAAAAAAAAAAAAAAAAAAAAAAAAAAAAAAAAAAAAAAAAAAAAAAAAAAAAAAAAAAAAAAAAAAAAAAAAAAAAAAAAAAAAAAAAAAAAAAAAAAAAAAAAAAAAAAAAAAAAAAAAAAAAAAAAAAAAAAAAAAAAAAAAAAAAAAAAAAAAAAAAAAAAAAAAAAAAAAAAAAAAAAAAAAAAAAAAAAAAAAAAAAAAAAAAAAAAAAAAAAAAAAAAAAAAAAAAAAAAAAAAAAAAAAAAAAAAAAAAAAAAAAAAAAAAAAAAAAAAAAAAAAAAAAAAAAAAAAAAAAAAAAAAAAAAAAAAAAAAAAAAAAAAAAAAAAAAAAAAAAAAAAAAAAAAAAAAAAAAAAAAAAAAAEVnb3IgVW1hZXYAAAAFkAMAAgAAABQAABCkkAQAAgAAABQAABC4kpEAAgAAAAM1NAAAkpIAAgAAAAM1NAAA6hwABwAACAwAAAiYAAAAABzqAAAACAAAAAAAAAAAAAAAAAAAAAAAAAAAAAAAAAAAAAAAAAAAAAAAAAAAAAAAAAAAAAAAAAAAAAAAAAAAAAAAAAAAAAAAAAAAAAAAAAAAAAAAAAAAAAAAAAAAAAAAAAAAAAAAAAAAAAAAAAAAAAAAAAAAAAAAAAAAAAAAAAAAAAAAAAAAAAAAAAAAAAAAAAAAAAAAAAAAAAAAAAAAAAAAAAAAAAAAAAAAAAAAAAAAAAAAAAAAAAAAAAAAAAAAAAAAAAAAAAAAAAAAAAAAAAAAAAAAAAAAAAAAAAAAAAAAAAAAAAAAAAAAAAAAAAAAAAAAAAAAAAAAAAAAAAAAAAAAAAAAAAAAAAAAAAAAAAAAAAAAAAAAAAAAAAAAAAAAAAAAAAAAAAAAAAAAAAAAAAAAAAAAAAAAAAAAAAAAAAAAAAAAAAAAAAAAAAAAAAAAAAAAAAAAAAAAAAAAAAAAAAAAAAAAAAAAAAAAAAAAAAAAAAAAAAAAAAAAAAAAAAAAAAAAAAAAAAAAAAAAAAAAAAAAAAAAAAAAAAAAAAAAAAAAAAAAAAAAAAAAAAAAAAAAAAAAAAAAAAAAAAAAAAAAAAAAAAAAAAAAAAAAAAAAAAAAAAAAAAAAAAAAAAAAAAAAAAAAAAAAAAAAAAAAAAAAAAAAAAAAAAAAAAAAAAAAAAAAAAAAAAAAAAAAAAAAAAAAAAAAAAAAAAAAAAAAAAAAAAAAAAAAAAAAAAAAAAAAAAAAAAAAAAAAAAAAAAAAAAAAAAAAAAAAAAAAAAAAAAAAAAAAAAAAAAAAAAAAAAAAAAAAAAAAAAAAAAAAAAAAAAAAAAAAAAAAAAAAAAAAAAAAAAAAAAAAAAAAAAAAAAAAAAAAAAAAAAAAAAAAAAAAAAAAAAAAAAAAAAAAAAAAAAAAAAAAAAAAAAAAAAAAAAAAAAAAAAAAAAAAAAAAAAAAAAAAAAAAAAAAAAAAAAAAAAAAAAAAAAAAAAAAAAAAAAAAAAAAAAAAAAAAAAAAAAAAAAAAAAAAAAAAAAAAAAAAAAAAAAAAAAAAAAAAAAAAAAAAAAAAAAAAAAAAAAAAAAAAAAAAAAAAAAAAAAAAAAAAAAAAAAAAAAAAAAAAAAAAAAAAAAAAAAAAAAAAAAAAAAAAAAAAAAAAAAAAAAAAAAAAAAAAAAAAAAAAAAAAAAAAAAAAAAAAAAAAAAAAAAAAAAAAAAAAAAAAAAAAAAAAAAAAAAAAAAAAAAAAAAAAAAAAAAAAAAAAAAAAAAAAAAAAAAAAAAAAAAAAAAAAAAAAAAAAAAAAAAAAAAAAAAAAAAAAAAAAAAAAAAAAAAAAAAAAAAAAAAAAAAAAAAAAAAAAAAAAAAAAAAAAAAAAAAAAAAAAAAAAAAAAAAAAAAAAAAAAAAAAAAAAAAAAAAAAAAAAAAAAAAAAAAAAAAAAAAAAAAAAAAAAAAAAAAAAAAAAAAAAAAAAAAAAAAAAAAAAAAAAAAAAAAAAAAAAAAAAAAAAAAAAAAAAAAAAAAAAAAAAAAAAAAAAAAAAAAAAAAAAAAAAAAAAAAAAAAAAAAAAAAAAAAAAAAAAAAAAAAAAAAAAAAAAAAAAAAAAAAAAAAAAAAAAAAAAAAAAAAAAAAAAAAAAAAAAAAAAAAAAAAAAAAAAAAAAAAAAAAAAAAAAAAAAAAAAAAAAAAAAAAAAAAAAAAAAAAAAAAAAAAAAAAAAAAAAAAAAAAAAAAAAAAAAAAAAAAAAAAAAAAAAAAAAAAAAAAAAAAAAAAAAAAAAAAAAAAAAAAAAAAAAAAAAAAAAAAAAAAAAAAAAAAAAAAAAAAAAAAAAAAAAAAAAAAAAAAAAAAAAAAAAAAAAAAAAAAAAAAAAAAAAAAAAAAAAAAAAAAAAAAAAAAAAAAAAAAAAAAAAAAAAAAAAAAAAAAAAAAAAAAAAAAAAAAAAAAAAAAAAAAAAAAAAAAAAAAAAAAAAAAAAAAAAAAAAAAAAAAAAAAAAAAAAAAAAAAAAAAAAAAAAAAAAAAAAAAAAAAAAAAAAAAAAAAAAAAAAAAAAAAAAAAAAAAAAAAAAAAAAAAAAAAAAAAAAAAAAAAAAAAAAAAAAAAAAAAAAAAAAAAAAAAAAAAAAAAAAAAAAAAAAAAAAAAAAAAAAAAAAAAAAAAAAAAAAAAAAAAAAAAAAAAAAAAAAAAAAAAAAAAAAAAAAAAAAAAAAAAAAAAAAAAAAAAAAAAAAAAAAAAAAAAAAAAAAAAAAAAAAAAAAAAAAAAAAAAAAAAAAAAAAAAAAAAAAAAAAAAAAAAAAAAAAAAAAAAAAAAAAAAAAAAAAAAAAAAAAAAAAAAAAAAAAAAAAAAAAAAAAAAAAAAAAAAAAAAAAAAAAAAAAAAAAAAAAAAAAAAAAAAAAAAAAAAAAAAAAAAAAAAAAAAAAAAAAAAAAAAAAAAAAAAAAAAAAAAAAAAAAAAAAAAAAAAAAAAAAAAAAAAAAAAAAAAAAAAAAAAAAAAAAAAAAAAAAAAAAAAAAAAAAAAAAAAAAAAAAAAAAAAAAAAAAAAAAAAAAAAAAAAAAAAAAAAAAAAAAAAAAAAAAAAAAAAAAAAAAAAAAAAAAAAAAAAAAAAAAAAAAAAAAAAAAAAAAAAAAAAAAAAAAAAAAAAAAAAAAAAAAAAAAAAAAAAAAAAAAAAAAAAAAAAAAAAAAAAAAAAAAAAAAAAAAAAAAAAAAAAAAAAAAAAAAAAAAAAAAAAAAAAAAAAAAAAAAAAAAAAAAAAAAMjAyMjoxMjoxOCAxMzozODo0MQAyMDIyOjEyOjE4IDEzOjM4OjQxAAAARQBnAG8AcgAgAFUAbQBhAGUAdgAAAP/hCx1odHRwOi8vbnMuYWRvYmUuY29tL3hhcC8xLjAvADw/eHBhY2tldCBiZWdpbj0n77u/JyBpZD0nVzVNME1wQ2VoaUh6cmVTek5UY3prYzlkJz8+DQo8eDp4bXBtZXRhIHhtbG5zOng9ImFkb2JlOm5zOm1ldGEvIj48cmRmOlJERiB4bWxuczpyZGY9Imh0dHA6Ly93d3cudzMub3JnLzE5OTkvMDIvMjItcmRmLXN5bnRheC1ucyMiPjxyZGY6RGVzY3JpcHRpb24gcmRmOmFib3V0PSJ1dWlkOmZhZjViZGQ1LWJhM2QtMTFkYS1hZDMxLWQzM2Q3NTE4MmYxYiIgeG1sbnM6ZGM9Imh0dHA6Ly9wdXJsLm9yZy9kYy9lbGVtZW50cy8xLjEvIi8+PHJkZjpEZXNjcmlwdGlvbiByZGY6YWJvdXQ9InV1aWQ6ZmFmNWJkZDUtYmEzZC0xMWRhLWFkMzEtZDMzZDc1MTgyZjFiIiB4bWxuczp4bXA9Imh0dHA6Ly9ucy5hZG9iZS5jb20veGFwLzEuMC8iPjx4bXA6Q3JlYXRlRGF0ZT4yMDIyLTEyLTE4VDEzOjM4OjQxLjU0NDwveG1wOkNyZWF0ZURhdGU+PC9yZGY6RGVzY3JpcHRpb24+PHJkZjpEZXNjcmlwdGlvbiByZGY6YWJvdXQ9InV1aWQ6ZmFmNWJkZDUtYmEzZC0xMWRhLWFkMzEtZDMzZDc1MTgyZjFiIiB4bWxuczpkYz0iaHR0cDovL3B1cmwub3JnL2RjL2VsZW1lbnRzLzEuMS8iPjxkYzpjcmVhdG9yPjxyZGY6U2VxIHhtbG5zOnJkZj0iaHR0cDovL3d3dy53My5vcmcvMTk5OS8wMi8yMi1yZGYtc3ludGF4LW5zIyI+PHJkZjpsaT5FZ29yIFVtYWV2PC9yZGY6bGk+PC9yZGY6U2VxPg0KCQkJPC9kYzpjcmVhdG9yPjwvcmRmOkRlc2NyaXB0aW9uPjwvcmRmOlJERj48L3g6eG1wbWV0YT4NCiAgICAgICAgICAgICAgICAgICAgICAgICAgICAgICAgICAgICAgICAgICAgICAgICAgICAgICAgICAgICAgICAgICAgICAgICAgICAgICAgICAgICAgICAgICAgICAgICAgICAKICAgICAgICAgICAgICAgICAgICAgICAgICAgICAgICAgICAgICAgICAgICAgICAgICAgICAgICAgICAgICAgICAgICAgICAgICAgICAgICAgICAgICAgICAgICAgICAgICAgIAogICAgICAgICAgICAgICAgICAgICAgICAgICAgICAgICAgICAgICAgICAgICAgICAgICAgICAgICAgICAgICAgICAgICAgICAgICAgICAgICAgICAgICAgICAgICAgICAgICAgCiAgICAgICAgICAgICAgICAgICAgICAgICAgICAgICAgICAgICAgICAgICAgICAgICAgICAgICAgICAgICAgICAgICAgICAgICAgICAgICAgICAgICAgICAgICAgICAgICAgICAKICAgICAgICAgICAgICAgICAgICAgICAgICAgICAgICAgICAgICAgICAgICAgICAgICAgICAgICAgICAgICAgICAgICAgICAgICAgICAgICAgICAgICAgICAgICAgICAgICAgIAogICAgICAgICAgICAgICAgICAgICAgICAgICAgICAgICAgICAgICAgICAgICAgICAgICAgICAgICAgICAgICAgICAgICAgICAgICAgICAgICAgICAgICAgICAgICAgICAgICAgCiAgICAgICAgICAgICAgICAgICAgICAgICAgICAgICAgICAgICAgICAgICAgICAgICAgICAgICAgICAgICAgICAgICAgICAgICAgICAgICAgICAgICAgICAgICAgICAgICAgICAKICAgICAgICAgICAgICAgICAgICAgICAgICAgICAgICAgICAgICAgICAgICAgICAgICAgICAgICAgICAgICAgICAgICAgICAgICAgICAgICAgICAgICAgICAgICAgICAgICAgIAogICAgICAgICAgICAgICAgICAgICAgICAgICAgICAgICAgICAgICAgICAgICAgICAgICAgICAgICAgICAgICAgICAgICAgICAgICAgICAgICAgICAgICAgICAgICAgICAgICAgCiAgICAgICAgICAgICAgICAgICAgICAgICAgICAgICAgICAgICAgICAgICAgICAgICAgICAgICAgICAgICAgICAgICAgICAgICAgICAgICAgICAgICAgICAgICAgICAgICAgICAKICAgICAgICAgICAgICAgICAgICAgICAgICAgICAgICAgICAgICAgICAgICAgICAgICAgICAgICAgICAgICAgICAgICAgICAgICAgICAgICAgICAgICAgICAgICAgICAgICAgIAogICAgICAgICAgICAgICAgICAgICAgICAgICAgICAgICAgICAgICAgICAgICAgICAgICAgICAgICAgICAgICAgICAgICAgICAgICAgICAgICAgICAgICAgICAgICAgICAgICAgCiAgICAgICAgICAgICAgICAgICAgICAgICAgICAgICAgICAgICAgICAgICAgICAgICAgICAgICAgICAgICAgICAgICAgICAgICAgICAgICAgICAgICAgICAgICAgICAgICAgICAKICAgICAgICAgICAgICAgICAgICAgICAgICAgICAgICAgICAgICAgICAgICAgICAgICAgICAgICAgICAgICAgICAgICAgICAgICAgICAgICAgICAgICAgICAgICAgICAgICAgIAogICAgICAgICAgICAgICAgICAgICAgICAgICAgICAgICAgICAgICAgICAgICAgICAgICAgICAgICAgICAgICAgICAgICAgICAgICAgICAgICAgICAgICAgICAgICAgICAgICAgCiAgICAgICAgICAgICAgICAgICAgICAgICAgICAgICAgICAgICAgICAgICAgICAgICAgICAgICAgICAgICAgICAgICAgICAgICAgICAgICAgICAgICAgICAgICAgICAgICAgICAKICAgICAgICAgICAgICAgICAgICAgICAgICAgICAgICAgICAgICAgICAgICAgICAgICAgICAgICAgICAgICAgICAgICAgICAgICAgICAgICAgICAgICAgICAgICAgICAgICAgIAogICAgICAgICAgICAgICAgICAgICAgICAgICAgICAgICAgICAgICAgICAgICAgICAgICAgICAgICAgICAgICAgICAgICAgICAgICAgICAgICAgICAgICAgICAgICAgICAgICAgCiAgICAgICAgICAgICAgICAgICAgICAgICAgICAgICAgICAgICAgICAgICAgICAgICAgICAgICAgICAgICAgICAgICAgICAgICAgICAgICAgICAgICAgICAgICAgICAgICAgICAKICAgICAgICAgICAgICAgICAgICAgICAgICAgICAgICAgICAgICAgICAgICAgICAgICAgICAgICAgICAgICAgICAgICAgICAgICAgICAgICAgICAgICAgICAgICAgICAgICAgIAogICAgICAgICAgICAgICAgICAgICAgICAgICAgPD94cGFja2V0IGVuZD0ndyc/Pv/bAEMABwUFBgUEBwYFBggHBwgKEQsKCQkKFQ8QDBEYFRoZGBUYFxseJyEbHSUdFxgiLiIlKCkrLCsaIC8zLyoyJyorKv/bAEMBBwgICgkKFAsLFCocGBwqKioqKioqKioqKioqKioqKioqKioqKioqKioqKioqKioqKioqKioqKioqKioqKioqKv/AABEIAPwCSQMBIgACEQEDEQH/xAAfAAABBQEBAQEBAQAAAAAAAAAAAQIDBAUGBwgJCgv/xAC1EAACAQMDAgQDBQUEBAAAAX0BAgMABBEFEiExQQYTUWEHInEUMoGRoQgjQrHBFVLR8CQzYnKCCQoWFxgZGiUmJygpKjQ1Njc4OTpDREVGR0hJSlNUVVZXWFlaY2RlZmdoaWpzdHV2d3h5eoOEhYaHiImKkpOUlZaXmJmaoqOkpaanqKmqsrO0tba3uLm6wsPExcbHyMnK0tPU1dbX2Nna4eLj5OXm5+jp6vHy8/T19vf4+fr/xAAfAQADAQEBAQEBAQEBAAAAAAAAAQIDBAUGBwgJCgv/xAC1EQACAQIEBAMEBwUEBAABAncAAQIDEQQFITEGEkFRB2FxEyIygQgUQpGhscEJIzNS8BVictEKFiQ04SXxFxgZGiYnKCkqNTY3ODk6Q0RFRkdISUpTVFVWV1hZWmNkZWZnaGlqc3R1dnd4eXqCg4SFhoeIiYqSk5SVlpeYmZqio6Slpqeoqaqys7S1tre4ubrCw8TFxsfIycrS09TV1tfY2dri4+Tl5ufo6ery8/T19vf4+fr/2gAMAwEAAhEDEQA/APpDav8AdH5UbV/uj8qWigBNq/3R+VG1f7o/KlooATav90flRtX+6PypaKAE2r/dH5UbV/uj8qWigBNq/wB0flRtX+6PypaKAE2r/dH5UbV/uj8qWigBNq/3R+VG1f7o/KlooATav90flRtX+6PypaKAE2r/AHR+VG1f7o/KlooATav90flRtX+6PypaKAE2r/dH5UbV/uj8qWigBNq/3R+VG1f7o/KlooATav8AdH5UbV/uj8qWigBNq/3R+VG1f7o/KlooATav90flRtX+6PypaKAE2r/dH5UbV/uj8qWigBNq/wB0flRtX+6PypaKAE2r/dH5UbV/uj8qWigBNq/3R+VG1f7o/KlooATav90flRtX+6PypaKAE2r/AHR+VG1f7o/KlooATav90flRtX+6PypaKAE2r/dH5UbV/uj8qWigBNq/3R+VG1f7o/KlooATav8AdH5UbV/uj8qWigBNq/3R+VG1f7o/KlooATav90flRtX+6PypaKAE2r/dH5UbV/uj8qWigBNq/wB0flRtX+6PypaKAE2r/dH5UbV/uj8qWigBNq/3R+VG1f7o/KlooATav90flRtX+6PypaKAE2r/AHR+VG1f7o/KlooATav90flRtX+6PypaKAE2r/dH5UbV/uj8qWigBNq/3R+VG1f7o/KlooATav8AdH5UbV/uj8qWigAooooAKKKKACiiigAooooAKKKKACiiigAooooAKKKKACiiigAopkxIgkI4IU4P4V87NZax/wAKN/4TX/hNPFP9o7yPJ/tV/J/4+PL+797p/tdaFq7en4lKN0fRlFecX3jPxdqOraxF4M03SpLLQmEd3JqMkge4kC7mWILwCBxluKdqvxE1K68D+GdW8KW1mt9r95HapFqG9o4ywbdkoQeGXr6dqFqrry/HYn/g/huei0Vx3w68Ta14jtdZj8RxWEd7pepSWLfYFcRtsAyRvJJ5J9PpXY07AFFFFIAooooAKKKKACivJfi7f3kHjDwzZQ3fiaO1uIbkzQeG5CLiUqE2kL0OO+egzVLwr4/1PSfA8yGa51nVZ9cOm6da6mxW4g3fcW5OAcgBicZ9M+hHVX/rewPR/wBdrns9FefaV4t8Vp4ivfC3iS00ePWjprX1hc2bym2fBKhXDfOMN1x2ziuf8FfFrWtf8a2Wi3EmgapFch/NfSY7qJrYKudzeeoDDPGBQtXZA9FdnsNFeQH4leN20TVtfg0bRm0jRr6WC4LyyLNcIj7f3YyQpAIyWPPYdqtePfihqHhy9tJNL1XwzDZ3NolwtvqCXL3RLAnpCCFBGMFsc5pXVr/1rqg62/rQ9Vorzif4mX9/4f8AC/8AwjumQSa34lVjBDdSkQwBBmRmI5IHYDBP6HbEnxAfwy4+z+HYtdS4Chmkma0lixksAPnVsnGD6Z71TTV79AVnbzOsorz34b+JPG3iuNdT1uPQI9JLSwlbRZhceYjbf4iV25B75r0Kl0uAUUUUAFFFFABRRXD/ABN+0Lp9i0c3isQGRlki8LRBp2OAQzMeVUYPTqWpN2Glc7iivIfBfizVYfhz4hum1yA3WnXzJb/8JKziS1jyuFuCoDFiN2MZ5wPaneDfi9f69PrVldNpF7cWOmyX8NzpqXCQkpwUZZgrZyQcjjFN6X9L/hcSTf32/Gx65RXk2nfEnxfHY+HNc8QaRpMOh61PFaAW8rm4R5M4lwflCHGdvJA6mql98RPiCuieIdfsLfw1/ZWj301qUnS489gjhQcBtp6juO9D036fpb/NAtbef9foz2SiuD8V+KvEtvq3hvSfCkWktfavBNNIdRWTy0CIrcbDkdSOh7Vgn4n623ws0zxJJeeG9Nvbi4ljmW/WfymVGZf3aRlnLcDPWh6Xv/WtgWqTX9dT1qivNPCPjvxJ468I38vh9NDOsWN2sJmmE4tJkIzuUYEgPbB9Kk8A+J/HHiWOTUtZXw5BpMMk8EhgE6zB48jPzErtyOuc4o2dvn/X3h0/A9Horxrw78YtTuPG2n6Hqt54b1NLyf7OToq3QaJiOG3SrsZc8fKe9ey07aXFfWwUUUUhhRXh958QR4Z8JeLtA8S6tqFn4iNxdnTjKJmZkb/VGOQAhV9ORiumvvFfiW00vwRpfhr+z7jU9as98kuq+YyjZCrliUO7JyecHJoWquvL8Vf8Lah1t6/h/melUV45cfGe/wBP8A6Zf6jFpkOr6jd3FuHZZhawrExBdgu5z/CMDrntilsvjPfXvw78R6rBFps+p6I0H72BJvss6yOFDBX2uMfMMHuAaFqrr+v6uOzul3/4Y9ioryS++Ntre6ksHhCe0v4o9Luru4M1tMhSWOPcijdtypIOev1FXJfjFYXngH+1PD95ZXWrwfZVu7WSKRVjMjoj4UkEgFiAQSM45NNJt2/rdr9CHJJX/rZP9T0+iiuJ8UeLdcj8XW3hTwbZWM+qyWhvZp9RdxBBEG2jIT5iSfTpx+C62KO2orz3xh8QtS8E+ENOn1y20+DWr2doP9ZI9rHjOZTtUuVxtO0DPzY7VzWn/GjVNS8K6s9jDpV5rNjPaxQS26Ti1uPOkCD5X2uCOetK6u/IPU9nory3TPivfaz4r0ezsbK3Gm3dqRdTMrF47sQtK0QO7AC4AOQTzU3gn41eHNd0rT4dd1a0s9cuMrLbrDLHErbiAA7AryMfxd6q2thN23PTKK8o1z4uXujab4mItLafULDUpLPToER/nREDtJJ82SFGSSMdhxXpGg38uqeHNN1C4VFlurWKZ1QEKGZQTjOeOaUfeV15fjqN6Oz8/wANC/RRRQAUUUUAFFFFABRRRQAUUUUAFFFFABRRRQAUUUUAFFFFABRRRQA113xsucbgRmuDPwwz8Iv+EH/tf+It9t+zf9NvN+5v/D73v7V31FC0/rsO7RwGq/DW+l1fUrrw54rutEt9XwdRtY7VJRKdu0sjMcxkjuM81ZtPhtBaa5oU6anMdJ0GHbY6Z5SgCYggyu/Vic5xjg9O4rtqKFpt/X/DdOxNjn/C3hb/AIRmfW5Ptn2n+1dSlv8AHlbPK34+Tqc4x14+ldBRRQPd3CiiigAooooAKKKKAOO8Y+CtT8Q6/pOsaH4i/sO80xJkST7CtzuEgAPDMAOB6HrWYPhFbSaFcw3et3k2tXF+mpHV9iq6XCDCsqDgKMn5ffr0x6JRQtF/Xe/5h1v/AF2/I4nRvh/eWuoX2ra74mu9V1u6tDZR36QJb/Zos5/douQDnnPt9ar2/wAO9Yu/EGnaj4r8Y3GtRaXP9otLdbCK22v2LMvLfpXfUU+tw3VjxDwb4J1LxdpOs2914muLbw/Lrd0LjSoLVA0pEmT+++8AeOMdq7HVPhnPP4outV0PxHcaLDf20dre28FtG7SIi7VCO3MfGOgNd9RU2Vkv62sGt2+/+dzz5/hUq+FdAsLLXJrPVfD+42eqQwDI3E7g0ZJBB44z29yK6rw5pWp6Vprxa3rkut3ckhdrmSBIQBgAKqLwo4z9Sa16Kq7d/MVkkl2MDwX4YPhHw4NLN39rInlm80R7PvuWxjJ6Zx1rfoopdLDCiiigAooooAK5/wAT6FrWrNby+HvE8+gzwhlYrbJcRyA4+8j9xjg57mugooA86k+EkV14X1Sxv9cubnVtUuo7yfVHhUZlj+5iIcbR/dz369MRTeAr/SW1nxJrHiWfWb19CuLKTzLVIlxjcCoQ4UDb0wckk5r0qilJXTS/rS35Di7NP+t7/meRfD7wHfaz4Y8Laj4i8STX+mWUUV3Y6UtqkSQuB8u5xzJjtnH866Nvhtu8D+IfDv8AauP7avZrv7R9m/1PmOG27d3zY24zkfSu6oqpe9fz/r9ETHS3l/X6nJ6b4JltvGj+IdS1eS/aK0FpY2xhEaWseBu6E7iSOpx1xzxXPx/CGe00HQbfTPEj2mp6HPPLb34sldSJWJYGJmIz2Bz+Hp6ZRRca0Vv62t+Ry/gzwa/hKbVpZtWm1SXU7lbiSWeMK4baAckcHJyRgDAwO2aTw/4Ji0fwfqHh+6u2uob+S5aSRE8shZicgcnkA9a6mipaT+63y0/yBabd7/P+meaaX8Jr+ym0L7b4uuL220G6WaztfsMccaoAflO05LdPnJPfjmvS6KKq7FZXuFFFFIZmeJNH/wCEh8Malo/n/Z/t1s8HnbN+zcMZxkZ69Miuf0L4fy6Z4mtdX1LWpNRGn2CWOn2/2dYktl2KrtwSWLFc89M45wK7OihaO/8AX9asHrv/AF/VjzuP4UeR4d0+0s9emtdV0y8nu7PUobcfuzKxLKYySGXBx15x+FW77wLrut+BdU8P+JPF39pS3zIY7z+zUh8hVZWxsRhuyV65HWu5ooWisO7vzdTjfFHw/HiXUrW6OpfZhb6bc2BQQbt3nJt353DGOuO/qK5xfgtPcWkn9r+KZL69Fvb2kE/2BI1hgilWQJsVvmJ2Abic/WvVaKabTuv63f6slxTXL/XRfogrj/FPgWfWdftfEGga5NoOtW8Jt/tMcCzpJETna0bYB56c/wBK7CikM47VvAdxrHh3Tba68Q3n9s6bObm31gRoHEpJzmMfLtwcbfQDmoR4J8Q32mra+I/GP9qmO/tryJ/7Mjg2CJ9xTCNzuOOT0x0NdvRR1v8AP+vuDc5O6+H2nfbtNuNIK6ctnfT3ssaoXE7zRsj8lvl659OMYFcvZ/BzUholt4e1fxnNe+Hbdw40+PTYomOG3Aebkt1r1Sihe67r+rbfcD13PPP+FSWf2vxZeNf7rvxDHLFHKYOLNHHIA3fMc4ycjOAOK7fR9P8A7J0Ox07zfN+yW8cHmbdu/aoXOMnGcdKuUULRWX9W/wCHC2twooooAry+Z5h2zOo9AF/qKZ+9/wCfiT8l/wAKkk/1hptADf3v/PxJ+S/4Ufvf+fiT8l/wrLv/ABV4e0q7a11TXtMsrhQCYbi8jjcA9DtYg0268X+GrGYRX3iHSraRkVwk17GhKsMg4LdCOQaANb97/wA/En5L/hR+9/5+JPyX/Cq+n6pYava/adKvra+t9xXzbaZZFyOoypIzTrLULPUrcz6ddwXcIYoZIJA67hwRkcZHpQBN+9/5+JPyX/Cj97/z8Sfkv+FOooAb+9/5+JPyX/Cj97/z8Sfkv+FOqOC5guoy9tNHMiuyFo2DAMpww47gggjsRQA797/z8Sfkv+FH73/n4k/Jf8Kr6hqlhpNt9o1W+trGDcF825mWNc+mWIGae17apY/bWuYVtdnmeeZBs2/3t3THvQBL+9/5+JPyX/Cj97/z8Sfkv+FVbDVtN1W1a50vULW9t1JDS20yyKCOoypIqpZeLvDeo3iWmn+INLu7mTOyGC9jd2wMnCg5PAoA1f3v/PxJ+S/4Ufvf+fiT8l/wrEfxz4TjdkfxRoqspwynUIgQfT71X73XNJ05IH1DVLK0W4/1LT3CIJf93J569qALn73/AJ+JPyX/AAo/e/8APxJ+S/4VFdXtrY2j3V7cw21ugy800gRFHqWPApLK/s9StFutOuoLu3f7s0EgdG+hHFAE373/AJ+JPyX/AAo/e/8APxJ+S/4U6igBv73/AJ+JPyX/AAo/e/8APxJ+S/4VUvdZ0vTbiGDUdStLSa4OIY551RpD/sgnJ/CpL/UrHSrU3OqXtvZQA4MtxKsag+mWIFAE/wC9/wCfiT8l/wAKP3v/AD8Sfkv+FNt7mC7t0uLSaOeGQbkkiYMrD1BHBqSgBv73/n4k/Jf8KP3v/PxJ+S/4U6o1uYHuZLdJo2njVXeIOCyK2cEjqAcHHrg0AO/e/wDPxJ+S/wCFH73/AJ+JPyX/AApJporeF5riRIoowWd3YKqj1JPSoNP1Sw1a2+0aVfW19Bnb5ttMsi59MqSKALH73/n4k/Jf8KP3v/PxJ+S/4VStNd0m/vpbKx1SyubqHPmwQ3CPJH25UHI/GibXdJt9TTTZ9Usor6TGy1e4QStnphCcn8qALv73/n4k/Jf8KP3v/PxJ+S/4VQ1PxBo2ivGms6vY6e0oJjF3cpEXA643EZpH8R6JHpKapJrGnrp8jbUuzdIIWOSMB84JyCOvagDQ/e/8/En5L/hR+9/5+JPyX/CqNhr+j6rBNNpeq2N7FB/rZLa5SRY+M/MVJx071Jp2saZrEbyaRqNpfpG212tZ1lCn0JUnBoAtfvf+fiT8l/wo/e/8/En5L/hTqKAG/vf+fiT8l/wo/e/8/En5L/hUF/qVjpVqbnVLy3srcEAy3EqxoD9WIFPjvLaWzF3FcRPbFN4mVwUK+u7pj3oAk/e/8/En5L/hR+9/5+JPyX/CqunavpusQtLpOoWt9GjbWe2mWQKfQlSeauUAN/e/8/En5L/hR+9/5+JPyX/CnVHLcwQyxRzTRxyTsUiR3AMjAEkKO5wCeOwNADv3v/PxJ+S/4Ufvf+fiT8l/wp1UrXWtLvb6aystSs7i6g/1sEU6vJH/ALyg5H40AW/3v/PxJ+S/4Ufvf+fiT8l/wrEk8ceE4pGjl8T6MjoSrK2oRAqR1BG6r17r2kadbwT6hqtjaQ3GDDJPcoiy5GRtJOD17UeYF397/wA/En5L/hR+9/5+JPyX/ClVldAyMGVhkEHIIqGG9tbmF5re5hlijZkd0kDKrKcMCR0IIIPpigCX97/z8Sfkv+FH73/n4k/Jf8Kq6drGmaukjaTqNpfLG21zbTrIFPodpODTYtc0mfVH02DU7OS/j+/apcIZV+qA5H5UAXP3v/PxJ+S/4Ufvf+fiT8l/wp1FADf3v/PxJ+S/4Ufvf+fiT8l/woeRIo2kkZURRlmY4AHqTVbTtW07V4Wm0m/tb6JW2s9tMsig+hKk80AWf3v/AD8Sfkv+FH73/n4k/Jf8Kpw63pVzqUmnW+p2ct9EMyWqXCtKn1QHIq9QA397/wA/En5L/hR+9/5+JPyX/CnVS1HWdL0dY21fUrSwWQ7UN1OsQc+g3EZoAt/vf+fiT8l/wo/e/wDPxJ+S/wCFKrK6BkYMrDIIOQRVK41zSbTUYtPutTs4L2bHl20lwiyPn0UnJoAufvf+fiT8l/wo/e/8/En5L/hVXUdX03SIkk1bULWxjdtqPczLGGPoCxGTTrzVNP06x+26hfW1racfv55lSPnp8xOOaALH73/n4k/Jf8KP3v8Az8Sfkv8AhVHTNe0fWvN/sbVbHUPJx5n2W5SXZnOM7ScZwfyp1lrmk6lJPHp2qWV29v8A65YLhHMX+8AePxoAufvf+fiT8l/wo/e/8/En5L/hWH/wnfhE/wDM1aJ/4MYv/iq2bm7t7O2a5vJ4oIEGWllcKq/UngUAP/e/8/En5L/hR+9/5+JPyX/CnUUAN/e/8/En5L/hR+9/5+JPyX/CnVSh1nS7jUpNOt9Ss5b2IZktknVpE+qg5FAFv97/AM/En5L/AIUfvf8An4k/Jf8ACsu/8VeHtKuza6prumWVwoBMNxeRxuAehwxBrUiljnhSWF1kjkUMjochgeQQe4oAsRZ8sbmLH1OP6U+mx/6sU6gCCT/WGm06T/WGm0AeIeIdA8S6Z4g8VeMNQ8L+H9U03zlk8nVgJp2t4gBuhxlUyuT83PHQ8A7fj268Py/Duy1nTvDulz6nraQWumm4sY3dDIo2jJU/dXOB04Famt/DjWdWub+3i8calBoeoyb7nTpIhM20nLJHMxyinoFAwO4I4rV1TwLBf6j4XktrkWtj4ek3x2gh3CXCgJ82Rtxj0Oc0kk4qL8vu6jb95yXn/wAAzh8OZbP4f6f4V0PVpdLgWQNqNzbj97cKQS4U/wAJZsDPYccjg0/gOoT4XwoOi3c4Gf8Aer0g8iuc8C+Ev+EK8MrpH237btmkl83yvL+8c4xk9PrVJ+9Jvr/mKy5Uuz/RnR0UUUgM/W9Mm1jS3sodQuNO8xhvmtSBJszyqsfukjjPUVgfDG1isfBrWlsCsMGoXkcYLFiFW4kA5PJ4HU119Yml6BPpHh280+z1DZcTzXM0V15APktLIzg7CSG2lu/XHbNG1w3t/Xcy5LaDU/izIl/FHOlhpCPbxyqGCNLK4dgD3xGoz6VmaDoWnX6a1pd98mk6LrzTw2+VEO3y1k2MCMbAzlscAED0rdv/AAxqE91Y6lYa39l1m2tfss909oskd0hwTujyMHcNwwwxkjkVmap8PLm88LJpFnrxheW8N5qFxcWgl+3OTkqyhlAXOPl6YUChaf1/evcHr/X92xQhgm1u/wDEWu+EbJY7WfSmsbR1AiGoTjdiUZwNq52hz1ycHAp+mRX3g240CDV9J0X7HctHYRy2URE9rKUwu5zxIDtIJAXk9DW1D4V1a80290vxRrlvqenXVsYPIt9OFqY8/wAQYO3QdBiksvCGoNf6fN4h19tWh0tvMtIRarD+82lRJIQTvYAnGNoyc4prR/d+b/zE9V56/krfkZ/iPSNN1vxVp/hmDTrRINn2/U3SBQxiVsJHnH8b9fZSO9T6Ppljq3jbxU+pWkFz5DQWMSSxhhHD5KuVAPQFnbPr+Fb1hof2PxNqusPcea2oJDGsfl48lY1IxnPOSxPQdaz9T8L6hJrdzqfh7XDpM17EsV2rWqzrJtyFdQSNrgHGeQRjI4qelv6/q2hXX+v631PPNLm1DUbnwpotvbW14lr/AGgYPtxLRR+TP5UcjKOX2pkAZHLA5GM1rSeI5/CkOuWy6Za2+vvfWsckmnxSyQTecCFmWDJIYKjZQckqOTmuom8CxQabpEehX8un3ujhhbXbIJd4f/WCRTjeGPJwRzyCKjbwDHd6ZfrqupzXOqX08Vy2oxxiMwyRH915achVXHQk5ycnmn/T89f8v62F/S8v6/rqZ3h/xHrUfiGOznGt6vYzW8jvPeaI1o0EiAEKG2KrBuQAeQQOeajtviFqUnjS5tX8MeIfsos4WW1+yw743LuDIf3n3SAB1P3Tx69LpOh6xBqi3uu+IpNRMURjiggt/s0POMu6hm3txwScDnAGa1U020TVpdTWLF5LCsDybjyiklRjOOrHnGeafVP+uoujX9dDkdC0jT9e1LxfNq9rBdyTag1k3moGKQpEm1BnoMsW+pzXG+FLrWfEWqaJBHbWdxPY6DG8VzqYaSOEmV0L7Bgu7CNBnIwM884PoGo+Eb99Uv7nQtffSotUwb2L7KsuWChd8bEjYxUAEkMOAcZpJ/BH2STTbjwvqJ0m60+0FirPAJ45oBghXXKkkEZBBByT61MdEr+X4Jr82N9f66p/loHgGSEafqVmNPg067s9QkjvIbV2aEykK2+MH7qsGB28YJP1rq6yfDugroFjNG1zJeXV1O1zdXUgAaaVsAnA4AwAAB0AFa1U+nyF3I50kkt5Ehl8qRkISTbnYccHB64rh/Beix6F4/8AElst1c3kslpZSz3N1JvklkJmyx7DoAAMAAV3lZVpov2XxRqWsfaN326CCHydmNnlF+c55z5noMY70loN7WH65odpr9nDa6j5j28c6TtCpG2YochXBHK5wSPYVxekWctz4312w1mz/sG51TTFSGLTpAyyRKSrSiTA/eguBygwMde3R3/hi81TSfIv9ala+gvTeWV7FAqG3IJ2Lt6OApKnP3h6Gqy+ENTke+v73xB5utT2bWdteR2gjjs0JySkW45YkAkluw6Uv+D+X9If/A/P+mZV1p2mXPiPQtD8KWUKvoNyk13eQoALWMKR5RYdXfPK+mSe1ReKNG0ew0K88M6bajU9e1x5ZY/OCtKrOxPnyOANqR54P+yAMmtHw34O8R+HIbS0h8T2b6fA4MkCaOEabnLEv5pO5u7HJzVbT/A3inS76/u7PxhaeffzGWaWXRg7t/dXcZfuqOAOgpvz/rb+vkJaa/11F1Lw34guvFxura30ueG30uK2iudUQzK8m5mfEakEE/L8xPHYHnFORdR8X6boa6Zo9hb/ANmanOmoW8zA28EsaOn3RgupZ9wAA9yOtdDe+FdR/tltW0PXBp17c26QXpezE0c+zO1wu4bWGTzkjHUGoG8Ax21hp39janNaapp8ssyX8sYlMzSnMvmJwGDHnAIxgYIxR/X43D0/rSxzOvXp/wCEe1vwzq9jZW2po9qYhpdv+61ASSfu12EgjLIysC2AMnNWIL2bQ/Gcuq6/o0GhvHok3kW9jIJY7sR4dwzgLhkAGFK9GOCelbx8ArdWd7Jqmqz3Gr3k0U51GKNYzA0RzEI05AVTngk5ycnmp7Xwjc3OpC+8VaqusSxW8ltBHHai3iRZAA5K7mJYgYznGOgpa203/wCBb+unYeny/wCCcjYeMvEjx6fqYOsXz3LxGfTR4elS3SNyN3lzbN2VBzuZiGx0GeNfxF481HTvFOlWVr4f1zyDeSxTbLaEi8VYnI8ol89QG/h4B+laGn+DdXsYrTTz4quW0ezdTFbxwCOdkX7sbzhuVGADhQSOCa6W6020vbyzurmLfNYyNJbtuI2MylCcA4PysRznrVu3QlX6nJB4/EHxH0xtRsZIo7fR3uobO9jXdFK8oQsVBI3BRjv1PrXIayZLTUbzw1ptjFcWE3iaBFsnbZCQ9uJShwDhPMAYgD1GOa9J13w7cajqVpqmk6l/Zup2iPEszQCZJI3ILI6EjIyoIIIIIrPPgKGTQZLabUrhtTkvRqJ1RUUSC5GAHC9AoAC7f7vHvUrS39faT/Ib6/10t+ZV0FZdO+IElnrOn6dHqNzp5kgvdMV4kliRwCjxliNylhhueD26V29c/o3hu6tdak1jXNU/tTUTB9midLcQRwxZ3EKmW5JAJJJ6DGK6Cn0X9dRdX/XQK4DWdC+y/E/w1q9zf3N3cXF9PHEkjYjt4vs0h2Ig46gEsck4rv6ytU0X+0tY0e/+0eX/AGZPJNs2Z83dE0eM54xvz36Ulo7j6NGhd2/2uzmtzJJF50bJ5kRw6ZGMqexHavOtU0tPDviLwvCukw2GiafdJDDqUDB5pJHQoqSDClVZm5b5skDIGeO2u9Jn1C6vY76987Sru0+zmw8kLtY7tz+YPmOQQMdsZrEtvBN8zafb614gk1HTNNlSW2tjbLG7sn+rMsgJ37eDwFyQCc0R+JP0/r/L11B7Nev9f18ip4o0nTtZ8S6d4Yt9PtESdTfalIsChvIRgAmccb34PsrVT1eGdviPdtoGh2utyW+lR288F2ywxWuSzIqOQ2SwPK7QMBfmHSuws9D+zeKtS1p7jzWvYYYEj2Y8pY9xxnPOS5PQVR1LwzfnXZtW8O6yNLuLuNY7tJbUXEcuzO1gu5SrAEjOcEYyOKXRfP8Ay/IfV/L9H+ZxuleJtP0fwTpPhtNah0y8uGmjuJ72RIPsKrIRKqhmI3KTsQAn15ANQaPb2mrfCvVtF8Lywaj9m1SR2soLpWeW2F0W2Zz/ABopAJ+9616Lonhqy0XS1tMfbJC7yy3Fwqs8sjsWZjxgZJPA4FUIvA9oPDOo6PLOdt9dS3IngjEbxFpTImOvKnGPXHSn1v8A1uv61/UXS3n/AJ/1oczNq1onjbw3d6Zol1ots0dzb3UtxafZSY1hLhNnBIUoDnGBngnJrDsba4tfC3h6W60WKz0W31GK5XXF2/amQyZSR4uqeZuAZt7HBOVHb0Kx8JXMmqDUPFGrDWJ47d7aBFtRBHEj4DnaGbLMAATnGOgFUovAd6bK30e98Qy3OgWroY7M2yrK6IQUjebPzKCB0UEgcmmviT9Pzv8A1+Intb+tv6/Cxi3vjDVtR1nVl0+81Wyh0+6e1t47LQXvI5mTG4yuFP8AFkbVKkAdeas+IvHusWPw9+3p4f1a11KXTvPadLVPKs5eQQ4kIYYIzgqeCK2bjwhqVvqd/ceG/ELaXBqUnnXMD2azbZCAC8ZJGwkAZzuGecVtPoVpceHDol+Z760eDyJWuJmaSVcYJZ8g5PrSXw/d/wAErTmv0OR8Raw/iPQtOtbvSdR0y3utYtba4i1CNEM8ZbcQNrMCpKgH61T8cyjwtr0l9oUKWs0+gX3miFAoYxBDGxA7ruIB967jX9Dh1/R2sZJpLdldJYZ4sb4ZEYMjjPHBA4PWsyy8ISy3tze+KNSGs3E1o1koW2EEccLffAUFuWwMnPYYAqWrppef4xt+YR0ab8vzv/XoclZ2cui6Z4YvNU0PSU0v7RbrCtsZFu7OWTASRpMgSZLfOMD738VeqVx1l4HvI20611TxBLqGk6XKstraNbKjlk/1fmyA/OF4Iwq5IGc12NaNp39f8iEmregV53rSXU3xLvZtF0W216eHTI4LmK9cRR22WZlCuQ2S4Jyu0DAXLDpXolc3qXhm/Ouzat4d1kaXcXcax3aS2ouI5dmdrBdylWAJGc4IxkcVD3/rsX0/ruQ/DYRReBLO2ieRntnlhmjkTYYZBI26LGTgKflHJ4Arh9Ttbu/0/wAYtpWgwanp15eSeZqkpUXEZUBZPLjP+tEZU7TuTkYAPU+had4auNGsbG10zVpEWO7e5vpJoVke+L7i4J42ZZgcr0xis+bwTqEf2600jxFJYaTqEjyz2v2VZJIzIcyeVIT8gYknlWwScYpy1d/L/L52/EI6ff8A5/j+BT8Pxafr/jbULqcx6lBb6TZR2bToG/dyq7M+D3fAz9KxbHStU1PQLfSdIs7eez0vxNcptunxFHBGzlAR1ZQzKAo/ugcDkdZc+DZrW7t7rwpqn9jSxWaWLq9sLiOSJM7PlJBDLk4Oe/INMfwHFFo+nQaZqU9rqOnTvcw6g6LIzyyZ80uvAYNuOQMdsEYpu17/ANb3v/XclX5bf18Nrf12OR8UazfaR4f1vQb3TLCPUGS1bzNKQwJd28s4jYYOSjfeXqfvZBrbtbWXRfGGhR65o+jxi4SW2sJtLV42tm8ssYXBOJFKqcHAGR90da0x4DivrTVf+Ei1CTUb7VIkhluY4xCIUQlkES5O3DHdkkknrU2neFdQGs2eo+ItcbVn09WWzRbVYFRmG0yPgne+3jPAGTxzQvMb8v6/r8jK1TR9M13x1a6FDp1mljpsa3+oFIFHmOSRDETjplWcjvtA71znxD8S6P4hsNYtZdasYbbSW2RWhu0WW6ulYZbZnOxOQB3bJ/hBPpOk6H/ZmsazqD3HnyapcJLjy9vlKsaoEzk5+6Tnjr0pniLw3ba/oN5pwEVs9yuPP8kMVOQc44z09anWy/rX/gbfiHV/1p/wf+Acx4k8aPLrVjpegX1yLaazN5JfaTYHUHZd+xVQKrKBkNliD0A71Y0Pxdq8ej3janoutam9tdCGGWLTTbS3MbJuEhjkKgYIKkjjODgZrW1nwtLd6nZ6roeoDSdRtYmgEn2cSxSxMQSjpkZGRkEEEHNXtC0q60u3m/tHVLjU7q4k8ySWUbUXgALHGDhFAHTnnJJNNbf13/yDt/XT/M43w7461TVPCOoS3ek6rHcxR3siX00ESQjY8mxMq2dwAC9Oqnk9TXvtJsdJ+F/h3UbC3jW9tJbGeO4RQJHeSRBIS3U7w7Z9c16DZaRY6fprWFpAEtXaRmjLFgTIxZ+pJ5LE/jXNWfgS5hFhY3mvSXeiabKktrYtbKr5Q5jWSUH51U4wNo6DJNC+L7vwbuD2+/8AHb+vMy59D8Rwar4i1hNI0W4WW786OK/UySXEKRIoVWXiP7pxkNyeQO/baDqdvrPh6w1KxQx291bpLGhGNikZxx6dK5+48E3yz6jFo/iGXTtM1SVpbm1Fssjoz/6wxSE/Ju91bBJIxXUWFjb6Zp1vY2UYjt7aJYokH8KqMAfkKI/DZ+X/AAf6/IH8X3/8Avx/6sU6mx/6sU6gCCT/AFhptTlFJyRR5a+n60AQUVP5a+n60eWvp+tAEFFT+Wvp+tHlr6frQBBRU/lr6frR5a+n60AQUVP5a+n60eWvp+tAEFFT+Wvp+tHlr6frQBBRU/lr6frR5a+n60AQUVP5a+n60eWvp+tAEFFT+Wvp+tHlr6frQBBRU/lr6frR5a+n60AQUVP5a+n60eWvp+tAEFFT+Wvp+tHlr6frQBBRU/lr6frR5a+n60AQUVP5a+n60eWvp+tAEFFT+Wvp+tHlr6frQBBRU/lr6frR5a+n60AQUVP5a+n60eWvp+tAEFFT+Wvp+tHlr6frQBBRU/lr6frR5a+n60AQUVP5a+n60eWvp+tAEFFT+Wvp+tHlr6frQBBRU/lr6frR5a+n60AQUVP5a+n60eWvp+tAEFFT+Wvp+tHlr6frQBBRU/lr6frR5a+n60AQUVP5a+n60eWvp+tAEFFT+Wvp+tHlr6frQBBRU/lr6frR5a+n60AQUVP5a+n60eWvp+tAEFFT+Wvp+tHlr6frQBBRU/lr6frR5a+n60AQUVP5a+n60eWvp+tAEFFT+Wvp+tHlr6frQBBRU/lr6frR5a+n60AQUVP5a+n60eWvp+tAEFFT+Wvp+tHlr6frQAR/6sU6gAAYFFABUdxcQ2ttLcXMqQwxIXkkdsKigZJJ7ACpK5rxt4StPF+lxWuqXFytlbuZ5baGQotyQPlVyP4QefXIHIqZOyuOKu7F7TvFOjat4abxBYXol0tUkka4MbqAqZ3HBAPGD2rJ0D4oeD/FGrppmhav9qvJFZli+zTJkAZPLIB0964nwDo9/wCIP2aBpGkPBHdXqTwq9w5VADMwbJAJ6Z7VPYt4q8GeJNH8FaprkGr2GsadLb2ci2a27WTxRnAG37y428nJ+mObkuWTS+Xno2StY3+/0ujtbD4keEdT8SNoNhrlvNqKsVEQDBWYdQrkbWPsCe/pTPEfxL8JeEtUGneINW+yXZjEvl/Z5ZPlJIByikdjXimpPrGj+B/C/hy58MX1hqGia3GTqEsYWCRzIxURPn5y2cnH93rXf+IPCHjPT/E/ifxlo3iOz00SQK0Vt9lFx50cSfddnH7vJB+7nr7VLaSvfTXX5L/Mau3br2+b/wAj03TtQtdW0y21DT5fOtbqNZYZNpXcpGQcEAjj1qzWH4M19/FPgvS9aliWGS8gDyRr0VujY9sg49q3KuSs2hRd0mUNZ1zTfD+nm91i7S1g3BAzAksx6KqjJYn0AJpuja/pmv28kulXPnCJtkqMjRyRNjOGRgGU455ArE8a2t0dQ8P6jp6W13dWF47x6fNOsTXW6JlIjLcb1BLDPYHkVnaDc6jdfFzUJr6xXT/M0WEvbCVZHXEz7DIV+Xd9/ABPA6+kx1dv62uOWiv6fnY6bW/FOj+HXgj1a88qa4z5MMcTyySY6kIgLEDucYFLJ4o0SHw9/bsmpQDTMZFyGypOcYAHJbPG3Gc8YzWFq6ahpvxFXVtKsYdYebTVtprJLqOK4gUSMwkUOQChJweRyo61xm++uYtRshDFHqtz4tVtPVJMwW8ywrKxYlfmVcNuAALNnGM5BHX+vNL9bg9P68rnpFr410G90y8vra9dorEA3KG2lWaIHpmIrv57fLz2qlZ/Ezwrf6na6fb31x9qu5PLgSTT7iPe3plowP1qh4eXULP4m38fiZrebU7zTUe2nsVKQmCN8MpRiWDh5M5LMCCMYwRVrw9nxF4y1XX5/mtdOlfTdNU9F248+Qe5f5c+ie9C1a7f5O35/d5ieif9dLl+48eeGrXVGsJ9UVZklEEj+U5ijkP8DShdit7FgadrnjfQPDmoR2OrXcsdzJF5yxw2k0x2ZIyfLRscg9fSue1+C0utNuvAHhG2VpbkN9ulyXjsElYs7uxJzI2WKpnOeeAKnbw7ql14w1a60fxPb2Pl2ttaKsESXE0ZQM2JQ4IUHfnAGSMHI7rp/X9blP8Ar+vQ6CbxbolvoMGs3F4YrK4IWFpIXWSRiSAqxld5bg8YzxVjRdf0zxBavcaRdCdI3McilGR42H8LIwDKfYgV5nBrGt+LPFXhYCe3sblINRimuFh8xVkilWNpIlbjcQOM5ADt1qTVvEGtaAdZ0hGW71Zr6xgXVLaCKCeeKfIAbOE8xQjKCcL8ynAp+ffb77C/Tc9Zorzzw9F4q07xFGItJ1tdLkt5PtCaxqsFziUAGMowkd1ycgj7vIOOKr2viPxu3xCvIW8MwnGnwM1mdbzHEDJJ+8B8vBY4wRgfdHPodUu//B/yDo3/AF0/zOu1jxp4f0G++x6rqKwzhA7qsTyCJScBpCoIjB9WwKdrnjDQ/DiWjateMgvAxtxDBJOZAACSBGrHGCOenNZPhGOGe/8AGRugHeTVnjmDj/lmIIwo+m0/qa5bwZpOp61pvhe4tdft9Oks9EeIIirLcqrygK4R8qFKxqNxB7jHcJapedn96bH1fl/nY9K0XXLDxBp/23SpJJIN5TMsEkJyOvyuoPfritCua8G6vqF+mq6frMkdxeaRem0e6iTYtwNiurbeithwCBxkV0tU/InXqFUrbWNPvNWvNNtbpJbyxVGuYlyTFvztyemTtPHX8xVmeLz7aSEu8fmIV3xthlyMZB7GuI8G6Fp/h34geIrDSYPJgWxsXbLFmkcmfLsx5Zj3JpIfS52GqarY6Lp0l9qtzHa20WN0kh4GTgD3JPAA5NU9H8VaNr32gabebntgDNFNE8EkYPRikgVgD64xUuuW+ktZx3uvGNbbTZRdrLLIVSJ1Bwx5wcZPXNcXcTjUf7a8b6tZz2ujQ6PLaW0BXZPdQn53lIP3c4AQHnGScZpX0f8AXTT73p+I7Xa/rr/kdNpXjnw5rWopY6bqSyzybvKzE6LPt+95bsoWTH+yTWfd/FTwjYtKLu/uohCSJGbTLrauDg/N5eMe9c1FZa9pMfg2XxU9nNpVpdRRQRWYKzQSupjhMjH5ZAA2DtCcnOCOK6XxBnxD4207w11sbWL+0tRXtJhtsMZ9i4ZiO+wVTWtl3a+7X8un4kp6X8rmrqXjHQtJhtXvr1lN3H50EUcEksrpjO7y0UsBzySOO9PuPFuhWuhwaxJqUTWNyQsEsQMhmY9FRVBZm4PAGeD6VyEVprWq/FXxVHY6oulLb29miXCW6SzFSjMFG/KhN28njJPcYq54Xe11bS7d54dMt/EGn3N9BalF2RPMrFJJliDDIPBbuNx5Gc0t/wCug9t/60OltPFOiX2iT6vb6jD9ht9wnlkzH5JXqHVgCpHoQDTdE8VaN4iklj0m8MssIDSRSQvFIFPRtrgHaexxivM7v7Tb3+paX4hMcmoT6/plxez2/EE0LuFjAQjKAGMAgk565OeOn8a376N440jU7WISSw6TqTyqOroiRuoPtuA/OldW5nt/kr/8Adm3yrf/AINjvaK8j0l/Gc9npesWOn+Ibi+nMM1xLcanamznjYguBD5mEG0nbtUMOM55rV8U6/4xtvGOhwWegRCA30yQhdX2C+UQyYDr5fyjA34O7kAe9U1bRkp3V0dprXiLS/D0MUmrXXk+c+yKNI2kkkPUhUQFm/AcU2PxPosvh466mpQf2YoJa5Ztqrg4IOeQc8YPOeMVz9pLc3fxSsJNXtVtLpdBkdbdZfNWJzOofDYGeAvOBXG64b0eLLux0owJDN4ttuZk3xLIbQMSVyMkMFbHdgKSu7ef/wAly/8ABHpr5f5XPUNF8U6P4hkmi0q7Mk0ABkhlheGRQejbHUNg9jjFa9cXpTahpfxFXS9Xu4tXe60557e/e1jiuIVSRQ8TFAAUJYEcDkHOetdpT6J/12Dq0FUrrWNPstSstPurpI7y/ZltoTktJtUs2AOgAB5PHQdSKu1wGs+HdP074l+GtVhjeS/vtQn824mcuwUWsuEXP3UH90UluHRnfkgAknAHUmsHTfG/h3V9TWw0/UlluH3eVmN1Sbb97y3YBZMd9pNauoraPpd0mpOiWbQsJ2eTYoQj5stkYGM85rg/E0Nxo+reGryT7JJ4WsbyGK0t7RSs0TunlRuWJIkQFjwu08g5bHIt7P8Ar+v6sHTT+v6/q52+pazp+kPaJqN0sD3twttbqQSZJG6KAP59B3p2ravYaFpc2o6vdJa2kC5klfoPwHJPoBya8h1nxPp2qX2n65q0eoR3aavbi1tpNLuR9kt1kycHy8GR8BjtJJ+VRnbz1XxT0PTNZ8C6jrd1HJPJa6c72iSlgkZIz5nlnGHwcZIyPaiOqu+/6Jj05+X+t2jrta8Q6V4es47rV7tbeOVxHENrO8jHoqooLMfYA1Hb+KNGu9DudYt75WsrRXa4cowaHYMsGQjcpA52kZ9qxPFNveQ+JPD2r6ZBb6hc2iTxjTnuEilmV1Xc8RYgFlxyDjhjyK5W/i1HWdT8b2d09jor6hZWEJS5uMxxs7Ou12XgyMuBhc9VGT1o1EmrJvyO60Xx34f8Q362elXNxLOyFwJLCeJSB/tOgH60qeOvDcmrrpqaohuGm8hW8t/KaX/nmJcbC3bbuz7VzutX/iLwpew2s+rDVYNUtrlIVNskT2s0cLSKU2dUO0jDZI4+Y1h2A1bR/hboGt3F3Z3umpHZtJozWKNEUd0AZXOX80Fg24nG4HgU1Zv7vxv/AJCd0j16ivKJr7xB4l1rXJbez8RSx2N9JZ2h0vUre2ih8sAZZHkUyMTz84K4IAFW/FuueN7H4YyST6MkN3/Zm69vY9SWKS2lGQxVUBz0DcMOuO1Jaq/p+JVve5T0S/v7XS7Ca91G4jtraBd0ksjYVRVDRPFOj+IjMuk3fmyQAGWKSJ4ZEB6MUcBsHscYNcn4gvdX1DSNGTxJpEWlo+u2SNHHei4WVN2RuOxcfOF4qr8TZp7LWzc6aSt0fDmpB2T721RGVP4MePqaTdk36/grhH3mkvL8XY62y8deG9Q1RNPs9TSSeVmSJvLcRzMvVUkI2OR6KSeK6CvMVj1bQtB8MajfXdlf6fJPZwnSvsMYitvMwsbwP97chI5JOecba9Oq2rfJ2ITvr5XCsXW/F2ieHriK31W9Mc8qGRYYoZJn2Dq5VFJC/wC0eK2q8/vk1m9+JmqSeEJLO2uLXT4be9l1FGkjdiWeJURSGBAY5bdjkfKcVBZ3Nle22o2MN5YTx3FtMoeOWNtyuD3BrA1P4h+GtH1WfTb69nF1blRKkNjPMEJUMAWRCOhB61F8NvKj8FQ2kcckUtncT29yruH/AH6yt5hBAAKliSOBwRxWMmk69aweI9c0XxPYqXvprpYIYUmik2KF8uZz8wIEe0hSu05605NJ+Vr/AJAlfTrex0Gp+P8Aw7o90tvf3N0krRrKBHp9xINrDI5SMj8OtPt/Hfhy68OnXIdR/wCJeJjAJHgkVmkBxsVCoZmzxgA1l634our/AOH+kT6SGtdR8SCCC27mAyrud/8AgCB2z7Ctb+wdF0+20ewhW3S509W/stJ5D/rBGQW25G84JJ6nknjrTaavfo7f18iU72/r+tSzp/ijRdT0u41G01CP7LalhcvKDEYCBkh1cApxzyBUOieMtB8Q3TW2lX3mTiPzRHJDJCzp03qHUbl/2lyK881SSSxi8aad4rjF5qmowWrLJYMIo5UdvJhVQwPlkP1LF8g556Vri21yz8beHpPGdxZXDS289nZTaajRCGZo9z+YrElgVjOCCoBH3eQQvP8Aq/8Aw4/6/L9DqIPHXhu61b+zYNUje483yA3lv5TSf3BLjYW/2Q2adq/jfw9oWoGy1PURFcKgkkVIZJBCp6NIUUiMe7YFecaq2t6b8F5tGi0y0a2soEWDWIbyN4bgLICjxqMt5jNjggAEk5PQ7BtfEOq634tl8ISWNtBK62t1/aCl2muEiVWMe3HljaVGW3jIztA6p6bf1/kNeZ6XFLHPCksLrJG6hkdTkMD0IPpTq8fg1u51OHw5oPh2x1ptLj0Vbh7exvYre4Yq/lBWlZkOFKnOwjJI7cV02hXXjXTtHvI5NBuL1o7tRZR6pqUKzGApk75I94YqwwM8kEZPFU0rv+utiVfT+ulzuqwbPxx4c1DVxplpqaSXLOyR/u3EcrL95UkI2OR3CkmuO8La94rvfAupNf6WBEseoFL86l50gdZJMJsKZwpG0HPRRx2qbVooIPg14baxC7oX0t7Uj++ZIhke5BP5mkt/u/G/+Q3p+P4f8OdJqvxB8N6Lqs2m397OLuAKZY4bGebZuGRkohHQg4zXQ288d1bRTwkmOVA6EqVJBGRweR9DXBR6NryTeJNZ0XxRZRNLfSTpDDCk8bGONU8uZm5BGzBClSuTyeg67w1q/wDb/hfTdXMXkm9to5zH/dLKDihaxv6fiD0f3/gadFFFABTZYxLC8bZAdSpx706ik1dWYbHKWPw50Kz+H58HSrPeaWQ2ftDjzMl9+dygYIbkcdqh8O/DPSfD+rtqkt/qutXvkfZoptXuvPMEXOUTgAA59/bGTnsaKfVvuHSxwuj/AAj8P6Nq1vdxXOqXNtZzNPZ6bdXe+1tJCchkTHUZOCSeueTzS638JtE1rWLy/wD7Q1jT11Dab+0sLzyoLwjvImDnI4OCPzJNdzRQBBY2VvpthBZWMSw21vGsUUa9EUDAH5VPRRQ3fVhsZmvaBa+ILOOG6eeCSCUT29zbPslgkGQGU8jOCRgggg8iqmn+EbXTrDUYo77UJLzUlK3OpSTj7SflKqVYABdoPygAAelb1FA79TndQ8G298LCVNU1O0v7G3+zJqFvOBPJGQMhyylWyQDkjryMUP4H0ZvDkOjotxFHBN9piuUmIuEnySZvM67ySck9ckYxxXRUUCMTRfC1to19NfyXl7qWoTRiJry+kDyCMHIRQqqqrnngDJ65q1oWiW/h/R006ykleNXkk3ykF2Z3LsSQAOrHtWjRQBw1l8ME01Zl0/xf4mt1nmaeQR3EA3uxyzH9zyTWrqXgm1v9SbULbVNU0y7mhWG5lsZ1Q3Kr035UjIyfmXDc9a6SijyDrc5268D6RNpGnWFoLjTv7LObK4s5dssBIwxDHO7dk53Ag96ZH4D0f+xL7Trw3N6dQkE11d3ExM8ki42PvXG0rgbdoAGOBXS0UAc/pHg+30zVF1K61LUtWvI4jDBNqEyv5CHG4KFVRk4GWIJOOtbYtbdbx7pYIhcugjaYIN7KCSFLdSASTj3NS0UAc1q3gey1XUrm8j1DU9Pa9RUvY7G4EaXQAwN4IJBxxlSpxxmn6h4K067exlsLi70e4sIPs0E+nSBGEPH7shlZWXgHkHB5GK6KigDO0PQ7Pw/p32PTxIVZ2lllmcvJNIxyzux5LH/PFaNFFABWfb6Nb23iC+1eN5TcXsMMMisRsAj37cDGc/Oc8ntWhRQByuseAbfXNGXTbzW9Z8tb83wkFwjPu3FlTLIRsUn5VxxgelT6d4OFm1wuoa9rGtW1zA0ElrqUsbxFWxk4WNTnHHXoTXR0UdLf12DzOWsPAVjZXdnLPqWqahBYPvsrS8uQ8VswGFIAUFio4BctjtWxa6JbWmv6hq6PK1zfxxRyByCqLGG2heMj7xJyTWjRQBgaz4QtdW1RdTgv9Q0q/wDK8h7nT5gjSx5JCsGVgcEnBxkZ4NRTeBNIbSLCxszc2D6a7PaXdrLieJmzvbcwO7dk7twIOea6SijpYDm4fAukLpN/Y3Zub59SZXu7u5mzPKy42HcMbduBtCgAdhUukeD7TS72a9ub2+1a8lh+z+fqMqyMkXUooVVABOCeMnHJNb9FAHJWvw50y1a3i/tDVJtMtZRLb6VNchraJlOV4xuIU4IVmIGOldRLa2880M08EUktuxaF3QFoyQQSpPQ4JHHYmpaKAMbXfDNtrs1rcm6vLC9tN3kXllIEkQNjcvIKspwOCD0FVf8AhBdGPhuTRpBcyRyTfaXumnP2hp8587zBzvyByOOMYxxXR0UAYeieFbbRr6e/kvb3U9QmjETXd/IHkEYOQi7VVVGeeByeTmtyiigArPv9Gt9R1PTL6d5Vl0yZ5oQhAVi0bRndkcjDHpjnFaFFAGdJo0U+p3V1c3NzPDdWotpLGSTNvtycsEx94hsE9wBWPp/gDTrG6s3lv9TvrbT3D2Vld3AeG2YcKVGAW2jgby2O1dTRQtNgKGraPb6zHapdPIgtbqO6TyyBl0OQDkHj1o1zR7fxBoN5pN48iQXkRikaIgMAfQkEZ/Cr9FGwdbmRrnhy112G182e5tLmzk8y2u7SQJLC2NpwSCCCCQQQQfSqsHgjR00G+0q6We+TUW33lxdSlpp34wxYYwRgY24AwMAV0NFAdjntJ8G2um6kmoXWoajq93FEYIJdRmEnkIcbgoVVGTgZYgsccmqlt8OtKtbiALd6i+nW04uLfSpLgNaxSA5BC43EA8hSxUHoK6yijrcOljmNQ8C2d5qd3e2mqarpTX2PtkVhcBEuCBjcQVO1sADcu0+9bUOjadBoiaOllC2nRxCEW0iB0KAY2kHOfxq7RRsrB1uUdY0ez13SZdO1BGaCTB+RyjIykFWVhyCCAQR6VnaT4Ps9Nuri6uru91e7uIfs73GoyrIwi/55gKqqFPU8ZPcmt+igDldO+H2maddWb/bdSurTT38yxsLm43wWrdAVGNxwDgbmbHbFdVRRQAVz+reELbU9WOp2uo6jpN68Qhmm0+ZUM6DOA4ZWBxk4OMjPWugooAxLXwrZ2Flptpptze2cGnzmfbDOf9JYhtwmJyXBLFjnqcGs+9+HumXl3eut9qdrZ6hJ5l7p9tc7ILlj94sMbhu/i2sue9dXRQBl3Xh+zutR0m7O+P8Aslna2hjwI8shTkY7KTjBFJr3h608QW8C3Mk9vPay+dbXVrJslgfBGVOCOQSCCCCDyK1aKNw2Obg8C6Qun6jbagbnVJNTULd3V7LullC/dGVACheoCgYPPWl0vwZbafqkOoXep6nq9zaoyWrajOri3DDB2hVUZI43HLY710dFAHKQfD3S4LyJvteoSWEFx9ph0p5wbWKXdu3BcbiA3IUsVB6CptR8D2l7qd1e2mp6ppbXuPtkdhcBEuSBjLAqcNgAbl2nHeuloo8gOcvfA2lT2+mpp8l1pE2lxmG0uNPlCSRxnGUO4MGU4GQwPIz1q/oPh+08P20yW0lxcTXEnm3F1dSb5Z3wBlj9AAAAAAOBWpRQBDb2dtaW5gtbeKGElmMcaBVyxJY4HHJJJ9STXN2Pw+0yxvLV1vNRmsrKXzrPTZrjdb2z9iq43HGeAzEDsBXVUUdbh0scrf8Aw/069vb2VL/U7O21Ft99Y2tzshuWxglhgspIGDtK57100EEVrbxwW8axQxIERFGAqgYAH4VJRRsrBu7hRRRQBE7sHIBpvmN6/pRJ/rDXPeKvGOneEbe2a/jurq5vJPKtbKyi82eduMhVyM4z6/qQKAOh8xvX9KPMb1/SuMs/iVp2oaHe31lpGtT3VhKsV1pSWWbyIseCY89OCc56CoNH+Kdhq3ii30CTQNf0y9njaUf2jZrCqooJLN85IHGM4xmj+v1A7rzG9f0o8xvX9K4Cw+MHh7UNUtreO11WKzu7g21tqs1pstJpOQFV855IxyPriptd+KmjaHrF5p40/V9SOnqrX0+n2nmxWmcn942RjgZ7j8QQAO53PmN6/pR5jev6VVsL+21TT7e+sJlntriMSRSL0ZSMg1Yo2Dcd5jev6UeY3r+lQXV1b2NrJc3k0cEESlpJZWCqo9ST0qh4d8Q2PijRk1TSWd7SSSREd1xv2MV3Aehxkd8elAGt5jev6UeY3r+lYet+JrfRbq3s1s7zUb64VnjtLGMPJsXG5zuIVVBIGSRknAzVc+MreXQYdU0vStU1NZJWhe3tYF86B1yGEiuy7SCMHnrjtzR5gdJ5jev6UeY3r+lchp3xCsry+1C2vtJ1XSP7OtftdzLfwxqkadslHY5IBIGOQDVjT/G9pe6ja2lzpuqab9uz9jmvrcIlwQM4UhiVOAThgpIFAHT+Y3r+lHmN6/pXJT/ELTILmfNlqTafbTm2n1RLcG2ikB2kE53EBuCwUqD3q7q3i230zUjp9tp+oareJEJpYdPhDmJDkBmLMoGcHAySccCjpcDoPMb1/SjzG9f0rm5vG+lrpen3lkl1qD6luFpa2sOZpCv3/lYgLt7liAKuaF4itdeS4WGG4tLq0kEdzaXceyWFiMjIBIII5BBIPrQBseY3r+lHmN6/pTaKAHeY3r+lHmN6/pXM6t42stL1C4tEsNS1A2aB72SytxIlqCMjeSQScc4UMcc4qbUPF+n2iWP2OK51WfUIvOtbewjDvJHgEvliFVfmHLEdcUAdB5jev6UeY3r+lZeh65a6/YNdWazRGORoZoLiPZJDIvVGXsRx6jnitKgB3mN6/pR5jev6U2sXR/Fmk69rWpabpNx9pk0zyxcSR4MYZ93yhs8kbTnsM+ucAeZueY3r+lHmN6/pWbretWmgaab2/MhXescccSF5JXY4VEUdWJ7VS0vxbZai95Fc213pd1Yxiae2v4wjrGc4kBUsrLweQTjHNK4G/wCY3r+lHmN6/pXK6Z48sNSvLOFtP1Oyh1AkWN1d24SK6OCwCkEkEqCQGC5HSkufiBpdrdThrTUJLC1n+z3GqRwA20MgOCC2d2AeCwUgHqafkB1fmN6/pR5jev6Vma7rlj4c0O51bU5CltbpubaMsx7Ko7kngCql94rsrHSNPvjBdXD6kF+yWcEYaaYsu/AGcDC5JJIAx1oA3vMb1/SjzG9f0rml8b6b/wAI7qeqywXkB0vIu7KWILcRsACF25wSQRgg4OetS6J4nm1m9NvJ4c1rTFCF/OvoY0Q9OMq7HPPp2oA6DzG9f0o8xvX9KbRQA7zG9f0o8xvX9Kxdc8SW+iS21ubW7v7263eRZ2UYeRwuNzckKFGRySOoqunjXSG8OSaw5uIo4pfs8lu8J89ZshfK8sc7ySAAOuQenNAHReY3r+lHmN6/pWDo3im31fUJdPlsL7TL6OMTfZr6JVZ4ycb1KsykZ4POR3FblADvMb1/SjzG9f0ptYt54s0my8UWHh6S4Emp3xbZBHgmNVQsWfn5QQuB3J/Eg8gNzzG9f0o8xvX9KbWO/ifTk8XxeG1Z31CS2a5YIAVjQED5jngnPA9u3GQDa8xvX9KPMb1/SsXW/E+naBeabaXzubjU7lbe3ijALEk43HnhRkZPuKh1bxZb6Zqh02207UNVvUiE0sNhErmFCSAWLMoGcHAzk4PFAHQeY3r+lHmN6/pXNyeN9JGiWeo2q3V4b6Qw21pbwkzySDO5NhxtK7WzuIAxyadb+NdKk0W+1G6FxYjTn8u7trqLbNC5xtUqM5LZGNpIORigDovMb1/SjzG9f0rndL8X2+o6rHpt1pupaTdzRmW3j1CFU89R97aVZhkZGVOGGelTp4r0mbxb/wAI3b3An1FbdriVI8EQqCowxzwx3cD25xxk8gNvzG9f0o8xvX9KbRQA7zG9f0o8xvX9Koaxq9poely6hqDssMWBhFLMzEgKqqOSSSAB71n6R4stNUu57O4s73SryCITtb6hGqM0X98FWKkZ4POR3AoA3/Mb1/SjzG9f0rlLLx9p15dWi/YdSgsr6QRWmoz2+2C4Y/dAOdw3diygHtXU0AO8xvX9KPMb1/Sm1gar4vttN1f+y7fT9R1S8SITTRWEIfyEOcM5ZlAzg4AJJx0oA6HzG9f0o8xvX9KpaXqdprOmw3+nyeZbzDKkqVIIOCCDyCCCCDyCKwb7x9YWVxdhNP1S8tLBzHeX9rbh4bdh94E7gzbe+1Wx3o2dg3Or8xvX9KPMb1/SsLX/ABdo3hrw/wD2xqd4i2rIGhCEFp8jICDPzE//AK8CptY8Q2mi6fBc3Ec8z3LrHb21vHvlmcjIVV9cAnkgAA5NAGv5jev6UeY3r+lc5beNdLk0vULy9W501tMx9stryLbLFkZXhSQ27sVJz0FGmeMba/1SHT7vTdS0q4uEaS2XUIFQXAXk7SrNyByVbBx2oA6PzG9f0o8xvX9K5OL4g6XLdR4tNQGny3H2aLVTAPsskm7aAGzuwW4DFdpPetHXvFek+G5LKHUrgC4vrhLe3t0wZJGZgucZ+6M5J/rgUb2A2/Mb1/SjzG9f0ptFADvMb1/SjzG9f0phIVSWOABkk9q5iy8fabe3lsi2eoQ2d7L5VpqM1vtt7h+wVs5GccFgAexNHWwdLnVeY3r+lHmN6/pXKX/jlLTWrzTbPw/reqSWRVZ5bGCNo1ZlDBctIpzgjtXSwSme2jlMbxGRAxjkGGTIzg47ijdXDZ2LaElATTqbH/qxTqAIJP8AWGuS8d6/oXhWwt9a1bT4r7UYnMWmxiENO8rD7sbYJXPcjt6nAPWyf6w1zvibwN4d8Yvbt4j083htgwi/0iSMLuxnhGGeg60nfoNW6mJ8PPD2qaWur+J/FjRxatrbrPPBGMLbRqDtT6gHn6DrzWX8NFGqaTr/AI81SJrifV5JvKQ8lLWPIWNfToR74FdXoPw+8MeGbe+h0PTfssd/GI7kC4lfeuCMZZjj7x6YrX0fR7HQdIg0zSYPs9nbqVii3FtoJJ6sSTyT1NOWqdu1l/X3fiJefe7/AK/rZHz3YwXFn4J8La3c6il34cbXN9v4cAG6AmSTaBN96Qr1KkAHNegeNNUS61S98D+AdMtf7Z1ZSdWu44QiW0bD5nkYD5nIbvk89yQK6a0+GHgyw19dZtNAt475ZPNRgzlEb1WMnYCOowODyKraj8IfA+ralcX+oaKZ7q5kMkshvJxuYnJOA+B+FD1Vnt/w2l/kCundP+tdfxOi8O6NF4d8N2GkW7tJHZwLEHYYL4HJ9snmtKqml6XZ6LpVvpumQ+RaWyBIo9xbavpkkk/iat05O7uJKysVNR0ux1e1FtqlrHdQB1k8qVdyllOQSO/PrWB8PBjwzcAcD+1L7/0pkrqqzo9A02PR7rSktsWV2ZjNF5jfP5pJk5zkZLHoeM8YpbXHva/9b/5mLCQnxfuhLw0uixeQT3CzPvx/30mfwqn4c1CLTYfGuqynNlBqk8wI6HZCm/H/AAJWH1zW7feEND1KwsrO7ssx2CBLVkmeOSFQAuFkVg2CAAeee9T/APCOaQPDb6AlkkelvEYWt4yUBU9RkEHnJyc5OaWyaXZr73ce7Tfl+CsYvhTS4IPBEl54lSCSbVVa/wBTNyAyZcZ2tnjai7Vx0wtQ2f2nxrrdhq3kvaaBpspnsQ67ZL6TaVEu3+GMBjtB5bOeBjPS6no1jrGizaTqMJlspkEckSyMm5R2ypB7etY+m/Dzw3pN9BeWFrdJNbtujLajcOoP+60hB/EVWnNfp0/ry6E68vn1/rzODk0+8vvh7rHiBNTW30p7m4vZNBKgwOqSEvG758xWcqSQpCgnG0jOdXRdLl8Q+NPFX2vVdR06NmtZ4beznMDgNbrhyw5YDBAH3chsg11s/gXw3c6o9/NpiNNJKJpE81xFJIP42iDbGb3K5qbWfCOh+ILlLnVLHzJ0Qx+bHK8Tsh/gYoQWX/ZOR7VK0X9f1/kU9X/X9f5nOaJ4qhi8G6dq+tRDUtXaWeysmhhUz3hWRlBT0DBAzHheMniszxJZa3pPhm51K8mij1XX9StYbtY52jitoNwVYvMUFgMfKzgZy5x2rr9V8B+HNa+xfbtPbGnxmK1W3uJYBChxkARso7Cn2PgnQNP068sIbFpbW9AFxFdXEtwrgdP9YzY69sU3rr/W/wCvX+rr+v69On9W5fQvD2raB4stjaQeH9EiuLaZXsbS/mk+1MACsnlMiglT1Yc4bk9Kr2kXjn/hZV8Dd+HvtX9m2/mn7LPsMfmS4AHmZDZ3ck46cV2ujeEdE0C5e40uzKTugjM0s0kzhB/AGdiVX2GBWzT6p9v+D/mLo13/AOB/kch4TkigvvGAuiEePVnkm3n+AwxlT9No/Q1wngTSrrUdX0q0vtSu7K3l8NxSRpaymGSZRPJgBx8wADKSFIz8ueK9O1fwZoGu332zVNPWacoEdlkdBKoOQrhSA49myKm1fwxo+uRW6ajZK32X/j3eJ2heHjGFdCGUY7A4qVpbysvuTX6jfXz/AM0zM8DXl3LBq9hd3kl+ml6i9pBdzEF5ECq2GI+8ylipPfHPNdTVTTNLstG0+Ox0u2S2toh8kaDgZ5J9yTySeTVuqYEc8MdzbyQTrujlQo656gjBFcl4bsbXTPiHr1np9vFbW0On2KxxRKFVRmfoBXY1Vi020g1S51GKLbd3Uccc0m4ncqbtoxnAxuboO9JB0sQatd6XatYjVzEDNdLHaGWPcBOQduDj5TwcHj0zzXAX80/hPxF4g/tWY+IpLjQZLsyTKEkSOI48lgmFCMXJBCg/ezniu5/4RTRP7HudKbT43srqZ55oXZmDSO24tknIO7kYxjtil0nwxo+hpOunWYU3IAnkmkeaSUAYAZ3JYgZPBOKVtP67f5/eO9v67M4NdJv/AA9D4QvtR1r+2bRbuGCGxZAqQtKNqPEwO59gJ/1hf5cnINX/ABjFa6t4DvdR8P6nFDpdiJpbiwEASC7eNyZI5OFdcspHBGScndmuk03wR4d0jUEvbDTljmiz5O6V3SDPXy0Zisf/AAECi58D+HLvVG1C40xHnkkEsi+Y4ikcdHaIHYze5Umqbv8An+X3/MS0/r1+443xHqepanHeXuoeGNVewt9NZrEQ+SY1kkhO+Z90gbKhioGOBuPU8WdFvGudZ8Bz3VncWa/2bcQRLc7QTII4iCNrEcqrEd8Z4Feh3VtFeWc1rcpvhmRo5FyRuUjBGRz0NUL7w3pOpaPBpd7ZrLaW4TyF3sGiKjClXB3KQO4OfektG7f1v/mK21+l/wBP8jg/EUNpf+J/FNtd6o2mWc39l28lykPmYm8xmCkdASCgyeBuGauaxLqXg/xAsGj6lf6kL7Tby4e1vZzOYpIkDJIpPKgsdpXpyMCuttvCuh2uhz6PFp0JsbgkzxSZk84nqzsxJY9OSSeBSaN4V0bw/JLLpdnsmlUI80srzSFR0Xe5JCj0zilbS39bf1/WpV9bnmelaDq39iaPr9qmgWV1K1vO2tS6vP51zuK7lkzFht+SuwnAJ46CtvxZH4x/4TXw95NzoYQ38/2HfbzEqPIk/wBb8/zfLn7uOcduK6i18B+GrLUkvrbS0SWOQzRp5rmKNz/EsRbYp9woNdDVtkq6OMtPtcXxPsP7aaBryTQpFD26ssbOJlL7AxJHBXjNcdriXFx4ruXsrxrO0fxZbxPcoAdjfZAjEZBG7cQAT0bFepaz4e0vxBDFHq1r53ktvikSRo5Iz0JV0IZfwPNRr4X0RPDx0MabAdMYENbMuVbnOSTyWzzuznPOalaW8v8A5Lm/4A+/n/lYw9KW40L4hjQ4NSvb+xutOa7aO9nM727rIqgh2+bawY8E4yvFdlWVovhrSfD/AJx0q1MTz482WSV5ZHx0BdyWIHYZwK1afRL+v66B1CuL1vSrHT/HHhieytYoZrvU55biRV+aVvssvLHqf6V2lVbrTbS9vLO6uYt81jI0lu24jYzKUJwDg/KxHOetJb3Do0Ra3d3tjod3c6XZNf3kcZMFsrAeY/YZJHHr7V5tpl3c6b450FZfDutfa5be7e6mnW3D3EjtDul+WUgKuAMdhtABxXpaaRZR63Lq6QYvpoFt5Jd7cxqSQMZx1Y84zT5dNtJtUt9Rli3XdtG8cUm4/Kr7dwxnBztXr6Ulvf8ArqHSx5Rq2oamJLTU9Z8LawupXGsWpziAxxxJIdkEZ83Oec5IGWJzgYx3Or66ljdpa6Fpaz+I9ShV/IZQpiQcCS4cZwi5I6kk8Lmt6+0201JYFvYvNFvOlxH8xG2RDlTwecHt0rE1T4feG9Z1ibVL+zna8nCrJLHfTxbgowBhHA4+lC2t5/ov8tf8w638v1MKz0MeGvF/hO0uZzcu8WoNJcMNokuZCkjEDtkb8D0FWEl06Px34tu9W+znTbW1smuGnUMiSp5j5IP8QBQ+vSt4+DNBbQY9HksmksopPNjElxI8kb5zuWQtvU8nkHio5fA3h2bw7Job6d/xL5ZRNLGs8itI4OdzOG3scgcknoKfp/X/AA3+QepR0mC+8TeIrbxJqFvJYWFmjrplpKMSybxhppB/DleFXqASTzxUK6VY6R8UNIh0y0itkk06+lcRrje7SwEsT3J9TWlpPgTQNE1FL7Tra5S4jBCtJf3EoGRg/K7kHg+lbEmm2kurQ6k8WbuCJ4Y5Nx+VHKlhjODkovbtTVk015/imLVp38v0PLf7J1PxZrniO4udM0m+az1CS1hkv9Rnhks0VRsMYSMhMg7twIJJ9qs+K18Vt8IZD/amiX1qukkXlwokme4IyC8cgKqcjHJXrmu11XwT4e1rUHvdR0/fcSKEleOaSLzlHQSBGAcezZrbhhit4Eht41iijUKiIuFUDgAAdBSWkbehV/e5jgteXXItJ0eTxTLp0qR65ZtusIpERU3YG/ex/jK81U+Jizz6wYtOyblPDupM4T720iML+ZHH0r0O/sLXVLCay1G3jubaZdskUi5Vh9Ko6N4X0fw+Zm0qz8t5wBLLJK8ruB0Uu5JwOwzgUmrpr1/FWCPutP0/B3OJWO60PRPDGuWOvXt7Pez2lvLbyTbre4jlwCEi+6m0HIKgHC855r0ysHT/AAR4d0rUlv7DTEinjLGIeY7JCW+8Y4ySqE/7IFb1W3f7/wCkQlYK4ueHUrbx9qknhm706ae4toGv7O/EiGHG5Y5UZVIYEAgr6jqM12lY2teE9F8Qzxz6rZebNGhjEkczxMUPJRijAsv+ycj2qOpZkfDFZP8AhFrmWSbz1n1O7kSYLtWVTM3zAZOASCRyaj1i5bVpL3wp4Qgig3ll1O/jjCxWm/lwMffmYHOO2csex6OXw/pcy6cjWaKmlyCWzSMlFhYKVGApAxgkYPFYT/C/wm9xNN9gulknlaWUpqVyoZ2OScCTGSabSenTb8hXa167lfx34e0u2+HWpSpZxvNp+jy21rNINzxJ5eMAnpkAZNTa0VTxd4Kkm4i33CKT0Ehtzt/HAauiuNHsbrQn0e4hMlhJB9naIyNkx4xjdnd075zSapomnazpv2DU7Vbi2BBVWJBUjoysDlSPUHNNsVtF/Xb/ACOWmfTh8R9fuNU+znTrXSLVrszqDGjrJK6ls8ZA5/Kp9Oju/FWvWniO/t5LLStPWQ6dbSqRLOzrtMzr/CNpIVevJJxwK0X8C+HJPD9xor6eTY3UgluF8+TfM4IIZpN29jwOp7UzSvAXh7RdSiv9OtrpLiHOxpNQuJFGQQfldyDwT1FJdv6/r+vRvXX+v67/ANX5nxg1vL4QsvEuhahHLoVi8NxFpCwiOC52yDA4AcNkjCnjcoyvWtTx9pdiljDqiWkYvptR0+J7gr85QXMeFz2HtWtH4H8ORasNRTTEE4m89V8xzEsv/PQRZ2Bu+4LmtXUNNtNVtkgv4vNiSWOZV3FcOjBlPBHRgDTWjT87/kD1v6WOE8Zw6hrXxCsdESzsb6yXTXuhaahdSQwzSeYFJIRG3lRjAIwNxNT+HdO8U6bpupWGlXmgRSRXimG1NxNeR2cZTLRH7jLzhgDwAx7Yrq9a8OaV4hSFdWtBM1u2+GVJGjkiPcq6EMufY81LpGi6foVj9j0m1W2h3FyASS7HqzMclifUkmlHRW/re/8AwAerv/W1v+Ced+DofFMngLUVmm0t7Jl1FUS3hkE5l82XoxcrjdnAxnGOauarLBP8HfDq2JXdM+mJbBeu8SR8D3GD+Rr0asGz8E+HdP1YalZ6Ykdyrs8f7xzHEzfeZIydiE+qgGhb39Pwv/mD1/H8Tmf7CtLqHxNq9h4r1GCdL2aV2gcwR2ksaKNrof8AWABF+9kEdMZyev8AC2o3Or+EtK1G/i8q5urSOWVAMYZlBPHaquoeB/Duq6k9/faYkk8u0zYkdUn29PMQELJj/aBreACqAoAAGAB2oWkben4f1+APV39fxLEf+rFOpsf+rFOoAgk/1hptWCoPUD8qNq/3R+VAFeirG1f7o/Kjav8AdH5UAV6KsbV/uj8qNq/3R+VAFeirG1f7o/Kjav8AdH5UAV6KsbV/uj8qNq/3R+VAFeirG1f7o/Kjav8AdH5UAV6KsbV/uj8qNq/3R+VAFeirG1f7o/Kjav8AdH5UAV6KsbV/uj8qNq/3R+VAFeirG1f7o/Kjav8AdH5UAV6KsbV/uj8qNq/3R+VAFeirG1f7o/Kjav8AdH5UAV6KsbV/uj8qNq/3R+VAFeirG1f7o/Kjav8AdH5UAV6KsbV/uj8qNq/3R+VAFeirG1f7o/Kjav8AdH5UAV6KsbV/uj8qNq/3R+VAFeirG1f7o/Kjav8AdH5UAV6KsbV/uj8qNq/3R+VAFeirG1f7o/Kjav8AdH5UAV6KsbV/uj8qNq/3R+VAFeirG1f7o/Kjav8AdH5UAV6KsbV/uj8qNq/3R+VAFeirG1f7o/Kjav8AdH5UAV6KsbV/uj8qNq/3R+VAFeirG1f7o/Kjav8AdH5UAV6KsbV/uj8qNq/3R+VAFeirG1f7o/Kjav8AdH5UAV6KsbV/uj8qNq/3R+VAFeirG1f7o/Kjav8AdH5UAV6KsbV/uj8qNq/3R+VAFeirG1f7o/Kjav8AdH5UAV6KsbV/uj8qNq/3R+VAFeirG1f7o/Kjav8AdH5UAV6KsbV/uj8qNq/3R+VAFeirG1f7o/Kjav8AdH5UAJH/AKsU6gDHSigArn/FnjPTfB9tbNfx3V1c3kvlWtlYw+bPcNxkKuRnGeef1IFdBXJ+PfEGg+E9Pt9b1fT4b7UYnMWmRCFXneVh92NsErnuR29TgFN2GlcNI+I2i6voWrakI7yybR0Z7+yvYfKuIAAWGVzjkA45/KofDPxHg8T3kEVv4a8R2VvPEZkvr6wEduV25B8wMRyOnrXJ2fgy+fwT4n1XxvrNnoWpeKDH9pllA8qyjBwsfLqM4O373p1PWGKK6+Hnj3R9Dste1PX9J1LTZmubK9nExhWJCVePH3FONoHTg8njDel79vxs2xbrTv8AhdHS2Hxk8O6hqltbx2mrRWV5cm1ttWms9lpNJyAqvnPJGOQPfFTeIPixonh/WrzTW0/V9RbT0V76ewtPMitA3I8xiwxxz3H45FeQ2FvcWfgbwprl1qSXnhttd32/hsAboCZJNoE33pCvUqQAc1seILS+1bWviZc+H9ZXQbW0hCahZuiym/Ko+Wy3MQIGBtznND0Xpf8AC2/39PLzBWk7d7fi3/l1PeLG9t9SsIL2xlWa2uI1likXo6kZB/Kp65/wFc2158P9DnsLQ2Vs1lH5duW3eWAuMbu/Tr3roKqStJpExd4pkV1d29jaSXV7PHbwRKWkllYKqD1JPSs/w54isPFWipqukM72kkkiRu67d+xypYD0OMjvj0q1qWlWOsWottUtYruASLJ5Uq7lLKcgkdDg+tc/8ORjwxcgcD+1b/8A9KpKldSnsv67nRalqNrpOm3F/qEohtreMySOewH8/pWN/wAJhHL4W0/XdO0bVdRh1BVdILSJGlRSM5YFwB0xwTyayPFN1qUviiKK48OapqGj2MYni+x+SVnuOcM++RThOoHOWOf4RTfh/ri2nwfs7+9srm0h06w3sZgv75UTdvTax4PTnB9qV9G30/4I7apI1PD/AI3i1/XrnSP7D1jTrm1gE8pvoY1VQxwoyrtyeSB6A1fh8UabceMJ/DcDvJf29sLmbaBsjBIAUnP3vmBxjoa5zSItZ0T4bTarZ2D6h4j1X/TZo12582XGB8xAIjUgYyOEx3rF8P3kmmfEKyto/DeuI50qUTSXQg8yV2mVnmcrKRgt1xzkgAYqtpKL87+tm/6/4cm/uuS/pXR3uteKdN0LUtLsL1na61W4EFvFGATnux5GFHGT7im+JvFukeErFLnWbkIZXEcMKYMkzEgYVc89eT0FeaalqOqR3Gm6nrXhXWV1W51q3d2xblFRS3l28R83PAJOSBlixOOBXXfEbTLCXwjfay9ii6gYIYRNIoMkaecp2Z5xyxzjr70ltd9/0QSdm0u36s6DX/Elr4fW1WW3ury6vJDHbWlnHvlmIGTgEgAAckkgCnaD4htfEEFw1vFcW09rL5Nza3UeyWB8A4YZI5BBBBIIPBrnvGUc+p+MvDmlWN1/Zl3i4u01FRukjVAqtGin5WLB+dwYADOM8jjtXuNT0S31/RI7tbu9m1ax+16q8jQGaOc4CSMgPlkBAmUAG1gQATQvz2+9L/Mb/r+vuPZ6K820Hw7q/h/xdbG0g8O6HDcWsyyWFpqE0n2pgAUk8po1BKnqw5w3J6VXs4vHf/Czb8G78O/a/wCzLfzT9ln8sx+bLgKPMyGzuyScdOKOqXf/AIP+QdG+3/A/zOs1bxxZaVqNzZpp+pagbJFe9ksbcSJagjI3kkEnHOFDHHOKm1Dxjp9mlh9ihutWn1GLz7W30+MO8kWATJliqqvzDliOuKzfCMkMF/4yF0QkkerPJMXP8BgjKn6bR+hrgvAWk3eo6xpNpfaneWNtL4ahkjS1lMMkyieTAEg+ZQA6khSCcrnilHW3nZ/em/0G9Lvt/ml/XyPXNC1608Q6e11ZrNEY5GhmguI9kkMi9UZexHHqOeDWlXK+BLy8lg1jT7y8k1BNL1J7SC7mIMkqBVbDEfeZSxUnvjnmuqquz9CfIKxNH8XaRr+t6npmkXH2qXS/LFxLHgxhn3fKGzyRtOewz65xrzwR3NvJBOu+KVCjrnGQRgiuQ8NWFppfxG8QWenW0VrbQ6dYLHFEgVVGZ+gFJDex0Gva/ZeHNNF5f+a4eRYooYIzJJNI33URR1Jqtpfiyz1F7qK6trvSrq0iE81tqEYR1i5/eAqSpXg8gnHfFUvHdsJrPSpob+Gxv7fUonsWuI2eKSYhlEb7eQGDEZ7HH0rh/GEWvXmsat/aBtTdx+FLwPbaeWZYVZl25dgCxba/YcL36mb6P5/gr/15FW1Xy/F2/rzO60vx5p+p39pbmx1Kyiv8/Ybq7t/Liu8At8hySCVBIDBSR0q7f+LdI07xJp2gTXIfUtQZhHbx4LIApbc/Pyj5cD1P445/xVLDcaD4Q/s91Jm1axe2285QfMxH/AA34VJ4i0mwsPGPhm6s7SKG4vNYeS4lVfmlYWswGT1OB09K0trbs7fl/n+Bnf3b+V/z/wAjX1fxdb6Zqh02207UdWvUiE0sGnwq5hQkgFizKozg4GcnB4qOXxzpI0Oy1K0W6vTfymG2tLeEmeSRc7k2HG0rtbO4gDHJpmva1Hpepmx8P6dDe+I9QjDBFUKFjXgSzuBkIuSB3J4UdcYNloQ8M+MfCNpc3DXLvFqDSXLDaJLqQpIxA7ZG/A9BUrX+v69PX8Kf9f1/Wh0MPjnSW0O+1K6W6sjp8giurS5hxPHIcbU2DO4tuG3aSDng1Noviy21fUpNOmsL/S79IvPFtfxBGkjzjepVmUjJAPORnkCudF5pdr8SPEU+rGH7FjTbfMse9RdEvs7HDDcnPGMjmqWrtqfhjxzPcm8bW7y+0a8e0MsYWSz8oBwihcKUYkDJG7KjJNK9tX5/gr/15Dtd8q8vx/r7z0yivGNJ0DV/7D0bxDap4fsbqVredtbl1ifzrncV3LJmLDb8ldhJAJwOgrb8XR+M/wDhN/Dvk3WhBDqE/wBgD20xK/6PJ/rfn+b5M/dxzjtxVtWdmSndXXqdprviW20Oa2tja3d/e3e7yLOyjDyOFxubkhQoyMkkdRVZPG+kN4bk1lzcRRQzfZ5LZ4G89J8hfJ8sc7ySAAOuQenNZdp9si+KVh/bbW7XsmgyKHt1ZY2cTqX2BiSOCnGa43XY7m48WXT2V61lZv4utonuYwD5b/YwjEZBG7cQAT0bFStbLv8A/Jco31fb/K56Voviq31fUZdOlsL/AEu/iiE32a/iVWeMnG9SrMpGeDzkdwK3a4vSkudB+Iw0KDU73ULC6017xo764M720iyKoIdvm2sGPBOMrxXaU+if9b2Dq1/WwViXvi7SLHxTp/h2S5EmqX5bZBHhjGqoXLPz8oIXA7k/iRt1xOuaTYad468LT2VpFDNeapcS3Eir80rfZZeWPU/0pLcOjOyubiG0tZbm5kWKGFDJI7HAVQMkn8K5vS/HlhqdzaI2n6nY29822yu7y28uK5OMgKckjIGRvC57ZrW8R2tte+F9UtdQleG1mtJUmkRSzIhQ5IA6kDnFedaufENx4d8MwXt7pU9tJqdj9jmsRJ5l6odWDlWAEYCKWIG7p1AojrK3p+L/AKsEtI39fw/rU6u7+Iml2l1dBrHUpbCymMF1qkduDbQODhgTncQDwSFIHc1o+KPF2j+D9FbU9auRHF0jjQgyTN/dRc8n9O5wK84l0y91XwL4h12HVls9Me6ubmXQymYZBG7b0kcnzFZyhJClQC33TznpfH1np+pfDHUdefT40vDo7CJ5Fy8KMu4qPTrg4ojql8r/ADX9f1vWnPb1/B/1+h02veJLTQILUzQXV3cXknlW1paR75ZmwWIAJAGACSSQB61UtvG+ky6NqOoXguNP/sttt7bXcW2aBiAVBUEhtwIxtJBzxWT4yjm1HxJ4Y0myuf7Ou5GmuotRAy8IjQBkRT8rMwfBDAjAJwTjFDRprDw9rXiax8WXMOo7ZrS5n1OeHJlMp2RJIgBVShRcFQBgg4HJoWt/w/D/AIJCeif9f1sdPo/i+11TUv7PuNP1HSrxoTPFDqEIQzRggFlKsw4yMgkEZGRVO0+Iul3lzb4sdSi0+7nFvbapLbhbaZycKAc7gCeASoB9ax9V+1eHPiTZX99dvra6haXccEEiBXslRfNIjC4BVtoUlgWzt+btXPx6dead8P8AQvEM+qreaVHc292mhBR5CCSQbEjkz5jMhcEBiykrjaOMEdWvl+Lf6L0uOWif4fd/n+B7JRXkH9kap4u17xJc3Wl6RfvZ6jJawyahqU8MtnGijYY1SNgmQd+4EEk89Ks+LV8Wt8HZD/auh31qukkXtwokme4YZBeOQFVORjkr1zQtVf0/Edve5f67HpGsaxZ6FpUuoai7LBFgYRSzOxICqqjkkkgAeprP0fxdaapeT2dxZ32k3kEIna31GJY2aLp5gKsykZ4POR3ArmtfXXYtI0aXxXLpsqR67ZNusIpI0VN2Bv3sf4yvNVfies9xrRi03Juk8N6m0gT72wiML+bDj6Gpbsm/X8I3CPvNL0/F2OjsviDpt7dWa/YNTgsr+QRWeoz2223uGP3QDncN3YsoB7GuqrzFY7rQtD8L67YeIL69nvri0t5beSfdb3McuAQkX3U2g5BUA4XnPNenVo1a67O35f5kJ3s+6uFYvinxbpHg7R31HXLkRRjiOJcGSZv7qLnk/oO+BW1XF/FDSbCXwPrmqS2kT30OmyxRTsuWjU8kKe2fap6mkVd2OzU7lBHcZrlr74gafZXF4E07VLyzsHMd5f2tsHgt2H3gTuDNt77FbHeuoj/1Sf7ori9ZuW1eS98JeDoIoPMLLql/HGFis/M5cDH35mBJx2zlj2Kd76f1/wAAmNmk2a+p+MLKxuLa2srS91i6uYPtKQadGrsIe0hLMqhT2ycntmoLjx3pkXhi31q3tr68S4uRaJaQwgXHnbipjKMVwwIOQT2rmLHw2J/iXrWkHU7+wsrfTLEW8VncGGSRFDoD5i/NhSDwDgluc1FZN/wkljo2n654huIZrLXbqC0uo4x5moCEOo/eAbUbaT83U7TjB5D32/pXt/X9INUtf6drnXW3i+e4028u28KeIIWttmLeWCIST7jj5AJCDjqckcetVdP+IEd74ktNFn8N69p9zdo8iPdwRBFRByzFZCQMkDOOpAqPw29zpXjrVfDq6hd6jp8NlDdo95MZpLZ3ZlMZkPzEELuG7JHPNL4FT+2G1PxVdDe+qztFbbudlpExSNR7MQzn13Udb/12/MH2/rv+X4ki/EbSyyzfYdTGlPN5C6ubcfZSxbaDndu2luN+3b71a1Xxpa6bqU9jbabqeqzWqCS7GnwBxbgjI3EsMkjnauWx2rGuwnjNf+Ec8OwJbeGrSVUvbyJAiS+WwP2eADgjIwzDgcgZPTM0TQ5tW1rxmLvXtR057bVnaJLO48nywYkKyvj7424ADZXC9KV9Pk3+X+f9bj6/h+f9f1Y9G07ULXVtMt9Q0+UTWtzGssUgGNykZBwelWa8Yj1DXPHF34btb+y0+/jm0U3r2uoXMkEFzL5mwybURg5ChWCkYG/PpXT+HNN8VaZpup6fpN54fikivVMNo1xNeR2UZjy0R+4ynOGUHgBj2xVNb/P8HYny/ra535IVSWIAAySe1ctY/EHTL68tUWz1GGzvZfJs9Smt9tvcv2CtncM44LKAexNcp4Nh8VyfD/Ulmm0t7Fl1FUjt4ZVnM3my9GLlcb84GM4xzmrmrSwT/Brw2tiV3TPpaWoHXeJIjge4AP5Gkvi+78W/8hvt6/gdFqfjux06+u4ItO1PUE0/H264srcPHa8bsMSwLEKQSEDEDrXRWtzDe2kN1ayLLBMgkjdejKRkEfhXlehaPc3WieKb248R6hp91YarfPEttP5SW5DFw0i9JMgg/PkbcYx1r0TwvqNxq/hPStRvoxHc3dnFNKoGAGZQTx+NEdY39PxQPSVvX8P6/rrq0UUUAFc94n8CeHPGb27eJdPN6bUMIf8ASJYwu7GeEYZ6DrXQ0UActo/w08IaDZX9npmixpbaiix3UUsskqyqM4GHY4xk9MVL4Z+HvhbwfczXPh3SI7SeZQjymR5W2+gLsSB6gYzgZ6Cukoo8wOSs/hb4KsPEC61aeH7eO+WTzUYM5RH9VjJ2AjqMDg8in698M/B/ibVxqmt6JFc3mAGlEkke/HTcFYBvTJB4wOgrqqKO3kHfzGQwxW8EcNvGkUUahEjRQqqo4AAHQU+iigArNj8P6ZFot1pKW2LK8Mxni8xvn80sZOc5GSx6HjPGK0qKA2ILWyt7LT4bG1j2W8ESxRpuJ2oBgDJ56VTPhzSj4ZPh77L/AMSswfZjb+Y/+rxjbuzu6d85rTooeu4LTYaiLHGqIMKoAA9BVc6baHV11Qxf6YsBtxLuPEZYMRjOOoHOM1aoo63DpYq32m2mpfZvtsXm/ZZ1uIfmI2yLnDcHnr0PFGpabaaxp8ljqMXnW0uN6biucEEcgg9QKtUUAZ2teH9M8Q2qQavaidYn8yNg7I8bequpDKfcEVBbeE9CtNFuNJi02FrK6JNxHLmQzE9WdmJZjwOSSeBWxRQBi6L4Q0Pw9cvc6XZFLh0ERmmnkmcIP4A0jMVX2GBW1RRQBhax4K8P69ffbNV05ZpygR2WV4xKoOQsgUgSD2bIqbV/C2ja7FbR6lZK32X/AI93idoXh4wQjoQyjHGAcVr0UeQFTTNLsdF06Kw0u2jtbWIHZGg4GTkn3JPJJ5NW6KKACqkOmWkGq3OpRQ7bu6jjjmk3E7lTdtGM4GN7dB3q3RQBj/8ACJ6H/Y11pTaej2N3M9xNC7MwaR23M2Scg7uRjGD0xUmjeGtJ0CGePS7Ty/tB3TSSSNLJKcYG53JZsD1PFalFAGDpfgjw7oupC+03TEhnUMIyZHZYQ33hGjErHn/ZArTu9MtL+6s7i7h8yWxlM1u24jY5VkJ4PPysw5z1q3RQBzOq/DvwzrWsTarqFlcPezqqySx39xFuCjAGEcDj6VZPgrQG0CPRpLJpLKKTzY1kuJHkjfOdyyFt6nk8huK3aKPIPMx7bwnodpoc+jw6bCbC4JaeKTMnnMerOzElm6ckk8D0o0Xwpovh+WWXS7MpNKoR5pZnmkKjou92YhR6ZxWxRQBztr4B8MWWpJfWulIkscpmjTzXMUbn+NYi2xW9woNdFRRR0sHW5ma14d0rxDDFHq9r53kPvhkSRo5Ij0JV0IZc+x5pi+FtDTw6dCGmW50xgQ1sy5ViTnJJ5LZ53ZznnOa1qKAMrRPDGkeHfOOk2hiknx5sskryyPjoC7ksQOwzgVq0UUAFVLrTLS9vbK7uYd89jI0lu+4jYzIUJwDg/KxHOetW6KAKK6NYJrU2rC3H26eBbaSUsx3RqSQu3OOrHnGeaz9L8E+HdF1EX2m6akM6hhGTI7rCG6iNWJWMH/ZAreoo2A5668B+Gr3VJL+50tHmlkEsqCVxFK46M8QbYx9ypNa+p6Zaaxpdxp2ow+daXMZjlj3FdynqMggj8KtUUdLB1uZ2saBpmv2aWurWqzxxuHjO5keNh0ZXUhlPuCKhsvCuiafpNxplvp0RtLvJuUlJlM5IwS7OSXOO5JrXooAxdF8IaH4fuHuNLsik7p5ZllmkmcJ12BnYlV/2RgVBbeA/DVnqi39vpaJNHKZo081zFHIf41iLbFb3Cg10NFHW4eRgat4H8O63qD32o6dvuJFCSvHNJF5yjoJAjAOPZs1uQwxW0EcFvGkUUahEjRcKqjgAAdBT6KOlg8yvf2FpqlhNY6jbx3NrOu2SKVcqw9xVDRfCujeHjM2lWflyXAAlllleaRwOil3JbA7DOBWvRQBgad4G8OaTqa3+n6WkM8ZZoh5jtHCW+8Y4ySqE/wCyBW/RRQAVV1PTbTWNLuNO1KLzrW5Qxyx7iu5T1GQQR+FWqKAKV9o9hqU1jLewea+nzi4tjvYeXJtK54PPDHg5Fc6/ws8IvcTzfYLpZLiVppSmp3ShnY5LYEmMk119FAGHqPgzQdWhtI76yZzZx+VBKk8kcqJjG3zFYMQe4JOe9S3PhTQ7vQYdFm02H+z4NphhQFPKI6MpXBVvcEHk1r0UAZmkeHdK0K0mt9LtRCk7FpnLs8krYxlnYlmOO5NTWGkWWmaLFpNjCYbKGLyY4w7EquMY3E5/HOau0UPXcNjjbf4UeD7RUW20+6iSM5VF1O6Cjv08zFaur+CvD+vXv2vVNOEs5QRu6SvH5qDorhGAdfZsit2igDI1bwtout21tBqNijLaH/RmidoXg4x8joQy8ccEVZ0fRdO0Cx+x6RarbQbi5AJJdj1ZmOSxPqSTV6igArAsvA/hzT9XGpWelpHco7PH+8cxxM33mSMnYhPcqAa36KOtw6WMDU/A/hzWNSa/1DTEluJNvnESOiz7fu+YikLJj/aBreACqFUAADAA7UtFHSwBRRRQBBJ/rDTadJ/rDWJ4o8VaT4P0WTU9buRDEvEaDl5m7Io7k/kOpwOaTaW40rmzRXE6d8S7S4+FreNr+xktYFD5to5BIxIk2AA4XqcfTNVtE+I+p3usppGt+FJdJ1C7sWvNOiN6kq3QAJ2lgBsPHf8AHHGXs2uwul/67Hf0V5lf/E3xXpGpabZat8P/ALNLqU4gt0XWopWc9ztVCcAHJJwB61qaz481mDxjd+H/AAx4V/t2WygjluZP7RS28svnC4deeMHg96AO5oqtp09zc6bbzX9p9iupI1aW28wSeUxHK7hw2OmRVmh6AFFUtX1iw0HTJdQ1a5W2tosbnbnJPAAA5JJ4AHJqn4U8RL4p0FdUjtJbNXmliEM3312SMnzDHB+XkdulG4bGzRXP6z4ju7XWotH0PS/7T1BoDcSLJcCCKGPO0Fn2sck5AAU9D0qfQPEUes6bcz3Fu2nz2MzwXkEzg+RIoBPzDgrggg+h7UdLgbNFcxoPja213T9av47WSC10uZkV5DgzII1kEmMfKCGyOvGD3xUfh3xF4n1k2Nxe+Fbex0+6jEpnGqCR0Vl3D5PLGT0HXvR/wPx2Db+ux1dFcXP4+uIop9TTQpJPD9vcG3k1D7QokOH2NIsOOUDcZ3AnGQKuav4n1eDxK2j+HtBi1WSG1S5nklvxbiMOzKo+42T8hNAdzqKKzk1R7Tw+dS8QQx6a0UZe4jE3mrHjsGwN3bt3xVTwt4kXxL4dGrSWj6evmzRtFM3zII3ZMtwMH5ckdumTR3Dpc3KKpadrGmawjvpOo2l8sZ2u1rOsgU+h2k4qwLq3a7a1WeM3CIJGhDjeqkkBivXBIPPsaAJaK5XUfF1+mp39toWgvqsWl4F7L9qWLDFQ2yNSDvYKQSCVHIGc06bxn9rXTo/DGnnVrnULUXiK8wgjihOMNI+GIJJwAASSD6UAdRRWboep3Gq2DS32m3GmXMcjRS283OGHdG6Op7MOtaVABRTZJEiiaSVlREBZmY4CgdSTXOeGfG9j4r1nU7TSoZGtrFImS7cFVuN5cZQEcqNmN3fn0yTcOlzpaKy9f1uPQdNW4a3luppZVgt7aHG+aVjhVGeB3JJ6AE9qo2fiW+ia9HibRX0lbW2N0biOb7RA0Y+8PMCrhx/dI6cjNK6HY6KiuSsPGd7Ld6d/bGgSabY6s4SyuWuVkbcVLIsqADYWAOMFueDio28WeIrzVNRg0Hwvb31pY3RtTcy6oIS7qqlsL5Z6Fsde1VbW39f1qL+v6+47Giua1vXPEumzytY+G7S6sYow7XM2rCDHGWypjOAOec1TsPFXijVfDen6pp/hGFnuwztBNqgj2JkbGBMfO4c4wMcetIDsaK5Lw74zutSh1i417S7fR7PSn8t7oXwnjdlGZADsX7vAJ55yO1XfCfi638XR6hNZW00NvaXPkRvMpVphsVw+0gFQd3Geowe+Kf8Aw4HQUVRi1vSp9Tk06DU7OS+j+/apcKZV+qA5H5VZlureCaGGaeOOWdisKO4DSEAkhR3OATx2FICWisLXfEM+najaaXpOnf2lqd0jyrC04hSONCAzu+DgZYAAAkk1STxzF/YMt1NptwmpQ3gsG0xWVpDcnGEDdCCCG3dNvPbFG/8AXy/PQDqqKw9G1nVbvUJbHW9Ck02VYxLHNFN9ogkXOCPM2rhx/dI6cjNblABRRXMXPjvTo/G1j4Zs0e7up5XjuJY8+XalY2cKzYwXO37vUDJPoTd2Dpc6eiorm4is7WW5uXEcMKGSR26KoGSfyrmdP8WateTWVxN4XuodKv3Cw3CzCSaMN915YQvyKfXccZGcUbuwbK51dFcNrnjPxVoVu9zceD7V4fNEUO3WRvmZm2oFXyup9K0r3xRqi6iNN0fQft9/DbJcXqPeCKODfnCB9p3scN2AwMkjNK91cOtjp6K5Y+OIrnRNLutI06e8vdVZktrJnWMqUz5hduQqrggkZ7YzmpoNe16fT70Dwy0eq2jootpLvbBOrfxRz7MHAzkbQQRgjnNMDo6K47S/F3iC68YQ6Fqfhi3tMwG4nnh1QT+QnIUsvlj7zDAGexPak0jxZ4k1t47mx8K250uS4aNLt9VAYxrIUMnl+X6AnGfxo7AdlRVG91vStNuYbfUdTs7Sef8A1UU9wqNJ/ugnJ/CrNzdQWVrJc3k8dvBEu6SWVwqoPUk8AUAS0Vma/rkOgaQ17LFJcMXSKGCLG6aR2CogzxySOe3Wsyw8WzLqFxYeJtNXR7mK1a8QrcieKSFeHIcBcFcjII7jBNK4HTUVymn+LNWvJrK4m8L3UOlX7hYbhZhJNGG+68sIX5FPruOMjOK6uqsAUUVzPjXxzp3gvTWluUe7vWjZ4LKHJeQDqxIB2oO7Hge/Sl1sO1zpqKRTuUH1Ga5C+8cXcMmo3On6DJfaRpcrRXl4tyqPlP8AWeXGR84XvkryCBnFHWwlqro7Ciubv/FVw2oxaf4a0wavctbLdyM9yIIoomzsJfaxy2DgAdiTiobjxncRaZp5i0C8/tfUJngi02ZhEVZMl2aQ8bABkMM5BGBzQB1VFYOleJvtEl/ba5arpN7p0azXCPOJI/KIJEiyYGV+VgcgEYORUXhbxnZ+Lb3U002CZbaxaMR3EqlftAcE7lUgHbxwe9AHR0VzuqeL7fT/ABdpXh+K3a4nvpCssithbYbGdd3HLNsOF44BP1r6j4uv01O/ttC0F9Vi0vAvZftSxYYqG2RqQd7BSCQSo5AzmjpcOtjqqKzIvEekv4fttbmv4LXT7mNJEnuZFiXDDIBLHAPtV62uYLy2S4tJo54JBuSWJwysPUEcGna2gXJaKgjvrSaze6huYpbdN26WNwyjaSG5HoQQfQg1yln47uZvsF9eaFJaaJqUqRWt8blWfLnEbSRY+RWOMHJ6jIFLd2DZXOyorlbvxbqT3l8ugeHZNVtdOkMVzOLlYmdwMskKEHzCucHJUZ4BrpbacXVpFOqSRiVA4SVCjrkZwynkH1FG6uGzsXI/9WKdTY/9WKdQBBJ/rDWbq2mWV9Cs95axzyWgaSBpFz5b7SNw9/ftWlJ/rDTCAylWAIIwQe9TJXTQ07O54XpVzJa/snTPFZx3m5ZUZJU3KqtcEF8eq53A9iAe1TeDV03S/izoUHh7XZfFEd3pDJcTXU/2h7BVG4BGHCAnA2EZGfevZrPTbHT7EWVhZW9raAEC3giVIxnr8oGOcmoNM0DR9FMh0bSbHTzLjzDaWyRb8dM7QM4yfzrTm99y/rZom3u8v9bp/ocP4ZX/AIST4zeI9buMPFoapplkD0RjkyH65yPoa57xno/w0udS8VahqusSf8JDEu7ZcXDQvbyrH8ghTC7+i/3+3rXsFpp1lp7TtYWdvbNcSGWYwxKnmuerNgcn3PNV73w9oup3sd5qWkWF3dRACOee2SR0AORhiMjB5rO2iXl/T+8q+rfn/S+4zvAFxqV38P8ARbjWy5vpLRGlaT7zf3WPuVwT9a6KiitJO7bIirJIZJFHMFEsavtYMu5QcEdCPeuV8BzxW3hO8nuZUhhi1K/eSSRgqoouZCSSeAAO9dbVZdOsls5bRbO3FtNv82ERLsfeSXyuMHcSc565Oakre1/63Od8SeM4rGW003RZrOfU9Qi86CSaYLBDF/z2ds8r6Act27msi48P3o8O21h4cktNdguLt7jWpZb3yWvHOCV3KrAKTjK4+6oXoa6u78JeHL943vvD+l3LRxrEjTWUblEHRRkcAdhVvTdJ07RrdrfSNPtbCFm3tHawrEpbAGcKAM4A59qNAPN7C5vns/H6a9o5gsGdvtQ0y7EsyH7NECkYZFB+TnccemD1qd7Tw/puteFbnwPOhvb24RZvIuDIbq02He0vJ3YwpDHkHAr0iK1t7eSaSCCKJ533zMiAGRsAZYjqcADJ7AVWsdE0rTJ5p9N0yzs5ZzmWS3t1jaT/AHiBz+NNPVPtb8P6+4HqmvX8TgfGep6N4h8J3GtQajcWt/pcjJBp80gw1zG52xyW5JVyzAY4JwQRirM1j4R1nxPq3/CVRNHqItLeSeG/mCQqgQkPEAR90lgWPIOcYzz2r6JpUmqLqb6ZZtfqMLdm3Qyj/geM/rS6houl6s0TarptnetCcxG5gWQofUbgcfhU20sN7nnOiReKtW0PRJo7KDV9KtnllhW+vmgkuNsrC3d/3bbgECsM9SQT0rHln1eX4XXK31vbWFiPEDG5n8w3KeWbx/M8xMJlFbaDz8y5zjpXtYAAAAwB0AqCKytYLd7eC2hjhkZmeNIwFYsSWJA4JJJJ9c0/6/Ff5C/r8/8AM4DTNLx46spV8VaXLfGwmVYdL0ryy8JC4Z2EjrhW2ld3XkDvTLXwr4rXx/eSt4tvwv2CAG9OmwbZcSSfuvubeOvHPzc9q7zTtF0vR1kGkabZ2AkOXFrAsW8+p2gZq7T6p9v+D/mHRr+un+Rw+havp+g6l4wh1e6gtJIdQa9bzXCl4XiTa4z1GQV+oxXF+FPD9kms6LbeMci1vfD8ZgtbpykUsiyu5VlJwzKsgIU+ucccev3ujaXqVxDPqOm2d3NAcwyTwK7Rn/ZJGR+FP1DTLDVrb7PqtjbXsGd3lXMKyLn1wwIqVol5WX3Jr9Q7+f8Anc5n4dOP7P1aCzmefSbfUpItNkZy48kKuVVj1UPvAPoMdq7CmQwRW0CQ28SRRRqFSONQqqPQAdBT6pgNdFkjZJFDowIZWGQR6EVy+jqqfE7xEqKFVbCwAAGABmeuqqJLW3jupLmOCNbiVVWSUIAzhc7QT1IGTj0yaQdLHCfEeSy1Gx0K8GoAaZZ60iX9xaz48pSrxsGdT8vzMFPORntWLrWlWkV94h0XwSqG0uPD08l3aWz7olnJAiIHIV2Xf06gA+9eoxadZQW0tvDZ28cEzM0sSRKFkZjliRjBJ75603TtK0/SLcwaTYW1jCW3GO2hWNSfXCgDNK2n9dVb/gjvrf8ArR3/AOAcTresafr+leEbfR7uKea61G1uI44XDMscXzyEgcgAKQfc4rFv7Lwa3hPXtUglubfWLW6uXSS5nxeW92XJVYwrcBmxhR94EZzzXp1ro2l2N7NeWOm2dtcz/wCunhgVHk/3mAyfxpJNE0qbVE1KXTLOS/QYS6a3Uyr9HxkfnTet/O/42/yEtEl2t+F/8zlfEzXmq6P4a8PX/wAlxrUsY1ADj93GnmTL+JUL9GNbXjLVJdC8GX91YgLcrGIbYAcCRyET/wAeYVsSWltLdQ3MtvE9xAGEUrIC0e7htp6jOBnHWi5tLa9hEV5bxXEYZXCSoGAZTlTg9wQCD2Iol71/MI6W8ijomhWuj+GrTR1jWWGCII+9c+Y3VmOepLZJ9zXNWH2sf8LB/szP2z7W32fHXzPscW39cV3NRQ2tvbyTSQQRxPO++VkQAyNgDLEdTgAZPYCiXvXv1VvxX+QR923kzxzStOt7nwf4ek/4SvRbZBNbtbrb6MTdLcBhlMrMW3k5Dnb3Yniuk8T+GfE114v0Se18S3vkG9mdDHp8LLYKYZMHOzkfwZfP3vWu1i0LSINUfUoNLso7987rpLdBK2euXAyfzq/VN31ElbQ4gM2h/EfTP7b1ATtdaO9sl7OqRedKkoYjAwoJU5wP7prjtcjg1LUrrXDdyR6EfFECzXcEpRfLW38l3Dg8LvOwsPfmvX7/AE2x1W1Ntqlnb3tuSCYriJZEJ+jAinJZWsdiLNLaFbUJ5YgEYCBf7u3pj2qVpby/zv8A8Affz/yscVoNtpulfEuSw8KGNNNfTTNfW9vJuhjm3qI2xnCsy7846gAn1rvKqadpWn6RbmDSbC2sYS24x20KxqT64UAZq3T6JB1uFcn4jijh8YeEPKjVN2o3DNtUDLG1lyT711lRS2tvPNDNNBHJLAxaF3QFoyQQSp7HBI47GkHQwvGe3U/COvaPYTxyak+mylbZHBkwysFO3rgkEA1w0EOhW+l+E9V8L3fm67d3VtG8yzl5rpDjz1lGeQq7iQfukDGK9VWztlvXvFtoRdOgjecRjeyAkhS3UgEnj3qC30XS7TUJb+102zgvJv8AW3EcCrJJ9WAyfxojo7+n4X/PqD1VvX8f8jnp1/tv4pxQSfNa6DZi52djcTFlU/8AAURsf79WNbv9H1e8vfDWp311pksUKXBkS5+zGWM5GUcHJAIww6dM5roI7S3iuZriK3iSefb5sqoA0m0YG49TjtnpUGo6NpmrrGuradaXwiO6MXMCybD6jcDila6sPrc8hsILe8m8Hvrk2zQke/06GYfuIrpNw8jftwMOEz2DEe9dn4MW00/xN4jsdDkH9g2vkmNEctFBOVYyoh7DGwlRwCe1djc2NpeWTWd5awz2rLtaCWMMhHoVPGKS10+ysbEWdlZwW1qoIEEMSogB6jaBind2/r8Raf1+hy3gRGuPDN54juEd7rXJJLw7MFxFysKLn0QLjtkmuPks/C1l4I0fVPBksqa350ENi0k+bt3MgDwygHkAbgy/dXBIFeu29vBZ20dvaQxwQRKEjiiUKqKOgAHAHtVWLRNKg1OTUYNMs476T790luolb6uBk/nT2lptp+APVf11PMIbSW71rxgNU1vQ7CQXr/aIdT00TubbaPKO4yr8m3oMYBz3q5rvh3Wr34RpHoviW9vbdNJEa28enLuvhztOHBkUlcDAPbPevQr7QtI1S4iuNT0uyvJof9VJcW6SMn0JBIq/SWkben4Dv71zz7xFY6joug6dea7rcurQ2er2txNNNbxQ+REG2knYAMAsCSemKp+O1/4SXW5bPQZluprbw/feb5DhsGUII1JHdtpIHtXpboksbRyKrowwysMgj0Iqtp2k6dpELQ6TYWtjEzbmS2hWNSfUhQOaTV016/irCj7rTXl+DueXwQ6Fb6X4T1Xwvd+brt3dW0bzLOXmukOPPWUZ5CruJB+6QMYr1uqVvoul2moS39rptnBeTf624jgVZJPqwGT+NXatu/33ElYK5X4kxR/8K58QTeWvm/YHXftG7b1xn0rqqiubaC9tZLa8gjuIJV2yRSoGVx6EHgipKTs7jHvLa1Fsl1cwwvcMI4VkcKZHxnaoPU4BOB6V5/pusafovgXxTZalcww3Vpd3wkgZwHYyu7x4Xqdwdcetegz2VrcvA9zbQzNbv5kLSRhjE2CNy56HBIyPWoZ9G0u61CK/utNs5ryH/VXMkCtJH/usRkfhSkuZNPrp+Qo+7byseW6B4c02LxO2meNirK+h2JgtrqUrFI0cZSQ4JwzKQPcbifepbCSOTw/o8zavdWRi1m5t9D1V1E0Yh+cIsu8jcjKpUHOThcGvTtR0nTdXhWLVtPtb6NG3KlzCsgU+oDA81JPYWd1YmyurSCa0Zdht5Iw0ZX02njHtVN3bf9b3/wCAJKyS/ra3/BOI8LWrX/xA165ub9NZiSwhsrm4ESrC0m52aJVGRgKVyCWOW5NaOmGePxj4xNhHG9wsdr5KSHapbyW2gkdBnFdPZ2Npp1olrp9rDa28f3IYIwiL9AOBTo7WCK4lnigjSabHmyKgDSYGBuPU4HTNJ7WH1v8A12PKLi38UaTqXhlbvQ7CS+l1WSeW4/tRibuY28oO79z8iheg5wFVfeuk0HV9P0HUvF8OsXMFnJFqDXrCWQKXheJNrjPUZBX6jFdnLa29xJDJPBHK8D74mdATG2CMqT0OCRkdiar3ujaXqVxDPqOm2d3NAcwyTwK7Rn/ZJGR+FD1X4fl/kHX+vP8AzPH9HsNRgvPB9re39lpoOiu9o2p2fnr5zSbmUKXXa+wp74BFdX4Z0S5ksdYh0DxhEjtqIkll03S0SGF/LAeNFcuhz8rEqeDnuTXc3+m2Oq2pttUsre9gJyYriJZFJ9cMCKfa2lvY2qW1lbxW0EYwkUKBFUegA4FO+/z/ABdw1vf+trHnXhTwx4jg8F6hFe6zdusy38aadPZxxZZpJNsm7aG+Ynd6fNxximX2rWOr/C7w7p2n3ET3t3LYwR26ODIjxyIZAV6jYEbPpivTqpQ6NpdvqUmo2+m2cV7KMSXKQKsj/VgMmkt7+n4f8OD/AM/xPKrLSPDiaX4sPii62anYahdSxtLcFJLRWYvE8Iz8u7cDkck8c4xXpvheW+n8JaTLq4YX0lnE1wGGDvKDdkeuasXWi6XfXsN5e6bZ3F1B/qp5oFd4/wDdYjI/CrtC0jb0/D/MHq7+v4/5E8f+rFOpsf8AqxTqAIZFJc4B/Km7W/un8qsUUAV9rf3T+VG1v7p/KrFFAFfa390/lRtb+6fyqxRQBX2t/dP5UbW/un8qsUUAV9rf3T+VG1v7p/KrFFAFfa390/lRtb+6fyqxRQBX2t/dP5UbW/un8qsUUAV9rf3T+VG1v7p/KrFFAFfa390/lRtb+6fyqxRQBX2t/dP5UbW/un8qsUUAV9rf3T+VG1v7p/KrFFAFfa390/lRtb+6fyqxRQBX2t/dP5UbW/un8qsUUAV9rf3T+VG1v7p/KrFFAFfa390/lRtb+6fyqxRQBX2t/dP5UbW/un8qsUUAV9rf3T+VG1v7p/KrFFAFfa390/lRtb+6fyqxRQBX2t/dP5UbW/un8qsUUAV9rf3T+VG1v7p/KrFFAFfa390/lRtb+6fyqxRQBX2t/dP5UbW/un8qsUUAV9rf3T+VG1v7p/KrFFAFfa390/lRtb+6fyqxRQBX2t/dP5UbW/un8qsUUAV9rf3T+VG1v7p/KrFFAFfa390/lRtb+6fyqxRQBX2t/dP5UbW/un8qsUUAV9rf3T+VG1v7p/KrFFAFfa390/lRtb+6fyqxRQBX2t/dP5UbW/un8qsUUAV9rf3T+VG1v7p/KrFFAFfa390/lRtb+6fyqxRQBX2t/dP5UbW/un8qsUUAV9rf3T+VG1v7p/KrFFAFfa390/lRtb+6fyqxRQA2MYQZp1FFAH//2Q==)"
      ]
    },
    {
      "cell_type": "markdown",
      "metadata": {
        "id": "yqZGrzt0MZMV"
      },
      "source": [
        "**(7)** обеспечение сохранения качества модели LinearRegression подтверждено фактическим равенством значений метрик R2 и MSE до и после кодирования датасетов с признаками:"
      ]
    },
    {
      "cell_type": "code",
      "execution_count": null,
      "metadata": {
        "colab": {
          "base_uri": "https://localhost:8080/",
          "height": 112
        },
        "id": "NGUuatD_YdL8",
        "outputId": "3bf5876b-993e-4b11-9909-267a808b487a",
        "scrolled": true
      },
      "outputs": [
        {
          "output_type": "execute_result",
          "data": {
            "text/plain": [
              "                                          R2       MSE\n",
              "Без умножения на обратимую матрицу  0.459326  0.117014\n",
              "С умножением на обратимую матрицу   0.459325  0.117014"
            ],
            "text/html": [
              "\n",
              "  <div id=\"df-318c4527-bc1d-41e8-8f14-5bdd33a96f51\" class=\"colab-df-container\">\n",
              "    <div>\n",
              "<style scoped>\n",
              "    .dataframe tbody tr th:only-of-type {\n",
              "        vertical-align: middle;\n",
              "    }\n",
              "\n",
              "    .dataframe tbody tr th {\n",
              "        vertical-align: top;\n",
              "    }\n",
              "\n",
              "    .dataframe thead th {\n",
              "        text-align: right;\n",
              "    }\n",
              "</style>\n",
              "<table border=\"1\" class=\"dataframe\">\n",
              "  <thead>\n",
              "    <tr style=\"text-align: right;\">\n",
              "      <th></th>\n",
              "      <th>R2</th>\n",
              "      <th>MSE</th>\n",
              "    </tr>\n",
              "  </thead>\n",
              "  <tbody>\n",
              "    <tr>\n",
              "      <th>Без умножения на обратимую матрицу</th>\n",
              "      <td>0.459326</td>\n",
              "      <td>0.117014</td>\n",
              "    </tr>\n",
              "    <tr>\n",
              "      <th>С умножением на обратимую матрицу</th>\n",
              "      <td>0.459325</td>\n",
              "      <td>0.117014</td>\n",
              "    </tr>\n",
              "  </tbody>\n",
              "</table>\n",
              "</div>\n",
              "    <div class=\"colab-df-buttons\">\n",
              "\n",
              "  <div class=\"colab-df-container\">\n",
              "    <button class=\"colab-df-convert\" onclick=\"convertToInteractive('df-318c4527-bc1d-41e8-8f14-5bdd33a96f51')\"\n",
              "            title=\"Convert this dataframe to an interactive table.\"\n",
              "            style=\"display:none;\">\n",
              "\n",
              "  <svg xmlns=\"http://www.w3.org/2000/svg\" height=\"24px\" viewBox=\"0 -960 960 960\">\n",
              "    <path d=\"M120-120v-720h720v720H120Zm60-500h600v-160H180v160Zm220 220h160v-160H400v160Zm0 220h160v-160H400v160ZM180-400h160v-160H180v160Zm440 0h160v-160H620v160ZM180-180h160v-160H180v160Zm440 0h160v-160H620v160Z\"/>\n",
              "  </svg>\n",
              "    </button>\n",
              "\n",
              "  <style>\n",
              "    .colab-df-container {\n",
              "      display:flex;\n",
              "      gap: 12px;\n",
              "    }\n",
              "\n",
              "    .colab-df-convert {\n",
              "      background-color: #E8F0FE;\n",
              "      border: none;\n",
              "      border-radius: 50%;\n",
              "      cursor: pointer;\n",
              "      display: none;\n",
              "      fill: #1967D2;\n",
              "      height: 32px;\n",
              "      padding: 0 0 0 0;\n",
              "      width: 32px;\n",
              "    }\n",
              "\n",
              "    .colab-df-convert:hover {\n",
              "      background-color: #E2EBFA;\n",
              "      box-shadow: 0px 1px 2px rgba(60, 64, 67, 0.3), 0px 1px 3px 1px rgba(60, 64, 67, 0.15);\n",
              "      fill: #174EA6;\n",
              "    }\n",
              "\n",
              "    .colab-df-buttons div {\n",
              "      margin-bottom: 4px;\n",
              "    }\n",
              "\n",
              "    [theme=dark] .colab-df-convert {\n",
              "      background-color: #3B4455;\n",
              "      fill: #D2E3FC;\n",
              "    }\n",
              "\n",
              "    [theme=dark] .colab-df-convert:hover {\n",
              "      background-color: #434B5C;\n",
              "      box-shadow: 0px 1px 3px 1px rgba(0, 0, 0, 0.15);\n",
              "      filter: drop-shadow(0px 1px 2px rgba(0, 0, 0, 0.3));\n",
              "      fill: #FFFFFF;\n",
              "    }\n",
              "  </style>\n",
              "\n",
              "    <script>\n",
              "      const buttonEl =\n",
              "        document.querySelector('#df-318c4527-bc1d-41e8-8f14-5bdd33a96f51 button.colab-df-convert');\n",
              "      buttonEl.style.display =\n",
              "        google.colab.kernel.accessAllowed ? 'block' : 'none';\n",
              "\n",
              "      async function convertToInteractive(key) {\n",
              "        const element = document.querySelector('#df-318c4527-bc1d-41e8-8f14-5bdd33a96f51');\n",
              "        const dataTable =\n",
              "          await google.colab.kernel.invokeFunction('convertToInteractive',\n",
              "                                                    [key], {});\n",
              "        if (!dataTable) return;\n",
              "\n",
              "        const docLinkHtml = 'Like what you see? Visit the ' +\n",
              "          '<a target=\"_blank\" href=https://colab.research.google.com/notebooks/data_table.ipynb>data table notebook</a>'\n",
              "          + ' to learn more about interactive tables.';\n",
              "        element.innerHTML = '';\n",
              "        dataTable['output_type'] = 'display_data';\n",
              "        await google.colab.output.renderOutput(dataTable, element);\n",
              "        const docLink = document.createElement('div');\n",
              "        docLink.innerHTML = docLinkHtml;\n",
              "        element.appendChild(docLink);\n",
              "      }\n",
              "    </script>\n",
              "  </div>\n",
              "\n",
              "\n",
              "<div id=\"df-db86f69f-4041-45b4-84ab-83b73524228e\">\n",
              "  <button class=\"colab-df-quickchart\" onclick=\"quickchart('df-db86f69f-4041-45b4-84ab-83b73524228e')\"\n",
              "            title=\"Suggest charts.\"\n",
              "            style=\"display:none;\">\n",
              "\n",
              "<svg xmlns=\"http://www.w3.org/2000/svg\" height=\"24px\"viewBox=\"0 0 24 24\"\n",
              "     width=\"24px\">\n",
              "    <g>\n",
              "        <path d=\"M19 3H5c-1.1 0-2 .9-2 2v14c0 1.1.9 2 2 2h14c1.1 0 2-.9 2-2V5c0-1.1-.9-2-2-2zM9 17H7v-7h2v7zm4 0h-2V7h2v10zm4 0h-2v-4h2v4z\"/>\n",
              "    </g>\n",
              "</svg>\n",
              "  </button>\n",
              "\n",
              "<style>\n",
              "  .colab-df-quickchart {\n",
              "      --bg-color: #E8F0FE;\n",
              "      --fill-color: #1967D2;\n",
              "      --hover-bg-color: #E2EBFA;\n",
              "      --hover-fill-color: #174EA6;\n",
              "      --disabled-fill-color: #AAA;\n",
              "      --disabled-bg-color: #DDD;\n",
              "  }\n",
              "\n",
              "  [theme=dark] .colab-df-quickchart {\n",
              "      --bg-color: #3B4455;\n",
              "      --fill-color: #D2E3FC;\n",
              "      --hover-bg-color: #434B5C;\n",
              "      --hover-fill-color: #FFFFFF;\n",
              "      --disabled-bg-color: #3B4455;\n",
              "      --disabled-fill-color: #666;\n",
              "  }\n",
              "\n",
              "  .colab-df-quickchart {\n",
              "    background-color: var(--bg-color);\n",
              "    border: none;\n",
              "    border-radius: 50%;\n",
              "    cursor: pointer;\n",
              "    display: none;\n",
              "    fill: var(--fill-color);\n",
              "    height: 32px;\n",
              "    padding: 0;\n",
              "    width: 32px;\n",
              "  }\n",
              "\n",
              "  .colab-df-quickchart:hover {\n",
              "    background-color: var(--hover-bg-color);\n",
              "    box-shadow: 0 1px 2px rgba(60, 64, 67, 0.3), 0 1px 3px 1px rgba(60, 64, 67, 0.15);\n",
              "    fill: var(--button-hover-fill-color);\n",
              "  }\n",
              "\n",
              "  .colab-df-quickchart-complete:disabled,\n",
              "  .colab-df-quickchart-complete:disabled:hover {\n",
              "    background-color: var(--disabled-bg-color);\n",
              "    fill: var(--disabled-fill-color);\n",
              "    box-shadow: none;\n",
              "  }\n",
              "\n",
              "  .colab-df-spinner {\n",
              "    border: 2px solid var(--fill-color);\n",
              "    border-color: transparent;\n",
              "    border-bottom-color: var(--fill-color);\n",
              "    animation:\n",
              "      spin 1s steps(1) infinite;\n",
              "  }\n",
              "\n",
              "  @keyframes spin {\n",
              "    0% {\n",
              "      border-color: transparent;\n",
              "      border-bottom-color: var(--fill-color);\n",
              "      border-left-color: var(--fill-color);\n",
              "    }\n",
              "    20% {\n",
              "      border-color: transparent;\n",
              "      border-left-color: var(--fill-color);\n",
              "      border-top-color: var(--fill-color);\n",
              "    }\n",
              "    30% {\n",
              "      border-color: transparent;\n",
              "      border-left-color: var(--fill-color);\n",
              "      border-top-color: var(--fill-color);\n",
              "      border-right-color: var(--fill-color);\n",
              "    }\n",
              "    40% {\n",
              "      border-color: transparent;\n",
              "      border-right-color: var(--fill-color);\n",
              "      border-top-color: var(--fill-color);\n",
              "    }\n",
              "    60% {\n",
              "      border-color: transparent;\n",
              "      border-right-color: var(--fill-color);\n",
              "    }\n",
              "    80% {\n",
              "      border-color: transparent;\n",
              "      border-right-color: var(--fill-color);\n",
              "      border-bottom-color: var(--fill-color);\n",
              "    }\n",
              "    90% {\n",
              "      border-color: transparent;\n",
              "      border-bottom-color: var(--fill-color);\n",
              "    }\n",
              "  }\n",
              "</style>\n",
              "\n",
              "  <script>\n",
              "    async function quickchart(key) {\n",
              "      const quickchartButtonEl =\n",
              "        document.querySelector('#' + key + ' button');\n",
              "      quickchartButtonEl.disabled = true;  // To prevent multiple clicks.\n",
              "      quickchartButtonEl.classList.add('colab-df-spinner');\n",
              "      try {\n",
              "        const charts = await google.colab.kernel.invokeFunction(\n",
              "            'suggestCharts', [key], {});\n",
              "      } catch (error) {\n",
              "        console.error('Error during call to suggestCharts:', error);\n",
              "      }\n",
              "      quickchartButtonEl.classList.remove('colab-df-spinner');\n",
              "      quickchartButtonEl.classList.add('colab-df-quickchart-complete');\n",
              "    }\n",
              "    (() => {\n",
              "      let quickchartButtonEl =\n",
              "        document.querySelector('#df-db86f69f-4041-45b4-84ab-83b73524228e button');\n",
              "      quickchartButtonEl.style.display =\n",
              "        google.colab.kernel.accessAllowed ? 'block' : 'none';\n",
              "    })();\n",
              "  </script>\n",
              "</div>\n",
              "    </div>\n",
              "  </div>\n"
            ]
          },
          "metadata": {},
          "execution_count": 63
        }
      ],
      "source": [
        "final_results"
      ]
    }
  ],
  "metadata": {
    "ExecuteTimeLog": [
      {
        "duration": 3424,
        "start_time": "2022-12-18T09:10:49.672Z"
      },
      {
        "duration": 2406,
        "start_time": "2022-12-18T09:10:53.099Z"
      },
      {
        "duration": 20,
        "start_time": "2022-12-18T09:10:55.507Z"
      },
      {
        "duration": 5,
        "start_time": "2022-12-18T09:10:55.530Z"
      },
      {
        "duration": 110,
        "start_time": "2022-12-18T09:10:55.536Z"
      },
      {
        "duration": 15,
        "start_time": "2022-12-18T09:10:55.648Z"
      },
      {
        "duration": 4,
        "start_time": "2022-12-18T09:10:55.665Z"
      },
      {
        "duration": 6,
        "start_time": "2022-12-18T09:10:55.671Z"
      },
      {
        "duration": 11,
        "start_time": "2022-12-18T09:10:55.679Z"
      },
      {
        "duration": 35,
        "start_time": "2022-12-18T09:10:55.694Z"
      },
      {
        "duration": 9,
        "start_time": "2022-12-18T09:10:55.731Z"
      },
      {
        "duration": 9,
        "start_time": "2022-12-18T09:10:55.743Z"
      },
      {
        "duration": 12,
        "start_time": "2022-12-18T09:10:55.754Z"
      },
      {
        "duration": 4,
        "start_time": "2022-12-18T09:10:55.768Z"
      },
      {
        "duration": 50,
        "start_time": "2022-12-18T09:10:55.773Z"
      },
      {
        "duration": 6,
        "start_time": "2022-12-18T09:10:55.825Z"
      },
      {
        "duration": 14,
        "start_time": "2022-12-18T09:10:55.833Z"
      },
      {
        "duration": 209,
        "start_time": "2022-12-18T09:10:55.849Z"
      },
      {
        "duration": 5,
        "start_time": "2022-12-18T09:10:56.060Z"
      },
      {
        "duration": 10,
        "start_time": "2022-12-18T09:10:56.067Z"
      },
      {
        "duration": 487,
        "start_time": "2022-12-18T09:10:56.079Z"
      },
      {
        "duration": 7,
        "start_time": "2022-12-18T09:10:56.567Z"
      },
      {
        "duration": 1428,
        "start_time": "2022-12-18T09:10:56.576Z"
      },
      {
        "duration": 117,
        "start_time": "2022-12-18T09:10:58.007Z"
      },
      {
        "duration": 3,
        "start_time": "2022-12-18T09:10:58.126Z"
      },
      {
        "duration": 9,
        "start_time": "2022-12-18T09:10:58.131Z"
      },
      {
        "duration": 9,
        "start_time": "2022-12-18T09:10:58.142Z"
      },
      {
        "duration": 5,
        "start_time": "2022-12-18T09:10:58.156Z"
      },
      {
        "duration": 4,
        "start_time": "2022-12-18T09:10:58.163Z"
      },
      {
        "duration": 6,
        "start_time": "2022-12-18T09:10:58.169Z"
      },
      {
        "duration": 6,
        "start_time": "2022-12-18T09:10:58.177Z"
      },
      {
        "duration": 18,
        "start_time": "2022-12-18T09:10:58.223Z"
      },
      {
        "duration": 10,
        "start_time": "2022-12-18T09:10:58.243Z"
      },
      {
        "duration": 8,
        "start_time": "2022-12-18T09:10:58.255Z"
      },
      {
        "duration": 11,
        "start_time": "2022-12-18T09:10:58.265Z"
      },
      {
        "duration": 44,
        "start_time": "2022-12-18T09:10:58.278Z"
      },
      {
        "duration": 4,
        "start_time": "2022-12-18T09:10:58.324Z"
      },
      {
        "duration": 9,
        "start_time": "2022-12-18T09:10:58.330Z"
      },
      {
        "duration": 5,
        "start_time": "2022-12-18T09:10:58.340Z"
      },
      {
        "duration": 17,
        "start_time": "2022-12-18T09:10:58.347Z"
      },
      {
        "duration": 105,
        "start_time": "2022-12-18T09:10:58.422Z"
      },
      {
        "duration": 12,
        "start_time": "2022-12-18T09:10:58.529Z"
      },
      {
        "duration": 5,
        "start_time": "2022-12-18T09:10:58.622Z"
      },
      {
        "duration": 8,
        "start_time": "2022-12-18T09:10:58.629Z"
      },
      {
        "duration": 4,
        "start_time": "2022-12-18T09:10:58.722Z"
      },
      {
        "duration": 10,
        "start_time": "2022-12-18T09:10:58.728Z"
      },
      {
        "duration": 6,
        "start_time": "2022-12-18T09:10:58.740Z"
      },
      {
        "duration": 83,
        "start_time": "2022-12-18T09:10:58.749Z"
      },
      {
        "duration": 89,
        "start_time": "2022-12-18T09:10:58.834Z"
      },
      {
        "duration": 96,
        "start_time": "2022-12-18T09:10:58.925Z"
      },
      {
        "duration": 108,
        "start_time": "2022-12-18T09:10:59.024Z"
      },
      {
        "duration": 9,
        "start_time": "2022-12-18T09:10:59.135Z"
      },
      {
        "duration": 13,
        "start_time": "2022-12-18T09:10:59.146Z"
      },
      {
        "duration": 6,
        "start_time": "2022-12-18T09:10:59.161Z"
      },
      {
        "duration": 53,
        "start_time": "2022-12-18T09:10:59.169Z"
      },
      {
        "duration": 107,
        "start_time": "2022-12-18T09:10:59.224Z"
      },
      {
        "duration": 9,
        "start_time": "2022-12-18T09:10:59.333Z"
      },
      {
        "duration": 7,
        "start_time": "2022-12-18T09:10:59.344Z"
      },
      {
        "duration": 69,
        "start_time": "2022-12-18T09:10:59.353Z"
      },
      {
        "duration": 4,
        "start_time": "2022-12-18T09:10:59.425Z"
      },
      {
        "duration": 97,
        "start_time": "2022-12-18T09:10:59.432Z"
      },
      {
        "duration": 91,
        "start_time": "2022-12-18T09:10:59.532Z"
      },
      {
        "duration": 8,
        "start_time": "2022-12-18T09:10:59.625Z"
      },
      {
        "duration": 6,
        "start_time": "2022-12-18T09:10:59.635Z"
      },
      {
        "duration": 12,
        "start_time": "2022-12-18T09:10:59.642Z"
      },
      {
        "duration": 5,
        "start_time": "2022-12-18T09:10:59.656Z"
      },
      {
        "duration": 6,
        "start_time": "2022-12-18T09:10:59.663Z"
      },
      {
        "duration": 11,
        "start_time": "2022-12-18T09:10:59.670Z"
      },
      {
        "duration": 5,
        "start_time": "2022-12-18T09:10:59.721Z"
      },
      {
        "duration": 5,
        "start_time": "2022-12-18T09:10:59.727Z"
      },
      {
        "duration": 6,
        "start_time": "2022-12-18T09:10:59.734Z"
      },
      {
        "duration": 82,
        "start_time": "2022-12-18T09:10:59.741Z"
      },
      {
        "duration": 16,
        "start_time": "2022-12-18T09:10:59.825Z"
      },
      {
        "duration": 9,
        "start_time": "2022-12-18T09:10:59.923Z"
      },
      {
        "duration": 6,
        "start_time": "2022-12-18T09:10:59.933Z"
      },
      {
        "duration": 7,
        "start_time": "2022-12-18T09:10:59.941Z"
      },
      {
        "duration": 8,
        "start_time": "2022-12-18T09:10:59.949Z"
      },
      {
        "duration": 11,
        "start_time": "2022-12-18T09:10:59.960Z"
      },
      {
        "duration": 61,
        "start_time": "2022-12-18T09:10:59.973Z"
      },
      {
        "duration": 93,
        "start_time": "2022-12-18T09:11:00.036Z"
      },
      {
        "duration": 26,
        "start_time": "2022-12-18T09:11:00.131Z"
      },
      {
        "duration": 19,
        "start_time": "2022-12-18T09:11:00.162Z"
      },
      {
        "duration": 27,
        "start_time": "2022-12-18T09:11:00.183Z"
      },
      {
        "duration": 29,
        "start_time": "2022-12-18T09:11:00.212Z"
      },
      {
        "duration": 34,
        "start_time": "2022-12-18T09:11:00.242Z"
      },
      {
        "duration": 16,
        "start_time": "2022-12-18T09:11:00.278Z"
      },
      {
        "duration": 39,
        "start_time": "2022-12-18T09:11:00.297Z"
      },
      {
        "duration": 40,
        "start_time": "2022-12-18T09:11:00.339Z"
      },
      {
        "duration": 38,
        "start_time": "2022-12-18T09:11:00.381Z"
      },
      {
        "duration": 28,
        "start_time": "2022-12-18T09:11:00.423Z"
      },
      {
        "duration": 36,
        "start_time": "2022-12-18T09:11:00.453Z"
      },
      {
        "duration": 34,
        "start_time": "2022-12-18T09:11:00.491Z"
      },
      {
        "duration": 95,
        "start_time": "2022-12-18T09:11:00.528Z"
      },
      {
        "duration": 10,
        "start_time": "2022-12-18T09:11:00.625Z"
      },
      {
        "duration": 14,
        "start_time": "2022-12-18T09:11:00.637Z"
      },
      {
        "duration": 15,
        "start_time": "2022-12-18T09:11:00.652Z"
      },
      {
        "duration": 19,
        "start_time": "2022-12-18T09:11:00.668Z"
      },
      {
        "duration": 13,
        "start_time": "2022-12-18T09:11:00.688Z"
      },
      {
        "duration": 14,
        "start_time": "2022-12-18T09:11:00.702Z"
      },
      {
        "duration": 12,
        "start_time": "2022-12-18T09:11:00.717Z"
      },
      {
        "duration": 31,
        "start_time": "2022-12-18T09:11:00.731Z"
      }
    ],
    "colab": {
      "provenance": []
    },
    "kernelspec": {
      "display_name": "Python 3 (ipykernel)",
      "language": "python",
      "name": "python3"
    },
    "language_info": {
      "codemirror_mode": {
        "name": "ipython",
        "version": 3
      },
      "file_extension": ".py",
      "mimetype": "text/x-python",
      "name": "python",
      "nbconvert_exporter": "python",
      "pygments_lexer": "ipython3",
      "version": "3.9.15"
    },
    "toc": {
      "base_numbering": 1,
      "nav_menu": {},
      "number_sections": true,
      "sideBar": true,
      "skip_h1_title": true,
      "title_cell": "Table of Contents",
      "title_sidebar": "Contents",
      "toc_cell": false,
      "toc_position": {},
      "toc_section_display": true,
      "toc_window_display": false
    }
  },
  "nbformat": 4,
  "nbformat_minor": 0
}